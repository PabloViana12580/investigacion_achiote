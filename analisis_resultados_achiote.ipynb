{
 "cells": [
  {
   "cell_type": "markdown",
   "metadata": {},
   "source": [
    "# Analisis de resultados encuesta conocimiento y actitudes ante el uso del achiote"
   ]
  },
  {
   "cell_type": "markdown",
   "metadata": {},
   "source": [
    "#### Leemos los archivo Csv"
   ]
  },
  {
   "cell_type": "code",
   "execution_count": 1,
   "metadata": {},
   "outputs": [],
   "source": [
    "achiote1 <- read.csv(\"first_chunk.csv\", header = FALSE)\n",
    "achiote2 <- read.csv(\"second_chunk.csv\", header = FALSE)"
   ]
  },
  {
   "cell_type": "markdown",
   "metadata": {},
   "source": [
    "### Hacemos limpieza para preparar los datos"
   ]
  },
  {
   "cell_type": "markdown",
   "metadata": {},
   "source": [
    "#### Borramos columnas innecesarias"
   ]
  },
  {
   "cell_type": "code",
   "execution_count": 2,
   "metadata": {},
   "outputs": [],
   "source": [
    "a1_clean <- achiote1[c(-1, -2),-c(1,68)]\n",
    "a2_clean <- achiote2[c(-1, -2),-c(1,68)]"
   ]
  },
  {
   "cell_type": "markdown",
   "metadata": {},
   "source": [
    "#### Debido a las preguntas con múltiples respuestas, debemos combinar las columnas pertinentes"
   ]
  },
  {
   "cell_type": "code",
   "execution_count": 3,
   "metadata": {},
   "outputs": [],
   "source": [
    "a1_clean$V18 <- paste(a1_clean$V18, a1_clean$V19, a1_clean$V20, a1_clean$V21, a1_clean$V22, a1_clean$V23, sep = \" \")\n",
    "a1_clean$V24 <- paste(a1_clean$V24, a1_clean$V25, a1_clean$V26, a1_clean$V27, a1_clean$V28, a1_clean$V29, a1_clean$V30, a1_clean$V31, a1_clean$V32, a1_clean$V33, a1_clean$V34, sep = \" \")\n",
    "a1_clean$V36 <- paste(a1_clean$V36, a1_clean$V37, a1_clean$V38, a1_clean$V39, a1_clean$V40, a1_clean$V41, a1_clean$V42, sep = \" \")\n",
    "a1_clean$V47 <- paste(a1_clean$V47, a1_clean$V48, a1_clean$V49, a1_clean$V50, a1_clean$V51, a1_clean$V52, a1_clean$V53, a1_clean$V54, a1_clean$V55, sep = \" \")\n",
    "a1_clean$V58 <- paste(a1_clean$V58, a1_clean$V59, a1_clean$V60, a1_clean$V61, a1_clean$V62, a1_clean$V63, a1_clean$V64, a1_clean$V65, sep = \" \")\n",
    "\n",
    "a2_clean$V18 <- paste(a2_clean$V18, a2_clean$V19, a2_clean$V20, a2_clean$V21, a2_clean$V22, a2_clean$V23, sep = \" \")\n",
    "a2_clean$V24 <- paste(a2_clean$V24, a2_clean$V25, a2_clean$V26, a2_clean$V27, a2_clean$V28, a2_clean$V29, a2_clean$V30, a2_clean$V31, a2_clean$V32, a2_clean$V33, a2_clean$V34, sep = \" \")\n",
    "a2_clean$V36 <- paste(a2_clean$V36, a2_clean$V37, a2_clean$V38, a2_clean$V39, a2_clean$V40, a2_clean$V41, a2_clean$V42, sep = \" \")\n",
    "a2_clean$V47 <- paste(a2_clean$V47, a2_clean$V48, a2_clean$V49, a2_clean$V50, a2_clean$V51, a2_clean$V52, a2_clean$V53, a2_clean$V54, a2_clean$V55, sep = \" \")\n",
    "a2_clean$V58 <- paste(a2_clean$V58, a2_clean$V59, a2_clean$V60, a2_clean$V61, a2_clean$V62, a2_clean$V63, a2_clean$V64, a2_clean$V65, sep = \" \")"
   ]
  },
  {
   "cell_type": "markdown",
   "metadata": {},
   "source": [
    "#### Eliminamos columnas repetidas"
   ]
  },
  {
   "cell_type": "code",
   "execution_count": 4,
   "metadata": {},
   "outputs": [],
   "source": [
    "a1_clean <- subset(a1_clean, select=-c(V19,V20,V21,V22,V23,V25,V26,V27,V28,V29,V30,V31,V32,V33,V34,V37,V38,V39,V40,V41,V42,V48,V49,V50,V51,V52,V53,V54,V55,V59,V60,V61,V62,V63,V64,V65))\n",
    "a2_clean <- subset(a2_clean, select=-c(V19,V20,V21,V22,V23,V25,V26,V27,V28,V29,V30,V31,V32,V33,V34,V37,V38,V39,V40,V41,V42,V48,V49,V50,V51,V52,V53,V54,V55,V59,V60,V61,V62,V63,V64,V65))\n"
   ]
  },
  {
   "cell_type": "markdown",
   "metadata": {},
   "source": [
    "#### Cambiamos titulos de los data sets"
   ]
  },
  {
   "cell_type": "code",
   "execution_count": 5,
   "metadata": {},
   "outputs": [],
   "source": [
    "colnames(a1_clean) <- c(\"Id\",\n",
    "                        \"Ip\",\n",
    "                        \"Acceso\",\n",
    "                        \"Fecha_inicio\",\n",
    "                        \"Fecha_finalizacion\",\n",
    "                        \"Procedencia\",\n",
    "                        \"Municipio\",\n",
    "                        \"Edad\",\n",
    "                        \"Sexo\",\n",
    "                        \"Q1\",\n",
    "                        \"Q2\",\n",
    "                        \"Q3\",\n",
    "                        \"Q4\",\n",
    "                        \"Justificacion_1\",\n",
    "                        \"He leido\",\n",
    "                        \"Q5\",\n",
    "                        \"Q6\",\n",
    "                        \"Q7\",\n",
    "                        \"Q8\",\n",
    "                        \"Q9\",\n",
    "                        \"Q10\",\n",
    "                        \"Q11\",\n",
    "                        \"Q12\",\n",
    "                        \"Q13\",\n",
    "                        \"Q14\",\n",
    "                        \"Q15\",\n",
    "                        \"Justificacion_2\",\n",
    "                        \"Q16\",\n",
    "                        \"Q17\",\n",
    "                        \"Justificacion_3\")\n",
    "colnames(a2_clean) <- c(\"Id\",\n",
    "                        \"Ip\",\n",
    "                        \"Acceso\",\n",
    "                        \"Fecha_inicio\",\n",
    "                        \"Fecha_finalizacion\",\n",
    "                        \"Procedencia\",\n",
    "                        \"Municipio\",\n",
    "                        \"Edad\",\n",
    "                        \"Sexo\",\n",
    "                        \"Q1\",\n",
    "                        \"Q2\",\n",
    "                        \"Q3\",\n",
    "                        \"Q4\",\n",
    "                        \"Justificacion_1\",\n",
    "                        \"He leido\",\n",
    "                        \"Q5\",\n",
    "                        \"Q6\",\n",
    "                        \"Q7\",\n",
    "                        \"Q8\",\n",
    "                        \"Q9\",\n",
    "                        \"Q10\",\n",
    "                        \"Q11\",\n",
    "                        \"Q12\",\n",
    "                        \"Q13\",\n",
    "                        \"Q14\",\n",
    "                        \"Q15\",\n",
    "                        \"Justificacion_2\",\n",
    "                        \"Q16\",\n",
    "                        \"Q17\",\n",
    "                        \"Justificacion_3\")"
   ]
  },
  {
   "cell_type": "markdown",
   "metadata": {},
   "source": [
    "#### Unimos nuestros datasets separados en uno solo"
   ]
  },
  {
   "cell_type": "code",
   "execution_count": 6,
   "metadata": {},
   "outputs": [],
   "source": [
    "achiote <- rbind(a1_clean, a2_clean)"
   ]
  },
  {
   "cell_type": "markdown",
   "metadata": {},
   "source": [
    "### Procedemos a eliminar caracteres bizarros de los textos de la encuesta"
   ]
  },
  {
   "cell_type": "markdown",
   "metadata": {},
   "source": [
    "#### Seteamos el encoding a UTF-8 para aceptar tildes y demás caracteres"
   ]
  },
  {
   "cell_type": "code",
   "execution_count": 7,
   "metadata": {},
   "outputs": [],
   "source": [
    "Encoding(achiote$Edad) <- \"UTF-8\"\n",
    "Encoding(achiote$Municipio) <- \"UTF-8\"\n",
    "Encoding(achiote$Q1) <- \"UTF-8\"\n",
    "Encoding(achiote$Q6) <- \"UTF-8\"\n",
    "Encoding(achiote$Q7) <- \"UTF-8\"\n",
    "Encoding(achiote$Q11) <- \"UTF-8\"\n",
    "Encoding(achiote$Q12) <- \"UTF-8\"\n",
    "Encoding(achiote$Q13) <- \"UTF-8\"\n",
    "Encoding(achiote$Q14) <- \"UTF-8\"\n",
    "Encoding(achiote$Q16) <- \"UTF-8\"\n",
    "Encoding(achiote$Justificacion_1) <- \"UTF-8\"\n",
    "Encoding(achiote$Justificacion_2) <- \"UTF-8\"\n",
    "Encoding(achiote$Justificacion_3) <- \"UTF-8\""
   ]
  },
  {
   "cell_type": "markdown",
   "metadata": {},
   "source": [
    "#### Eliminamos palabras que hacen ruido"
   ]
  },
  {
   "cell_type": "code",
   "execution_count": 8,
   "metadata": {},
   "outputs": [],
   "source": [
    "achiote$Q1 <- gsub(\"Si, ¿cuál? ¿cómo?:\", \"\", achiote$Q1, fixed=TRUE)\n",
    "achiote$Q5 <- gsub(\"Si, especifique:\", \"\", achiote$Q5, fixed=TRUE)\n",
    "achiote$Q7 <- gsub(\"Otro::\", \"\", achiote$Q7, fixed=TRUE)\n",
    "achiote$Q12 <- gsub(\"Conozco otra/otras, ¿cuál/cuáles?:\", \"\", achiote$Q12, fixed=TRUE)\n",
    "achiote$Q13 <- gsub(\"Si, ¿cuál? ¿cómo?:\", \"\", achiote$Q13, fixed=TRUE)"
   ]
  },
  {
   "cell_type": "markdown",
   "metadata": {},
   "source": [
    "### Revisamos el producto final de la limpieza"
   ]
  },
  {
   "cell_type": "code",
   "execution_count": 9,
   "metadata": {},
   "outputs": [
    {
     "data": {
      "text/html": [
       "<table>\n",
       "<caption>A data.frame: 6 × 30</caption>\n",
       "<thead>\n",
       "\t<tr><th></th><th scope=col>Id</th><th scope=col>Ip</th><th scope=col>Acceso</th><th scope=col>Fecha_inicio</th><th scope=col>Fecha_finalizacion</th><th scope=col>Procedencia</th><th scope=col>Municipio</th><th scope=col>Edad</th><th scope=col>Sexo</th><th scope=col>Q1</th><th scope=col>...</th><th scope=col>Q10</th><th scope=col>Q11</th><th scope=col>Q12</th><th scope=col>Q13</th><th scope=col>Q14</th><th scope=col>Q15</th><th scope=col>Justificacion_2</th><th scope=col>Q16</th><th scope=col>Q17</th><th scope=col>Justificacion_3</th></tr>\n",
       "\t<tr><th></th><th scope=col>&lt;chr&gt;</th><th scope=col>&lt;chr&gt;</th><th scope=col>&lt;chr&gt;</th><th scope=col>&lt;chr&gt;</th><th scope=col>&lt;chr&gt;</th><th scope=col>&lt;chr&gt;</th><th scope=col>&lt;chr&gt;</th><th scope=col>&lt;chr&gt;</th><th scope=col>&lt;chr&gt;</th><th scope=col>&lt;chr&gt;</th><th scope=col>...</th><th scope=col>&lt;chr&gt;</th><th scope=col>&lt;chr&gt;</th><th scope=col>&lt;chr&gt;</th><th scope=col>&lt;chr&gt;</th><th scope=col>&lt;chr&gt;</th><th scope=col>&lt;chr&gt;</th><th scope=col>&lt;chr&gt;</th><th scope=col>&lt;chr&gt;</th><th scope=col>&lt;chr&gt;</th><th scope=col>&lt;chr&gt;</th></tr>\n",
       "</thead>\n",
       "<tbody>\n",
       "\t<tr><th scope=row>3</th><td>1</td><td>190.148.209.77 </td><td>Public Access</td><td>9/18/2020 11:01</td><td>9/18/2020 11:05</td><td>Casco urbano</td><td>Guatemala          </td><td>15-35 años</td><td>Masculino</td><td>Manzanilla (infusión)</td><td>...</td><td>Si</td><td>Raíz    </td><td>Remolacha</td><td>No     </td><td>Infusión o té   Machacada En jugo    </td><td>4</td><td>Sé que tiene propiedades curativas importantes</td><td>Aplicación local  Aplicación en baños Aplicación nasal   En cápsulas </td><td>5</td><td>Tiene muchas propiedades</td></tr>\n",
       "\t<tr><th scope=row>4</th><td>2</td><td>190.106.204.56 </td><td>Public Access</td><td>9/18/2020 11:22</td><td>9/18/2020 11:25</td><td>Casco urbano</td><td>Villa Canales      </td><td>15-35 años</td><td>Masculino</td><td>No                   </td><td>...</td><td>No</td><td>Semillas</td><td>Remolacha</td><td>Azafrán</td><td>      Molida                         </td><td>5</td><td>No lo he utilizado                            </td><td>     En infusión                                                     </td><td>1</td><td>No lo he utilizado      </td></tr>\n",
       "\t<tr><th scope=row>5</th><td>3</td><td>190.148.44.40  </td><td>Public Access</td><td>9/18/2020 11:27</td><td>9/18/2020 11:28</td><td>Casco urbano</td><td>Guatemala          </td><td>15-35 años</td><td>Masculino</td><td>No                   </td><td>...</td><td>  </td><td>        </td><td>         </td><td>       </td><td>                                     </td><td> </td><td>                                              </td><td>                                                                     </td><td> </td><td>                        </td></tr>\n",
       "\t<tr><th scope=row>6</th><td>4</td><td>181.209.150.186</td><td>Public Access</td><td>9/18/2020 11:27</td><td>9/18/2020 11:28</td><td>Casco urbano</td><td>Guatemala          </td><td>15-35 años</td><td>Femenino </td><td>No                   </td><td>...</td><td>  </td><td>        </td><td>         </td><td>       </td><td>                                     </td><td> </td><td>                                              </td><td>                                                                     </td><td> </td><td>                        </td></tr>\n",
       "\t<tr><th scope=row>7</th><td>5</td><td>190.56.74.149  </td><td>Public Access</td><td>9/18/2020 11:33</td><td>9/18/2020 11:38</td><td>Casco urbano</td><td>Guatemala          </td><td>15-35 años</td><td>Masculino</td><td>No                   </td><td>...</td><td>  </td><td>        </td><td>         </td><td>       </td><td>                                     </td><td> </td><td>                                              </td><td>                                                                     </td><td> </td><td>                        </td></tr>\n",
       "\t<tr><th scope=row>8</th><td>6</td><td>190.106.221.104</td><td>Public Access</td><td>9/18/2020 11:16</td><td>9/18/2020 11:41</td><td>Casco urbano</td><td>Ciudad de Guatemala</td><td>15-35 años</td><td>Masculino</td><td>Té de manzano        </td><td>...</td><td>  </td><td>        </td><td>         </td><td>       </td><td>                                     </td><td> </td><td>                                              </td><td>                                                                     </td><td> </td><td>                        </td></tr>\n",
       "</tbody>\n",
       "</table>\n"
      ],
      "text/latex": [
       "A data.frame: 6 × 30\n",
       "\\begin{tabular}{r|lllllllllllllllllllll}\n",
       "  & Id & Ip & Acceso & Fecha\\_inicio & Fecha\\_finalizacion & Procedencia & Municipio & Edad & Sexo & Q1 & ... & Q10 & Q11 & Q12 & Q13 & Q14 & Q15 & Justificacion\\_2 & Q16 & Q17 & Justificacion\\_3\\\\\n",
       "  & <chr> & <chr> & <chr> & <chr> & <chr> & <chr> & <chr> & <chr> & <chr> & <chr> & ... & <chr> & <chr> & <chr> & <chr> & <chr> & <chr> & <chr> & <chr> & <chr> & <chr>\\\\\n",
       "\\hline\n",
       "\t3 & 1 & 190.148.209.77  & Public Access & 9/18/2020 11:01 & 9/18/2020 11:05 & Casco urbano & Guatemala           & 15-35 años & Masculino & Manzanilla (infusión) & ... & Si & Raíz     & Remolacha & No      & Infusión o té   Machacada En jugo     & 4 & Sé que tiene propiedades curativas importantes & Aplicación local  Aplicación en baños Aplicación nasal   En cápsulas  & 5 & Tiene muchas propiedades\\\\\n",
       "\t4 & 2 & 190.106.204.56  & Public Access & 9/18/2020 11:22 & 9/18/2020 11:25 & Casco urbano & Villa Canales       & 15-35 años & Masculino & No                    & ... & No & Semillas & Remolacha & Azafrán &       Molida                          & 5 & No lo he utilizado                             &      En infusión                                                      & 1 & No lo he utilizado      \\\\\n",
       "\t5 & 3 & 190.148.44.40   & Public Access & 9/18/2020 11:27 & 9/18/2020 11:28 & Casco urbano & Guatemala           & 15-35 años & Masculino & No                    & ... &    &          &           &         &                                       &   &                                                &                                                                       &   &                         \\\\\n",
       "\t6 & 4 & 181.209.150.186 & Public Access & 9/18/2020 11:27 & 9/18/2020 11:28 & Casco urbano & Guatemala           & 15-35 años & Femenino  & No                    & ... &    &          &           &         &                                       &   &                                                &                                                                       &   &                         \\\\\n",
       "\t7 & 5 & 190.56.74.149   & Public Access & 9/18/2020 11:33 & 9/18/2020 11:38 & Casco urbano & Guatemala           & 15-35 años & Masculino & No                    & ... &    &          &           &         &                                       &   &                                                &                                                                       &   &                         \\\\\n",
       "\t8 & 6 & 190.106.221.104 & Public Access & 9/18/2020 11:16 & 9/18/2020 11:41 & Casco urbano & Ciudad de Guatemala & 15-35 años & Masculino & Té de manzano         & ... &    &          &           &         &                                       &   &                                                &                                                                       &   &                         \\\\\n",
       "\\end{tabular}\n"
      ],
      "text/markdown": [
       "\n",
       "A data.frame: 6 × 30\n",
       "\n",
       "| <!--/--> | Id &lt;chr&gt; | Ip &lt;chr&gt; | Acceso &lt;chr&gt; | Fecha_inicio &lt;chr&gt; | Fecha_finalizacion &lt;chr&gt; | Procedencia &lt;chr&gt; | Municipio &lt;chr&gt; | Edad &lt;chr&gt; | Sexo &lt;chr&gt; | Q1 &lt;chr&gt; | ... ... | Q10 &lt;chr&gt; | Q11 &lt;chr&gt; | Q12 &lt;chr&gt; | Q13 &lt;chr&gt; | Q14 &lt;chr&gt; | Q15 &lt;chr&gt; | Justificacion_2 &lt;chr&gt; | Q16 &lt;chr&gt; | Q17 &lt;chr&gt; | Justificacion_3 &lt;chr&gt; |\n",
       "|---|---|---|---|---|---|---|---|---|---|---|---|---|---|---|---|---|---|---|---|---|---|\n",
       "| 3 | 1 | 190.148.209.77  | Public Access | 9/18/2020 11:01 | 9/18/2020 11:05 | Casco urbano | Guatemala           | 15-35 años | Masculino | Manzanilla (infusión) | ... | Si | Raíz     | Remolacha | No      | Infusión o té   Machacada En jugo     | 4 | Sé que tiene propiedades curativas importantes | Aplicación local  Aplicación en baños Aplicación nasal   En cápsulas  | 5 | Tiene muchas propiedades |\n",
       "| 4 | 2 | 190.106.204.56  | Public Access | 9/18/2020 11:22 | 9/18/2020 11:25 | Casco urbano | Villa Canales       | 15-35 años | Masculino | No                    | ... | No | Semillas | Remolacha | Azafrán |       Molida                          | 5 | No lo he utilizado                             |      En infusión                                                      | 1 | No lo he utilizado       |\n",
       "| 5 | 3 | 190.148.44.40   | Public Access | 9/18/2020 11:27 | 9/18/2020 11:28 | Casco urbano | Guatemala           | 15-35 años | Masculino | No                    | ... | <!----> | <!----> | <!----> | <!----> | <!----> | <!----> | <!----> | <!----> | <!----> | <!----> |\n",
       "| 6 | 4 | 181.209.150.186 | Public Access | 9/18/2020 11:27 | 9/18/2020 11:28 | Casco urbano | Guatemala           | 15-35 años | Femenino  | No                    | ... | <!----> | <!----> | <!----> | <!----> | <!----> | <!----> | <!----> | <!----> | <!----> | <!----> |\n",
       "| 7 | 5 | 190.56.74.149   | Public Access | 9/18/2020 11:33 | 9/18/2020 11:38 | Casco urbano | Guatemala           | 15-35 años | Masculino | No                    | ... | <!----> | <!----> | <!----> | <!----> | <!----> | <!----> | <!----> | <!----> | <!----> | <!----> |\n",
       "| 8 | 6 | 190.106.221.104 | Public Access | 9/18/2020 11:16 | 9/18/2020 11:41 | Casco urbano | Ciudad de Guatemala | 15-35 años | Masculino | Té de manzano         | ... | <!----> | <!----> | <!----> | <!----> | <!----> | <!----> | <!----> | <!----> | <!----> | <!----> |\n",
       "\n"
      ],
      "text/plain": [
       "  Id Ip              Acceso        Fecha_inicio    Fecha_finalizacion\n",
       "3 1  190.148.209.77  Public Access 9/18/2020 11:01 9/18/2020 11:05   \n",
       "4 2  190.106.204.56  Public Access 9/18/2020 11:22 9/18/2020 11:25   \n",
       "5 3  190.148.44.40   Public Access 9/18/2020 11:27 9/18/2020 11:28   \n",
       "6 4  181.209.150.186 Public Access 9/18/2020 11:27 9/18/2020 11:28   \n",
       "7 5  190.56.74.149   Public Access 9/18/2020 11:33 9/18/2020 11:38   \n",
       "8 6  190.106.221.104 Public Access 9/18/2020 11:16 9/18/2020 11:41   \n",
       "  Procedencia  Municipio           Edad       Sexo      Q1                   \n",
       "3 Casco urbano Guatemala           15-35 años Masculino Manzanilla (infusión)\n",
       "4 Casco urbano Villa Canales       15-35 años Masculino No                   \n",
       "5 Casco urbano Guatemala           15-35 años Masculino No                   \n",
       "6 Casco urbano Guatemala           15-35 años Femenino  No                   \n",
       "7 Casco urbano Guatemala           15-35 años Masculino No                   \n",
       "8 Casco urbano Ciudad de Guatemala 15-35 años Masculino Té de manzano        \n",
       "  ... Q10 Q11      Q12       Q13     Q14                                   Q15\n",
       "3 ... Si  Raíz     Remolacha No      Infusión o té   Machacada En jugo     4  \n",
       "4 ... No  Semillas Remolacha Azafrán       Molida                          5  \n",
       "5 ...                                                                         \n",
       "6 ...                                                                         \n",
       "7 ...                                                                         \n",
       "8 ...                                                                         \n",
       "  Justificacion_2                               \n",
       "3 Sé que tiene propiedades curativas importantes\n",
       "4 No lo he utilizado                            \n",
       "5                                               \n",
       "6                                               \n",
       "7                                               \n",
       "8                                               \n",
       "  Q16                                                                   Q17\n",
       "3 Aplicación local  Aplicación en baños Aplicación nasal   En cápsulas  5  \n",
       "4      En infusión                                                      1  \n",
       "5                                                                          \n",
       "6                                                                          \n",
       "7                                                                          \n",
       "8                                                                          \n",
       "  Justificacion_3         \n",
       "3 Tiene muchas propiedades\n",
       "4 No lo he utilizado      \n",
       "5                         \n",
       "6                         \n",
       "7                         \n",
       "8                         "
      ]
     },
     "metadata": {},
     "output_type": "display_data"
    },
    {
     "data": {
      "text/html": [
       "<table>\n",
       "<caption>A data.frame: 6 × 30</caption>\n",
       "<thead>\n",
       "\t<tr><th></th><th scope=col>Id</th><th scope=col>Ip</th><th scope=col>Acceso</th><th scope=col>Fecha_inicio</th><th scope=col>Fecha_finalizacion</th><th scope=col>Procedencia</th><th scope=col>Municipio</th><th scope=col>Edad</th><th scope=col>Sexo</th><th scope=col>Q1</th><th scope=col>...</th><th scope=col>Q10</th><th scope=col>Q11</th><th scope=col>Q12</th><th scope=col>Q13</th><th scope=col>Q14</th><th scope=col>Q15</th><th scope=col>Justificacion_2</th><th scope=col>Q16</th><th scope=col>Q17</th><th scope=col>Justificacion_3</th></tr>\n",
       "\t<tr><th></th><th scope=col>&lt;chr&gt;</th><th scope=col>&lt;chr&gt;</th><th scope=col>&lt;chr&gt;</th><th scope=col>&lt;chr&gt;</th><th scope=col>&lt;chr&gt;</th><th scope=col>&lt;chr&gt;</th><th scope=col>&lt;chr&gt;</th><th scope=col>&lt;chr&gt;</th><th scope=col>&lt;chr&gt;</th><th scope=col>&lt;chr&gt;</th><th scope=col>...</th><th scope=col>&lt;chr&gt;</th><th scope=col>&lt;chr&gt;</th><th scope=col>&lt;chr&gt;</th><th scope=col>&lt;chr&gt;</th><th scope=col>&lt;chr&gt;</th><th scope=col>&lt;chr&gt;</th><th scope=col>&lt;chr&gt;</th><th scope=col>&lt;chr&gt;</th><th scope=col>&lt;chr&gt;</th><th scope=col>&lt;chr&gt;</th></tr>\n",
       "</thead>\n",
       "<tbody>\n",
       "\t<tr><th scope=row>291</th><td>95 </td><td>181.174.106.148</td><td>Public Access</td><td>9/24/2020 11:39</td><td>9/24/2020 11:45</td><td>Casco urbano</td><td>Villa Nueva     </td><td>15-35 años</td><td>Masculino</td><td>No                                                                                                                                                                                                                       </td><td>...</td><td>No</td><td>Raíz    </td><td>Remolacha</td><td>No                                                                       </td><td>       No conozco ninguna preparación       </td><td>5</td><td>Sería una buena alternativa para la reducción del uso de fármacos</td><td>Aplicación local     En infusión En cápsulas             </td><td>4</td><td>Puede que en algunos casos no reemplace a un fármaco convencional</td></tr>\n",
       "\t<tr><th scope=row>301</th><td>96 </td><td>190.148.53.147 </td><td>Public Access</td><td>9/24/2020 11:45</td><td>9/24/2020 11:46</td><td>Casco urbano</td><td>Jutiapa         </td><td>15-35 años</td><td>Femenino </td><td>                                                                                                                                                                                                                         </td><td>...</td><td>  </td><td>        </td><td>         </td><td>                                                                         </td><td>                                            </td><td> </td><td>                                                                 </td><td>                                                         </td><td> </td><td>                                                                 </td></tr>\n",
       "\t<tr><th scope=row>311</th><td>97 </td><td>190.148.52.220 </td><td>Public Access</td><td>9/24/2020 11:50</td><td>9/24/2020 11:54</td><td>Casco urbano</td><td>Amatitlan       </td><td>15-35 años</td><td>Femenino </td><td>Jengibre, alo verá.                                                                                                                                                                                                      </td><td>...</td><td>Si</td><td>Semillas</td><td>Remolacha</td><td>Achiote                                                                  </td><td>       No conozco ninguna preparación       </td><td>5</td><td>Seria bueno conocer acerca de sus beneficios                     </td><td>     En infusión En cápsulas                             </td><td>5</td><td>Por ser una medicina natural considero que son bastante efectivos</td></tr>\n",
       "\t<tr><th scope=row>321</th><td>98 </td><td>181.209.195.80 </td><td>Public Access</td><td>9/24/2020 12:06</td><td>9/24/2020 12:08</td><td>Casco urbano</td><td>Mixco           </td><td>15-35 años</td><td>Femenino </td><td>No                                                                                                                                                                                                                       </td><td>...</td><td>  </td><td>        </td><td>         </td><td>                                                                         </td><td>                                            </td><td> </td><td>                                                                 </td><td>                                                         </td><td> </td><td>                                                                 </td></tr>\n",
       "\t<tr><th scope=row>331</th><td>99 </td><td>190.148.209.11 </td><td>Public Access</td><td>9/24/2020 12:09</td><td>9/24/2020 12:13</td><td>Casco urbano</td><td>Ciudad Guatemala</td><td>15-35 años</td><td>Masculino</td><td>Infusiones de tilo, manzanilla, eucalipto                                                                                                                                                                                </td><td>...</td><td>  </td><td>        </td><td>         </td><td>                                                                         </td><td>                                            </td><td> </td><td>                                                                 </td><td>                                                         </td><td> </td><td>                                                                 </td></tr>\n",
       "\t<tr><th scope=row>341</th><td>100</td><td>190.148.48.109 </td><td>Public Access</td><td>9/24/2020 12:14</td><td>9/24/2020 12:19</td><td>Casco urbano</td><td>Guatemala       </td><td>15-35 años</td><td>Femenino </td><td>Eucalipto = \"nebulizador\", hoja de limón (dolor de estómago y de garganta así como repelente de mosquitos), jengibre (dolor de garganta, irritación e inflamación), cúrcuma (blanqueamiento dental y desinflamante), etc.</td><td>...</td><td>Si</td><td>Semillas</td><td>Azafrán  </td><td>Remolacha para ensaladas y enchiladas. Azafrán para \"colorear\" la paella.</td><td>Infusión o té Hervida Frotada   Masticada   </td><td>5</td><td>Estoy procurando practicar la medicina tradicional y natural.    </td><td>Aplicación local Lavados  Aplicación nasal  En infusión  </td><td>4</td><td>No uso el achiote, pero he escuchado comentarios favorables.     </td></tr>\n",
       "</tbody>\n",
       "</table>\n"
      ],
      "text/latex": [
       "A data.frame: 6 × 30\n",
       "\\begin{tabular}{r|lllllllllllllllllllll}\n",
       "  & Id & Ip & Acceso & Fecha\\_inicio & Fecha\\_finalizacion & Procedencia & Municipio & Edad & Sexo & Q1 & ... & Q10 & Q11 & Q12 & Q13 & Q14 & Q15 & Justificacion\\_2 & Q16 & Q17 & Justificacion\\_3\\\\\n",
       "  & <chr> & <chr> & <chr> & <chr> & <chr> & <chr> & <chr> & <chr> & <chr> & <chr> & ... & <chr> & <chr> & <chr> & <chr> & <chr> & <chr> & <chr> & <chr> & <chr> & <chr>\\\\\n",
       "\\hline\n",
       "\t291 & 95  & 181.174.106.148 & Public Access & 9/24/2020 11:39 & 9/24/2020 11:45 & Casco urbano & Villa Nueva      & 15-35 años & Masculino & No                                                                                                                                                                                                                        & ... & No & Raíz     & Remolacha & No                                                                        &        No conozco ninguna preparación        & 5 & Sería una buena alternativa para la reducción del uso de fármacos & Aplicación local     En infusión En cápsulas              & 4 & Puede que en algunos casos no reemplace a un fármaco convencional\\\\\n",
       "\t301 & 96  & 190.148.53.147  & Public Access & 9/24/2020 11:45 & 9/24/2020 11:46 & Casco urbano & Jutiapa          & 15-35 años & Femenino  &                                                                                                                                                                                                                           & ... &    &          &           &                                                                           &                                              &   &                                                                   &                                                           &   &                                                                  \\\\\n",
       "\t311 & 97  & 190.148.52.220  & Public Access & 9/24/2020 11:50 & 9/24/2020 11:54 & Casco urbano & Amatitlan        & 15-35 años & Femenino  & Jengibre, alo verá.                                                                                                                                                                                                       & ... & Si & Semillas & Remolacha & Achiote                                                                   &        No conozco ninguna preparación        & 5 & Seria bueno conocer acerca de sus beneficios                      &      En infusión En cápsulas                              & 5 & Por ser una medicina natural considero que son bastante efectivos\\\\\n",
       "\t321 & 98  & 181.209.195.80  & Public Access & 9/24/2020 12:06 & 9/24/2020 12:08 & Casco urbano & Mixco            & 15-35 años & Femenino  & No                                                                                                                                                                                                                        & ... &    &          &           &                                                                           &                                              &   &                                                                   &                                                           &   &                                                                  \\\\\n",
       "\t331 & 99  & 190.148.209.11  & Public Access & 9/24/2020 12:09 & 9/24/2020 12:13 & Casco urbano & Ciudad Guatemala & 15-35 años & Masculino & Infusiones de tilo, manzanilla, eucalipto                                                                                                                                                                                 & ... &    &          &           &                                                                           &                                              &   &                                                                   &                                                           &   &                                                                  \\\\\n",
       "\t341 & 100 & 190.148.48.109  & Public Access & 9/24/2020 12:14 & 9/24/2020 12:19 & Casco urbano & Guatemala        & 15-35 años & Femenino  & Eucalipto = \"nebulizador\", hoja de limón (dolor de estómago y de garganta así como repelente de mosquitos), jengibre (dolor de garganta, irritación e inflamación), cúrcuma (blanqueamiento dental y desinflamante), etc. & ... & Si & Semillas & Azafrán   & Remolacha para ensaladas y enchiladas. Azafrán para \"colorear\" la paella. & Infusión o té Hervida Frotada   Masticada    & 5 & Estoy procurando practicar la medicina tradicional y natural.     & Aplicación local Lavados  Aplicación nasal  En infusión   & 4 & No uso el achiote, pero he escuchado comentarios favorables.     \\\\\n",
       "\\end{tabular}\n"
      ],
      "text/markdown": [
       "\n",
       "A data.frame: 6 × 30\n",
       "\n",
       "| <!--/--> | Id &lt;chr&gt; | Ip &lt;chr&gt; | Acceso &lt;chr&gt; | Fecha_inicio &lt;chr&gt; | Fecha_finalizacion &lt;chr&gt; | Procedencia &lt;chr&gt; | Municipio &lt;chr&gt; | Edad &lt;chr&gt; | Sexo &lt;chr&gt; | Q1 &lt;chr&gt; | ... ... | Q10 &lt;chr&gt; | Q11 &lt;chr&gt; | Q12 &lt;chr&gt; | Q13 &lt;chr&gt; | Q14 &lt;chr&gt; | Q15 &lt;chr&gt; | Justificacion_2 &lt;chr&gt; | Q16 &lt;chr&gt; | Q17 &lt;chr&gt; | Justificacion_3 &lt;chr&gt; |\n",
       "|---|---|---|---|---|---|---|---|---|---|---|---|---|---|---|---|---|---|---|---|---|---|\n",
       "| 291 | 95  | 181.174.106.148 | Public Access | 9/24/2020 11:39 | 9/24/2020 11:45 | Casco urbano | Villa Nueva      | 15-35 años | Masculino | No                                                                                                                                                                                                                        | ... | No | Raíz     | Remolacha | No                                                                        |        No conozco ninguna preparación        | 5 | Sería una buena alternativa para la reducción del uso de fármacos | Aplicación local     En infusión En cápsulas              | 4 | Puede que en algunos casos no reemplace a un fármaco convencional |\n",
       "| 301 | 96  | 190.148.53.147  | Public Access | 9/24/2020 11:45 | 9/24/2020 11:46 | Casco urbano | Jutiapa          | 15-35 años | Femenino  | <!----> | ... | <!----> | <!----> | <!----> | <!----> | <!----> | <!----> | <!----> | <!----> | <!----> | <!----> |\n",
       "| 311 | 97  | 190.148.52.220  | Public Access | 9/24/2020 11:50 | 9/24/2020 11:54 | Casco urbano | Amatitlan        | 15-35 años | Femenino  | Jengibre, alo verá.                                                                                                                                                                                                       | ... | Si | Semillas | Remolacha | Achiote                                                                   |        No conozco ninguna preparación        | 5 | Seria bueno conocer acerca de sus beneficios                      |      En infusión En cápsulas                              | 5 | Por ser una medicina natural considero que son bastante efectivos |\n",
       "| 321 | 98  | 181.209.195.80  | Public Access | 9/24/2020 12:06 | 9/24/2020 12:08 | Casco urbano | Mixco            | 15-35 años | Femenino  | No                                                                                                                                                                                                                        | ... | <!----> | <!----> | <!----> | <!----> | <!----> | <!----> | <!----> | <!----> | <!----> | <!----> |\n",
       "| 331 | 99  | 190.148.209.11  | Public Access | 9/24/2020 12:09 | 9/24/2020 12:13 | Casco urbano | Ciudad Guatemala | 15-35 años | Masculino | Infusiones de tilo, manzanilla, eucalipto                                                                                                                                                                                 | ... | <!----> | <!----> | <!----> | <!----> | <!----> | <!----> | <!----> | <!----> | <!----> | <!----> |\n",
       "| 341 | 100 | 190.148.48.109  | Public Access | 9/24/2020 12:14 | 9/24/2020 12:19 | Casco urbano | Guatemala        | 15-35 años | Femenino  | Eucalipto = \"nebulizador\", hoja de limón (dolor de estómago y de garganta así como repelente de mosquitos), jengibre (dolor de garganta, irritación e inflamación), cúrcuma (blanqueamiento dental y desinflamante), etc. | ... | Si | Semillas | Azafrán   | Remolacha para ensaladas y enchiladas. Azafrán para \"colorear\" la paella. | Infusión o té Hervida Frotada   Masticada    | 5 | Estoy procurando practicar la medicina tradicional y natural.     | Aplicación local Lavados  Aplicación nasal  En infusión   | 4 | No uso el achiote, pero he escuchado comentarios favorables.      |\n",
       "\n"
      ],
      "text/plain": [
       "    Id  Ip              Acceso        Fecha_inicio    Fecha_finalizacion\n",
       "291 95  181.174.106.148 Public Access 9/24/2020 11:39 9/24/2020 11:45   \n",
       "301 96  190.148.53.147  Public Access 9/24/2020 11:45 9/24/2020 11:46   \n",
       "311 97  190.148.52.220  Public Access 9/24/2020 11:50 9/24/2020 11:54   \n",
       "321 98  181.209.195.80  Public Access 9/24/2020 12:06 9/24/2020 12:08   \n",
       "331 99  190.148.209.11  Public Access 9/24/2020 12:09 9/24/2020 12:13   \n",
       "341 100 190.148.48.109  Public Access 9/24/2020 12:14 9/24/2020 12:19   \n",
       "    Procedencia  Municipio        Edad       Sexo     \n",
       "291 Casco urbano Villa Nueva      15-35 años Masculino\n",
       "301 Casco urbano Jutiapa          15-35 años Femenino \n",
       "311 Casco urbano Amatitlan        15-35 años Femenino \n",
       "321 Casco urbano Mixco            15-35 años Femenino \n",
       "331 Casco urbano Ciudad Guatemala 15-35 años Masculino\n",
       "341 Casco urbano Guatemala        15-35 años Femenino \n",
       "    Q1                                                                                                                                                                                                                       \n",
       "291 No                                                                                                                                                                                                                       \n",
       "301                                                                                                                                                                                                                          \n",
       "311 Jengibre, alo verá.                                                                                                                                                                                                      \n",
       "321 No                                                                                                                                                                                                                       \n",
       "331 Infusiones de tilo, manzanilla, eucalipto                                                                                                                                                                                \n",
       "341 Eucalipto = \"nebulizador\", hoja de limón (dolor de estómago y de garganta así como repelente de mosquitos), jengibre (dolor de garganta, irritación e inflamación), cúrcuma (blanqueamiento dental y desinflamante), etc.\n",
       "    ... Q10 Q11      Q12      \n",
       "291 ... No  Raíz     Remolacha\n",
       "301 ...                       \n",
       "311 ... Si  Semillas Remolacha\n",
       "321 ...                       \n",
       "331 ...                       \n",
       "341 ... Si  Semillas Azafrán  \n",
       "    Q13                                                                      \n",
       "291 No                                                                       \n",
       "301                                                                          \n",
       "311 Achiote                                                                  \n",
       "321                                                                          \n",
       "331                                                                          \n",
       "341 Remolacha para ensaladas y enchiladas. Azafrán para \"colorear\" la paella.\n",
       "    Q14                                          Q15\n",
       "291        No conozco ninguna preparación        5  \n",
       "301                                                 \n",
       "311        No conozco ninguna preparación        5  \n",
       "321                                                 \n",
       "331                                                 \n",
       "341 Infusión o té Hervida Frotada   Masticada    5  \n",
       "    Justificacion_2                                                  \n",
       "291 Sería una buena alternativa para la reducción del uso de fármacos\n",
       "301                                                                  \n",
       "311 Seria bueno conocer acerca de sus beneficios                     \n",
       "321                                                                  \n",
       "331                                                                  \n",
       "341 Estoy procurando practicar la medicina tradicional y natural.    \n",
       "    Q16                                                       Q17\n",
       "291 Aplicación local     En infusión En cápsulas              4  \n",
       "301                                                              \n",
       "311      En infusión En cápsulas                              5  \n",
       "321                                                              \n",
       "331                                                              \n",
       "341 Aplicación local Lavados  Aplicación nasal  En infusión   4  \n",
       "    Justificacion_3                                                  \n",
       "291 Puede que en algunos casos no reemplace a un fármaco convencional\n",
       "301                                                                  \n",
       "311 Por ser una medicina natural considero que son bastante efectivos\n",
       "321                                                                  \n",
       "331                                                                  \n",
       "341 No uso el achiote, pero he escuchado comentarios favorables.     "
      ]
     },
     "metadata": {},
     "output_type": "display_data"
    }
   ],
   "source": [
    "head(achiote)\n",
    "tail(achiote)"
   ]
  },
  {
   "cell_type": "markdown",
   "metadata": {},
   "source": [
    "#### Manejamos fechas y tiempos"
   ]
  },
  {
   "cell_type": "code",
   "execution_count": 10,
   "metadata": {},
   "outputs": [],
   "source": [
    "#fechas\n",
    "fecha_inicio <- as.Date(substr(achiote$Fecha_inicio, 0, 8), \"%m/%d/%y\")\n",
    "fecha_final <- as.Date(substr(achiote$Fecha_finalizacion, 0, 8), \"%m/%d/%y\")\n",
    "#horas minutos\n",
    "hora_inicio <- as.POSIXct(substr(achiote$Fecha_inicio, 11, 15), format = \"%H:%M\")\n",
    "hora_final <- as.POSIXct(substr(achiote$Fecha_finalizacion, 11, 15), format = \"%H:%M\")\n",
    "#creando columnas\n",
    "achiote$Fecha_inicio <- fecha_inicio\n",
    "achiote$Fecha_finalizacion <- fecha_final\n",
    "achiote$hora_inicio <- hora_inicio\n",
    "achiote$hora_final <- hora_final\n",
    "dif <- hora_final - hora_inicio\n",
    "achiote$tiempo_terminar <- dif\n"
   ]
  },
  {
   "cell_type": "markdown",
   "metadata": {},
   "source": [
    "#### Convertimos a factor los datos necesarios"
   ]
  },
  {
   "cell_type": "code",
   "execution_count": 11,
   "metadata": {},
   "outputs": [
    {
     "data": {
      "text/plain": [
       "       Id                   Ip               Acceso     Fecha_inicio       \n",
       " 7      : 2   181.209.150.166: 3   Public Access:101   Min.   :2020-09-18  \n",
       " 1      : 1   186.151.92.15  : 3                       1st Qu.:2020-09-18  \n",
       " 10     : 1   186.151.92.6   : 2                       Median :2020-09-21  \n",
       " 100    : 1   190.106.221.12 : 2                       Mean   :2020-09-20  \n",
       " 11     : 1   190.148.53.130 : 2                       3rd Qu.:2020-09-23  \n",
       " 12     : 1   190.56.74.230  : 2                       Max.   :2020-09-24  \n",
       " (Other):94   (Other)        :87                                           \n",
       " Fecha_finalizacion         Procedencia                 Municipio \n",
       " Min.   :2020-09-18   Casco rural :14   Guatemala            :47  \n",
       " 1st Qu.:2020-09-18   Casco urbano:87   Mixco                :11  \n",
       " Median :2020-09-21                     Ciudad de Guatemala  : 5  \n",
       " Mean   :2020-09-20                     Santa Catarina Pinula: 5  \n",
       " 3rd Qu.:2020-09-23                     Villa Nueva          : 3  \n",
       " Max.   :2020-09-24                     Chiquimula           : 2  \n",
       "                                        (Other)              :28  \n",
       "         Edad           Sexo   \n",
       " 15-35 años:85   Femenino :61  \n",
       " 36-55 años: 4   Masculino:40  \n",
       " 56-75 años:12                 \n",
       "                               \n",
       "                               \n",
       "                               \n",
       "                               \n",
       "                                                                         Q1    \n",
       " No                                                                       :35  \n",
       " Manzanilla                                                               : 5  \n",
       "                                                                          : 3  \n",
       " \"Mata ratón\", se cocina y con esa agua se da un baño para bajar la fiebre: 1  \n",
       " Albahaca, manzanilla, eucalipto, tomillo, tilo                           : 1  \n",
       " Apazote y hierbabuena para malestar estomacal                            : 1  \n",
       " (Other)                                                                  :55  \n",
       "  Q2      Q3     Q4    \n",
       " No:34     :67    :67  \n",
       " Si:67   No: 2   1: 3  \n",
       "         Si:32   2: 2  \n",
       "                 3:13  \n",
       "                 4:14  \n",
       "                 5: 2  \n",
       "                       \n",
       "                                                                               Justificacion_1\n",
       "                                                                                       :73    \n",
       " Conozco que tiene propiedades positivas pero no sé cuán efectivas sean en las personas: 1    \n",
       " Considero que lo natural ayuda mucho al organismo pero no es tan rápido.              : 1    \n",
       " Considero que todo lo natural si posee efectos notables a comparación de los químicos : 1    \n",
       " Cuestiono la eficiencia por la falta de estudios científicos                          : 1    \n",
       " Depende que enfermedad tiene que tratar                                               : 1    \n",
       " (Other)                                                                               :23    \n",
       " He leido     Q5                                Q6    \n",
       "   :69         :34                               :34  \n",
       " si:32    Bija : 1   Tinte Culinario             :21  \n",
       "          No   :65    Culinario                  :17  \n",
       "          Urucu: 1   Tinte Culinario Medicinal   : 8  \n",
       "                     Tinte Culinario  Cosmético  : 5  \n",
       "                      Culinario Medicinal        : 4  \n",
       "                     (Other)                     :12  \n",
       "                                                                                            Q7    \n",
       "                                                                                             :34  \n",
       "    Tinte para textiles  Colorante de comidas y bebidas                                      :19  \n",
       "      Colorante de comidas y bebidas                                                         :15  \n",
       "    Tinte para textiles Colorante en pintalabios Colorante de comidas y bebidas              :11  \n",
       "      Colorante de comidas y bebidas Alivio de la fiebre  Aumenta el flujo de leche materna  : 2  \n",
       "    Tinte para textiles                                                                      : 2  \n",
       " (Other)                                                                                     :18  \n",
       "                       Q8    \n",
       "                        :34  \n",
       " Mensualmente           :14  \n",
       " No lo utilizo          :19  \n",
       " Semanalmente           : 5  \n",
       " Una vez cada seis meses:29  \n",
       "                             \n",
       "                             \n",
       "                                               Q9     Q10    \n",
       "                                                :34     :34  \n",
       " Mercado                                        :25   No:19  \n",
       "      No obtengo achiote                        :10   Si:48  \n",
       " Mercado Supermercado                           :10          \n",
       " Mercado  Tienda de conveniencia                : 5          \n",
       " Mercado Supermercado Tienda de conveniencia    : 5          \n",
       " (Other)                                        :12          \n",
       "                                             Q11    \n",
       "                                               :34  \n",
       " Semillas                                      :33  \n",
       " Fruto                                         :15  \n",
       " Raíz                                          :11  \n",
       " No se obtiene ningún polvo rojo de esta planta: 3  \n",
       " Hojas                                         : 2  \n",
       " (Other)                                       : 3  \n",
       "                                                                                  Q12    \n",
       "                                                                                    :34  \n",
       " Azafrán                                                                            :14  \n",
       " Cúrcuma                                                                            : 2  \n",
       " Curcuma,                                                                           : 1  \n",
       " Cúrcuma, repollo morado, cascara de cebolla, remolacha, frijol, semilla de aguacate: 1  \n",
       " No conozco ninguna otra planta tintórea                                            : 6  \n",
       " Remolacha                                                                          :43  \n",
       "                            Q13                                         Q14    \n",
       "                              :35          No conozco ninguna preparación :37  \n",
       " No                           :30                                         :34  \n",
       " Remolacha                    : 5         Molida                          : 8  \n",
       " Achiote                      : 2      Machacada                          : 2  \n",
       " Cúrcuma                      : 2   Infusión o té                         : 2  \n",
       " Remolacha. Ensaladas, curtido: 2        Masticada                        : 1  \n",
       " (Other)                      :25   (Other)                               :17  \n",
       " Q15   \n",
       "  :34  \n",
       " 1: 1  \n",
       " 2: 6  \n",
       " 3:19  \n",
       " 4:15  \n",
       " 5:26  \n",
       "       \n",
       "                                                                                         Justificacion_2\n",
       "                                                                                                 :44    \n",
       " Tendría que saber cómo sustituto de qué medicina se puede usar y para qué se puede usar         : 2    \n",
       " al saber sus propiedades puedo utilizarlo.                                                      : 1    \n",
       " Bajo receta médica consumiría plantas medicinales como alternativa.                             : 1    \n",
       " como te                                                                                         : 1    \n",
       " Considero que el achiote posee muchos beneficios medicinales que nadie conoce ya que no es común: 1    \n",
       " (Other)                                                                                         :51    \n",
       "                                            Q16     Q17   \n",
       "                                              :34    :34  \n",
       "      En infusión En cápsulas                 :13   1: 6  \n",
       "      En infusión                             : 9   2: 4  \n",
       " Aplicación local     En infusión En cápsulas : 7   3:27  \n",
       " Aplicación local                             : 6   4:19  \n",
       " Aplicación local     En infusión             : 5   5:11  \n",
       " (Other)                                      :27         \n",
       "                                                                                       Justificacion_3\n",
       "                                                                                               :44    \n",
       " No conozco la efectividad pero imagino ha de ser buena                                        : 2    \n",
       " 5. Tiene q tener algun efecto.  Pero no creo q curativo                                       : 1    \n",
       " Bueno                                                                                         : 1    \n",
       " Confio mucho en lo natural y lo prefiero por bo estar alterados                               : 1    \n",
       " Conozco de una tesis que trata de tintes para cabello a base achiote y funcionan den maravilla: 1    \n",
       " (Other)                                                                                       :51    \n",
       "  hora_inicio                    hora_final                  tiempo_terminar  \n",
       " Min.   :2020-09-27 07:02:00   Min.   :2020-09-27 07:07:00   Length:101       \n",
       " 1st Qu.:2020-09-27 11:36:00   1st Qu.:2020-09-27 11:43:00   Class :difftime  \n",
       " Median :2020-09-27 12:19:00   Median :2020-09-27 12:20:00   Mode  :numeric   \n",
       " Mean   :2020-09-27 14:04:11   Mean   :2020-09-27 14:12:11                    \n",
       " 3rd Qu.:2020-09-27 16:56:00   3rd Qu.:2020-09-27 17:08:00                    \n",
       " Max.   :2020-09-27 23:26:00   Max.   :2020-09-27 23:37:00                    \n",
       "                                                                              "
      ]
     },
     "metadata": {},
     "output_type": "display_data"
    }
   ],
   "source": [
    "achiote[sapply(achiote, is.character)] <- lapply(achiote[sapply(achiote, is.character)], \n",
    "                                       as.factor)\n",
    "summary(achiote)"
   ]
  },
  {
   "cell_type": "code",
   "execution_count": 12,
   "metadata": {},
   "outputs": [
    {
     "name": "stdout",
     "output_type": "stream",
     "text": [
      "'data.frame':\t101 obs. of  33 variables:\n",
      " $ Id                : Factor w/ 100 levels \"1\",\"10\",\"100\",..: 1 13 24 35 46 57 68 79 90 2 ...\n",
      " $ Ip                : Factor w/ 93 levels \"143.208.57.62\",..: 67 45 68 11 88 47 89 55 25 60 ...\n",
      " $ Acceso            : Factor w/ 1 level \"Public Access\": 1 1 1 1 1 1 1 1 1 1 ...\n",
      " $ Fecha_inicio      : Date, format: \"2020-09-18\" \"2020-09-18\" ...\n",
      " $ Fecha_finalizacion: Date, format: \"2020-09-18\" \"2020-09-18\" ...\n",
      " $ Procedencia       : Factor w/ 2 levels \"Casco rural\",..: 2 2 2 2 2 2 2 2 1 2 ...\n",
      " $ Municipio         : Factor w/ 29 levels \"Amatitlan\",\"Asunción Mita\",..: 13 28 13 13 13 5 13 13 13 13 ...\n",
      " $ Edad              : Factor w/ 3 levels \"15-35 años\",\"36-55 años\",..: 1 1 1 1 1 1 1 1 1 1 ...\n",
      " $ Sexo              : Factor w/ 2 levels \"Femenino\",\"Masculino\": 2 2 2 1 2 2 2 2 2 1 ...\n",
      " $ Q1                : Factor w/ 61 levels \"\",\"\\\"Mata ratón\\\", se cocina y con esa agua se da un baño para bajar la fiebre\",..: 28 38 38 38 38 56 38 38 9 51 ...\n",
      " $ Q2                : Factor w/ 2 levels \"No\",\"Si\": 2 2 1 1 1 1 2 1 2 2 ...\n",
      " $ Q3                : Factor w/ 3 levels \"\",\"No\",\"Si\": 1 1 3 3 3 3 1 3 1 1 ...\n",
      " $ Q4                : Factor w/ 6 levels \"\",\"1\",\"2\",\"3\",..: 1 1 3 4 4 5 1 4 1 1 ...\n",
      " $ Justificacion_1   : Factor w/ 29 levels \"\",\"Conozco que tiene propiedades positivas pero no sé cuán efectivas sean en las personas\",..: 1 1 21 13 15 9 1 2 1 1 ...\n",
      " $ He leido          : Factor w/ 2 levels \"\",\"si\": 1 1 2 2 2 2 1 2 1 1 ...\n",
      " $ Q5                : Factor w/ 4 levels \"\",\"Bija\",\"No\",..: 3 3 1 1 1 1 3 1 3 3 ...\n",
      " $ Q6                : Factor w/ 12 levels \"     \",\"  Medicinal   \",..: 9 9 1 1 1 1 9 1 10 9 ...\n",
      " $ Q7                : Factor w/ 23 levels \"          \",\"         No conozco ninguna aplicación del achiote \",..: 19 8 1 1 1 1 8 1 8 8 ...\n",
      " $ Q8                : Factor w/ 5 levels \"\",\"Mensualmente\",..: 5 5 1 1 1 1 5 1 2 2 ...\n",
      " $ Q9                : Factor w/ 12 levels \"      \",\"     No obtengo achiote \",..: 9 9 1 1 1 1 10 1 9 5 ...\n",
      " $ Q10               : Factor w/ 3 levels \"\",\"No\",\"Si\": 3 2 1 1 1 1 2 1 3 3 ...\n",
      " $ Q11               : Factor w/ 8 levels \"\",\"Flores\",\"Fruto\",..: 6 7 1 1 1 1 3 1 7 7 ...\n",
      " $ Q12               : Factor w/ 7 levels \"\",\"Azafrán\",\"Cúrcuma\",..: 7 7 1 1 1 1 7 1 2 3 ...\n",
      " $ Q13               : Factor w/ 31 levels \"\",\"Achiote\",\"Achiote, remolacha, tomate\",..: 19 6 1 1 1 1 29 1 8 14 ...\n",
      " $ Q14               : Factor w/ 23 levels \"        \",\"       No conozco ninguna preparación \",..: 13 3 1 1 1 1 2 1 2 2 ...\n",
      " $ Q15               : Factor w/ 6 levels \"\",\"1\",\"2\",\"3\",..: 5 6 1 1 1 1 4 1 6 6 ...\n",
      " $ Justificacion_2   : Factor w/ 57 levels \"\",\"al saber sus propiedades puedo utilizarlo.\",..: 41 33 1 1 1 1 54 1 34 14 ...\n",
      " $ Q16               : Factor w/ 24 levels \"       \",\"       Otra::no lo se\",..: 18 4 1 1 1 1 15 1 8 14 ...\n",
      " $ Q17               : Factor w/ 6 levels \"\",\"1\",\"2\",\"3\",..: 6 2 1 1 1 1 4 1 4 6 ...\n",
      " $ Justificacion_3   : Factor w/ 57 levels \"\",\"5. Tiene q tener algun efecto.  Pero no creo q curativo\",..: 55 36 1 1 1 1 27 1 20 52 ...\n",
      " $ hora_inicio       : POSIXct, format: \"2020-09-27 11:01:00\" \"2020-09-27 11:22:00\" ...\n",
      " $ hora_final        : POSIXct, format: \"2020-09-27 11:05:00\" \"2020-09-27 11:25:00\" ...\n",
      " $ tiempo_terminar   : 'difftime' num  4 3 1 1 ...\n",
      "  ..- attr(*, \"units\")= chr \"mins\"\n"
     ]
    }
   ],
   "source": [
    "str(achiote)"
   ]
  },
  {
   "cell_type": "markdown",
   "metadata": {},
   "source": [
    "## Resultados"
   ]
  },
  {
   "cell_type": "markdown",
   "metadata": {},
   "source": [
    "#### colores para graficas"
   ]
  },
  {
   "cell_type": "code",
   "execution_count": 13,
   "metadata": {},
   "outputs": [],
   "source": [
    "color.function <- colorRampPalette(c(\"#FFFFFF\" , \"#45094f\" ))\n",
    "color.ramp <- color.function(n = 10)"
   ]
  },
  {
   "cell_type": "markdown",
   "metadata": {},
   "source": [
    "#### Procedencia"
   ]
  },
  {
   "cell_type": "code",
   "execution_count": 14,
   "metadata": {},
   "outputs": [
    {
     "data": {
      "text/plain": [
       "\n",
       " Casco rural Casco urbano \n",
       "          14           87 "
      ]
     },
     "metadata": {},
     "output_type": "display_data"
    },
    {
     "data": {
      "image/png": "[encoded data removed]",
      "text/plain": [
       "Plot with title \"Procedencia\""
      ]
     },
     "metadata": {
      "image/png": {
       "height": 420,
       "width": 420
      }
     },
     "output_type": "display_data"
    }
   ],
   "source": [
    "info <- table(achiote$Procedencia)\n",
    "xx <- barplot(info,main=\"Procedencia\", col=color.ramp)\n",
    "info"
   ]
  },
  {
   "cell_type": "markdown",
   "metadata": {},
   "source": [
    "#### Municipio"
   ]
  },
  {
   "cell_type": "code",
   "execution_count": 15,
   "metadata": {},
   "outputs": [
    {
     "data": {
      "text/plain": [
       "\n",
       "             Amatitlan          Asunción Mita             Chiquimula \n",
       "                     1                      2                      2 \n",
       "          Ciudad Vieja             Coatepeque                  Cobán \n",
       "                     1                      1                      1 \n",
       "             Fraijanes              Guatemala                 Izabal \n",
       "                     2                     57                      1 \n",
       "               Jutiapa            Mazatenango                  Mixco \n",
       "                     2                      1                     11 \n",
       "San Lucas Sacatepéquez      San Miguel Petapa       Santa Ana, Peten \n",
       "                     3                      1                      1 \n",
       " Santa Catarina Pinula          Villa canales            Villa Nueva \n",
       "                     7                      4                      3 "
      ]
     },
     "metadata": {},
     "output_type": "display_data"
    },
    {
     "data": {
      "image/png": "[encoded data removed]",
      "text/plain": [
       "Plot with title \"Municipio\""
      ]
     },
     "metadata": {
      "image/png": {
       "height": 420,
       "width": 420
      }
     },
     "output_type": "display_data"
    }
   ],
   "source": [
    "achiote$Municipio[achiote$Municipio == 'Ciudad'] <- 'Guatemala'\n",
    "achiote$Municipio[achiote$Municipio == 'Ciudad de Guatemala'] <- 'Guatemala'\n",
    "achiote$Municipio[achiote$Municipio == 'GUATEMALA'] <- 'Guatemala'\n",
    "achiote$Municipio[achiote$Municipio == 'guatemala'] <- 'Guatemala'\n",
    "achiote$Municipio[achiote$Municipio == 'Ciudad Guatemala'] <- 'Guatemala'\n",
    "achiote$Municipio[achiote$Municipio == 'En Asunción Mita Jutiapa'] <- 'Asunción Mita'\n",
    "achiote$Municipio[achiote$Municipio == 'Guatemala, Fraijanes'] <- 'Fraijanes'\n",
    "achiote$Municipio[achiote$Municipio == 'Sta Catarina Pinula'] <- 'Santa Catarina Pinula'\n",
    "achiote$Municipio[achiote$Municipio == 'Sta. Catarina Pinula'] <- 'Santa Catarina Pinula'\n",
    "achiote$Municipio[achiote$Municipio == 'Villa Canales'] <- 'Villa canales'\n",
    "achiote$Municipio[achiote$Municipio == 'Sacatepéquez'] <- 'San Lucas Sacatepéquez'\n",
    "achiote$Municipio <- droplevels(achiote$Municipio)\n",
    "info <- table(achiote$Municipio)\n",
    "xx <- barplot(info,main=\"Municipio\", col=color.ramp, cex.lab=2)\n",
    "info"
   ]
  },
  {
   "cell_type": "markdown",
   "metadata": {},
   "source": [
    "#### Edad"
   ]
  },
  {
   "cell_type": "code",
   "execution_count": 16,
   "metadata": {},
   "outputs": [
    {
     "data": {
      "text/plain": [
       "\n",
       "15-35 años 36-55 años 56-75 años \n",
       "        85          4         12 "
      ]
     },
     "metadata": {},
     "output_type": "display_data"
    },
    {
     "data": {
      "image/png": "[encoded data removed]",
      "text/plain": [
       "Plot with title \"Edad\""
      ]
     },
     "metadata": {
      "image/png": {
       "height": 420,
       "width": 420
      }
     },
     "output_type": "display_data"
    }
   ],
   "source": [
    "info <- table(achiote$Edad)\n",
    "xx <- barplot(info,main=\"Edad\", col=color.ramp, cex.lab=2)\n",
    "info"
   ]
  },
  {
   "cell_type": "markdown",
   "metadata": {},
   "source": [
    "#### Sexo"
   ]
  },
  {
   "cell_type": "code",
   "execution_count": 17,
   "metadata": {},
   "outputs": [
    {
     "data": {
      "text/plain": [
       "\n",
       " Femenino Masculino \n",
       "       61        40 "
      ]
     },
     "metadata": {},
     "output_type": "display_data"
    },
    {
     "data": {
      "image/png": "[encoded data removed]",
      "text/plain": [
       "Plot with title \"Sexo\""
      ]
     },
     "metadata": {
      "image/png": {
       "height": 420,
       "width": 420
      }
     },
     "output_type": "display_data"
    }
   ],
   "source": [
    "info <- table(achiote$Sexo)\n",
    "xx <- barplot(info,main=\"Sexo\", col=color.ramp, cex.lab=2)\n",
    "info"
   ]
  },
  {
   "cell_type": "markdown",
   "metadata": {},
   "source": [
    "#### ¿Ha utilizado usted alguna planta para tratar alguna enfermedad/afeccion?"
   ]
  },
  {
   "cell_type": "code",
   "execution_count": 18,
   "metadata": {},
   "outputs": [
    {
     "data": {
      "text/html": [
       "<style>\n",
       ".list-inline {list-style: none; margin:0; padding: 0}\n",
       ".list-inline>li {display: inline-block}\n",
       ".list-inline>li:not(:last-child)::after {content: \"\\00b7\"; padding: 0 .5ex}\n",
       "</style>\n",
       "<ol class=list-inline><li>''</li><li>'\"Mata ratón\", se cocina y con esa agua se da un baño para bajar la fiebre'</li><li>'Albahaca, manzanilla, eucalipto, tomillo, tilo'</li><li>'Apazote y hierbabuena para malestar estomacal'</li><li>'Azafrán para inhibir la degeneración macular'</li><li>'Cannabis ADHD'</li><li>'Coralillo (Hamelia patens) como lienzos para desinfectar heridas y como té desinflamatorio'</li><li>'Cúrcuma'</li><li>'Distintos tes de manzanilla hierba buena albahaca etc'</li><li>'El eucalipto para despejar las vías respiratorias a causa de la sinusitis.'</li><li><span style=white-space:pre-wrap>'Estudio medicina natural, algunas plantas que utilizo son Fenogreco,  Curcuma, Withania somnifera, entre muchas otras , regularmente encapsuladas, otras veces en infusion o cataplasma'</span></li><li>'Eucalipto = \"nebulizador\", hoja de limón (dolor de estómago y de garganta así como repelente de mosquitos), jengibre (dolor de garganta, irritación e inflamación), cúrcuma (blanqueamiento dental y desinflamante), etc.'</li><li>'Eucalipto para enfermedades respiratorias'</li><li>'Eucalipto, flema'</li><li>'Hoja de naranja para los nervios'</li><li>'Hojas de higo y jengibre para la tos'</li><li>'Hojas de mango para un resfriado'</li><li>'Infusión de jengibre'</li><li>'Infusiones de tilo, manzanilla, eucalipto'</li><li>'Jengibre, alo verá.'</li><li>'Jengibre, para la circulación y me ha servido mucho'</li><li>'La manzanilla'</li><li>'Las plantas para hacer té. Manzanilla, tila, pelo de maíz, cola de caballo, etcétera.'</li><li>'lienzos de apasote para la inflamación'</li><li>'Limón'</li><li>'Manzanilla'</li><li><span style=white-space:pre-wrap>'Manzanilla  pericon   te limon  gengibre'</span></li><li>'Manzanilla (infusión)'</li><li>'manzanilla, curcuma, gengibre , pericon, valeriana'</li><li>'Manzanilla, dolor estomacal.'</li><li>'Manzanilla, dolores estomacales'</li><li>'Manzanilla, el dolor. Jengibre la hinchazón. Ambos en infusión'</li><li>'Manzanilla, para reducir inflamaciones'</li><li>'Manzanilla, pericón, hierbabuena, menta'</li><li>'Manzanilla, pericón, jengibre entre otras'</li><li>'Manzanilla, pericón, tila, jengibre. Todas en té.'</li><li>'Mozqueta'</li><li>'No'</li><li>'Para el estómago y afecciones respiratorias ; manzanilla, jengibre, ajo, cúrcuma, hijo'</li><li>'Para una infección en la garganta, el ajo o el eucalipto.'</li><li><span style=white-space:pre-wrap>'Pericón - En té para cólicos menstruales, dolores estomacales y vómitos.  Achiote - Uso de las semillas para controlar la diabetes de un familiar. Ruda - colocando una ramita para en el oído para cuando duele, y en té para migrañas y cólicos..'</span></li><li>'Pericon en te para el dolor de estómago. Tomate para aliviar quemaduras.'</li><li>'Pericon para dolores estomacales. Aloe vera, para cicatrices. Palo de jiote, problemas de rodilla, etc'</li><li>'Ruda, manzanilla, canela, ajo para el dolor de estómago'</li><li>'Sabila'</li><li>'Sábila'</li><li>'Sábila, comerla cruda o en mermelada'</li><li>'Sábila, orégano, lavanda, calanchoe'</li><li>'Sábila, para desinflamar de diversas formas'</li><li>'Savila , para enfermedades gastricas'</li><li>'Te de gengibre con ajo para la gripe. Eucalipto como aroma terapia, té de pericon para el dolor de estómago y cólicos menstruales.'</li><li>'Te de hoja de limón, miel para la tos aloe para cicatrización'</li><li>'Te de limón para la gripe'</li><li>'Te de limón, ruda, albahaca, jenjibre'</li><li>'te de manzanilla y pericon'</li><li>'Té de manzano'</li><li>'Té de tilo u otras plantas'</li><li>'Te verde - dolor abdominal y Ixbut - para lactancia'</li><li>'Tilo y pasiflora en té para el insomnio y ansiedad. CBD para lo mismo'</li><li>'Tilo, dolor de estómago'</li><li>'Tomillo, para realizar una infusión que ayuda con la tos'</li></ol>\n"
      ],
      "text/latex": [
       "\\begin{enumerate*}\n",
       "\\item ''\n",
       "\\item '\"Mata ratón\", se cocina y con esa agua se da un baño para bajar la fiebre'\n",
       "\\item 'Albahaca, manzanilla, eucalipto, tomillo, tilo'\n",
       "\\item 'Apazote y hierbabuena para malestar estomacal'\n",
       "\\item 'Azafrán para inhibir la degeneración macular'\n",
       "\\item 'Cannabis ADHD'\n",
       "\\item 'Coralillo (Hamelia patens) como lienzos para desinfectar heridas y como té desinflamatorio'\n",
       "\\item 'Cúrcuma'\n",
       "\\item 'Distintos tes de manzanilla hierba buena albahaca etc'\n",
       "\\item 'El eucalipto para despejar las vías respiratorias a causa de la sinusitis.'\n",
       "\\item 'Estudio medicina natural, algunas plantas que utilizo son Fenogreco,  Curcuma, Withania somnifera, entre muchas otras , regularmente encapsuladas, otras veces en infusion o cataplasma'\n",
       "\\item 'Eucalipto = \"nebulizador\", hoja de limón (dolor de estómago y de garganta así como repelente de mosquitos), jengibre (dolor de garganta, irritación e inflamación), cúrcuma (blanqueamiento dental y desinflamante), etc.'\n",
       "\\item 'Eucalipto para enfermedades respiratorias'\n",
       "\\item 'Eucalipto, flema'\n",
       "\\item 'Hoja de naranja para los nervios'\n",
       "\\item 'Hojas de higo y jengibre para la tos'\n",
       "\\item 'Hojas de mango para un resfriado'\n",
       "\\item 'Infusión de jengibre'\n",
       "\\item 'Infusiones de tilo, manzanilla, eucalipto'\n",
       "\\item 'Jengibre, alo verá.'\n",
       "\\item 'Jengibre, para la circulación y me ha servido mucho'\n",
       "\\item 'La manzanilla'\n",
       "\\item 'Las plantas para hacer té. Manzanilla, tila, pelo de maíz, cola de caballo, etcétera.'\n",
       "\\item 'lienzos de apasote para la inflamación'\n",
       "\\item 'Limón'\n",
       "\\item 'Manzanilla'\n",
       "\\item 'Manzanilla  pericon   te limon  gengibre'\n",
       "\\item 'Manzanilla (infusión)'\n",
       "\\item 'manzanilla, curcuma, gengibre , pericon, valeriana'\n",
       "\\item 'Manzanilla, dolor estomacal.'\n",
       "\\item 'Manzanilla, dolores estomacales'\n",
       "\\item 'Manzanilla, el dolor. Jengibre la hinchazón. Ambos en infusión'\n",
       "\\item 'Manzanilla, para reducir inflamaciones'\n",
       "\\item 'Manzanilla, pericón, hierbabuena, menta'\n",
       "\\item 'Manzanilla, pericón, jengibre entre otras'\n",
       "\\item 'Manzanilla, pericón, tila, jengibre. Todas en té.'\n",
       "\\item 'Mozqueta'\n",
       "\\item 'No'\n",
       "\\item 'Para el estómago y afecciones respiratorias ; manzanilla, jengibre, ajo, cúrcuma, hijo'\n",
       "\\item 'Para una infección en la garganta, el ajo o el eucalipto.'\n",
       "\\item 'Pericón - En té para cólicos menstruales, dolores estomacales y vómitos.  Achiote - Uso de las semillas para controlar la diabetes de un familiar. Ruda - colocando una ramita para en el oído para cuando duele, y en té para migrañas y cólicos..'\n",
       "\\item 'Pericon en te para el dolor de estómago. Tomate para aliviar quemaduras.'\n",
       "\\item 'Pericon para dolores estomacales. Aloe vera, para cicatrices. Palo de jiote, problemas de rodilla, etc'\n",
       "\\item 'Ruda, manzanilla, canela, ajo para el dolor de estómago'\n",
       "\\item 'Sabila'\n",
       "\\item 'Sábila'\n",
       "\\item 'Sábila, comerla cruda o en mermelada'\n",
       "\\item 'Sábila, orégano, lavanda, calanchoe'\n",
       "\\item 'Sábila, para desinflamar de diversas formas'\n",
       "\\item 'Savila , para enfermedades gastricas'\n",
       "\\item 'Te de gengibre con ajo para la gripe. Eucalipto como aroma terapia, té de pericon para el dolor de estómago y cólicos menstruales.'\n",
       "\\item 'Te de hoja de limón, miel para la tos aloe para cicatrización'\n",
       "\\item 'Te de limón para la gripe'\n",
       "\\item 'Te de limón, ruda, albahaca, jenjibre'\n",
       "\\item 'te de manzanilla y pericon'\n",
       "\\item 'Té de manzano'\n",
       "\\item 'Té de tilo u otras plantas'\n",
       "\\item 'Te verde - dolor abdominal y Ixbut - para lactancia'\n",
       "\\item 'Tilo y pasiflora en té para el insomnio y ansiedad. CBD para lo mismo'\n",
       "\\item 'Tilo, dolor de estómago'\n",
       "\\item 'Tomillo, para realizar una infusión que ayuda con la tos'\n",
       "\\end{enumerate*}\n"
      ],
      "text/markdown": [
       "1. ''\n",
       "2. '\"Mata ratón\", se cocina y con esa agua se da un baño para bajar la fiebre'\n",
       "3. 'Albahaca, manzanilla, eucalipto, tomillo, tilo'\n",
       "4. 'Apazote y hierbabuena para malestar estomacal'\n",
       "5. 'Azafrán para inhibir la degeneración macular'\n",
       "6. 'Cannabis ADHD'\n",
       "7. 'Coralillo (Hamelia patens) como lienzos para desinfectar heridas y como té desinflamatorio'\n",
       "8. 'Cúrcuma'\n",
       "9. 'Distintos tes de manzanilla hierba buena albahaca etc'\n",
       "10. 'El eucalipto para despejar las vías respiratorias a causa de la sinusitis.'\n",
       "11. <span style=white-space:pre-wrap>'Estudio medicina natural, algunas plantas que utilizo son Fenogreco,  Curcuma, Withania somnifera, entre muchas otras , regularmente encapsuladas, otras veces en infusion o cataplasma'</span>\n",
       "12. 'Eucalipto = \"nebulizador\", hoja de limón (dolor de estómago y de garganta así como repelente de mosquitos), jengibre (dolor de garganta, irritación e inflamación), cúrcuma (blanqueamiento dental y desinflamante), etc.'\n",
       "13. 'Eucalipto para enfermedades respiratorias'\n",
       "14. 'Eucalipto, flema'\n",
       "15. 'Hoja de naranja para los nervios'\n",
       "16. 'Hojas de higo y jengibre para la tos'\n",
       "17. 'Hojas de mango para un resfriado'\n",
       "18. 'Infusión de jengibre'\n",
       "19. 'Infusiones de tilo, manzanilla, eucalipto'\n",
       "20. 'Jengibre, alo verá.'\n",
       "21. 'Jengibre, para la circulación y me ha servido mucho'\n",
       "22. 'La manzanilla'\n",
       "23. 'Las plantas para hacer té. Manzanilla, tila, pelo de maíz, cola de caballo, etcétera.'\n",
       "24. 'lienzos de apasote para la inflamación'\n",
       "25. 'Limón'\n",
       "26. 'Manzanilla'\n",
       "27. <span style=white-space:pre-wrap>'Manzanilla  pericon   te limon  gengibre'</span>\n",
       "28. 'Manzanilla (infusión)'\n",
       "29. 'manzanilla, curcuma, gengibre , pericon, valeriana'\n",
       "30. 'Manzanilla, dolor estomacal.'\n",
       "31. 'Manzanilla, dolores estomacales'\n",
       "32. 'Manzanilla, el dolor. Jengibre la hinchazón. Ambos en infusión'\n",
       "33. 'Manzanilla, para reducir inflamaciones'\n",
       "34. 'Manzanilla, pericón, hierbabuena, menta'\n",
       "35. 'Manzanilla, pericón, jengibre entre otras'\n",
       "36. 'Manzanilla, pericón, tila, jengibre. Todas en té.'\n",
       "37. 'Mozqueta'\n",
       "38. 'No'\n",
       "39. 'Para el estómago y afecciones respiratorias ; manzanilla, jengibre, ajo, cúrcuma, hijo'\n",
       "40. 'Para una infección en la garganta, el ajo o el eucalipto.'\n",
       "41. <span style=white-space:pre-wrap>'Pericón - En té para cólicos menstruales, dolores estomacales y vómitos.  Achiote - Uso de las semillas para controlar la diabetes de un familiar. Ruda - colocando una ramita para en el oído para cuando duele, y en té para migrañas y cólicos..'</span>\n",
       "42. 'Pericon en te para el dolor de estómago. Tomate para aliviar quemaduras.'\n",
       "43. 'Pericon para dolores estomacales. Aloe vera, para cicatrices. Palo de jiote, problemas de rodilla, etc'\n",
       "44. 'Ruda, manzanilla, canela, ajo para el dolor de estómago'\n",
       "45. 'Sabila'\n",
       "46. 'Sábila'\n",
       "47. 'Sábila, comerla cruda o en mermelada'\n",
       "48. 'Sábila, orégano, lavanda, calanchoe'\n",
       "49. 'Sábila, para desinflamar de diversas formas'\n",
       "50. 'Savila , para enfermedades gastricas'\n",
       "51. 'Te de gengibre con ajo para la gripe. Eucalipto como aroma terapia, té de pericon para el dolor de estómago y cólicos menstruales.'\n",
       "52. 'Te de hoja de limón, miel para la tos aloe para cicatrización'\n",
       "53. 'Te de limón para la gripe'\n",
       "54. 'Te de limón, ruda, albahaca, jenjibre'\n",
       "55. 'te de manzanilla y pericon'\n",
       "56. 'Té de manzano'\n",
       "57. 'Té de tilo u otras plantas'\n",
       "58. 'Te verde - dolor abdominal y Ixbut - para lactancia'\n",
       "59. 'Tilo y pasiflora en té para el insomnio y ansiedad. CBD para lo mismo'\n",
       "60. 'Tilo, dolor de estómago'\n",
       "61. 'Tomillo, para realizar una infusión que ayuda con la tos'\n",
       "\n",
       "\n"
      ],
      "text/plain": [
       " [1] \"\"                                                                                                                                                                                                                                                   \n",
       " [2] \"\\\"Mata ratón\\\", se cocina y con esa agua se da un baño para bajar la fiebre\"                                                                                                                                                                        \n",
       " [3] \"Albahaca, manzanilla, eucalipto, tomillo, tilo\"                                                                                                                                                                                                     \n",
       " [4] \"Apazote y hierbabuena para malestar estomacal\"                                                                                                                                                                                                      \n",
       " [5] \"Azafrán para inhibir la degeneración macular\"                                                                                                                                                                                                       \n",
       " [6] \"Cannabis ADHD\"                                                                                                                                                                                                                                      \n",
       " [7] \"Coralillo (Hamelia patens) como lienzos para desinfectar heridas y como té desinflamatorio\"                                                                                                                                                         \n",
       " [8] \"Cúrcuma\"                                                                                                                                                                                                                                            \n",
       " [9] \"Distintos tes de manzanilla hierba buena albahaca etc\"                                                                                                                                                                                              \n",
       "[10] \"El eucalipto para despejar las vías respiratorias a causa de la sinusitis.\"                                                                                                                                                                         \n",
       "[11] \"Estudio medicina natural, algunas plantas que utilizo son Fenogreco,  Curcuma, Withania somnifera, entre muchas otras , regularmente encapsuladas, otras veces en infusion o cataplasma\"                                                            \n",
       "[12] \"Eucalipto = \\\"nebulizador\\\", hoja de limón (dolor de estómago y de garganta así como repelente de mosquitos), jengibre (dolor de garganta, irritación e inflamación), cúrcuma (blanqueamiento dental y desinflamante), etc.\"                        \n",
       "[13] \"Eucalipto para enfermedades respiratorias\"                                                                                                                                                                                                          \n",
       "[14] \"Eucalipto, flema\"                                                                                                                                                                                                                                   \n",
       "[15] \"Hoja de naranja para los nervios\"                                                                                                                                                                                                                   \n",
       "[16] \"Hojas de higo y jengibre para la tos\"                                                                                                                                                                                                               \n",
       "[17] \"Hojas de mango para un resfriado\"                                                                                                                                                                                                                   \n",
       "[18] \"Infusión de jengibre\"                                                                                                                                                                                                                               \n",
       "[19] \"Infusiones de tilo, manzanilla, eucalipto\"                                                                                                                                                                                                          \n",
       "[20] \"Jengibre, alo verá.\"                                                                                                                                                                                                                                \n",
       "[21] \"Jengibre, para la circulación y me ha servido mucho\"                                                                                                                                                                                                \n",
       "[22] \"La manzanilla\"                                                                                                                                                                                                                                      \n",
       "[23] \"Las plantas para hacer té. Manzanilla, tila, pelo de maíz, cola de caballo, etcétera.\"                                                                                                                                                              \n",
       "[24] \"lienzos de apasote para la inflamación\"                                                                                                                                                                                                             \n",
       "[25] \"Limón\"                                                                                                                                                                                                                                              \n",
       "[26] \"Manzanilla\"                                                                                                                                                                                                                                         \n",
       "[27] \"Manzanilla  pericon   te limon  gengibre\"                                                                                                                                                                                                           \n",
       "[28] \"Manzanilla (infusión)\"                                                                                                                                                                                                                              \n",
       "[29] \"manzanilla, curcuma, gengibre , pericon, valeriana\"                                                                                                                                                                                                 \n",
       "[30] \"Manzanilla, dolor estomacal.\"                                                                                                                                                                                                                       \n",
       "[31] \"Manzanilla, dolores estomacales\"                                                                                                                                                                                                                    \n",
       "[32] \"Manzanilla, el dolor. Jengibre la hinchazón. Ambos en infusión\"                                                                                                                                                                                     \n",
       "[33] \"Manzanilla, para reducir inflamaciones\"                                                                                                                                                                                                             \n",
       "[34] \"Manzanilla, pericón, hierbabuena, menta\"                                                                                                                                                                                                            \n",
       "[35] \"Manzanilla, pericón, jengibre entre otras\"                                                                                                                                                                                                          \n",
       "[36] \"Manzanilla, pericón, tila, jengibre. Todas en té.\"                                                                                                                                                                                                  \n",
       "[37] \"Mozqueta\"                                                                                                                                                                                                                                           \n",
       "[38] \"No\"                                                                                                                                                                                                                                                 \n",
       "[39] \"Para el estómago y afecciones respiratorias ; manzanilla, jengibre, ajo, cúrcuma, hijo\"                                                                                                                                                             \n",
       "[40] \"Para una infección en la garganta, el ajo o el eucalipto.\"                                                                                                                                                                                          \n",
       "[41] \"Pericón - En té para cólicos menstruales, dolores estomacales y vómitos.  Achiote - Uso de las semillas para controlar la diabetes de un familiar. Ruda - colocando una ramita para en el oído para cuando duele, y en té para migrañas y cólicos..\"\n",
       "[42] \"Pericon en te para el dolor de estómago. Tomate para aliviar quemaduras.\"                                                                                                                                                                           \n",
       "[43] \"Pericon para dolores estomacales. Aloe vera, para cicatrices. Palo de jiote, problemas de rodilla, etc\"                                                                                                                                             \n",
       "[44] \"Ruda, manzanilla, canela, ajo para el dolor de estómago\"                                                                                                                                                                                            \n",
       "[45] \"Sabila\"                                                                                                                                                                                                                                             \n",
       "[46] \"Sábila\"                                                                                                                                                                                                                                             \n",
       "[47] \"Sábila, comerla cruda o en mermelada\"                                                                                                                                                                                                               \n",
       "[48] \"Sábila, orégano, lavanda, calanchoe\"                                                                                                                                                                                                                \n",
       "[49] \"Sábila, para desinflamar de diversas formas\"                                                                                                                                                                                                        \n",
       "[50] \"Savila , para enfermedades gastricas\"                                                                                                                                                                                                               \n",
       "[51] \"Te de gengibre con ajo para la gripe. Eucalipto como aroma terapia, té de pericon para el dolor de estómago y cólicos menstruales.\"                                                                                                                 \n",
       "[52] \"Te de hoja de limón, miel para la tos aloe para cicatrización\"                                                                                                                                                                                      \n",
       "[53] \"Te de limón para la gripe\"                                                                                                                                                                                                                          \n",
       "[54] \"Te de limón, ruda, albahaca, jenjibre\"                                                                                                                                                                                                              \n",
       "[55] \"te de manzanilla y pericon\"                                                                                                                                                                                                                         \n",
       "[56] \"Té de manzano\"                                                                                                                                                                                                                                      \n",
       "[57] \"Té de tilo u otras plantas\"                                                                                                                                                                                                                         \n",
       "[58] \"Te verde - dolor abdominal y Ixbut - para lactancia\"                                                                                                                                                                                                \n",
       "[59] \"Tilo y pasiflora en té para el insomnio y ansiedad. CBD para lo mismo\"                                                                                                                                                                              \n",
       "[60] \"Tilo, dolor de estómago\"                                                                                                                                                                                                                            \n",
       "[61] \"Tomillo, para realizar una infusión que ayuda con la tos\"                                                                                                                                                                                           "
      ]
     },
     "metadata": {},
     "output_type": "display_data"
    }
   ],
   "source": [
    "levels(achiote$Q1)"
   ]
  },
  {
   "cell_type": "code",
   "execution_count": 31,
   "metadata": {},
   "outputs": [
    {
     "data": {
      "image/png": "[encoded data removed]",
      "text/plain": [
       "plot without title"
      ]
     },
     "metadata": {
      "image/png": {
       "height": 420,
       "width": 420
      }
     },
     "output_type": "display_data"
    }
   ],
   "source": [
    "#Más mencionados\n",
    "manza <- grep(\"manzanilla\", achiote$Q1, value = TRUE, ignore.case = TRUE)\n",
    "peri <- grep(\"pericon\", achiote$Q1, value = TRUE, ignore.case = TRUE)\n",
    "sabi <- grep(\"sábila\", achiote$Q1, value = TRUE, ignore.case = TRUE)\n",
    "sabi <- c(sabi, grep(\"sabila\", achiote$Q1, value = TRUE, ignore.case = TRUE))\n",
    "verde <- grep(\"verde\", achiote$Q1, value = TRUE, ignore.case = TRUE)\n",
    "limon <- grep(\"limon\", achiote$Q1, value = TRUE, ignore.case = TRUE)\n",
    "limon <- c(limon,grep(\"limón\", achiote$Q1, value = TRUE, ignore.case = TRUE))\n",
    "hierbabuena <- grep(\"hierbabuena\", achiote$Q1, value = TRUE, ignore.case = TRUE)\n",
    "jengibre <- grep(\"jengibre\", achiote$Q1, value = TRUE, ignore.case = TRUE)\n",
    "curcuma <- grep(\"curcuma\", achiote$Q1, value = TRUE, ignore.case = TRUE)\n",
    "curcuma <- c(curcuma, grep(\"cúrcuma\", achiote$Q1, value = TRUE, ignore.case = TRUE))\n",
    "eucalipto <- grep(\"eucalipto\", achiote$Q1, value = TRUE, ignore.case = TRUE)\n",
    "\n",
    "barplot(c(length(manza), length(peri), length(sabi), length(verde), length(limon), length(hierbabuena), length(jengibre), length(curcuma), length(eucalipto)),\n",
    "       col = color.ramp,\n",
    "       names=c(\"manzanilla\",\"pericón\",\"sábila\",\"te verde\",\"te limón\",\"hierbabuena\",\"jengibre\",\"curcuma\",\"eucalipto\"))"
   ]
  },
  {
   "cell_type": "markdown",
   "metadata": {},
   "source": [
    "#### tiempos de finalización de la encuesta"
   ]
  },
  {
   "cell_type": "code",
   "execution_count": null,
   "metadata": {},
   "outputs": [],
   "source": [
    "#encuesta más rápida\n",
    "min(achiote$tiempo_terminar)\n",
    "\n",
    "#promedio tiempo de finalización\n",
    "mean(achiote$tiempo_terminar)\n",
    "\n",
    "#Encuesta más tardada\n",
    "max(achiote$tiempo_terminar)"
   ]
  }
 ],
 "metadata": {
  "kernelspec": {
   "display_name": "R",
   "language": "R",
   "name": "ir"
  },
  "language_info": {
   "codemirror_mode": "r",
   "file_extension": ".r",
   "mimetype": "text/x-r-source",
   "name": "R",
   "pygments_lexer": "r",
   "version": "4.0.2"
  }
 },
 "nbformat": 4,
 "nbformat_minor": 4
}
