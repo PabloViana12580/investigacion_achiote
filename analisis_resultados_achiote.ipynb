{
 "cells": [
  {
   "cell_type": "markdown",
   "metadata": {},
   "source": [
    "# Analisis de resultados encuesta conocimiento y actitudes ante el uso del achiote"
   ]
  },
  {
   "cell_type": "markdown",
   "metadata": {},
   "source": [
    "#### Cargamos librerias a utilizar"
   ]
  },
  {
   "cell_type": "code",
   "execution_count": 76,
   "metadata": {},
   "outputs": [],
   "source": [
    "library(\"dplyr\")\n",
    "library(\"tidytext\")\n",
    "library(\"tm\")\n",
    "library(\"ggplot2\")\n",
    "library(\"stringr\")\n",
    "library(\"corrplot\")\n",
    "library(\"cluster\")"
   ]
  },
  {
   "cell_type": "markdown",
   "metadata": {},
   "source": [
    "#### Leemos los archivo Csv"
   ]
  },
  {
   "cell_type": "code",
   "execution_count": 2,
   "metadata": {},
   "outputs": [],
   "source": [
    "achiote1 <- read.csv(\"first_chunk.csv\", header = FALSE)\n",
    "achiote2 <- read.csv(\"second_chunk.csv\", header = FALSE)"
   ]
  },
  {
   "cell_type": "markdown",
   "metadata": {},
   "source": [
    "### Hacemos limpieza para preparar los datos"
   ]
  },
  {
   "cell_type": "markdown",
   "metadata": {},
   "source": [
    "#### Borramos columnas innecesarias"
   ]
  },
  {
   "cell_type": "code",
   "execution_count": 3,
   "metadata": {},
   "outputs": [],
   "source": [
    "a1_clean <- achiote1[c(-1, -2),-c(1,68)]\n",
    "a2_clean <- achiote2[c(-1, -2),-c(1,68)]"
   ]
  },
  {
   "cell_type": "markdown",
   "metadata": {},
   "source": [
    "#### Debido a las preguntas con múltiples respuestas, debemos combinar las columnas pertinentes"
   ]
  },
  {
   "cell_type": "code",
   "execution_count": 4,
   "metadata": {},
   "outputs": [],
   "source": [
    "a1_clean$V18 <- paste(a1_clean$V18, a1_clean$V19, a1_clean$V20, a1_clean$V21, a1_clean$V22, a1_clean$V23, sep = \" \")\n",
    "a1_clean$V24 <- paste(a1_clean$V24, a1_clean$V25, a1_clean$V26, a1_clean$V27, a1_clean$V28, a1_clean$V29, a1_clean$V30, a1_clean$V31, a1_clean$V32, a1_clean$V33, a1_clean$V34, sep = \" \")\n",
    "a1_clean$V36 <- paste(a1_clean$V36, a1_clean$V37, a1_clean$V38, a1_clean$V39, a1_clean$V40, a1_clean$V41, a1_clean$V42, sep = \" \")\n",
    "a1_clean$V47 <- paste(a1_clean$V47, a1_clean$V48, a1_clean$V49, a1_clean$V50, a1_clean$V51, a1_clean$V52, a1_clean$V53, a1_clean$V54, a1_clean$V55, sep = \" \")\n",
    "a1_clean$V58 <- paste(a1_clean$V58, a1_clean$V59, a1_clean$V60, a1_clean$V61, a1_clean$V62, a1_clean$V63, a1_clean$V64, a1_clean$V65, sep = \" \")\n",
    "\n",
    "a2_clean$V18 <- paste(a2_clean$V18, a2_clean$V19, a2_clean$V20, a2_clean$V21, a2_clean$V22, a2_clean$V23, sep = \" \")\n",
    "a2_clean$V24 <- paste(a2_clean$V24, a2_clean$V25, a2_clean$V26, a2_clean$V27, a2_clean$V28, a2_clean$V29, a2_clean$V30, a2_clean$V31, a2_clean$V32, a2_clean$V33, a2_clean$V34, sep = \" \")\n",
    "a2_clean$V36 <- paste(a2_clean$V36, a2_clean$V37, a2_clean$V38, a2_clean$V39, a2_clean$V40, a2_clean$V41, a2_clean$V42, sep = \" \")\n",
    "a2_clean$V47 <- paste(a2_clean$V47, a2_clean$V48, a2_clean$V49, a2_clean$V50, a2_clean$V51, a2_clean$V52, a2_clean$V53, a2_clean$V54, a2_clean$V55, sep = \" \")\n",
    "a2_clean$V58 <- paste(a2_clean$V58, a2_clean$V59, a2_clean$V60, a2_clean$V61, a2_clean$V62, a2_clean$V63, a2_clean$V64, a2_clean$V65, sep = \" \")"
   ]
  },
  {
   "cell_type": "markdown",
   "metadata": {},
   "source": [
    "#### Eliminamos columnas repetidas"
   ]
  },
  {
   "cell_type": "code",
   "execution_count": 5,
   "metadata": {},
   "outputs": [],
   "source": [
    "a1_clean <- subset(a1_clean, select=-c(V19,V20,V21,V22,V23,V25,V26,V27,V28,V29,V30,V31,V32,V33,V34,V37,V38,V39,V40,V41,V42,V48,V49,V50,V51,V52,V53,V54,V55,V59,V60,V61,V62,V63,V64,V65))\n",
    "a2_clean <- subset(a2_clean, select=-c(V19,V20,V21,V22,V23,V25,V26,V27,V28,V29,V30,V31,V32,V33,V34,V37,V38,V39,V40,V41,V42,V48,V49,V50,V51,V52,V53,V54,V55,V59,V60,V61,V62,V63,V64,V65))\n"
   ]
  },
  {
   "cell_type": "markdown",
   "metadata": {},
   "source": [
    "#### Cambiamos titulos de los data sets"
   ]
  },
  {
   "cell_type": "code",
   "execution_count": 6,
   "metadata": {},
   "outputs": [],
   "source": [
    "colnames(a1_clean) <- c(\"Id\",\n",
    "                        \"Ip\",\n",
    "                        \"Acceso\",\n",
    "                        \"Fecha_inicio\",\n",
    "                        \"Fecha_finalizacion\",\n",
    "                        \"Procedencia\",\n",
    "                        \"Municipio\",\n",
    "                        \"Edad\",\n",
    "                        \"Sexo\",\n",
    "                        \"Q1\",\n",
    "                        \"Q2\",\n",
    "                        \"Q3\",\n",
    "                        \"Q4\",\n",
    "                        \"Justificacion_1\",\n",
    "                        \"He leido\",\n",
    "                        \"Q5\",\n",
    "                        \"Q6\",\n",
    "                        \"Q7\",\n",
    "                        \"Q8\",\n",
    "                        \"Q9\",\n",
    "                        \"Q10\",\n",
    "                        \"Q11\",\n",
    "                        \"Q12\",\n",
    "                        \"Q13\",\n",
    "                        \"Q14\",\n",
    "                        \"Q15\",\n",
    "                        \"Justificacion_2\",\n",
    "                        \"Q16\",\n",
    "                        \"Q17\",\n",
    "                        \"Justificacion_3\")\n",
    "colnames(a2_clean) <- c(\"Id\",\n",
    "                        \"Ip\",\n",
    "                        \"Acceso\",\n",
    "                        \"Fecha_inicio\",\n",
    "                        \"Fecha_finalizacion\",\n",
    "                        \"Procedencia\",\n",
    "                        \"Municipio\",\n",
    "                        \"Edad\",\n",
    "                        \"Sexo\",\n",
    "                        \"Q1\",\n",
    "                        \"Q2\",\n",
    "                        \"Q3\",\n",
    "                        \"Q4\",\n",
    "                        \"Justificacion_1\",\n",
    "                        \"He leido\",\n",
    "                        \"Q5\",\n",
    "                        \"Q6\",\n",
    "                        \"Q7\",\n",
    "                        \"Q8\",\n",
    "                        \"Q9\",\n",
    "                        \"Q10\",\n",
    "                        \"Q11\",\n",
    "                        \"Q12\",\n",
    "                        \"Q13\",\n",
    "                        \"Q14\",\n",
    "                        \"Q15\",\n",
    "                        \"Justificacion_2\",\n",
    "                        \"Q16\",\n",
    "                        \"Q17\",\n",
    "                        \"Justificacion_3\")"
   ]
  },
  {
   "cell_type": "markdown",
   "metadata": {},
   "source": [
    "#### Unimos nuestros datasets separados en uno solo"
   ]
  },
  {
   "cell_type": "code",
   "execution_count": 7,
   "metadata": {},
   "outputs": [],
   "source": [
    "achiote <- rbind(a1_clean, a2_clean)"
   ]
  },
  {
   "cell_type": "markdown",
   "metadata": {},
   "source": [
    "### Procedemos a eliminar caracteres bizarros de los textos de la encuesta"
   ]
  },
  {
   "cell_type": "markdown",
   "metadata": {},
   "source": [
    "#### Seteamos el encoding a UTF-8 para aceptar tildes y demás caracteres"
   ]
  },
  {
   "cell_type": "code",
   "execution_count": 8,
   "metadata": {},
   "outputs": [],
   "source": [
    "Encoding(achiote$Edad) <- \"UTF-8\"\n",
    "Encoding(achiote$Municipio) <- \"UTF-8\"\n",
    "Encoding(achiote$Q1) <- \"UTF-8\"\n",
    "Encoding(achiote$Q6) <- \"UTF-8\"\n",
    "Encoding(achiote$Q7) <- \"UTF-8\"\n",
    "Encoding(achiote$Q11) <- \"UTF-8\"\n",
    "Encoding(achiote$Q12) <- \"UTF-8\"\n",
    "Encoding(achiote$Q13) <- \"UTF-8\"\n",
    "Encoding(achiote$Q14) <- \"UTF-8\"\n",
    "Encoding(achiote$Q16) <- \"UTF-8\"\n",
    "Encoding(achiote$Justificacion_1) <- \"UTF-8\"\n",
    "Encoding(achiote$Justificacion_2) <- \"UTF-8\"\n",
    "Encoding(achiote$Justificacion_3) <- \"UTF-8\""
   ]
  },
  {
   "cell_type": "markdown",
   "metadata": {},
   "source": [
    "#### Eliminamos palabras que hacen ruido"
   ]
  },
  {
   "cell_type": "code",
   "execution_count": 9,
   "metadata": {},
   "outputs": [],
   "source": [
    "achiote$Q1 <- gsub(\"Si, ¿cuál? ¿cómo?:\", \"\", achiote$Q1, fixed=TRUE)\n",
    "achiote$Q5 <- gsub(\"Si, especifique:\", \"\", achiote$Q5, fixed=TRUE)\n",
    "achiote$Q7 <- gsub(\"Otro::\", \"\", achiote$Q7, fixed=TRUE)\n",
    "achiote$Q12 <- gsub(\"Conozco otra/otras, ¿cuál/cuáles?:\", \"\", achiote$Q12, fixed=TRUE)\n",
    "achiote$Q13 <- gsub(\"Si, ¿cuál? ¿cómo?:\", \"\", achiote$Q13, fixed=TRUE)"
   ]
  },
  {
   "cell_type": "markdown",
   "metadata": {},
   "source": [
    "### Revisamos el producto final de la limpieza"
   ]
  },
  {
   "cell_type": "code",
   "execution_count": 10,
   "metadata": {},
   "outputs": [
    {
     "data": {
      "text/html": [
       "<table>\n",
       "<caption>A data.frame: 6 × 30</caption>\n",
       "<thead>\n",
       "\t<tr><th></th><th scope=col>Id</th><th scope=col>Ip</th><th scope=col>Acceso</th><th scope=col>Fecha_inicio</th><th scope=col>Fecha_finalizacion</th><th scope=col>Procedencia</th><th scope=col>Municipio</th><th scope=col>Edad</th><th scope=col>Sexo</th><th scope=col>Q1</th><th scope=col>...</th><th scope=col>Q10</th><th scope=col>Q11</th><th scope=col>Q12</th><th scope=col>Q13</th><th scope=col>Q14</th><th scope=col>Q15</th><th scope=col>Justificacion_2</th><th scope=col>Q16</th><th scope=col>Q17</th><th scope=col>Justificacion_3</th></tr>\n",
       "\t<tr><th></th><th scope=col>&lt;chr&gt;</th><th scope=col>&lt;chr&gt;</th><th scope=col>&lt;chr&gt;</th><th scope=col>&lt;chr&gt;</th><th scope=col>&lt;chr&gt;</th><th scope=col>&lt;chr&gt;</th><th scope=col>&lt;chr&gt;</th><th scope=col>&lt;chr&gt;</th><th scope=col>&lt;chr&gt;</th><th scope=col>&lt;chr&gt;</th><th scope=col>...</th><th scope=col>&lt;chr&gt;</th><th scope=col>&lt;chr&gt;</th><th scope=col>&lt;chr&gt;</th><th scope=col>&lt;chr&gt;</th><th scope=col>&lt;chr&gt;</th><th scope=col>&lt;chr&gt;</th><th scope=col>&lt;chr&gt;</th><th scope=col>&lt;chr&gt;</th><th scope=col>&lt;chr&gt;</th><th scope=col>&lt;chr&gt;</th></tr>\n",
       "</thead>\n",
       "<tbody>\n",
       "\t<tr><th scope=row>3</th><td>1</td><td>190.148.209.77 </td><td>Public Access</td><td>9/18/2020 11:01</td><td>9/18/2020 11:05</td><td>Casco urbano</td><td>Guatemala          </td><td>15-35 años</td><td>Masculino</td><td>Manzanilla (infusión)</td><td>...</td><td>Si</td><td>Raíz    </td><td>Remolacha</td><td>No     </td><td>Infusión o té   Machacada En jugo    </td><td>4</td><td>Sé que tiene propiedades curativas importantes</td><td>Aplicación local  Aplicación en baños Aplicación nasal   En cápsulas </td><td>5</td><td>Tiene muchas propiedades</td></tr>\n",
       "\t<tr><th scope=row>4</th><td>2</td><td>190.106.204.56 </td><td>Public Access</td><td>9/18/2020 11:22</td><td>9/18/2020 11:25</td><td>Casco urbano</td><td>Villa Canales      </td><td>15-35 años</td><td>Masculino</td><td>No                   </td><td>...</td><td>No</td><td>Semillas</td><td>Remolacha</td><td>Azafrán</td><td>      Molida                         </td><td>5</td><td>No lo he utilizado                            </td><td>     En infusión                                                     </td><td>1</td><td>No lo he utilizado      </td></tr>\n",
       "\t<tr><th scope=row>5</th><td>3</td><td>190.148.44.40  </td><td>Public Access</td><td>9/18/2020 11:27</td><td>9/18/2020 11:28</td><td>Casco urbano</td><td>Guatemala          </td><td>15-35 años</td><td>Masculino</td><td>No                   </td><td>...</td><td>  </td><td>        </td><td>         </td><td>       </td><td>                                     </td><td> </td><td>                                              </td><td>                                                                     </td><td> </td><td>                        </td></tr>\n",
       "\t<tr><th scope=row>6</th><td>4</td><td>181.209.150.186</td><td>Public Access</td><td>9/18/2020 11:27</td><td>9/18/2020 11:28</td><td>Casco urbano</td><td>Guatemala          </td><td>15-35 años</td><td>Femenino </td><td>No                   </td><td>...</td><td>  </td><td>        </td><td>         </td><td>       </td><td>                                     </td><td> </td><td>                                              </td><td>                                                                     </td><td> </td><td>                        </td></tr>\n",
       "\t<tr><th scope=row>7</th><td>5</td><td>190.56.74.149  </td><td>Public Access</td><td>9/18/2020 11:33</td><td>9/18/2020 11:38</td><td>Casco urbano</td><td>Guatemala          </td><td>15-35 años</td><td>Masculino</td><td>No                   </td><td>...</td><td>  </td><td>        </td><td>         </td><td>       </td><td>                                     </td><td> </td><td>                                              </td><td>                                                                     </td><td> </td><td>                        </td></tr>\n",
       "\t<tr><th scope=row>8</th><td>6</td><td>190.106.221.104</td><td>Public Access</td><td>9/18/2020 11:16</td><td>9/18/2020 11:41</td><td>Casco urbano</td><td>Ciudad de Guatemala</td><td>15-35 años</td><td>Masculino</td><td>Té de manzano        </td><td>...</td><td>  </td><td>        </td><td>         </td><td>       </td><td>                                     </td><td> </td><td>                                              </td><td>                                                                     </td><td> </td><td>                        </td></tr>\n",
       "</tbody>\n",
       "</table>\n"
      ],
      "text/latex": [
       "A data.frame: 6 × 30\n",
       "\\begin{tabular}{r|lllllllllllllllllllll}\n",
       "  & Id & Ip & Acceso & Fecha\\_inicio & Fecha\\_finalizacion & Procedencia & Municipio & Edad & Sexo & Q1 & ... & Q10 & Q11 & Q12 & Q13 & Q14 & Q15 & Justificacion\\_2 & Q16 & Q17 & Justificacion\\_3\\\\\n",
       "  & <chr> & <chr> & <chr> & <chr> & <chr> & <chr> & <chr> & <chr> & <chr> & <chr> & ... & <chr> & <chr> & <chr> & <chr> & <chr> & <chr> & <chr> & <chr> & <chr> & <chr>\\\\\n",
       "\\hline\n",
       "\t3 & 1 & 190.148.209.77  & Public Access & 9/18/2020 11:01 & 9/18/2020 11:05 & Casco urbano & Guatemala           & 15-35 años & Masculino & Manzanilla (infusión) & ... & Si & Raíz     & Remolacha & No      & Infusión o té   Machacada En jugo     & 4 & Sé que tiene propiedades curativas importantes & Aplicación local  Aplicación en baños Aplicación nasal   En cápsulas  & 5 & Tiene muchas propiedades\\\\\n",
       "\t4 & 2 & 190.106.204.56  & Public Access & 9/18/2020 11:22 & 9/18/2020 11:25 & Casco urbano & Villa Canales       & 15-35 años & Masculino & No                    & ... & No & Semillas & Remolacha & Azafrán &       Molida                          & 5 & No lo he utilizado                             &      En infusión                                                      & 1 & No lo he utilizado      \\\\\n",
       "\t5 & 3 & 190.148.44.40   & Public Access & 9/18/2020 11:27 & 9/18/2020 11:28 & Casco urbano & Guatemala           & 15-35 años & Masculino & No                    & ... &    &          &           &         &                                       &   &                                                &                                                                       &   &                         \\\\\n",
       "\t6 & 4 & 181.209.150.186 & Public Access & 9/18/2020 11:27 & 9/18/2020 11:28 & Casco urbano & Guatemala           & 15-35 años & Femenino  & No                    & ... &    &          &           &         &                                       &   &                                                &                                                                       &   &                         \\\\\n",
       "\t7 & 5 & 190.56.74.149   & Public Access & 9/18/2020 11:33 & 9/18/2020 11:38 & Casco urbano & Guatemala           & 15-35 años & Masculino & No                    & ... &    &          &           &         &                                       &   &                                                &                                                                       &   &                         \\\\\n",
       "\t8 & 6 & 190.106.221.104 & Public Access & 9/18/2020 11:16 & 9/18/2020 11:41 & Casco urbano & Ciudad de Guatemala & 15-35 años & Masculino & Té de manzano         & ... &    &          &           &         &                                       &   &                                                &                                                                       &   &                         \\\\\n",
       "\\end{tabular}\n"
      ],
      "text/markdown": [
       "\n",
       "A data.frame: 6 × 30\n",
       "\n",
       "| <!--/--> | Id &lt;chr&gt; | Ip &lt;chr&gt; | Acceso &lt;chr&gt; | Fecha_inicio &lt;chr&gt; | Fecha_finalizacion &lt;chr&gt; | Procedencia &lt;chr&gt; | Municipio &lt;chr&gt; | Edad &lt;chr&gt; | Sexo &lt;chr&gt; | Q1 &lt;chr&gt; | ... ... | Q10 &lt;chr&gt; | Q11 &lt;chr&gt; | Q12 &lt;chr&gt; | Q13 &lt;chr&gt; | Q14 &lt;chr&gt; | Q15 &lt;chr&gt; | Justificacion_2 &lt;chr&gt; | Q16 &lt;chr&gt; | Q17 &lt;chr&gt; | Justificacion_3 &lt;chr&gt; |\n",
       "|---|---|---|---|---|---|---|---|---|---|---|---|---|---|---|---|---|---|---|---|---|---|\n",
       "| 3 | 1 | 190.148.209.77  | Public Access | 9/18/2020 11:01 | 9/18/2020 11:05 | Casco urbano | Guatemala           | 15-35 años | Masculino | Manzanilla (infusión) | ... | Si | Raíz     | Remolacha | No      | Infusión o té   Machacada En jugo     | 4 | Sé que tiene propiedades curativas importantes | Aplicación local  Aplicación en baños Aplicación nasal   En cápsulas  | 5 | Tiene muchas propiedades |\n",
       "| 4 | 2 | 190.106.204.56  | Public Access | 9/18/2020 11:22 | 9/18/2020 11:25 | Casco urbano | Villa Canales       | 15-35 años | Masculino | No                    | ... | No | Semillas | Remolacha | Azafrán |       Molida                          | 5 | No lo he utilizado                             |      En infusión                                                      | 1 | No lo he utilizado       |\n",
       "| 5 | 3 | 190.148.44.40   | Public Access | 9/18/2020 11:27 | 9/18/2020 11:28 | Casco urbano | Guatemala           | 15-35 años | Masculino | No                    | ... | <!----> | <!----> | <!----> | <!----> | <!----> | <!----> | <!----> | <!----> | <!----> | <!----> |\n",
       "| 6 | 4 | 181.209.150.186 | Public Access | 9/18/2020 11:27 | 9/18/2020 11:28 | Casco urbano | Guatemala           | 15-35 años | Femenino  | No                    | ... | <!----> | <!----> | <!----> | <!----> | <!----> | <!----> | <!----> | <!----> | <!----> | <!----> |\n",
       "| 7 | 5 | 190.56.74.149   | Public Access | 9/18/2020 11:33 | 9/18/2020 11:38 | Casco urbano | Guatemala           | 15-35 años | Masculino | No                    | ... | <!----> | <!----> | <!----> | <!----> | <!----> | <!----> | <!----> | <!----> | <!----> | <!----> |\n",
       "| 8 | 6 | 190.106.221.104 | Public Access | 9/18/2020 11:16 | 9/18/2020 11:41 | Casco urbano | Ciudad de Guatemala | 15-35 años | Masculino | Té de manzano         | ... | <!----> | <!----> | <!----> | <!----> | <!----> | <!----> | <!----> | <!----> | <!----> | <!----> |\n",
       "\n"
      ],
      "text/plain": [
       "  Id Ip              Acceso        Fecha_inicio    Fecha_finalizacion\n",
       "3 1  190.148.209.77  Public Access 9/18/2020 11:01 9/18/2020 11:05   \n",
       "4 2  190.106.204.56  Public Access 9/18/2020 11:22 9/18/2020 11:25   \n",
       "5 3  190.148.44.40   Public Access 9/18/2020 11:27 9/18/2020 11:28   \n",
       "6 4  181.209.150.186 Public Access 9/18/2020 11:27 9/18/2020 11:28   \n",
       "7 5  190.56.74.149   Public Access 9/18/2020 11:33 9/18/2020 11:38   \n",
       "8 6  190.106.221.104 Public Access 9/18/2020 11:16 9/18/2020 11:41   \n",
       "  Procedencia  Municipio           Edad       Sexo      Q1                   \n",
       "3 Casco urbano Guatemala           15-35 años Masculino Manzanilla (infusión)\n",
       "4 Casco urbano Villa Canales       15-35 años Masculino No                   \n",
       "5 Casco urbano Guatemala           15-35 años Masculino No                   \n",
       "6 Casco urbano Guatemala           15-35 años Femenino  No                   \n",
       "7 Casco urbano Guatemala           15-35 años Masculino No                   \n",
       "8 Casco urbano Ciudad de Guatemala 15-35 años Masculino Té de manzano        \n",
       "  ... Q10 Q11      Q12       Q13     Q14                                   Q15\n",
       "3 ... Si  Raíz     Remolacha No      Infusión o té   Machacada En jugo     4  \n",
       "4 ... No  Semillas Remolacha Azafrán       Molida                          5  \n",
       "5 ...                                                                         \n",
       "6 ...                                                                         \n",
       "7 ...                                                                         \n",
       "8 ...                                                                         \n",
       "  Justificacion_2                               \n",
       "3 Sé que tiene propiedades curativas importantes\n",
       "4 No lo he utilizado                            \n",
       "5                                               \n",
       "6                                               \n",
       "7                                               \n",
       "8                                               \n",
       "  Q16                                                                   Q17\n",
       "3 Aplicación local  Aplicación en baños Aplicación nasal   En cápsulas  5  \n",
       "4      En infusión                                                      1  \n",
       "5                                                                          \n",
       "6                                                                          \n",
       "7                                                                          \n",
       "8                                                                          \n",
       "  Justificacion_3         \n",
       "3 Tiene muchas propiedades\n",
       "4 No lo he utilizado      \n",
       "5                         \n",
       "6                         \n",
       "7                         \n",
       "8                         "
      ]
     },
     "metadata": {},
     "output_type": "display_data"
    },
    {
     "data": {
      "text/html": [
       "<table>\n",
       "<caption>A data.frame: 6 × 30</caption>\n",
       "<thead>\n",
       "\t<tr><th></th><th scope=col>Id</th><th scope=col>Ip</th><th scope=col>Acceso</th><th scope=col>Fecha_inicio</th><th scope=col>Fecha_finalizacion</th><th scope=col>Procedencia</th><th scope=col>Municipio</th><th scope=col>Edad</th><th scope=col>Sexo</th><th scope=col>Q1</th><th scope=col>...</th><th scope=col>Q10</th><th scope=col>Q11</th><th scope=col>Q12</th><th scope=col>Q13</th><th scope=col>Q14</th><th scope=col>Q15</th><th scope=col>Justificacion_2</th><th scope=col>Q16</th><th scope=col>Q17</th><th scope=col>Justificacion_3</th></tr>\n",
       "\t<tr><th></th><th scope=col>&lt;chr&gt;</th><th scope=col>&lt;chr&gt;</th><th scope=col>&lt;chr&gt;</th><th scope=col>&lt;chr&gt;</th><th scope=col>&lt;chr&gt;</th><th scope=col>&lt;chr&gt;</th><th scope=col>&lt;chr&gt;</th><th scope=col>&lt;chr&gt;</th><th scope=col>&lt;chr&gt;</th><th scope=col>&lt;chr&gt;</th><th scope=col>...</th><th scope=col>&lt;chr&gt;</th><th scope=col>&lt;chr&gt;</th><th scope=col>&lt;chr&gt;</th><th scope=col>&lt;chr&gt;</th><th scope=col>&lt;chr&gt;</th><th scope=col>&lt;chr&gt;</th><th scope=col>&lt;chr&gt;</th><th scope=col>&lt;chr&gt;</th><th scope=col>&lt;chr&gt;</th><th scope=col>&lt;chr&gt;</th></tr>\n",
       "</thead>\n",
       "<tbody>\n",
       "\t<tr><th scope=row>291</th><td>95 </td><td>181.174.106.148</td><td>Public Access</td><td>9/24/2020 11:39</td><td>9/24/2020 11:45</td><td>Casco urbano</td><td>Villa Nueva     </td><td>15-35 años</td><td>Masculino</td><td>No                                                                                                                                                                                                                       </td><td>...</td><td>No</td><td>Raíz    </td><td>Remolacha</td><td>No                                                                       </td><td>       No conozco ninguna preparación       </td><td>5</td><td>Sería una buena alternativa para la reducción del uso de fármacos</td><td>Aplicación local     En infusión En cápsulas             </td><td>4</td><td>Puede que en algunos casos no reemplace a un fármaco convencional</td></tr>\n",
       "\t<tr><th scope=row>301</th><td>96 </td><td>190.148.53.147 </td><td>Public Access</td><td>9/24/2020 11:45</td><td>9/24/2020 11:46</td><td>Casco urbano</td><td>Jutiapa         </td><td>15-35 años</td><td>Femenino </td><td>                                                                                                                                                                                                                         </td><td>...</td><td>  </td><td>        </td><td>         </td><td>                                                                         </td><td>                                            </td><td> </td><td>                                                                 </td><td>                                                         </td><td> </td><td>                                                                 </td></tr>\n",
       "\t<tr><th scope=row>311</th><td>97 </td><td>190.148.52.220 </td><td>Public Access</td><td>9/24/2020 11:50</td><td>9/24/2020 11:54</td><td>Casco urbano</td><td>Amatitlan       </td><td>15-35 años</td><td>Femenino </td><td>Jengibre, alo verá.                                                                                                                                                                                                      </td><td>...</td><td>Si</td><td>Semillas</td><td>Remolacha</td><td>Achiote                                                                  </td><td>       No conozco ninguna preparación       </td><td>5</td><td>Seria bueno conocer acerca de sus beneficios                     </td><td>     En infusión En cápsulas                             </td><td>5</td><td>Por ser una medicina natural considero que son bastante efectivos</td></tr>\n",
       "\t<tr><th scope=row>321</th><td>98 </td><td>181.209.195.80 </td><td>Public Access</td><td>9/24/2020 12:06</td><td>9/24/2020 12:08</td><td>Casco urbano</td><td>Mixco           </td><td>15-35 años</td><td>Femenino </td><td>No                                                                                                                                                                                                                       </td><td>...</td><td>  </td><td>        </td><td>         </td><td>                                                                         </td><td>                                            </td><td> </td><td>                                                                 </td><td>                                                         </td><td> </td><td>                                                                 </td></tr>\n",
       "\t<tr><th scope=row>331</th><td>99 </td><td>190.148.209.11 </td><td>Public Access</td><td>9/24/2020 12:09</td><td>9/24/2020 12:13</td><td>Casco urbano</td><td>Ciudad Guatemala</td><td>15-35 años</td><td>Masculino</td><td>Infusiones de tilo, manzanilla, eucalipto                                                                                                                                                                                </td><td>...</td><td>  </td><td>        </td><td>         </td><td>                                                                         </td><td>                                            </td><td> </td><td>                                                                 </td><td>                                                         </td><td> </td><td>                                                                 </td></tr>\n",
       "\t<tr><th scope=row>341</th><td>100</td><td>190.148.48.109 </td><td>Public Access</td><td>9/24/2020 12:14</td><td>9/24/2020 12:19</td><td>Casco urbano</td><td>Guatemala       </td><td>15-35 años</td><td>Femenino </td><td>Eucalipto = \"nebulizador\", hoja de limón (dolor de estómago y de garganta así como repelente de mosquitos), jengibre (dolor de garganta, irritación e inflamación), cúrcuma (blanqueamiento dental y desinflamante), etc.</td><td>...</td><td>Si</td><td>Semillas</td><td>Azafrán  </td><td>Remolacha para ensaladas y enchiladas. Azafrán para \"colorear\" la paella.</td><td>Infusión o té Hervida Frotada   Masticada   </td><td>5</td><td>Estoy procurando practicar la medicina tradicional y natural.    </td><td>Aplicación local Lavados  Aplicación nasal  En infusión  </td><td>4</td><td>No uso el achiote, pero he escuchado comentarios favorables.     </td></tr>\n",
       "</tbody>\n",
       "</table>\n"
      ],
      "text/latex": [
       "A data.frame: 6 × 30\n",
       "\\begin{tabular}{r|lllllllllllllllllllll}\n",
       "  & Id & Ip & Acceso & Fecha\\_inicio & Fecha\\_finalizacion & Procedencia & Municipio & Edad & Sexo & Q1 & ... & Q10 & Q11 & Q12 & Q13 & Q14 & Q15 & Justificacion\\_2 & Q16 & Q17 & Justificacion\\_3\\\\\n",
       "  & <chr> & <chr> & <chr> & <chr> & <chr> & <chr> & <chr> & <chr> & <chr> & <chr> & ... & <chr> & <chr> & <chr> & <chr> & <chr> & <chr> & <chr> & <chr> & <chr> & <chr>\\\\\n",
       "\\hline\n",
       "\t291 & 95  & 181.174.106.148 & Public Access & 9/24/2020 11:39 & 9/24/2020 11:45 & Casco urbano & Villa Nueva      & 15-35 años & Masculino & No                                                                                                                                                                                                                        & ... & No & Raíz     & Remolacha & No                                                                        &        No conozco ninguna preparación        & 5 & Sería una buena alternativa para la reducción del uso de fármacos & Aplicación local     En infusión En cápsulas              & 4 & Puede que en algunos casos no reemplace a un fármaco convencional\\\\\n",
       "\t301 & 96  & 190.148.53.147  & Public Access & 9/24/2020 11:45 & 9/24/2020 11:46 & Casco urbano & Jutiapa          & 15-35 años & Femenino  &                                                                                                                                                                                                                           & ... &    &          &           &                                                                           &                                              &   &                                                                   &                                                           &   &                                                                  \\\\\n",
       "\t311 & 97  & 190.148.52.220  & Public Access & 9/24/2020 11:50 & 9/24/2020 11:54 & Casco urbano & Amatitlan        & 15-35 años & Femenino  & Jengibre, alo verá.                                                                                                                                                                                                       & ... & Si & Semillas & Remolacha & Achiote                                                                   &        No conozco ninguna preparación        & 5 & Seria bueno conocer acerca de sus beneficios                      &      En infusión En cápsulas                              & 5 & Por ser una medicina natural considero que son bastante efectivos\\\\\n",
       "\t321 & 98  & 181.209.195.80  & Public Access & 9/24/2020 12:06 & 9/24/2020 12:08 & Casco urbano & Mixco            & 15-35 años & Femenino  & No                                                                                                                                                                                                                        & ... &    &          &           &                                                                           &                                              &   &                                                                   &                                                           &   &                                                                  \\\\\n",
       "\t331 & 99  & 190.148.209.11  & Public Access & 9/24/2020 12:09 & 9/24/2020 12:13 & Casco urbano & Ciudad Guatemala & 15-35 años & Masculino & Infusiones de tilo, manzanilla, eucalipto                                                                                                                                                                                 & ... &    &          &           &                                                                           &                                              &   &                                                                   &                                                           &   &                                                                  \\\\\n",
       "\t341 & 100 & 190.148.48.109  & Public Access & 9/24/2020 12:14 & 9/24/2020 12:19 & Casco urbano & Guatemala        & 15-35 años & Femenino  & Eucalipto = \"nebulizador\", hoja de limón (dolor de estómago y de garganta así como repelente de mosquitos), jengibre (dolor de garganta, irritación e inflamación), cúrcuma (blanqueamiento dental y desinflamante), etc. & ... & Si & Semillas & Azafrán   & Remolacha para ensaladas y enchiladas. Azafrán para \"colorear\" la paella. & Infusión o té Hervida Frotada   Masticada    & 5 & Estoy procurando practicar la medicina tradicional y natural.     & Aplicación local Lavados  Aplicación nasal  En infusión   & 4 & No uso el achiote, pero he escuchado comentarios favorables.     \\\\\n",
       "\\end{tabular}\n"
      ],
      "text/markdown": [
       "\n",
       "A data.frame: 6 × 30\n",
       "\n",
       "| <!--/--> | Id &lt;chr&gt; | Ip &lt;chr&gt; | Acceso &lt;chr&gt; | Fecha_inicio &lt;chr&gt; | Fecha_finalizacion &lt;chr&gt; | Procedencia &lt;chr&gt; | Municipio &lt;chr&gt; | Edad &lt;chr&gt; | Sexo &lt;chr&gt; | Q1 &lt;chr&gt; | ... ... | Q10 &lt;chr&gt; | Q11 &lt;chr&gt; | Q12 &lt;chr&gt; | Q13 &lt;chr&gt; | Q14 &lt;chr&gt; | Q15 &lt;chr&gt; | Justificacion_2 &lt;chr&gt; | Q16 &lt;chr&gt; | Q17 &lt;chr&gt; | Justificacion_3 &lt;chr&gt; |\n",
       "|---|---|---|---|---|---|---|---|---|---|---|---|---|---|---|---|---|---|---|---|---|---|\n",
       "| 291 | 95  | 181.174.106.148 | Public Access | 9/24/2020 11:39 | 9/24/2020 11:45 | Casco urbano | Villa Nueva      | 15-35 años | Masculino | No                                                                                                                                                                                                                        | ... | No | Raíz     | Remolacha | No                                                                        |        No conozco ninguna preparación        | 5 | Sería una buena alternativa para la reducción del uso de fármacos | Aplicación local     En infusión En cápsulas              | 4 | Puede que en algunos casos no reemplace a un fármaco convencional |\n",
       "| 301 | 96  | 190.148.53.147  | Public Access | 9/24/2020 11:45 | 9/24/2020 11:46 | Casco urbano | Jutiapa          | 15-35 años | Femenino  | <!----> | ... | <!----> | <!----> | <!----> | <!----> | <!----> | <!----> | <!----> | <!----> | <!----> | <!----> |\n",
       "| 311 | 97  | 190.148.52.220  | Public Access | 9/24/2020 11:50 | 9/24/2020 11:54 | Casco urbano | Amatitlan        | 15-35 años | Femenino  | Jengibre, alo verá.                                                                                                                                                                                                       | ... | Si | Semillas | Remolacha | Achiote                                                                   |        No conozco ninguna preparación        | 5 | Seria bueno conocer acerca de sus beneficios                      |      En infusión En cápsulas                              | 5 | Por ser una medicina natural considero que son bastante efectivos |\n",
       "| 321 | 98  | 181.209.195.80  | Public Access | 9/24/2020 12:06 | 9/24/2020 12:08 | Casco urbano | Mixco            | 15-35 años | Femenino  | No                                                                                                                                                                                                                        | ... | <!----> | <!----> | <!----> | <!----> | <!----> | <!----> | <!----> | <!----> | <!----> | <!----> |\n",
       "| 331 | 99  | 190.148.209.11  | Public Access | 9/24/2020 12:09 | 9/24/2020 12:13 | Casco urbano | Ciudad Guatemala | 15-35 años | Masculino | Infusiones de tilo, manzanilla, eucalipto                                                                                                                                                                                 | ... | <!----> | <!----> | <!----> | <!----> | <!----> | <!----> | <!----> | <!----> | <!----> | <!----> |\n",
       "| 341 | 100 | 190.148.48.109  | Public Access | 9/24/2020 12:14 | 9/24/2020 12:19 | Casco urbano | Guatemala        | 15-35 años | Femenino  | Eucalipto = \"nebulizador\", hoja de limón (dolor de estómago y de garganta así como repelente de mosquitos), jengibre (dolor de garganta, irritación e inflamación), cúrcuma (blanqueamiento dental y desinflamante), etc. | ... | Si | Semillas | Azafrán   | Remolacha para ensaladas y enchiladas. Azafrán para \"colorear\" la paella. | Infusión o té Hervida Frotada   Masticada    | 5 | Estoy procurando practicar la medicina tradicional y natural.     | Aplicación local Lavados  Aplicación nasal  En infusión   | 4 | No uso el achiote, pero he escuchado comentarios favorables.      |\n",
       "\n"
      ],
      "text/plain": [
       "    Id  Ip              Acceso        Fecha_inicio    Fecha_finalizacion\n",
       "291 95  181.174.106.148 Public Access 9/24/2020 11:39 9/24/2020 11:45   \n",
       "301 96  190.148.53.147  Public Access 9/24/2020 11:45 9/24/2020 11:46   \n",
       "311 97  190.148.52.220  Public Access 9/24/2020 11:50 9/24/2020 11:54   \n",
       "321 98  181.209.195.80  Public Access 9/24/2020 12:06 9/24/2020 12:08   \n",
       "331 99  190.148.209.11  Public Access 9/24/2020 12:09 9/24/2020 12:13   \n",
       "341 100 190.148.48.109  Public Access 9/24/2020 12:14 9/24/2020 12:19   \n",
       "    Procedencia  Municipio        Edad       Sexo     \n",
       "291 Casco urbano Villa Nueva      15-35 años Masculino\n",
       "301 Casco urbano Jutiapa          15-35 años Femenino \n",
       "311 Casco urbano Amatitlan        15-35 años Femenino \n",
       "321 Casco urbano Mixco            15-35 años Femenino \n",
       "331 Casco urbano Ciudad Guatemala 15-35 años Masculino\n",
       "341 Casco urbano Guatemala        15-35 años Femenino \n",
       "    Q1                                                                                                                                                                                                                       \n",
       "291 No                                                                                                                                                                                                                       \n",
       "301                                                                                                                                                                                                                          \n",
       "311 Jengibre, alo verá.                                                                                                                                                                                                      \n",
       "321 No                                                                                                                                                                                                                       \n",
       "331 Infusiones de tilo, manzanilla, eucalipto                                                                                                                                                                                \n",
       "341 Eucalipto = \"nebulizador\", hoja de limón (dolor de estómago y de garganta así como repelente de mosquitos), jengibre (dolor de garganta, irritación e inflamación), cúrcuma (blanqueamiento dental y desinflamante), etc.\n",
       "    ... Q10 Q11      Q12      \n",
       "291 ... No  Raíz     Remolacha\n",
       "301 ...                       \n",
       "311 ... Si  Semillas Remolacha\n",
       "321 ...                       \n",
       "331 ...                       \n",
       "341 ... Si  Semillas Azafrán  \n",
       "    Q13                                                                      \n",
       "291 No                                                                       \n",
       "301                                                                          \n",
       "311 Achiote                                                                  \n",
       "321                                                                          \n",
       "331                                                                          \n",
       "341 Remolacha para ensaladas y enchiladas. Azafrán para \"colorear\" la paella.\n",
       "    Q14                                          Q15\n",
       "291        No conozco ninguna preparación        5  \n",
       "301                                                 \n",
       "311        No conozco ninguna preparación        5  \n",
       "321                                                 \n",
       "331                                                 \n",
       "341 Infusión o té Hervida Frotada   Masticada    5  \n",
       "    Justificacion_2                                                  \n",
       "291 Sería una buena alternativa para la reducción del uso de fármacos\n",
       "301                                                                  \n",
       "311 Seria bueno conocer acerca de sus beneficios                     \n",
       "321                                                                  \n",
       "331                                                                  \n",
       "341 Estoy procurando practicar la medicina tradicional y natural.    \n",
       "    Q16                                                       Q17\n",
       "291 Aplicación local     En infusión En cápsulas              4  \n",
       "301                                                              \n",
       "311      En infusión En cápsulas                              5  \n",
       "321                                                              \n",
       "331                                                              \n",
       "341 Aplicación local Lavados  Aplicación nasal  En infusión   4  \n",
       "    Justificacion_3                                                  \n",
       "291 Puede que en algunos casos no reemplace a un fármaco convencional\n",
       "301                                                                  \n",
       "311 Por ser una medicina natural considero que son bastante efectivos\n",
       "321                                                                  \n",
       "331                                                                  \n",
       "341 No uso el achiote, pero he escuchado comentarios favorables.     "
      ]
     },
     "metadata": {},
     "output_type": "display_data"
    }
   ],
   "source": [
    "head(achiote)\n",
    "tail(achiote)"
   ]
  },
  {
   "cell_type": "markdown",
   "metadata": {},
   "source": [
    "#### Manejamos fechas y tiempos"
   ]
  },
  {
   "cell_type": "code",
   "execution_count": 11,
   "metadata": {},
   "outputs": [],
   "source": [
    "#fechas\n",
    "fecha_inicio <- as.Date(substr(achiote$Fecha_inicio, 0, 8), \"%m/%d/%y\")\n",
    "fecha_final <- as.Date(substr(achiote$Fecha_finalizacion, 0, 8), \"%m/%d/%y\")\n",
    "#horas minutos\n",
    "hora_inicio <- as.POSIXct(substr(achiote$Fecha_inicio, 11, 15), format = \"%H:%M\")\n",
    "hora_final <- as.POSIXct(substr(achiote$Fecha_finalizacion, 11, 15), format = \"%H:%M\")\n",
    "#creando columnas\n",
    "achiote$Fecha_inicio <- fecha_inicio\n",
    "achiote$Fecha_finalizacion <- fecha_final\n",
    "achiote$hora_inicio <- hora_inicio\n",
    "achiote$hora_final <- hora_final\n",
    "dif <- hora_final - hora_inicio\n",
    "achiote$tiempo_terminar <- dif\n"
   ]
  },
  {
   "cell_type": "markdown",
   "metadata": {},
   "source": [
    "#### Convertimos a factor los datos necesarios"
   ]
  },
  {
   "cell_type": "code",
   "execution_count": 12,
   "metadata": {},
   "outputs": [
    {
     "data": {
      "text/plain": [
       "       Id                   Ip               Acceso     Fecha_inicio       \n",
       " 7      : 2   181.209.150.166: 3   Public Access:101   Min.   :2020-09-18  \n",
       " 1      : 1   186.151.92.15  : 3                       1st Qu.:2020-09-18  \n",
       " 10     : 1   186.151.92.6   : 2                       Median :2020-09-21  \n",
       " 100    : 1   190.106.221.12 : 2                       Mean   :2020-09-20  \n",
       " 11     : 1   190.148.53.130 : 2                       3rd Qu.:2020-09-23  \n",
       " 12     : 1   190.56.74.230  : 2                       Max.   :2020-09-24  \n",
       " (Other):94   (Other)        :87                                           \n",
       " Fecha_finalizacion         Procedencia                 Municipio \n",
       " Min.   :2020-09-18   Casco rural :14   Guatemala            :47  \n",
       " 1st Qu.:2020-09-18   Casco urbano:87   Mixco                :11  \n",
       " Median :2020-09-21                     Ciudad de Guatemala  : 5  \n",
       " Mean   :2020-09-20                     Santa Catarina Pinula: 5  \n",
       " 3rd Qu.:2020-09-23                     Villa Nueva          : 3  \n",
       " Max.   :2020-09-24                     Chiquimula           : 2  \n",
       "                                        (Other)              :28  \n",
       "         Edad           Sexo   \n",
       " 15-35 años:85   Femenino :61  \n",
       " 36-55 años: 4   Masculino:40  \n",
       " 56-75 años:12                 \n",
       "                               \n",
       "                               \n",
       "                               \n",
       "                               \n",
       "                                                                         Q1    \n",
       " No                                                                       :35  \n",
       " Manzanilla                                                               : 5  \n",
       "                                                                          : 3  \n",
       " \"Mata ratón\", se cocina y con esa agua se da un baño para bajar la fiebre: 1  \n",
       " Albahaca, manzanilla, eucalipto, tomillo, tilo                           : 1  \n",
       " Apazote y hierbabuena para malestar estomacal                            : 1  \n",
       " (Other)                                                                  :55  \n",
       "  Q2      Q3     Q4    \n",
       " No:34     :67    :67  \n",
       " Si:67   No: 2   1: 3  \n",
       "         Si:32   2: 2  \n",
       "                 3:13  \n",
       "                 4:14  \n",
       "                 5: 2  \n",
       "                       \n",
       "                                                                               Justificacion_1\n",
       "                                                                                       :73    \n",
       " Conozco que tiene propiedades positivas pero no sé cuán efectivas sean en las personas: 1    \n",
       " Considero que lo natural ayuda mucho al organismo pero no es tan rápido.              : 1    \n",
       " Considero que todo lo natural si posee efectos notables a comparación de los químicos : 1    \n",
       " Cuestiono la eficiencia por la falta de estudios científicos                          : 1    \n",
       " Depende que enfermedad tiene que tratar                                               : 1    \n",
       " (Other)                                                                               :23    \n",
       " He leido     Q5                                Q6    \n",
       "   :69         :34                               :34  \n",
       " si:32    Bija : 1   Tinte Culinario             :21  \n",
       "          No   :65    Culinario                  :17  \n",
       "          Urucu: 1   Tinte Culinario Medicinal   : 8  \n",
       "                     Tinte Culinario  Cosmético  : 5  \n",
       "                      Culinario Medicinal        : 4  \n",
       "                     (Other)                     :12  \n",
       "                                                                                            Q7    \n",
       "                                                                                             :34  \n",
       "    Tinte para textiles  Colorante de comidas y bebidas                                      :19  \n",
       "      Colorante de comidas y bebidas                                                         :15  \n",
       "    Tinte para textiles Colorante en pintalabios Colorante de comidas y bebidas              :11  \n",
       "      Colorante de comidas y bebidas Alivio de la fiebre  Aumenta el flujo de leche materna  : 2  \n",
       "    Tinte para textiles                                                                      : 2  \n",
       " (Other)                                                                                     :18  \n",
       "                       Q8    \n",
       "                        :34  \n",
       " Mensualmente           :14  \n",
       " No lo utilizo          :19  \n",
       " Semanalmente           : 5  \n",
       " Una vez cada seis meses:29  \n",
       "                             \n",
       "                             \n",
       "                                               Q9     Q10    \n",
       "                                                :34     :34  \n",
       " Mercado                                        :25   No:19  \n",
       "      No obtengo achiote                        :10   Si:48  \n",
       " Mercado Supermercado                           :10          \n",
       " Mercado  Tienda de conveniencia                : 5          \n",
       " Mercado Supermercado Tienda de conveniencia    : 5          \n",
       " (Other)                                        :12          \n",
       "                                             Q11    \n",
       "                                               :34  \n",
       " Semillas                                      :33  \n",
       " Fruto                                         :15  \n",
       " Raíz                                          :11  \n",
       " No se obtiene ningún polvo rojo de esta planta: 3  \n",
       " Hojas                                         : 2  \n",
       " (Other)                                       : 3  \n",
       "                                                                                  Q12    \n",
       "                                                                                    :34  \n",
       " Azafrán                                                                            :14  \n",
       " Cúrcuma                                                                            : 2  \n",
       " Curcuma,                                                                           : 1  \n",
       " Cúrcuma, repollo morado, cascara de cebolla, remolacha, frijol, semilla de aguacate: 1  \n",
       " No conozco ninguna otra planta tintórea                                            : 6  \n",
       " Remolacha                                                                          :43  \n",
       "                            Q13                                         Q14    \n",
       "                              :35          No conozco ninguna preparación :37  \n",
       " No                           :30                                         :34  \n",
       " Remolacha                    : 5         Molida                          : 8  \n",
       " Achiote                      : 2      Machacada                          : 2  \n",
       " Cúrcuma                      : 2   Infusión o té                         : 2  \n",
       " Remolacha. Ensaladas, curtido: 2        Masticada                        : 1  \n",
       " (Other)                      :25   (Other)                               :17  \n",
       " Q15   \n",
       "  :34  \n",
       " 1: 1  \n",
       " 2: 6  \n",
       " 3:19  \n",
       " 4:15  \n",
       " 5:26  \n",
       "       \n",
       "                                                                                         Justificacion_2\n",
       "                                                                                                 :44    \n",
       " Tendría que saber cómo sustituto de qué medicina se puede usar y para qué se puede usar         : 2    \n",
       " al saber sus propiedades puedo utilizarlo.                                                      : 1    \n",
       " Bajo receta médica consumiría plantas medicinales como alternativa.                             : 1    \n",
       " como te                                                                                         : 1    \n",
       " Considero que el achiote posee muchos beneficios medicinales que nadie conoce ya que no es común: 1    \n",
       " (Other)                                                                                         :51    \n",
       "                                            Q16     Q17   \n",
       "                                              :34    :34  \n",
       "      En infusión En cápsulas                 :13   1: 6  \n",
       "      En infusión                             : 9   2: 4  \n",
       " Aplicación local     En infusión En cápsulas : 7   3:27  \n",
       " Aplicación local                             : 6   4:19  \n",
       " Aplicación local     En infusión             : 5   5:11  \n",
       " (Other)                                      :27         \n",
       "                                                                                       Justificacion_3\n",
       "                                                                                               :44    \n",
       " No conozco la efectividad pero imagino ha de ser buena                                        : 2    \n",
       " 5. Tiene q tener algun efecto.  Pero no creo q curativo                                       : 1    \n",
       " Bueno                                                                                         : 1    \n",
       " Confio mucho en lo natural y lo prefiero por bo estar alterados                               : 1    \n",
       " Conozco de una tesis que trata de tintes para cabello a base achiote y funcionan den maravilla: 1    \n",
       " (Other)                                                                                       :51    \n",
       "  hora_inicio                    hora_final                  tiempo_terminar  \n",
       " Min.   :2020-11-08 07:02:00   Min.   :2020-11-08 07:07:00   Length:101       \n",
       " 1st Qu.:2020-11-08 11:36:00   1st Qu.:2020-11-08 11:43:00   Class :difftime  \n",
       " Median :2020-11-08 12:19:00   Median :2020-11-08 12:20:00   Mode  :numeric   \n",
       " Mean   :2020-11-08 14:04:11   Mean   :2020-11-08 14:12:11                    \n",
       " 3rd Qu.:2020-11-08 16:56:00   3rd Qu.:2020-11-08 17:08:00                    \n",
       " Max.   :2020-11-08 23:26:00   Max.   :2020-11-08 23:37:00                    \n",
       "                                                                              "
      ]
     },
     "metadata": {},
     "output_type": "display_data"
    }
   ],
   "source": [
    "achiote[sapply(achiote, is.character)] <- lapply(achiote[sapply(achiote, is.character)], \n",
    "                                       as.factor)\n",
    "summary(achiote)"
   ]
  },
  {
   "cell_type": "code",
   "execution_count": 13,
   "metadata": {},
   "outputs": [
    {
     "name": "stdout",
     "output_type": "stream",
     "text": [
      "'data.frame':\t101 obs. of  33 variables:\n",
      " $ Id                : Factor w/ 100 levels \"1\",\"10\",\"100\",..: 1 13 24 35 46 57 68 79 90 2 ...\n",
      " $ Ip                : Factor w/ 93 levels \"143.208.57.62\",..: 67 45 68 11 88 47 89 55 25 60 ...\n",
      " $ Acceso            : Factor w/ 1 level \"Public Access\": 1 1 1 1 1 1 1 1 1 1 ...\n",
      " $ Fecha_inicio      : Date, format: \"2020-09-18\" \"2020-09-18\" ...\n",
      " $ Fecha_finalizacion: Date, format: \"2020-09-18\" \"2020-09-18\" ...\n",
      " $ Procedencia       : Factor w/ 2 levels \"Casco rural\",..: 2 2 2 2 2 2 2 2 1 2 ...\n",
      " $ Municipio         : Factor w/ 29 levels \"Amatitlan\",\"Asunción Mita\",..: 13 28 13 13 13 5 13 13 13 13 ...\n",
      " $ Edad              : Factor w/ 3 levels \"15-35 años\",\"36-55 años\",..: 1 1 1 1 1 1 1 1 1 1 ...\n",
      " $ Sexo              : Factor w/ 2 levels \"Femenino\",\"Masculino\": 2 2 2 1 2 2 2 2 2 1 ...\n",
      " $ Q1                : Factor w/ 61 levels \"\",\"\\\"Mata ratón\\\", se cocina y con esa agua se da un baño para bajar la fiebre\",..: 28 38 38 38 38 56 38 38 9 51 ...\n",
      " $ Q2                : Factor w/ 2 levels \"No\",\"Si\": 2 2 1 1 1 1 2 1 2 2 ...\n",
      " $ Q3                : Factor w/ 3 levels \"\",\"No\",\"Si\": 1 1 3 3 3 3 1 3 1 1 ...\n",
      " $ Q4                : Factor w/ 6 levels \"\",\"1\",\"2\",\"3\",..: 1 1 3 4 4 5 1 4 1 1 ...\n",
      " $ Justificacion_1   : Factor w/ 29 levels \"\",\"Conozco que tiene propiedades positivas pero no sé cuán efectivas sean en las personas\",..: 1 1 21 13 15 9 1 2 1 1 ...\n",
      " $ He leido          : Factor w/ 2 levels \"\",\"si\": 1 1 2 2 2 2 1 2 1 1 ...\n",
      " $ Q5                : Factor w/ 4 levels \"\",\"Bija\",\"No\",..: 3 3 1 1 1 1 3 1 3 3 ...\n",
      " $ Q6                : Factor w/ 12 levels \"     \",\"  Medicinal   \",..: 9 9 1 1 1 1 9 1 10 9 ...\n",
      " $ Q7                : Factor w/ 23 levels \"          \",\"         No conozco ninguna aplicación del achiote \",..: 19 8 1 1 1 1 8 1 8 8 ...\n",
      " $ Q8                : Factor w/ 5 levels \"\",\"Mensualmente\",..: 5 5 1 1 1 1 5 1 2 2 ...\n",
      " $ Q9                : Factor w/ 12 levels \"      \",\"     No obtengo achiote \",..: 9 9 1 1 1 1 10 1 9 5 ...\n",
      " $ Q10               : Factor w/ 3 levels \"\",\"No\",\"Si\": 3 2 1 1 1 1 2 1 3 3 ...\n",
      " $ Q11               : Factor w/ 8 levels \"\",\"Flores\",\"Fruto\",..: 6 7 1 1 1 1 3 1 7 7 ...\n",
      " $ Q12               : Factor w/ 7 levels \"\",\"Azafrán\",\"Cúrcuma\",..: 7 7 1 1 1 1 7 1 2 3 ...\n",
      " $ Q13               : Factor w/ 31 levels \"\",\"Achiote\",\"Achiote, remolacha, tomate\",..: 19 6 1 1 1 1 29 1 8 14 ...\n",
      " $ Q14               : Factor w/ 23 levels \"        \",\"       No conozco ninguna preparación \",..: 13 3 1 1 1 1 2 1 2 2 ...\n",
      " $ Q15               : Factor w/ 6 levels \"\",\"1\",\"2\",\"3\",..: 5 6 1 1 1 1 4 1 6 6 ...\n",
      " $ Justificacion_2   : Factor w/ 57 levels \"\",\"al saber sus propiedades puedo utilizarlo.\",..: 41 33 1 1 1 1 54 1 34 14 ...\n",
      " $ Q16               : Factor w/ 24 levels \"       \",\"       Otra::no lo se\",..: 18 4 1 1 1 1 15 1 8 14 ...\n",
      " $ Q17               : Factor w/ 6 levels \"\",\"1\",\"2\",\"3\",..: 6 2 1 1 1 1 4 1 4 6 ...\n",
      " $ Justificacion_3   : Factor w/ 57 levels \"\",\"5. Tiene q tener algun efecto.  Pero no creo q curativo\",..: 55 36 1 1 1 1 27 1 20 52 ...\n",
      " $ hora_inicio       : POSIXct, format: \"2020-11-08 11:01:00\" \"2020-11-08 11:22:00\" ...\n",
      " $ hora_final        : POSIXct, format: \"2020-11-08 11:05:00\" \"2020-11-08 11:25:00\" ...\n",
      " $ tiempo_terminar   : 'difftime' num  4 3 1 1 ...\n",
      "  ..- attr(*, \"units\")= chr \"mins\"\n"
     ]
    }
   ],
   "source": [
    "str(achiote)"
   ]
  },
  {
   "cell_type": "markdown",
   "metadata": {},
   "source": [
    "## Resultados"
   ]
  },
  {
   "cell_type": "markdown",
   "metadata": {},
   "source": [
    "#### colores para graficas"
   ]
  },
  {
   "cell_type": "code",
   "execution_count": 14,
   "metadata": {},
   "outputs": [],
   "source": [
    "color.function <- colorRampPalette(c(\"#FFFFFF\" , \"#45094f\" ))\n",
    "color.ramp <- color.function(n = 10)"
   ]
  },
  {
   "cell_type": "markdown",
   "metadata": {},
   "source": [
    "#### Procedencia"
   ]
  },
  {
   "cell_type": "code",
   "execution_count": 15,
   "metadata": {},
   "outputs": [
    {
     "data": {
      "text/plain": [
       "\n",
       " Casco rural Casco urbano \n",
       "          14           87 "
      ]
     },
     "metadata": {},
     "output_type": "display_data"
    },
    {
     "data": {
      "image/png": "[encoded data removed]",
      "text/plain": [
       "Plot with title \"Procedencia\""
      ]
     },
     "metadata": {
      "image/png": {
       "height": 420,
       "width": 420
      }
     },
     "output_type": "display_data"
    }
   ],
   "source": [
    "info <- table(achiote$Procedencia)\n",
    "xx <- barplot(info,main=\"Procedencia\", col=color.ramp)\n",
    "info"
   ]
  },
  {
   "cell_type": "markdown",
   "metadata": {},
   "source": [
    "#### Municipio"
   ]
  },
  {
   "cell_type": "code",
   "execution_count": 16,
   "metadata": {},
   "outputs": [
    {
     "data": {
      "text/plain": [
       "\n",
       "             Amatitlan          Asunción Mita             Chiquimula \n",
       "                     1                      2                      2 \n",
       "          Ciudad Vieja             Coatepeque                  Cobán \n",
       "                     1                      1                      1 \n",
       "             Fraijanes              Guatemala                 Izabal \n",
       "                     2                     57                      1 \n",
       "               Jutiapa            Mazatenango                  Mixco \n",
       "                     2                      1                     11 \n",
       "San Lucas Sacatepéquez      San Miguel Petapa       Santa Ana, Peten \n",
       "                     3                      1                      1 \n",
       " Santa Catarina Pinula          Villa canales            Villa Nueva \n",
       "                     7                      4                      3 "
      ]
     },
     "metadata": {},
     "output_type": "display_data"
    },
    {
     "data": {
      "image/png": "[encoded data removed]",
      "text/plain": [
       "Plot with title \"Municipio\""
      ]
     },
     "metadata": {
      "image/png": {
       "height": 420,
       "width": 420
      }
     },
     "output_type": "display_data"
    }
   ],
   "source": [
    "achiote$Municipio[achiote$Municipio == 'Ciudad'] <- 'Guatemala'\n",
    "achiote$Municipio[achiote$Municipio == 'Ciudad de Guatemala'] <- 'Guatemala'\n",
    "achiote$Municipio[achiote$Municipio == 'GUATEMALA'] <- 'Guatemala'\n",
    "achiote$Municipio[achiote$Municipio == 'guatemala'] <- 'Guatemala'\n",
    "achiote$Municipio[achiote$Municipio == 'Ciudad Guatemala'] <- 'Guatemala'\n",
    "achiote$Municipio[achiote$Municipio == 'En Asunción Mita Jutiapa'] <- 'Asunción Mita'\n",
    "achiote$Municipio[achiote$Municipio == 'Guatemala, Fraijanes'] <- 'Fraijanes'\n",
    "achiote$Municipio[achiote$Municipio == 'Sta Catarina Pinula'] <- 'Santa Catarina Pinula'\n",
    "achiote$Municipio[achiote$Municipio == 'Sta. Catarina Pinula'] <- 'Santa Catarina Pinula'\n",
    "achiote$Municipio[achiote$Municipio == 'Villa Canales'] <- 'Villa canales'\n",
    "achiote$Municipio[achiote$Municipio == 'Sacatepéquez'] <- 'San Lucas Sacatepéquez'\n",
    "achiote$Municipio <- droplevels(achiote$Municipio)\n",
    "info <- table(achiote$Municipio)\n",
    "xx <- barplot(info,main=\"Municipio\", col=color.ramp, cex.lab=2)\n",
    "info"
   ]
  },
  {
   "cell_type": "markdown",
   "metadata": {},
   "source": [
    "#### Edad"
   ]
  },
  {
   "cell_type": "code",
   "execution_count": 17,
   "metadata": {},
   "outputs": [
    {
     "data": {
      "text/plain": [
       "\n",
       "15-35 años 36-55 años 56-75 años \n",
       "        85          4         12 "
      ]
     },
     "metadata": {},
     "output_type": "display_data"
    },
    {
     "data": {
      "image/png": "[encoded data removed]",
      "text/plain": [
       "Plot with title \"Edad\""
      ]
     },
     "metadata": {
      "image/png": {
       "height": 420,
       "width": 420
      }
     },
     "output_type": "display_data"
    }
   ],
   "source": [
    "info <- table(achiote$Edad)\n",
    "xx <- barplot(info,main=\"Edad\", col=color.ramp, cex.lab=2)\n",
    "info"
   ]
  },
  {
   "cell_type": "markdown",
   "metadata": {},
   "source": [
    "#### Sexo"
   ]
  },
  {
   "cell_type": "code",
   "execution_count": 18,
   "metadata": {},
   "outputs": [
    {
     "data": {
      "text/plain": [
       "\n",
       " Femenino Masculino \n",
       "       61        40 "
      ]
     },
     "metadata": {},
     "output_type": "display_data"
    },
    {
     "data": {
      "image/png": "[encoded data removed]",
      "text/plain": [
       "Plot with title \"Sexo\""
      ]
     },
     "metadata": {
      "image/png": {
       "height": 420,
       "width": 420
      }
     },
     "output_type": "display_data"
    }
   ],
   "source": [
    "info <- table(achiote$Sexo)\n",
    "xx <- barplot(info,main=\"Sexo\", col=color.ramp, cex.lab=2)\n",
    "info"
   ]
  },
  {
   "cell_type": "markdown",
   "metadata": {},
   "source": [
    "#### ¿Ha utilizado usted alguna planta para tratar alguna enfermedad/afeccion?"
   ]
  },
  {
   "cell_type": "code",
   "execution_count": 19,
   "metadata": {},
   "outputs": [
    {
     "name": "stderr",
     "output_type": "stream",
     "text": [
      "Joining, by = \"word\"\n",
      "\n"
     ]
    },
    {
     "data": {
      "image/png": "[encoded data removed]",
      "text/plain": [
       "plot without title"
      ]
     },
     "metadata": {
      "image/png": {
       "height": 420,
       "width": 420
      }
     },
     "output_type": "display_data"
    }
   ],
   "source": [
    "text <- toupper(as.character(levels(achiote$Q1)))\n",
    "text <- chartr(\"ÁÉÍÓÚ\", \"AEIOU\", text)\n",
    "text_df <- tibble(line = 1:61, text = text)\n",
    "\n",
    "custom_stop_words <- bind_rows(stop_words,\n",
    "                               tibble(word = c(tm::stopwords(\"spanish\"), \"dolor\", \"estomago\", \"infusion\", \"colicos\"),\n",
    "                                          lexicon = \"custom\"))\n",
    "\n",
    "text_df <- text_df %>% \n",
    "    unnest_tokens(word, text) %>%\n",
    "    anti_join(custom_stop_words) %>%\n",
    "    count(word, sort = TRUE)\n",
    "\n",
    "\n",
    "text_df %>%\n",
    "  filter(n > 3) %>%\n",
    "  mutate(word = reorder(word, n)) %>%\n",
    "  ggplot(aes(word, n)) +\n",
    "  geom_col() +\n",
    "  geom_bar(stat=\"identity\", fill = \"#FF6666\") +\n",
    "  labs(x = \"Plantas utilizadas\", y = \"Repeticiones\") +\n",
    "  coord_flip()"
   ]
  },
  {
   "cell_type": "markdown",
   "metadata": {},
   "source": [
    "#### ¿Conoce usted el achiote?"
   ]
  },
  {
   "cell_type": "code",
   "execution_count": 20,
   "metadata": {},
   "outputs": [
    {
     "data": {
      "text/plain": [
       "\n",
       "No Si \n",
       "34 67 "
      ]
     },
     "metadata": {},
     "output_type": "display_data"
    },
    {
     "data": {
      "image/png": "[encoded data removed]",
      "text/plain": [
       "Plot with title \"¿Conoce usted el achiote?\""
      ]
     },
     "metadata": {
      "image/png": {
       "height": 420,
       "width": 420
      }
     },
     "output_type": "display_data"
    }
   ],
   "source": [
    "info <- table(achiote$Q2)\n",
    "xx <- barplot(info,main=\"¿Conoce usted el achiote?\", col=color.ramp, cex.lab=2)\n",
    "info"
   ]
  },
  {
   "cell_type": "markdown",
   "metadata": {},
   "source": [
    "#### ¿Estaría dispuesto a conocer más sobre los usos ancestrales del achiote?"
   ]
  },
  {
   "cell_type": "code",
   "execution_count": 21,
   "metadata": {},
   "outputs": [
    {
     "data": {
      "text/plain": [
       "\n",
       "No Si \n",
       " 2 32 "
      ]
     },
     "metadata": {},
     "output_type": "display_data"
    },
    {
     "data": {
      "image/png": "[encoded data removed]",
      "text/plain": [
       "Plot with title \"¿Estaría dispuesto a conocer más sobre los usos del achiote?\""
      ]
     },
     "metadata": {
      "image/png": {
       "height": 420,
       "width": 420
      }
     },
     "output_type": "display_data"
    }
   ],
   "source": [
    "temp <- as.character(achiote$Q3)\n",
    "si <- grep(\"Si\", temp, value = TRUE)\n",
    "no <- grep(\"No\", temp, value = TRUE) \n",
    "info <- table(c(si, no))\n",
    "xx <- barplot(info,main=\"¿Estaría dispuesto a conocer más sobre los usos del achiote?\", col=color.ramp, cex.lab=2)\n",
    "info"
   ]
  },
  {
   "cell_type": "markdown",
   "metadata": {},
   "source": [
    "#### ¿Qué tan efectivo cree usted que son los tratamientos alternativos de achiote?"
   ]
  },
  {
   "cell_type": "code",
   "execution_count": 22,
   "metadata": {},
   "outputs": [
    {
     "name": "stdout",
     "output_type": "stream",
     "text": [
      "[1] \"1 - No produce ningun efecto\"\n",
      "[1] \"2 - El efecto no es notable\"\n",
      "[1] \"3 - Levemente efectivo\"\n",
      "[1] \"4 - Efecto notable\"\n",
      "[1] \"5 - Efecto significativo\"\n"
     ]
    },
    {
     "data": {
      "text/plain": [
       "\n",
       " 1  2  3  4  5 \n",
       " 3  2 13 14  2 "
      ]
     },
     "metadata": {},
     "output_type": "display_data"
    },
    {
     "data": {
      "image/png": "[encoded data removed]",
      "text/plain": [
       "Plot with title \"¿Qué tan efectivo cree son los tratamientos alternativos de achiote?\""
      ]
     },
     "metadata": {
      "image/png": {
       "height": 420,
       "width": 420
      }
     },
     "output_type": "display_data"
    }
   ],
   "source": [
    "temp <- as.character(achiote$Q4)\n",
    "uno <- grep(1, temp, value = TRUE)\n",
    "dos <- grep(2, temp, value = TRUE) \n",
    "tres <- grep(3, temp, value = TRUE) \n",
    "cuatro <- grep(4, temp, value = TRUE) \n",
    "cinco <- grep(5, temp, value = TRUE) \n",
    "info <- table(c(uno, dos, tres, cuatro, cinco))\n",
    "print(\"1 - No produce ningun efecto\")\n",
    "print(\"2 - El efecto no es notable\")\n",
    "print(\"3 - Levemente efectivo\")\n",
    "print(\"4 - Efecto notable\")\n",
    "print(\"5 - Efecto significativo\")\n",
    "xx <- barplot(info,main=\"¿Qué tan efectivo cree son los tratamientos alternativos de achiote?\", col=color.ramp, cex.lab=2)\n",
    "info"
   ]
  },
  {
   "cell_type": "markdown",
   "metadata": {},
   "source": [
    "#### Justificación de nivel de creencia"
   ]
  },
  {
   "cell_type": "code",
   "execution_count": 23,
   "metadata": {},
   "outputs": [
    {
     "data": {
      "text/html": [
       "<table>\n",
       "<caption>A tibble: 264 × 2</caption>\n",
       "<thead>\n",
       "\t<tr><th scope=col>ngram</th><th scope=col>n</th></tr>\n",
       "\t<tr><th scope=col>&lt;chr&gt;</th><th scope=col>&lt;int&gt;</th></tr>\n",
       "</thead>\n",
       "<tbody>\n",
       "\t<tr><td>no conozco             </td><td>3</td></tr>\n",
       "\t<tr><td>no se                  </td><td>3</td></tr>\n",
       "\t<tr><td>achiote pero           </td><td>2</td></tr>\n",
       "\t<tr><td>con propiedades        </td><td>2</td></tr>\n",
       "\t<tr><td>confio en              </td><td>2</td></tr>\n",
       "\t<tr><td>conocimiento de        </td><td>2</td></tr>\n",
       "\t<tr><td>considero que          </td><td>2</td></tr>\n",
       "\t<tr><td>de los                 </td><td>2</td></tr>\n",
       "\t<tr><td>debe ser               </td><td>2</td></tr>\n",
       "\t<tr><td>efectos notables       </td><td>2</td></tr>\n",
       "\t<tr><td>la medicina            </td><td>2</td></tr>\n",
       "\t<tr><td>las plantas            </td><td>2</td></tr>\n",
       "\t<tr><td>lo natural             </td><td>2</td></tr>\n",
       "\t<tr><td>no tengo               </td><td>2</td></tr>\n",
       "\t<tr><td>pero no                </td><td>2</td></tr>\n",
       "\t<tr><td>puede ser              </td><td>2</td></tr>\n",
       "\t<tr><td>que lo                 </td><td>2</td></tr>\n",
       "\t<tr><td>si se                  </td><td>2</td></tr>\n",
       "\t<tr><td>su uso                 </td><td>2</td></tr>\n",
       "\t<tr><td>a comparacion          </td><td>1</td></tr>\n",
       "\t<tr><td>a corto                </td><td>1</td></tr>\n",
       "\t<tr><td>a estudios             </td><td>1</td></tr>\n",
       "\t<tr><td>abierto a              </td><td>1</td></tr>\n",
       "\t<tr><td>achiote es             </td><td>1</td></tr>\n",
       "\t<tr><td>actividad farmacologica</td><td>1</td></tr>\n",
       "\t<tr><td>actualidad debe        </td><td>1</td></tr>\n",
       "\t<tr><td>al organismo           </td><td>1</td></tr>\n",
       "\t<tr><td>algo natural           </td><td>1</td></tr>\n",
       "\t<tr><td>alguien que            </td><td>1</td></tr>\n",
       "\t<tr><td>aliviar a              </td><td>1</td></tr>\n",
       "\t<tr><td>...</td><td>...</td></tr>\n",
       "\t<tr><td>tiene efectos         </td><td>1</td></tr>\n",
       "\t<tr><td>tiene propiedades     </td><td>1</td></tr>\n",
       "\t<tr><td>tiene que             </td><td>1</td></tr>\n",
       "\t<tr><td>tienen actividad      </td><td>1</td></tr>\n",
       "\t<tr><td>todo lo               </td><td>1</td></tr>\n",
       "\t<tr><td>tradicional maya      </td><td>1</td></tr>\n",
       "\t<tr><td>tratado no            </td><td>1</td></tr>\n",
       "\t<tr><td>tratamiento no        </td><td>1</td></tr>\n",
       "\t<tr><td>tratamiento o         </td><td>1</td></tr>\n",
       "\t<tr><td>tratamientos naturales</td><td>1</td></tr>\n",
       "\t<tr><td>tratar enfermedades   </td><td>1</td></tr>\n",
       "\t<tr><td>tratar es             </td><td>1</td></tr>\n",
       "\t<tr><td>un efecto             </td><td>1</td></tr>\n",
       "\t<tr><td>una planta            </td><td>1</td></tr>\n",
       "\t<tr><td>unos nativos          </td><td>1</td></tr>\n",
       "\t<tr><td>usado achiote         </td><td>1</td></tr>\n",
       "\t<tr><td>uso se                </td><td>1</td></tr>\n",
       "\t<tr><td>uso t                 </td><td>1</td></tr>\n",
       "\t<tr><td>usos medicinales      </td><td>1</td></tr>\n",
       "\t<tr><td>util si               </td><td>1</td></tr>\n",
       "\t<tr><td>utiles porque         </td><td>1</td></tr>\n",
       "\t<tr><td>utilidades no         </td><td>1</td></tr>\n",
       "\t<tr><td>utiliza como          </td><td>1</td></tr>\n",
       "\t<tr><td>utilizaba y           </td><td>1</td></tr>\n",
       "\t<tr><td>utilizado no          </td><td>1</td></tr>\n",
       "\t<tr><td>utilzando tes         </td><td>1</td></tr>\n",
       "\t<tr><td>vi en                 </td><td>1</td></tr>\n",
       "\t<tr><td>y funcionaba          </td><td>1</td></tr>\n",
       "\t<tr><td>y malestares          </td><td>1</td></tr>\n",
       "\t<tr><td>ya que                </td><td>1</td></tr>\n",
       "</tbody>\n",
       "</table>\n"
      ],
      "text/latex": [
       "A tibble: 264 × 2\n",
       "\\begin{tabular}{ll}\n",
       " ngram & n\\\\\n",
       " <chr> & <int>\\\\\n",
       "\\hline\n",
       "\t no conozco              & 3\\\\\n",
       "\t no se                   & 3\\\\\n",
       "\t achiote pero            & 2\\\\\n",
       "\t con propiedades         & 2\\\\\n",
       "\t confio en               & 2\\\\\n",
       "\t conocimiento de         & 2\\\\\n",
       "\t considero que           & 2\\\\\n",
       "\t de los                  & 2\\\\\n",
       "\t debe ser                & 2\\\\\n",
       "\t efectos notables        & 2\\\\\n",
       "\t la medicina             & 2\\\\\n",
       "\t las plantas             & 2\\\\\n",
       "\t lo natural              & 2\\\\\n",
       "\t no tengo                & 2\\\\\n",
       "\t pero no                 & 2\\\\\n",
       "\t puede ser               & 2\\\\\n",
       "\t que lo                  & 2\\\\\n",
       "\t si se                   & 2\\\\\n",
       "\t su uso                  & 2\\\\\n",
       "\t a comparacion           & 1\\\\\n",
       "\t a corto                 & 1\\\\\n",
       "\t a estudios              & 1\\\\\n",
       "\t abierto a               & 1\\\\\n",
       "\t achiote es              & 1\\\\\n",
       "\t actividad farmacologica & 1\\\\\n",
       "\t actualidad debe         & 1\\\\\n",
       "\t al organismo            & 1\\\\\n",
       "\t algo natural            & 1\\\\\n",
       "\t alguien que             & 1\\\\\n",
       "\t aliviar a               & 1\\\\\n",
       "\t ... & ...\\\\\n",
       "\t tiene efectos          & 1\\\\\n",
       "\t tiene propiedades      & 1\\\\\n",
       "\t tiene que              & 1\\\\\n",
       "\t tienen actividad       & 1\\\\\n",
       "\t todo lo                & 1\\\\\n",
       "\t tradicional maya       & 1\\\\\n",
       "\t tratado no             & 1\\\\\n",
       "\t tratamiento no         & 1\\\\\n",
       "\t tratamiento o          & 1\\\\\n",
       "\t tratamientos naturales & 1\\\\\n",
       "\t tratar enfermedades    & 1\\\\\n",
       "\t tratar es              & 1\\\\\n",
       "\t un efecto              & 1\\\\\n",
       "\t una planta             & 1\\\\\n",
       "\t unos nativos           & 1\\\\\n",
       "\t usado achiote          & 1\\\\\n",
       "\t uso se                 & 1\\\\\n",
       "\t uso t                  & 1\\\\\n",
       "\t usos medicinales       & 1\\\\\n",
       "\t util si                & 1\\\\\n",
       "\t utiles porque          & 1\\\\\n",
       "\t utilidades no          & 1\\\\\n",
       "\t utiliza como           & 1\\\\\n",
       "\t utilizaba y            & 1\\\\\n",
       "\t utilizado no           & 1\\\\\n",
       "\t utilzando tes          & 1\\\\\n",
       "\t vi en                  & 1\\\\\n",
       "\t y funcionaba           & 1\\\\\n",
       "\t y malestares           & 1\\\\\n",
       "\t ya que                 & 1\\\\\n",
       "\\end{tabular}\n"
      ],
      "text/markdown": [
       "\n",
       "A tibble: 264 × 2\n",
       "\n",
       "| ngram &lt;chr&gt; | n &lt;int&gt; |\n",
       "|---|---|\n",
       "| no conozco              | 3 |\n",
       "| no se                   | 3 |\n",
       "| achiote pero            | 2 |\n",
       "| con propiedades         | 2 |\n",
       "| confio en               | 2 |\n",
       "| conocimiento de         | 2 |\n",
       "| considero que           | 2 |\n",
       "| de los                  | 2 |\n",
       "| debe ser                | 2 |\n",
       "| efectos notables        | 2 |\n",
       "| la medicina             | 2 |\n",
       "| las plantas             | 2 |\n",
       "| lo natural              | 2 |\n",
       "| no tengo                | 2 |\n",
       "| pero no                 | 2 |\n",
       "| puede ser               | 2 |\n",
       "| que lo                  | 2 |\n",
       "| si se                   | 2 |\n",
       "| su uso                  | 2 |\n",
       "| a comparacion           | 1 |\n",
       "| a corto                 | 1 |\n",
       "| a estudios              | 1 |\n",
       "| abierto a               | 1 |\n",
       "| achiote es              | 1 |\n",
       "| actividad farmacologica | 1 |\n",
       "| actualidad debe         | 1 |\n",
       "| al organismo            | 1 |\n",
       "| algo natural            | 1 |\n",
       "| alguien que             | 1 |\n",
       "| aliviar a               | 1 |\n",
       "| ... | ... |\n",
       "| tiene efectos          | 1 |\n",
       "| tiene propiedades      | 1 |\n",
       "| tiene que              | 1 |\n",
       "| tienen actividad       | 1 |\n",
       "| todo lo                | 1 |\n",
       "| tradicional maya       | 1 |\n",
       "| tratado no             | 1 |\n",
       "| tratamiento no         | 1 |\n",
       "| tratamiento o          | 1 |\n",
       "| tratamientos naturales | 1 |\n",
       "| tratar enfermedades    | 1 |\n",
       "| tratar es              | 1 |\n",
       "| un efecto              | 1 |\n",
       "| una planta             | 1 |\n",
       "| unos nativos           | 1 |\n",
       "| usado achiote          | 1 |\n",
       "| uso se                 | 1 |\n",
       "| uso t                  | 1 |\n",
       "| usos medicinales       | 1 |\n",
       "| util si                | 1 |\n",
       "| utiles porque          | 1 |\n",
       "| utilidades no          | 1 |\n",
       "| utiliza como           | 1 |\n",
       "| utilizaba y            | 1 |\n",
       "| utilizado no           | 1 |\n",
       "| utilzando tes          | 1 |\n",
       "| vi en                  | 1 |\n",
       "| y funcionaba           | 1 |\n",
       "| y malestares           | 1 |\n",
       "| ya que                 | 1 |\n",
       "\n"
      ],
      "text/plain": [
       "    ngram                   n  \n",
       "1   no conozco              3  \n",
       "2   no se                   3  \n",
       "3   achiote pero            2  \n",
       "4   con propiedades         2  \n",
       "5   confio en               2  \n",
       "6   conocimiento de         2  \n",
       "7   considero que           2  \n",
       "8   de los                  2  \n",
       "9   debe ser                2  \n",
       "10  efectos notables        2  \n",
       "11  la medicina             2  \n",
       "12  las plantas             2  \n",
       "13  lo natural              2  \n",
       "14  no tengo                2  \n",
       "15  pero no                 2  \n",
       "16  puede ser               2  \n",
       "17  que lo                  2  \n",
       "18  si se                   2  \n",
       "19  su uso                  2  \n",
       "20  a comparacion           1  \n",
       "21  a corto                 1  \n",
       "22  a estudios              1  \n",
       "23  abierto a               1  \n",
       "24  achiote es              1  \n",
       "25  actividad farmacologica 1  \n",
       "26  actualidad debe         1  \n",
       "27  al organismo            1  \n",
       "28  algo natural            1  \n",
       "29  alguien que             1  \n",
       "30  aliviar a               1  \n",
       "... ...                     ...\n",
       "235 tiene efectos           1  \n",
       "236 tiene propiedades       1  \n",
       "237 tiene que               1  \n",
       "238 tienen actividad        1  \n",
       "239 todo lo                 1  \n",
       "240 tradicional maya        1  \n",
       "241 tratado no              1  \n",
       "242 tratamiento no          1  \n",
       "243 tratamiento o           1  \n",
       "244 tratamientos naturales  1  \n",
       "245 tratar enfermedades     1  \n",
       "246 tratar es               1  \n",
       "247 un efecto               1  \n",
       "248 una planta              1  \n",
       "249 unos nativos            1  \n",
       "250 usado achiote           1  \n",
       "251 uso se                  1  \n",
       "252 uso t                   1  \n",
       "253 usos medicinales        1  \n",
       "254 util si                 1  \n",
       "255 utiles porque           1  \n",
       "256 utilidades no           1  \n",
       "257 utiliza como            1  \n",
       "258 utilizaba y             1  \n",
       "259 utilizado no            1  \n",
       "260 utilzando tes           1  \n",
       "261 vi en                   1  \n",
       "262 y funcionaba            1  \n",
       "263 y malestares            1  \n",
       "264 ya que                  1  "
      ]
     },
     "metadata": {},
     "output_type": "display_data"
    }
   ],
   "source": [
    "text <- toupper(as.character(levels(achiote$Justificacion_1)))\n",
    "text <- chartr(\"ÁÉÍÓÚ\", \"AEIOU\", text)\n",
    "text_df <- tibble(text = text)\n",
    "\n",
    "custom_stop_words <- bind_rows(stop_words,\n",
    "                               tibble(word = c(tm::stopwords(\"spanish\"), \"dolor\", \"estomago\", \"infusion\", \"colicos\"),\n",
    "                                          lexicon = \"custom\"))\n",
    "\n",
    "text_df %>% \n",
    "     unnest_tokens(ngram, text, token = \"ngrams\", n = 2) %>%\n",
    "     count(ngram, sort = TRUE)"
   ]
  },
  {
   "cell_type": "markdown",
   "metadata": {},
   "source": [
    "#### ¿Conoce usted otro nombre para el achiote?"
   ]
  },
  {
   "cell_type": "code",
   "execution_count": 24,
   "metadata": {},
   "outputs": [
    {
     "data": {
      "text/plain": [
       "\n",
       "       Bija    No Urucu \n",
       "   34     1    65     1 "
      ]
     },
     "metadata": {},
     "output_type": "display_data"
    },
    {
     "data": {
      "image/png": "[encoded data removed]",
      "text/plain": [
       "Plot with title \"¿Conoce usted otro nombre para el achiote?\""
      ]
     },
     "metadata": {
      "image/png": {
       "height": 420,
       "width": 420
      }
     },
     "output_type": "display_data"
    }
   ],
   "source": [
    "info <- table(achiote$Q5)\n",
    "xx <- barplot(info,main=\"¿Conoce usted otro nombre para el achiote?\", col=color.ramp, cex.lab=2)\n",
    "info"
   ]
  },
  {
   "cell_type": "markdown",
   "metadata": {},
   "source": [
    "#### ¿Qué usos ha oido usted del achiote? ¿cuales usos le ha dado usted al achiote?"
   ]
  },
  {
   "cell_type": "code",
   "execution_count": 25,
   "metadata": {},
   "outputs": [
    {
     "data": {
      "text/html": [
       "<table>\n",
       "<caption>A tibble: 4 × 2</caption>\n",
       "<thead>\n",
       "\t<tr><th scope=col>word</th><th scope=col>n</th></tr>\n",
       "\t<tr><th scope=col>&lt;chr&gt;</th><th scope=col>&lt;int&gt;</th></tr>\n",
       "</thead>\n",
       "<tbody>\n",
       "\t<tr><td>culinario</td><td>60</td></tr>\n",
       "\t<tr><td>tinte    </td><td>41</td></tr>\n",
       "\t<tr><td>medicinal</td><td>21</td></tr>\n",
       "\t<tr><td>cosmetico</td><td>10</td></tr>\n",
       "</tbody>\n",
       "</table>\n"
      ],
      "text/latex": [
       "A tibble: 4 × 2\n",
       "\\begin{tabular}{ll}\n",
       " word & n\\\\\n",
       " <chr> & <int>\\\\\n",
       "\\hline\n",
       "\t culinario & 60\\\\\n",
       "\t tinte     & 41\\\\\n",
       "\t medicinal & 21\\\\\n",
       "\t cosmetico & 10\\\\\n",
       "\\end{tabular}\n"
      ],
      "text/markdown": [
       "\n",
       "A tibble: 4 × 2\n",
       "\n",
       "| word &lt;chr&gt; | n &lt;int&gt; |\n",
       "|---|---|\n",
       "| culinario | 60 |\n",
       "| tinte     | 41 |\n",
       "| medicinal | 21 |\n",
       "| cosmetico | 10 |\n",
       "\n"
      ],
      "text/plain": [
       "  word      n \n",
       "1 culinario 60\n",
       "2 tinte     41\n",
       "3 medicinal 21\n",
       "4 cosmetico 10"
      ]
     },
     "metadata": {},
     "output_type": "display_data"
    },
    {
     "data": {
      "image/png": "[encoded data removed]",
      "text/plain": [
       "plot without title"
      ]
     },
     "metadata": {
      "image/png": {
       "height": 420,
       "width": 420
      }
     },
     "output_type": "display_data"
    }
   ],
   "source": [
    "text <- toupper(as.character(achiote$Q6))\n",
    "text <- chartr(\"ÁÉÍÓÚ\", \"AEIOU\", text)\n",
    "text_df <- tibble(text = text)\n",
    "\n",
    "text_df <- text_df %>% \n",
    "    unnest_tokens(word, text) %>%\n",
    "    count(word, sort = TRUE)\n",
    "\n",
    "text_df %>%\n",
    "  filter(n > 1) %>%\n",
    "  mutate(word = reorder(word, n)) %>%\n",
    "  ggplot(aes(word, n)) +\n",
    "  geom_col() +\n",
    "  geom_bar(stat=\"identity\", fill = \"#AFC8F5\") +\n",
    "  labs(x = \"Usos\", y = \"Ocurrencias\") +\n",
    "  coord_flip()\n",
    "\n",
    "text_df"
   ]
  },
  {
   "cell_type": "markdown",
   "metadata": {},
   "source": [
    "#### Conoce como aplicaciones del achiote"
   ]
  },
  {
   "cell_type": "code",
   "execution_count": 26,
   "metadata": {},
   "outputs": [
    {
     "name": "stderr",
     "output_type": "stream",
     "text": [
      "Joining, by = \"word\"\n",
      "\n"
     ]
    },
    {
     "data": {
      "text/html": [
       "<table>\n",
       "<caption>A tibble: 26 × 2</caption>\n",
       "<thead>\n",
       "\t<tr><th scope=col>word</th><th scope=col>n</th></tr>\n",
       "\t<tr><th scope=col>&lt;chr&gt;</th><th scope=col>&lt;int&gt;</th></tr>\n",
       "</thead>\n",
       "<tbody>\n",
       "\t<tr><td>colorante   </td><td>78</td></tr>\n",
       "\t<tr><td>bebidas     </td><td>61</td></tr>\n",
       "\t<tr><td>comidas     </td><td>61</td></tr>\n",
       "\t<tr><td>textiles    </td><td>44</td></tr>\n",
       "\t<tr><td>tinte       </td><td>44</td></tr>\n",
       "\t<tr><td>pintalabios </td><td>16</td></tr>\n",
       "\t<tr><td>alivio      </td><td>10</td></tr>\n",
       "\t<tr><td>fiebre      </td><td> 6</td></tr>\n",
       "\t<tr><td>leche       </td><td> 5</td></tr>\n",
       "\t<tr><td>diarrea     </td><td> 4</td></tr>\n",
       "\t<tr><td>dientes     </td><td> 4</td></tr>\n",
       "\t<tr><td>dolor       </td><td> 4</td></tr>\n",
       "\t<tr><td>repelente   </td><td> 4</td></tr>\n",
       "\t<tr><td>protector   </td><td> 2</td></tr>\n",
       "\t<tr><td>alimentacion</td><td> 1</td></tr>\n",
       "\t<tr><td>diabetes    </td><td> 1</td></tr>\n",
       "\t<tr><td>gallina     </td><td> 1</td></tr>\n",
       "\t<tr><td>glucosa     </td><td> 1</td></tr>\n",
       "\t<tr><td>huevo       </td><td> 1</td></tr>\n",
       "\t<tr><td>insulina    </td><td> 1</td></tr>\n",
       "\t<tr><td>mediante    </td><td> 1</td></tr>\n",
       "\t<tr><td>ninguna     </td><td> 1</td></tr>\n",
       "\t<tr><td>sangre      </td><td> 1</td></tr>\n",
       "\t<tr><td>semillas    </td><td> 1</td></tr>\n",
       "\t<tr><td>tratar      </td><td> 1</td></tr>\n",
       "\t<tr><td>yemas       </td><td> 1</td></tr>\n",
       "</tbody>\n",
       "</table>\n"
      ],
      "text/latex": [
       "A tibble: 26 × 2\n",
       "\\begin{tabular}{ll}\n",
       " word & n\\\\\n",
       " <chr> & <int>\\\\\n",
       "\\hline\n",
       "\t colorante    & 78\\\\\n",
       "\t bebidas      & 61\\\\\n",
       "\t comidas      & 61\\\\\n",
       "\t textiles     & 44\\\\\n",
       "\t tinte        & 44\\\\\n",
       "\t pintalabios  & 16\\\\\n",
       "\t alivio       & 10\\\\\n",
       "\t fiebre       &  6\\\\\n",
       "\t leche        &  5\\\\\n",
       "\t diarrea      &  4\\\\\n",
       "\t dientes      &  4\\\\\n",
       "\t dolor        &  4\\\\\n",
       "\t repelente    &  4\\\\\n",
       "\t protector    &  2\\\\\n",
       "\t alimentacion &  1\\\\\n",
       "\t diabetes     &  1\\\\\n",
       "\t gallina      &  1\\\\\n",
       "\t glucosa      &  1\\\\\n",
       "\t huevo        &  1\\\\\n",
       "\t insulina     &  1\\\\\n",
       "\t mediante     &  1\\\\\n",
       "\t ninguna      &  1\\\\\n",
       "\t sangre       &  1\\\\\n",
       "\t semillas     &  1\\\\\n",
       "\t tratar       &  1\\\\\n",
       "\t yemas        &  1\\\\\n",
       "\\end{tabular}\n"
      ],
      "text/markdown": [
       "\n",
       "A tibble: 26 × 2\n",
       "\n",
       "| word &lt;chr&gt; | n &lt;int&gt; |\n",
       "|---|---|\n",
       "| colorante    | 78 |\n",
       "| bebidas      | 61 |\n",
       "| comidas      | 61 |\n",
       "| textiles     | 44 |\n",
       "| tinte        | 44 |\n",
       "| pintalabios  | 16 |\n",
       "| alivio       | 10 |\n",
       "| fiebre       |  6 |\n",
       "| leche        |  5 |\n",
       "| diarrea      |  4 |\n",
       "| dientes      |  4 |\n",
       "| dolor        |  4 |\n",
       "| repelente    |  4 |\n",
       "| protector    |  2 |\n",
       "| alimentacion |  1 |\n",
       "| diabetes     |  1 |\n",
       "| gallina      |  1 |\n",
       "| glucosa      |  1 |\n",
       "| huevo        |  1 |\n",
       "| insulina     |  1 |\n",
       "| mediante     |  1 |\n",
       "| ninguna      |  1 |\n",
       "| sangre       |  1 |\n",
       "| semillas     |  1 |\n",
       "| tratar       |  1 |\n",
       "| yemas        |  1 |\n",
       "\n"
      ],
      "text/plain": [
       "   word         n \n",
       "1  colorante    78\n",
       "2  bebidas      61\n",
       "3  comidas      61\n",
       "4  textiles     44\n",
       "5  tinte        44\n",
       "6  pintalabios  16\n",
       "7  alivio       10\n",
       "8  fiebre        6\n",
       "9  leche         5\n",
       "10 diarrea       4\n",
       "11 dientes       4\n",
       "12 dolor         4\n",
       "13 repelente     4\n",
       "14 protector     2\n",
       "15 alimentacion  1\n",
       "16 diabetes      1\n",
       "17 gallina       1\n",
       "18 glucosa       1\n",
       "19 huevo         1\n",
       "20 insulina      1\n",
       "21 mediante      1\n",
       "22 ninguna       1\n",
       "23 sangre        1\n",
       "24 semillas      1\n",
       "25 tratar        1\n",
       "26 yemas         1"
      ]
     },
     "metadata": {},
     "output_type": "display_data"
    },
    {
     "data": {
      "image/png": "[encoded data removed]",
      "text/plain": [
       "plot without title"
      ]
     },
     "metadata": {
      "image/png": {
       "height": 420,
       "width": 420
      }
     },
     "output_type": "display_data"
    }
   ],
   "source": [
    "text <- toupper(as.character(achiote$Q7))\n",
    "text <- chartr(\"ÁÉÍÓÚ\", \"AEIOU\", text)\n",
    "text_df <- tibble(text = text)\n",
    "\n",
    "custom_stop_words <- bind_rows(stop_words,\n",
    "                               tibble(word = c(tm::stopwords(\"spanish\"), \"quita\", \"aumenta\", \"materna\", \"flujo\", \"achiote\", \"aplicacion\", \"conozco\", \"consumo\", \"control\", \"solar\", \"mosquitos\"),\n",
    "                                          lexicon = \"custom\"))\n",
    "\n",
    "text_df <- text_df %>% \n",
    "    unnest_tokens(word, text) %>%\n",
    "    anti_join(custom_stop_words) %>%\n",
    "    count(word, sort = TRUE)\n",
    "\n",
    "text_df %>%\n",
    "  filter(n > 1) %>%\n",
    "  mutate(word = reorder(word, n)) %>%\n",
    "  ggplot(aes(word, n)) +\n",
    "  geom_col() +\n",
    "  geom_bar(stat=\"identity\", fill = \"#9299DE\") +\n",
    "  labs(x = \"Aplicaciones\", y = \"Ocurrencias\") +\n",
    "  coord_flip()\n",
    "\n",
    "text_df"
   ]
  },
  {
   "cell_type": "markdown",
   "metadata": {},
   "source": [
    "#### ¿Con qué frecuencia utiliza el achiote en cualquiera de sus presentaciones?"
   ]
  },
  {
   "cell_type": "code",
   "execution_count": 27,
   "metadata": {},
   "outputs": [
    {
     "data": {
      "text/plain": [
       "\n",
       "                                   Mensualmente           No lo utilizo \n",
       "                     34                      14                      19 \n",
       "           Semanalmente Una vez cada seis meses \n",
       "                      5                      29 "
      ]
     },
     "metadata": {},
     "output_type": "display_data"
    },
    {
     "data": {
      "image/png": "[encoded data removed]",
      "text/plain": [
       "Plot with title \"¿Con qué frecuencia utiliza el achiote en cualquiera de sus presentaciones?\""
      ]
     },
     "metadata": {
      "image/png": {
       "height": 420,
       "width": 420
      }
     },
     "output_type": "display_data"
    }
   ],
   "source": [
    "info <- table(achiote$Q8)\n",
    "xx <- barplot(info,main=\"¿Con qué frecuencia utiliza el achiote en cualquiera de sus presentaciones?\", col=color.ramp, cex.lab=2)\n",
    "info"
   ]
  },
  {
   "cell_type": "markdown",
   "metadata": {},
   "source": [
    "#### ¿Cómo obtiene usted el achiote?"
   ]
  },
  {
   "cell_type": "code",
   "execution_count": 28,
   "metadata": {},
   "outputs": [
    {
     "name": "stderr",
     "output_type": "stream",
     "text": [
      "Joining, by = \"word\"\n",
      "\n"
     ]
    },
    {
     "data": {
      "text/html": [
       "<table>\n",
       "<caption>A tibble: 11 × 2</caption>\n",
       "<thead>\n",
       "\t<tr><th scope=col>word</th><th scope=col>n</th></tr>\n",
       "\t<tr><th scope=col>&lt;chr&gt;</th><th scope=col>&lt;int&gt;</th></tr>\n",
       "</thead>\n",
       "<tbody>\n",
       "\t<tr><td>mercado     </td><td>45</td></tr>\n",
       "\t<tr><td>supermercado</td><td>20</td></tr>\n",
       "\t<tr><td>tienda      </td><td>16</td></tr>\n",
       "\t<tr><td>achiote     </td><td>11</td></tr>\n",
       "\t<tr><td>obtengo     </td><td>11</td></tr>\n",
       "\t<tr><td>compro      </td><td> 1</td></tr>\n",
       "\t<tr><td>distribuidor</td><td> 1</td></tr>\n",
       "\t<tr><td>personal    </td><td> 1</td></tr>\n",
       "\t<tr><td>producciã   </td><td> 1</td></tr>\n",
       "\t<tr><td>propia      </td><td> 1</td></tr>\n",
       "\t<tr><td>tamales     </td><td> 1</td></tr>\n",
       "</tbody>\n",
       "</table>\n"
      ],
      "text/latex": [
       "A tibble: 11 × 2\n",
       "\\begin{tabular}{ll}\n",
       " word & n\\\\\n",
       " <chr> & <int>\\\\\n",
       "\\hline\n",
       "\t mercado      & 45\\\\\n",
       "\t supermercado & 20\\\\\n",
       "\t tienda       & 16\\\\\n",
       "\t achiote      & 11\\\\\n",
       "\t obtengo      & 11\\\\\n",
       "\t compro       &  1\\\\\n",
       "\t distribuidor &  1\\\\\n",
       "\t personal     &  1\\\\\n",
       "\t producciã    &  1\\\\\n",
       "\t propia       &  1\\\\\n",
       "\t tamales      &  1\\\\\n",
       "\\end{tabular}\n"
      ],
      "text/markdown": [
       "\n",
       "A tibble: 11 × 2\n",
       "\n",
       "| word &lt;chr&gt; | n &lt;int&gt; |\n",
       "|---|---|\n",
       "| mercado      | 45 |\n",
       "| supermercado | 20 |\n",
       "| tienda       | 16 |\n",
       "| achiote      | 11 |\n",
       "| obtengo      | 11 |\n",
       "| compro       |  1 |\n",
       "| distribuidor |  1 |\n",
       "| personal     |  1 |\n",
       "| producciã    |  1 |\n",
       "| propia       |  1 |\n",
       "| tamales      |  1 |\n",
       "\n"
      ],
      "text/plain": [
       "   word         n \n",
       "1  mercado      45\n",
       "2  supermercado 20\n",
       "3  tienda       16\n",
       "4  achiote      11\n",
       "5  obtengo      11\n",
       "6  compro        1\n",
       "7  distribuidor  1\n",
       "8  personal      1\n",
       "9  producciã     1\n",
       "10 propia        1\n",
       "11 tamales       1"
      ]
     },
     "metadata": {},
     "output_type": "display_data"
    },
    {
     "data": {
      "image/png": "[encoded data removed]",
      "text/plain": [
       "plot without title"
      ]
     },
     "metadata": {
      "image/png": {
       "height": 420,
       "width": 420
      }
     },
     "output_type": "display_data"
    }
   ],
   "source": [
    "text <- toupper(as.character(achiote$Q9))\n",
    "text <- chartr(\"ÁÉÍÓÚ\", \"AEIOU\", text)\n",
    "text_df <- tibble(text = text)\n",
    "\n",
    "custom_stop_words <- bind_rows(stop_words,\n",
    "                               tibble(word = c(tm::stopwords(\"spanish\"), \"conveniencia\"),\n",
    "                                          lexicon = \"custom\"))\n",
    "\n",
    "text_df <- text_df %>% \n",
    "    unnest_tokens(word, text) %>%\n",
    "    anti_join(custom_stop_words) %>%\n",
    "    count(word, sort = TRUE)\n",
    "\n",
    "text_df %>%\n",
    "  filter(n > 11) %>%\n",
    "  mutate(word = reorder(word, n)) %>%\n",
    "  ggplot(aes(word, n)) +\n",
    "  geom_col() +\n",
    "  geom_bar(stat=\"identity\", fill = \"#9299DE\") +\n",
    "  labs(x = \"Lugar obtencion\", y = \"Ocurrencias\") +\n",
    "  coord_flip()\n",
    "\n",
    "text_df"
   ]
  },
  {
   "cell_type": "markdown",
   "metadata": {},
   "source": [
    "#### ¿Está usted al tanto que es posible conseguir achiote en los centro de conveniencia bajo el apartado de especias?"
   ]
  },
  {
   "cell_type": "code",
   "execution_count": 29,
   "metadata": {},
   "outputs": [
    {
     "data": {
      "text/plain": [
       "\n",
       "   No Si \n",
       "34 19 48 "
      ]
     },
     "metadata": {},
     "output_type": "display_data"
    },
    {
     "data": {
      "image/png": "[encoded data removed]",
      "text/plain": [
       "Plot with title \"¿conseguir achiote en los centro de conveniencia en especias?\""
      ]
     },
     "metadata": {
      "image/png": {
       "height": 420,
       "width": 420
      }
     },
     "output_type": "display_data"
    }
   ],
   "source": [
    "info <- table(achiote$Q10)\n",
    "xx <- barplot(info,main=\"¿conseguir achiote en los centro de conveniencia en especias?\", col=color.ramp, cex.lab=2)\n",
    "info"
   ]
  },
  {
   "cell_type": "markdown",
   "metadata": {},
   "source": [
    "#### Seleccione qué parte de la planta de Bixa orellana L. (achiote) se utiliza para obtener el polvo rojo comúnmente comercializado"
   ]
  },
  {
   "cell_type": "code",
   "execution_count": 30,
   "metadata": {},
   "outputs": [
    {
     "data": {
      "text/plain": [
       "\n",
       "                                               \n",
       "                                            34 \n",
       "                                        Flores \n",
       "                                             1 \n",
       "                                         Fruto \n",
       "                                            15 \n",
       "                                         Hojas \n",
       "                                             2 \n",
       "No se obtiene ningún polvo rojo de esta planta \n",
       "                                             3 \n",
       "                                          Raíz \n",
       "                                            11 \n",
       "                                      Semillas \n",
       "                                            33 \n",
       "                                         Tallo \n",
       "                                             2 "
      ]
     },
     "metadata": {},
     "output_type": "display_data"
    },
    {
     "data": {
      "image/png": "[encoded data removed]",
      "text/plain": [
       "Plot with title \"qué parte se utiliza para obtener el polvo rojo comúnmente comercializado\""
      ]
     },
     "metadata": {
      "image/png": {
       "height": 420,
       "width": 420
      }
     },
     "output_type": "display_data"
    }
   ],
   "source": [
    "info <- table(achiote$Q11)\n",
    "xx <- barplot(info,\n",
    "              main=\"qué parte se utiliza para obtener el polvo rojo comúnmente comercializado\",\n",
    "              col=color.ramp,\n",
    "              cex.lab=2)\n",
    "info"
   ]
  },
  {
   "cell_type": "markdown",
   "metadata": {},
   "source": [
    "#### ¿Conoce alguna otra planta tintorea de comida?"
   ]
  },
  {
   "cell_type": "code",
   "execution_count": 31,
   "metadata": {},
   "outputs": [
    {
     "name": "stderr",
     "output_type": "stream",
     "text": [
      "Joining, by = \"word\"\n",
      "\n"
     ]
    },
    {
     "data": {
      "text/html": [
       "<table>\n",
       "<caption>A tibble: 10 × 2</caption>\n",
       "<thead>\n",
       "\t<tr><th scope=col>word</th><th scope=col>n</th></tr>\n",
       "\t<tr><th scope=col>&lt;chr&gt;</th><th scope=col>&lt;int&gt;</th></tr>\n",
       "</thead>\n",
       "<tbody>\n",
       "\t<tr><td>remolacha</td><td>44</td></tr>\n",
       "\t<tr><td>azafran  </td><td>14</td></tr>\n",
       "\t<tr><td>ninguna  </td><td> 6</td></tr>\n",
       "\t<tr><td>curcuma  </td><td> 4</td></tr>\n",
       "\t<tr><td>aguacate </td><td> 1</td></tr>\n",
       "\t<tr><td>cebolla  </td><td> 1</td></tr>\n",
       "\t<tr><td>frijol   </td><td> 1</td></tr>\n",
       "\t<tr><td>morado   </td><td> 1</td></tr>\n",
       "\t<tr><td>repollo  </td><td> 1</td></tr>\n",
       "\t<tr><td>semilla  </td><td> 1</td></tr>\n",
       "</tbody>\n",
       "</table>\n"
      ],
      "text/latex": [
       "A tibble: 10 × 2\n",
       "\\begin{tabular}{ll}\n",
       " word & n\\\\\n",
       " <chr> & <int>\\\\\n",
       "\\hline\n",
       "\t remolacha & 44\\\\\n",
       "\t azafran   & 14\\\\\n",
       "\t ninguna   &  6\\\\\n",
       "\t curcuma   &  4\\\\\n",
       "\t aguacate  &  1\\\\\n",
       "\t cebolla   &  1\\\\\n",
       "\t frijol    &  1\\\\\n",
       "\t morado    &  1\\\\\n",
       "\t repollo   &  1\\\\\n",
       "\t semilla   &  1\\\\\n",
       "\\end{tabular}\n"
      ],
      "text/markdown": [
       "\n",
       "A tibble: 10 × 2\n",
       "\n",
       "| word &lt;chr&gt; | n &lt;int&gt; |\n",
       "|---|---|\n",
       "| remolacha | 44 |\n",
       "| azafran   | 14 |\n",
       "| ninguna   |  6 |\n",
       "| curcuma   |  4 |\n",
       "| aguacate  |  1 |\n",
       "| cebolla   |  1 |\n",
       "| frijol    |  1 |\n",
       "| morado    |  1 |\n",
       "| repollo   |  1 |\n",
       "| semilla   |  1 |\n",
       "\n"
      ],
      "text/plain": [
       "   word      n \n",
       "1  remolacha 44\n",
       "2  azafran   14\n",
       "3  ninguna    6\n",
       "4  curcuma    4\n",
       "5  aguacate   1\n",
       "6  cebolla    1\n",
       "7  frijol     1\n",
       "8  morado     1\n",
       "9  repollo    1\n",
       "10 semilla    1"
      ]
     },
     "metadata": {},
     "output_type": "display_data"
    },
    {
     "data": {
      "image/png": "[encoded data removed]",
      "text/plain": [
       "plot without title"
      ]
     },
     "metadata": {
      "image/png": {
       "height": 420,
       "width": 420
      }
     },
     "output_type": "display_data"
    }
   ],
   "source": [
    "text <- toupper(as.character(achiote$Q12))\n",
    "text <- chartr(\"ÁÉÍÓÚ\", \"AEIOU\", text)\n",
    "text_df <- tibble(text = text)\n",
    "\n",
    "custom_stop_words <- bind_rows(stop_words,\n",
    "                               tibble(word = c(tm::stopwords(\"spanish\"), \"otra\", \"no\",\"planta\",\"tintorea\", \"de\", \"cascara\", \"conozco\"),\n",
    "                                          lexicon = \"custom\"))\n",
    "\n",
    "text_df <- text_df %>% \n",
    "    unnest_tokens(word, text) %>%\n",
    "    anti_join(custom_stop_words) %>%\n",
    "    count(word, sort = TRUE)\n",
    "\n",
    "text_df %>%\n",
    "  mutate(word = reorder(word, n)) %>%\n",
    "  ggplot(aes(word, n)) +\n",
    "  geom_col() +\n",
    "  geom_bar(stat=\"identity\", fill = \"#D9C089\") +\n",
    "  labs(x = \"Planta\", y = \"Veces mencionada\") +\n",
    "  coord_flip()\n",
    "\n",
    "text_df"
   ]
  },
  {
   "cell_type": "markdown",
   "metadata": {},
   "source": [
    "#### ¿Ha utilizado usted alguna planta tintorea de comida?"
   ]
  },
  {
   "cell_type": "code",
   "execution_count": 32,
   "metadata": {
    "scrolled": true
   },
   "outputs": [
    {
     "name": "stderr",
     "output_type": "stream",
     "text": [
      "Joining, by = \"word\"\n",
      "\n"
     ]
    },
    {
     "data": {
      "text/html": [
       "<table>\n",
       "<caption>A tibble: 21 × 2</caption>\n",
       "<thead>\n",
       "\t<tr><th scope=col>word</th><th scope=col>n</th></tr>\n",
       "\t<tr><th scope=col>&lt;chr&gt;</th><th scope=col>&lt;int&gt;</th></tr>\n",
       "</thead>\n",
       "<tbody>\n",
       "\t<tr><td>remolacha </td><td>19</td></tr>\n",
       "\t<tr><td>azafran   </td><td>10</td></tr>\n",
       "\t<tr><td>curcuma   </td><td> 7</td></tr>\n",
       "\t<tr><td>achiote   </td><td> 4</td></tr>\n",
       "\t<tr><td>arroz     </td><td> 2</td></tr>\n",
       "\t<tr><td>curry     </td><td> 2</td></tr>\n",
       "\t<tr><td>curtidos  </td><td> 2</td></tr>\n",
       "\t<tr><td>paella    </td><td> 2</td></tr>\n",
       "\t<tr><td>aguacates </td><td> 1</td></tr>\n",
       "\t<tr><td>betabel   </td><td> 1</td></tr>\n",
       "\t<tr><td>carnes    </td><td> 1</td></tr>\n",
       "\t<tr><td>col       </td><td> 1</td></tr>\n",
       "\t<tr><td>crcuma    </td><td> 1</td></tr>\n",
       "\t<tr><td>ensalada  </td><td> 1</td></tr>\n",
       "\t<tr><td>papas     </td><td> 1</td></tr>\n",
       "\t<tr><td>remolachas</td><td> 1</td></tr>\n",
       "\t<tr><td>repollo   </td><td> 1</td></tr>\n",
       "\t<tr><td>salchicha </td><td> 1</td></tr>\n",
       "\t<tr><td>salsas    </td><td> 1</td></tr>\n",
       "\t<tr><td>tomate    </td><td> 1</td></tr>\n",
       "\t<tr><td>zanahoria </td><td> 1</td></tr>\n",
       "</tbody>\n",
       "</table>\n"
      ],
      "text/latex": [
       "A tibble: 21 × 2\n",
       "\\begin{tabular}{ll}\n",
       " word & n\\\\\n",
       " <chr> & <int>\\\\\n",
       "\\hline\n",
       "\t remolacha  & 19\\\\\n",
       "\t azafran    & 10\\\\\n",
       "\t curcuma    &  7\\\\\n",
       "\t achiote    &  4\\\\\n",
       "\t arroz      &  2\\\\\n",
       "\t curry      &  2\\\\\n",
       "\t curtidos   &  2\\\\\n",
       "\t paella     &  2\\\\\n",
       "\t aguacates  &  1\\\\\n",
       "\t betabel    &  1\\\\\n",
       "\t carnes     &  1\\\\\n",
       "\t col        &  1\\\\\n",
       "\t crcuma     &  1\\\\\n",
       "\t ensalada   &  1\\\\\n",
       "\t papas      &  1\\\\\n",
       "\t remolachas &  1\\\\\n",
       "\t repollo    &  1\\\\\n",
       "\t salchicha  &  1\\\\\n",
       "\t salsas     &  1\\\\\n",
       "\t tomate     &  1\\\\\n",
       "\t zanahoria  &  1\\\\\n",
       "\\end{tabular}\n"
      ],
      "text/markdown": [
       "\n",
       "A tibble: 21 × 2\n",
       "\n",
       "| word &lt;chr&gt; | n &lt;int&gt; |\n",
       "|---|---|\n",
       "| remolacha  | 19 |\n",
       "| azafran    | 10 |\n",
       "| curcuma    |  7 |\n",
       "| achiote    |  4 |\n",
       "| arroz      |  2 |\n",
       "| curry      |  2 |\n",
       "| curtidos   |  2 |\n",
       "| paella     |  2 |\n",
       "| aguacates  |  1 |\n",
       "| betabel    |  1 |\n",
       "| carnes     |  1 |\n",
       "| col        |  1 |\n",
       "| crcuma     |  1 |\n",
       "| ensalada   |  1 |\n",
       "| papas      |  1 |\n",
       "| remolachas |  1 |\n",
       "| repollo    |  1 |\n",
       "| salchicha  |  1 |\n",
       "| salsas     |  1 |\n",
       "| tomate     |  1 |\n",
       "| zanahoria  |  1 |\n",
       "\n"
      ],
      "text/plain": [
       "   word       n \n",
       "1  remolacha  19\n",
       "2  azafran    10\n",
       "3  curcuma     7\n",
       "4  achiote     4\n",
       "5  arroz       2\n",
       "6  curry       2\n",
       "7  curtidos    2\n",
       "8  paella      2\n",
       "9  aguacates   1\n",
       "10 betabel     1\n",
       "11 carnes      1\n",
       "12 col         1\n",
       "13 crcuma      1\n",
       "14 ensalada    1\n",
       "15 papas       1\n",
       "16 remolachas  1\n",
       "17 repollo     1\n",
       "18 salchicha   1\n",
       "19 salsas      1\n",
       "20 tomate      1\n",
       "21 zanahoria   1"
      ]
     },
     "metadata": {},
     "output_type": "display_data"
    },
    {
     "data": {
      "image/png": "[encoded data removed]",
      "text/plain": [
       "plot without title"
      ]
     },
     "metadata": {
      "image/png": {
       "height": 420,
       "width": 420
      }
     },
     "output_type": "display_data"
    }
   ],
   "source": [
    "text <- toupper(as.character(achiote$Q13))\n",
    "text <- chartr(\"ÁÉÍÓÚ\", \"AEIOU\", text)\n",
    "text_df <- tibble(text = text)\n",
    "\n",
    "custom_stop_words <- bind_rows(stop_words,\n",
    "                               tibble(word = c(tm::stopwords(\"spanish\"), \"curtido\", \"hirviendo\",\"40\", \"agua\",\"anteriores\",\"azul\",\"bebidas\",\"cocinar\",\"color\",\"colorear\",\"dar\",\"ensaladas\",\"enchiladas\",\"material\",\"menos\",\"min\",\"morada\",\"morado\",\"obtiene\",\"puede\",\"textiles\",\"usarse\",\"vertiendo\",\"viena\"),\n",
    "                                          lexicon = \"custom\"))\n",
    "\n",
    "text_df <- text_df %>% \n",
    "    unnest_tokens(word, text) %>%\n",
    "    anti_join(custom_stop_words) %>%\n",
    "    count(word, sort = TRUE)\n",
    "\n",
    "text_df %>%\n",
    "  mutate(word = reorder(word, n)) %>%\n",
    "  ggplot(aes(word, n)) +\n",
    "  geom_col() +\n",
    "  geom_bar(stat=\"identity\", fill = \"#8EF0D0\") +\n",
    "  labs(x = \"Planta\", y = \"Veces mencionada\") +\n",
    "  coord_flip()\n",
    "\n",
    "text_df"
   ]
  },
  {
   "cell_type": "markdown",
   "metadata": {},
   "source": [
    "#### ¿Que formas de preparacion conoce usted para usar el achiote como medicina?"
   ]
  },
  {
   "cell_type": "code",
   "execution_count": 33,
   "metadata": {},
   "outputs": [
    {
     "name": "stderr",
     "output_type": "stream",
     "text": [
      "Joining, by = \"word\"\n",
      "\n"
     ]
    },
    {
     "data": {
      "text/html": [
       "<table>\n",
       "<caption>A tibble: 9 × 2</caption>\n",
       "<thead>\n",
       "\t<tr><th scope=col>word</th><th scope=col>n</th></tr>\n",
       "\t<tr><th scope=col>&lt;chr&gt;</th><th scope=col>&lt;int&gt;</th></tr>\n",
       "</thead>\n",
       "<tbody>\n",
       "\t<tr><td>ninguna   </td><td>37</td></tr>\n",
       "\t<tr><td>molida    </td><td>15</td></tr>\n",
       "\t<tr><td>infusion  </td><td>13</td></tr>\n",
       "\t<tr><td>hervida   </td><td>10</td></tr>\n",
       "\t<tr><td>machacada </td><td>10</td></tr>\n",
       "\t<tr><td>frotada   </td><td> 6</td></tr>\n",
       "\t<tr><td>jugo      </td><td> 5</td></tr>\n",
       "\t<tr><td>masticada </td><td> 4</td></tr>\n",
       "\t<tr><td>cataplasma</td><td> 1</td></tr>\n",
       "</tbody>\n",
       "</table>\n"
      ],
      "text/latex": [
       "A tibble: 9 × 2\n",
       "\\begin{tabular}{ll}\n",
       " word & n\\\\\n",
       " <chr> & <int>\\\\\n",
       "\\hline\n",
       "\t ninguna    & 37\\\\\n",
       "\t molida     & 15\\\\\n",
       "\t infusion   & 13\\\\\n",
       "\t hervida    & 10\\\\\n",
       "\t machacada  & 10\\\\\n",
       "\t frotada    &  6\\\\\n",
       "\t jugo       &  5\\\\\n",
       "\t masticada  &  4\\\\\n",
       "\t cataplasma &  1\\\\\n",
       "\\end{tabular}\n"
      ],
      "text/markdown": [
       "\n",
       "A tibble: 9 × 2\n",
       "\n",
       "| word &lt;chr&gt; | n &lt;int&gt; |\n",
       "|---|---|\n",
       "| ninguna    | 37 |\n",
       "| molida     | 15 |\n",
       "| infusion   | 13 |\n",
       "| hervida    | 10 |\n",
       "| machacada  | 10 |\n",
       "| frotada    |  6 |\n",
       "| jugo       |  5 |\n",
       "| masticada  |  4 |\n",
       "| cataplasma |  1 |\n",
       "\n"
      ],
      "text/plain": [
       "  word       n \n",
       "1 ninguna    37\n",
       "2 molida     15\n",
       "3 infusion   13\n",
       "4 hervida    10\n",
       "5 machacada  10\n",
       "6 frotada     6\n",
       "7 jugo        5\n",
       "8 masticada   4\n",
       "9 cataplasma  1"
      ]
     },
     "metadata": {},
     "output_type": "display_data"
    },
    {
     "data": {
      "image/png": "[encoded data removed]",
      "text/plain": [
       "plot without title"
      ]
     },
     "metadata": {
      "image/png": {
       "height": 420,
       "width": 420
      }
     },
     "output_type": "display_data"
    }
   ],
   "source": [
    "text <- toupper(as.character(achiote$Q14))\n",
    "text <- chartr(\"ÁÉÍÓÚ\", \"AEIOU\", text)\n",
    "text_df <- tibble(text = text)\n",
    "\n",
    "custom_stop_words <- bind_rows(stop_words,\n",
    "                               tibble(word = c(tm::stopwords(\"spanish\"), \"conozco\",\"preparacion\"),\n",
    "                                          lexicon = \"custom\"))\n",
    "\n",
    "text_df <- text_df %>% \n",
    "    unnest_tokens(word, text) %>%\n",
    "    anti_join(custom_stop_words) %>%\n",
    "    count(word, sort = TRUE)\n",
    "\n",
    "text_df %>%\n",
    "  mutate(word = reorder(word, n)) %>%\n",
    "  ggplot(aes(word, n)) +\n",
    "  geom_col() +\n",
    "  geom_bar(stat=\"identity\", fill = \"#F0B081\") +\n",
    "  labs(x = \"Preparacion\", y = \"Veces mencionada\") +\n",
    "  coord_flip()\n",
    "\n",
    "text_df"
   ]
  },
  {
   "cell_type": "markdown",
   "metadata": {},
   "source": [
    "#### ¿Que tan dispuesto esta usted a utilizar el achiote como sustituto de la medicina occidental?"
   ]
  },
  {
   "cell_type": "code",
   "execution_count": 34,
   "metadata": {},
   "outputs": [
    {
     "name": "stdout",
     "output_type": "stream",
     "text": [
      "[1] \"1 - No lo utilizaria\"\n",
      "[1] \"2 - Lo utilizaría como último recurso\"\n",
      "[1] \"3 - Lo utilizaría\"\n",
      "[1] \"4 - Totalmente de acuerdo en utilizarlo\"\n",
      "[1] \"5 - Promuevo el uso del achiote como alternativa\"\n"
     ]
    },
    {
     "data": {
      "text/plain": [
       "\n",
       " 1  2  3  4  5 \n",
       " 1  6 19 15 26 "
      ]
     },
     "metadata": {},
     "output_type": "display_data"
    },
    {
     "data": {
      "image/png": "[encoded data removed]",
      "text/plain": [
       "Plot with title \"¿utilizar el achiote como sustituto de la medicina occidental?\""
      ]
     },
     "metadata": {
      "image/png": {
       "height": 420,
       "width": 420
      }
     },
     "output_type": "display_data"
    }
   ],
   "source": [
    "temp <- as.character(achiote$Q15)\n",
    "uno <- grep(1, temp, value = TRUE)\n",
    "dos <- grep(2, temp, value = TRUE) \n",
    "tres <- grep(3, temp, value = TRUE) \n",
    "cuatro <- grep(4, temp, value = TRUE) \n",
    "cinco <- grep(5, temp, value = TRUE) \n",
    "info <- table(c(uno, dos, tres, cuatro, cinco))\n",
    "print(\"1 - No lo utilizaria\")\n",
    "print(\"2 - Lo utilizaría como último recurso\")\n",
    "print(\"3 - Lo utilizaría\")\n",
    "print(\"4 - Totalmente de acuerdo en utilizarlo\")\n",
    "print(\"5 - Promuevo el uso del achiote como alternativa\")\n",
    "xx <- barplot(info,main=\"¿utilizar el achiote como sustituto de la medicina occidental?\", col=color.ramp, cex.lab=2)\n",
    "info"
   ]
  },
  {
   "cell_type": "markdown",
   "metadata": {},
   "source": [
    "#### Justificación ¿Que tan dispuesto esta usted a utilizar el achiote como sustituto de la medicina occidental?"
   ]
  },
  {
   "cell_type": "code",
   "execution_count": 35,
   "metadata": {},
   "outputs": [
    {
     "data": {
      "text/html": [
       "<table>\n",
       "<caption>A tibble: 528 × 2</caption>\n",
       "<thead>\n",
       "\t<tr><th scope=col>ngram</th><th scope=col>n</th></tr>\n",
       "\t<tr><th scope=col>&lt;chr&gt;</th><th scope=col>&lt;int&gt;</th></tr>\n",
       "</thead>\n",
       "<tbody>\n",
       "\t<tr><td>la medicina natural    </td><td>4</td></tr>\n",
       "\t<tr><td>conozco sus propiedades</td><td>2</td></tr>\n",
       "\t<tr><td>es natural si          </td><td>2</td></tr>\n",
       "\t<tr><td>es una alternativa     </td><td>2</td></tr>\n",
       "\t<tr><td>es una planta          </td><td>2</td></tr>\n",
       "\t<tr><td>la medicina tradicional</td><td>2</td></tr>\n",
       "\t<tr><td>natural si es          </td><td>2</td></tr>\n",
       "\t<tr><td>no conozco sus         </td><td>2</td></tr>\n",
       "\t<tr><td>no se que              </td><td>2</td></tr>\n",
       "\t<tr><td>se puede usar          </td><td>2</td></tr>\n",
       "\t<tr><td>se que tan             </td><td>2</td></tr>\n",
       "\t<tr><td>una buena alternativa  </td><td>2</td></tr>\n",
       "\t<tr><td>a la medicina          </td><td>1</td></tr>\n",
       "\t<tr><td>a otras alternativas   </td><td>1</td></tr>\n",
       "\t<tr><td>a probarlo pero        </td><td>1</td></tr>\n",
       "\t<tr><td>a ser la               </td><td>1</td></tr>\n",
       "\t<tr><td>a traves de            </td><td>1</td></tr>\n",
       "\t<tr><td>a usarlo mas           </td><td>1</td></tr>\n",
       "\t<tr><td>abierta a otras        </td><td>1</td></tr>\n",
       "\t<tr><td>acceso y trae          </td><td>1</td></tr>\n",
       "\t<tr><td>acerca de sus          </td><td>1</td></tr>\n",
       "\t<tr><td>achiote pero confio    </td><td>1</td></tr>\n",
       "\t<tr><td>achiote posee muchos   </td><td>1</td></tr>\n",
       "\t<tr><td>achiote sin duda       </td><td>1</td></tr>\n",
       "\t<tr><td>acompañado por medico  </td><td>1</td></tr>\n",
       "\t<tr><td>acuerdo con la         </td><td>1</td></tr>\n",
       "\t<tr><td>adecuada la necesidad  </td><td>1</td></tr>\n",
       "\t<tr><td>admon etc considero    </td><td>1</td></tr>\n",
       "\t<tr><td>afecciones creo que    </td><td>1</td></tr>\n",
       "\t<tr><td>al saber de            </td><td>1</td></tr>\n",
       "\t<tr><td>...</td><td>...</td></tr>\n",
       "\t<tr><td>usarlo mas seguido     </td><td>1</td></tr>\n",
       "\t<tr><td>uso de farmacos        </td><td>1</td></tr>\n",
       "\t<tr><td>uso medicinal me       </td><td>1</td></tr>\n",
       "\t<tr><td>uso medicinalmente no  </td><td>1</td></tr>\n",
       "\t<tr><td>usos del achiote       </td><td>1</td></tr>\n",
       "\t<tr><td>usos y puede           </td><td>1</td></tr>\n",
       "\t<tr><td>util recien estoy      </td><td>1</td></tr>\n",
       "\t<tr><td>utilizado no lo        </td><td>1</td></tr>\n",
       "\t<tr><td>utilizar mas medicina  </td><td>1</td></tr>\n",
       "\t<tr><td>utilizaria en favor    </td><td>1</td></tr>\n",
       "\t<tr><td>utilizaria pero siemprr</td><td>1</td></tr>\n",
       "\t<tr><td>utilizarlo bajo receta </td><td>1</td></tr>\n",
       "\t<tr><td>va a ser               </td><td>1</td></tr>\n",
       "\t<tr><td>vale la pena           </td><td>1</td></tr>\n",
       "\t<tr><td>varios factores como   </td><td>1</td></tr>\n",
       "\t<tr><td>ver si es              </td><td>1</td></tr>\n",
       "\t<tr><td>vez que es             </td><td>1</td></tr>\n",
       "\t<tr><td>y asi no               </td><td>1</td></tr>\n",
       "\t<tr><td>y aumenta natural      </td><td>1</td></tr>\n",
       "\t<tr><td>y dejar tantos         </td><td>1</td></tr>\n",
       "\t<tr><td>y dependeria de        </td><td>1</td></tr>\n",
       "\t<tr><td>y desde siempre        </td><td>1</td></tr>\n",
       "\t<tr><td>y natural excelente    </td><td>1</td></tr>\n",
       "\t<tr><td>y para que             </td><td>1</td></tr>\n",
       "\t<tr><td>y puede ser            </td><td>1</td></tr>\n",
       "\t<tr><td>y se como              </td><td>1</td></tr>\n",
       "\t<tr><td>y su estudio           </td><td>1</td></tr>\n",
       "\t<tr><td>y trae muchos          </td><td>1</td></tr>\n",
       "\t<tr><td>ya que es              </td><td>1</td></tr>\n",
       "\t<tr><td>ya que no              </td><td>1</td></tr>\n",
       "</tbody>\n",
       "</table>\n"
      ],
      "text/latex": [
       "A tibble: 528 × 2\n",
       "\\begin{tabular}{ll}\n",
       " ngram & n\\\\\n",
       " <chr> & <int>\\\\\n",
       "\\hline\n",
       "\t la medicina natural     & 4\\\\\n",
       "\t conozco sus propiedades & 2\\\\\n",
       "\t es natural si           & 2\\\\\n",
       "\t es una alternativa      & 2\\\\\n",
       "\t es una planta           & 2\\\\\n",
       "\t la medicina tradicional & 2\\\\\n",
       "\t natural si es           & 2\\\\\n",
       "\t no conozco sus          & 2\\\\\n",
       "\t no se que               & 2\\\\\n",
       "\t se puede usar           & 2\\\\\n",
       "\t se que tan              & 2\\\\\n",
       "\t una buena alternativa   & 2\\\\\n",
       "\t a la medicina           & 1\\\\\n",
       "\t a otras alternativas    & 1\\\\\n",
       "\t a probarlo pero         & 1\\\\\n",
       "\t a ser la                & 1\\\\\n",
       "\t a traves de             & 1\\\\\n",
       "\t a usarlo mas            & 1\\\\\n",
       "\t abierta a otras         & 1\\\\\n",
       "\t acceso y trae           & 1\\\\\n",
       "\t acerca de sus           & 1\\\\\n",
       "\t achiote pero confio     & 1\\\\\n",
       "\t achiote posee muchos    & 1\\\\\n",
       "\t achiote sin duda        & 1\\\\\n",
       "\t acompañado por medico   & 1\\\\\n",
       "\t acuerdo con la          & 1\\\\\n",
       "\t adecuada la necesidad   & 1\\\\\n",
       "\t admon etc considero     & 1\\\\\n",
       "\t afecciones creo que     & 1\\\\\n",
       "\t al saber de             & 1\\\\\n",
       "\t ... & ...\\\\\n",
       "\t usarlo mas seguido      & 1\\\\\n",
       "\t uso de farmacos         & 1\\\\\n",
       "\t uso medicinal me        & 1\\\\\n",
       "\t uso medicinalmente no   & 1\\\\\n",
       "\t usos del achiote        & 1\\\\\n",
       "\t usos y puede            & 1\\\\\n",
       "\t util recien estoy       & 1\\\\\n",
       "\t utilizado no lo         & 1\\\\\n",
       "\t utilizar mas medicina   & 1\\\\\n",
       "\t utilizaria en favor     & 1\\\\\n",
       "\t utilizaria pero siemprr & 1\\\\\n",
       "\t utilizarlo bajo receta  & 1\\\\\n",
       "\t va a ser                & 1\\\\\n",
       "\t vale la pena            & 1\\\\\n",
       "\t varios factores como    & 1\\\\\n",
       "\t ver si es               & 1\\\\\n",
       "\t vez que es              & 1\\\\\n",
       "\t y asi no                & 1\\\\\n",
       "\t y aumenta natural       & 1\\\\\n",
       "\t y dejar tantos          & 1\\\\\n",
       "\t y dependeria de         & 1\\\\\n",
       "\t y desde siempre         & 1\\\\\n",
       "\t y natural excelente     & 1\\\\\n",
       "\t y para que              & 1\\\\\n",
       "\t y puede ser             & 1\\\\\n",
       "\t y se como               & 1\\\\\n",
       "\t y su estudio            & 1\\\\\n",
       "\t y trae muchos           & 1\\\\\n",
       "\t ya que es               & 1\\\\\n",
       "\t ya que no               & 1\\\\\n",
       "\\end{tabular}\n"
      ],
      "text/markdown": [
       "\n",
       "A tibble: 528 × 2\n",
       "\n",
       "| ngram &lt;chr&gt; | n &lt;int&gt; |\n",
       "|---|---|\n",
       "| la medicina natural     | 4 |\n",
       "| conozco sus propiedades | 2 |\n",
       "| es natural si           | 2 |\n",
       "| es una alternativa      | 2 |\n",
       "| es una planta           | 2 |\n",
       "| la medicina tradicional | 2 |\n",
       "| natural si es           | 2 |\n",
       "| no conozco sus          | 2 |\n",
       "| no se que               | 2 |\n",
       "| se puede usar           | 2 |\n",
       "| se que tan              | 2 |\n",
       "| una buena alternativa   | 2 |\n",
       "| a la medicina           | 1 |\n",
       "| a otras alternativas    | 1 |\n",
       "| a probarlo pero         | 1 |\n",
       "| a ser la                | 1 |\n",
       "| a traves de             | 1 |\n",
       "| a usarlo mas            | 1 |\n",
       "| abierta a otras         | 1 |\n",
       "| acceso y trae           | 1 |\n",
       "| acerca de sus           | 1 |\n",
       "| achiote pero confio     | 1 |\n",
       "| achiote posee muchos    | 1 |\n",
       "| achiote sin duda        | 1 |\n",
       "| acompañado por medico   | 1 |\n",
       "| acuerdo con la          | 1 |\n",
       "| adecuada la necesidad   | 1 |\n",
       "| admon etc considero     | 1 |\n",
       "| afecciones creo que     | 1 |\n",
       "| al saber de             | 1 |\n",
       "| ... | ... |\n",
       "| usarlo mas seguido      | 1 |\n",
       "| uso de farmacos         | 1 |\n",
       "| uso medicinal me        | 1 |\n",
       "| uso medicinalmente no   | 1 |\n",
       "| usos del achiote        | 1 |\n",
       "| usos y puede            | 1 |\n",
       "| util recien estoy       | 1 |\n",
       "| utilizado no lo         | 1 |\n",
       "| utilizar mas medicina   | 1 |\n",
       "| utilizaria en favor     | 1 |\n",
       "| utilizaria pero siemprr | 1 |\n",
       "| utilizarlo bajo receta  | 1 |\n",
       "| va a ser                | 1 |\n",
       "| vale la pena            | 1 |\n",
       "| varios factores como    | 1 |\n",
       "| ver si es               | 1 |\n",
       "| vez que es              | 1 |\n",
       "| y asi no                | 1 |\n",
       "| y aumenta natural       | 1 |\n",
       "| y dejar tantos          | 1 |\n",
       "| y dependeria de         | 1 |\n",
       "| y desde siempre         | 1 |\n",
       "| y natural excelente     | 1 |\n",
       "| y para que              | 1 |\n",
       "| y puede ser             | 1 |\n",
       "| y se como               | 1 |\n",
       "| y su estudio            | 1 |\n",
       "| y trae muchos           | 1 |\n",
       "| ya que es               | 1 |\n",
       "| ya que no               | 1 |\n",
       "\n"
      ],
      "text/plain": [
       "    ngram                   n  \n",
       "1   la medicina natural     4  \n",
       "2   conozco sus propiedades 2  \n",
       "3   es natural si           2  \n",
       "4   es una alternativa      2  \n",
       "5   es una planta           2  \n",
       "6   la medicina tradicional 2  \n",
       "7   natural si es           2  \n",
       "8   no conozco sus          2  \n",
       "9   no se que               2  \n",
       "10  se puede usar           2  \n",
       "11  se que tan              2  \n",
       "12  una buena alternativa   2  \n",
       "13  a la medicina           1  \n",
       "14  a otras alternativas    1  \n",
       "15  a probarlo pero         1  \n",
       "16  a ser la                1  \n",
       "17  a traves de             1  \n",
       "18  a usarlo mas            1  \n",
       "19  abierta a otras         1  \n",
       "20  acceso y trae           1  \n",
       "21  acerca de sus           1  \n",
       "22  achiote pero confio     1  \n",
       "23  achiote posee muchos    1  \n",
       "24  achiote sin duda        1  \n",
       "25  acompañado por medico   1  \n",
       "26  acuerdo con la          1  \n",
       "27  adecuada la necesidad   1  \n",
       "28  admon etc considero     1  \n",
       "29  afecciones creo que     1  \n",
       "30  al saber de             1  \n",
       "... ...                     ...\n",
       "499 usarlo mas seguido      1  \n",
       "500 uso de farmacos         1  \n",
       "501 uso medicinal me        1  \n",
       "502 uso medicinalmente no   1  \n",
       "503 usos del achiote        1  \n",
       "504 usos y puede            1  \n",
       "505 util recien estoy       1  \n",
       "506 utilizado no lo         1  \n",
       "507 utilizar mas medicina   1  \n",
       "508 utilizaria en favor     1  \n",
       "509 utilizaria pero siemprr 1  \n",
       "510 utilizarlo bajo receta  1  \n",
       "511 va a ser                1  \n",
       "512 vale la pena            1  \n",
       "513 varios factores como    1  \n",
       "514 ver si es               1  \n",
       "515 vez que es              1  \n",
       "516 y asi no                1  \n",
       "517 y aumenta natural       1  \n",
       "518 y dejar tantos          1  \n",
       "519 y dependeria de         1  \n",
       "520 y desde siempre         1  \n",
       "521 y natural excelente     1  \n",
       "522 y para que              1  \n",
       "523 y puede ser             1  \n",
       "524 y se como               1  \n",
       "525 y su estudio            1  \n",
       "526 y trae muchos           1  \n",
       "527 ya que es               1  \n",
       "528 ya que no               1  "
      ]
     },
     "metadata": {},
     "output_type": "display_data"
    }
   ],
   "source": [
    "text <- toupper(as.character(levels(achiote$Justificacion_2)))\n",
    "text <- chartr(\"ÁÉÍÓÚ\", \"AEIOU\", text)\n",
    "text_df <- tibble(text = text)\n",
    "\n",
    "text_df %>% \n",
    "     unnest_tokens(ngram, text, token = \"ngrams\", n = 3) %>%\n",
    "     count(ngram, sort = TRUE)"
   ]
  },
  {
   "cell_type": "markdown",
   "metadata": {},
   "source": [
    "#### maneras en las cuales estaria usted de acuerdo en administrar medicamento fabricado con achiote"
   ]
  },
  {
   "cell_type": "code",
   "execution_count": 36,
   "metadata": {},
   "outputs": [
    {
     "name": "stderr",
     "output_type": "stream",
     "text": [
      "Joining, by = \"word\"\n",
      "\n"
     ]
    },
    {
     "data": {
      "text/html": [
       "<table>\n",
       "<caption>A tibble: 7 × 2</caption>\n",
       "<thead>\n",
       "\t<tr><th scope=col>word</th><th scope=col>n</th></tr>\n",
       "\t<tr><th scope=col>&lt;chr&gt;</th><th scope=col>&lt;int&gt;</th></tr>\n",
       "</thead>\n",
       "<tbody>\n",
       "\t<tr><td>infusion</td><td>48</td></tr>\n",
       "\t<tr><td>local   </td><td>37</td></tr>\n",
       "\t<tr><td>capsulas</td><td>35</td></tr>\n",
       "\t<tr><td>lavados </td><td>14</td></tr>\n",
       "\t<tr><td>baños   </td><td>11</td></tr>\n",
       "\t<tr><td>nasal   </td><td> 7</td></tr>\n",
       "\t<tr><td>ninguna </td><td> 1</td></tr>\n",
       "</tbody>\n",
       "</table>\n"
      ],
      "text/latex": [
       "A tibble: 7 × 2\n",
       "\\begin{tabular}{ll}\n",
       " word & n\\\\\n",
       " <chr> & <int>\\\\\n",
       "\\hline\n",
       "\t infusion & 48\\\\\n",
       "\t local    & 37\\\\\n",
       "\t capsulas & 35\\\\\n",
       "\t lavados  & 14\\\\\n",
       "\t baños    & 11\\\\\n",
       "\t nasal    &  7\\\\\n",
       "\t ninguna  &  1\\\\\n",
       "\\end{tabular}\n"
      ],
      "text/markdown": [
       "\n",
       "A tibble: 7 × 2\n",
       "\n",
       "| word &lt;chr&gt; | n &lt;int&gt; |\n",
       "|---|---|\n",
       "| infusion | 48 |\n",
       "| local    | 37 |\n",
       "| capsulas | 35 |\n",
       "| lavados  | 14 |\n",
       "| baños    | 11 |\n",
       "| nasal    |  7 |\n",
       "| ninguna  |  1 |\n",
       "\n"
      ],
      "text/plain": [
       "  word     n \n",
       "1 infusion 48\n",
       "2 local    37\n",
       "3 capsulas 35\n",
       "4 lavados  14\n",
       "5 baños    11\n",
       "6 nasal     7\n",
       "7 ninguna   1"
      ]
     },
     "metadata": {},
     "output_type": "display_data"
    },
    {
     "data": {
      "image/png": "[encoded data removed]",
      "text/plain": [
       "plot without title"
      ]
     },
     "metadata": {
      "image/png": {
       "height": 420,
       "width": 420
      }
     },
     "output_type": "display_data"
    }
   ],
   "source": [
    "text <- toupper(as.character(achiote$Q16))\n",
    "text <- chartr(\"ÁÉÍÓÚ\", \"AEIOU\", text)\n",
    "text_df <- tibble(text = text)\n",
    "\n",
    "custom_stop_words <- bind_rows(stop_words,\n",
    "                               tibble(word = c(tm::stopwords(\"spanish\"), \"aplicacion\",\"anteriores\",\"maneras\",\"acuerdo\"),\n",
    "                                          lexicon = \"custom\"))\n",
    "\n",
    "text_df <- text_df %>% \n",
    "    unnest_tokens(word, text) %>%\n",
    "    anti_join(custom_stop_words) %>%\n",
    "    count(word, sort = TRUE)\n",
    "\n",
    "text_df %>%\n",
    "  mutate(word = reorder(word, n)) %>%\n",
    "  ggplot(aes(word, n)) +\n",
    "  geom_col() +\n",
    "  geom_bar(stat=\"identity\", fill = \"#BCF048\") +\n",
    "  labs(x = \"Planta\", y = \"Veces mencionada\") +\n",
    "  coord_flip()\n",
    "\n",
    "text_df"
   ]
  },
  {
   "cell_type": "markdown",
   "metadata": {},
   "source": [
    "#### ¿Qué tan efectivos son los tratamientos con achiote?"
   ]
  },
  {
   "cell_type": "code",
   "execution_count": 37,
   "metadata": {},
   "outputs": [
    {
     "name": "stdout",
     "output_type": "stream",
     "text": [
      "[1] \"1 - No produce ningun efecto\"\n",
      "[1] \"2 - El efecto no es notable\"\n",
      "[1] \"3 - Levemente efectivo\"\n",
      "[1] \"4 - Efecto notable\"\n",
      "[1] \"5 - Efecto significativo\"\n"
     ]
    },
    {
     "data": {
      "text/plain": [
       "\n",
       " 1  2  3  4  5 \n",
       " 6  4 27 19 11 "
      ]
     },
     "metadata": {},
     "output_type": "display_data"
    },
    {
     "data": {
      "image/png": "[encoded data removed]",
      "text/plain": [
       "Plot with title \"¿Qué tan efectivo cree son los tratamientos alternativos de achiote?\""
      ]
     },
     "metadata": {
      "image/png": {
       "height": 420,
       "width": 420
      }
     },
     "output_type": "display_data"
    }
   ],
   "source": [
    "temp <- as.character(achiote$Q17)\n",
    "uno <- grep(1, temp, value = TRUE)\n",
    "dos <- grep(2, temp, value = TRUE) \n",
    "tres <- grep(3, temp, value = TRUE) \n",
    "cuatro <- grep(4, temp, value = TRUE) \n",
    "cinco <- grep(5, temp, value = TRUE) \n",
    "info <- table(c(uno, dos, tres, cuatro, cinco))\n",
    "print(\"1 - No produce ningun efecto\")\n",
    "print(\"2 - El efecto no es notable\")\n",
    "print(\"3 - Levemente efectivo\")\n",
    "print(\"4 - Efecto notable\")\n",
    "print(\"5 - Efecto significativo\")\n",
    "xx <- barplot(info,main=\"¿Qué tan efectivo cree son los tratamientos alternativos de achiote?\", col=color.ramp)\n",
    "info"
   ]
  },
  {
   "cell_type": "markdown",
   "metadata": {},
   "source": [
    "#### Justificación pregunta de efectividad del achiote"
   ]
  },
  {
   "cell_type": "code",
   "execution_count": 38,
   "metadata": {},
   "outputs": [
    {
     "data": {
      "text/html": [
       "<table>\n",
       "<caption>A tibble: 453 × 2</caption>\n",
       "<thead>\n",
       "\t<tr><th scope=col>ngram</th><th scope=col>n</th></tr>\n",
       "\t<tr><th scope=col>&lt;chr&gt;</th><th scope=col>&lt;int&gt;</th></tr>\n",
       "</thead>\n",
       "<tbody>\n",
       "\t<tr><td>no lo he                    </td><td>4</td></tr>\n",
       "\t<tr><td>he sido testigo             </td><td>2</td></tr>\n",
       "\t<tr><td>lo he probado               </td><td>2</td></tr>\n",
       "\t<tr><td>lo he utilizado             </td><td>2</td></tr>\n",
       "\t<tr><td>puede que sea               </td><td>2</td></tr>\n",
       "\t<tr><td>su uso no                   </td><td>2</td></tr>\n",
       "\t<tr><td>5 tiene q                   </td><td>1</td></tr>\n",
       "\t<tr><td>a ayudado con               </td><td>1</td></tr>\n",
       "\t<tr><td>a base achiote              </td><td>1</td></tr>\n",
       "\t<tr><td>a cada tiene                </td><td>1</td></tr>\n",
       "\t<tr><td>a la forma                  </td><td>1</td></tr>\n",
       "\t<tr><td>a traves de                 </td><td>1</td></tr>\n",
       "\t<tr><td>a un farmaco                </td><td>1</td></tr>\n",
       "\t<tr><td>accion pues lo              </td><td>1</td></tr>\n",
       "\t<tr><td>achiote como on             </td><td>1</td></tr>\n",
       "\t<tr><td>achiote en algunas          </td><td>1</td></tr>\n",
       "\t<tr><td>achiote pero he             </td><td>1</td></tr>\n",
       "\t<tr><td>achiote y funcionan         </td><td>1</td></tr>\n",
       "\t<tr><td>adecuado las plantas        </td><td>1</td></tr>\n",
       "\t<tr><td>adversos desconozco todos   </td><td>1</td></tr>\n",
       "\t<tr><td>afecciones los tratamientos </td><td>1</td></tr>\n",
       "\t<tr><td>algun efecto pero           </td><td>1</td></tr>\n",
       "\t<tr><td>algunas ocasiones son       </td><td>1</td></tr>\n",
       "\t<tr><td>algunos casos no            </td><td>1</td></tr>\n",
       "\t<tr><td>algunos dolores de          </td><td>1</td></tr>\n",
       "\t<tr><td>alterados conozco de        </td><td>1</td></tr>\n",
       "\t<tr><td>alternativas las plantas    </td><td>1</td></tr>\n",
       "\t<tr><td>alternativo de lenta        </td><td>1</td></tr>\n",
       "\t<tr><td>alternativos son preventivos</td><td>1</td></tr>\n",
       "\t<tr><td>antiguas que sabian         </td><td>1</td></tr>\n",
       "\t<tr><td>...</td><td>...</td></tr>\n",
       "\t<tr><td>un efecto bastante        </td><td>1</td></tr>\n",
       "\t<tr><td>un farmaco convencional   </td><td>1</td></tr>\n",
       "\t<tr><td>un medicamento alternativo</td><td>1</td></tr>\n",
       "\t<tr><td>un uso adecuado           </td><td>1</td></tr>\n",
       "\t<tr><td>una medicina natural      </td><td>1</td></tr>\n",
       "\t<tr><td>una tesis que             </td><td>1</td></tr>\n",
       "\t<tr><td>usado medicinalmente no   </td><td>1</td></tr>\n",
       "\t<tr><td>usado no tengo            </td><td>1</td></tr>\n",
       "\t<tr><td>usaseria de probardo      </td><td>1</td></tr>\n",
       "\t<tr><td>uso adecuado las          </td><td>1</td></tr>\n",
       "\t<tr><td>uso de plantas            </td><td>1</td></tr>\n",
       "\t<tr><td>uso el achiote            </td><td>1</td></tr>\n",
       "\t<tr><td>uso especifi lo           </td><td>1</td></tr>\n",
       "\t<tr><td>uso no conozco            </td><td>1</td></tr>\n",
       "\t<tr><td>uso no uso                </td><td>1</td></tr>\n",
       "\t<tr><td>uso regularmente para     </td><td>1</td></tr>\n",
       "\t<tr><td>util debe funcionar       </td><td>1</td></tr>\n",
       "\t<tr><td>utilizado como medicina   </td><td>1</td></tr>\n",
       "\t<tr><td>utilizado no lo           </td><td>1</td></tr>\n",
       "\t<tr><td>utilizan y les            </td><td>1</td></tr>\n",
       "\t<tr><td>ver un efecto             </td><td>1</td></tr>\n",
       "\t<tr><td>viene de la               </td><td>1</td></tr>\n",
       "\t<tr><td>y efectos adversos        </td><td>1</td></tr>\n",
       "\t<tr><td>y en otros                </td><td>1</td></tr>\n",
       "\t<tr><td>y frecuencia pero         </td><td>1</td></tr>\n",
       "\t<tr><td>y funcionan den           </td><td>1</td></tr>\n",
       "\t<tr><td>y les ha                  </td><td>1</td></tr>\n",
       "\t<tr><td>y lo prefiero             </td><td>1</td></tr>\n",
       "\t<tr><td>y no se                   </td><td>1</td></tr>\n",
       "\t<tr><td>y segurid si              </td><td>1</td></tr>\n",
       "</tbody>\n",
       "</table>\n"
      ],
      "text/latex": [
       "A tibble: 453 × 2\n",
       "\\begin{tabular}{ll}\n",
       " ngram & n\\\\\n",
       " <chr> & <int>\\\\\n",
       "\\hline\n",
       "\t no lo he                     & 4\\\\\n",
       "\t he sido testigo              & 2\\\\\n",
       "\t lo he probado                & 2\\\\\n",
       "\t lo he utilizado              & 2\\\\\n",
       "\t puede que sea                & 2\\\\\n",
       "\t su uso no                    & 2\\\\\n",
       "\t 5 tiene q                    & 1\\\\\n",
       "\t a ayudado con                & 1\\\\\n",
       "\t a base achiote               & 1\\\\\n",
       "\t a cada tiene                 & 1\\\\\n",
       "\t a la forma                   & 1\\\\\n",
       "\t a traves de                  & 1\\\\\n",
       "\t a un farmaco                 & 1\\\\\n",
       "\t accion pues lo               & 1\\\\\n",
       "\t achiote como on              & 1\\\\\n",
       "\t achiote en algunas           & 1\\\\\n",
       "\t achiote pero he              & 1\\\\\n",
       "\t achiote y funcionan          & 1\\\\\n",
       "\t adecuado las plantas         & 1\\\\\n",
       "\t adversos desconozco todos    & 1\\\\\n",
       "\t afecciones los tratamientos  & 1\\\\\n",
       "\t algun efecto pero            & 1\\\\\n",
       "\t algunas ocasiones son        & 1\\\\\n",
       "\t algunos casos no             & 1\\\\\n",
       "\t algunos dolores de           & 1\\\\\n",
       "\t alterados conozco de         & 1\\\\\n",
       "\t alternativas las plantas     & 1\\\\\n",
       "\t alternativo de lenta         & 1\\\\\n",
       "\t alternativos son preventivos & 1\\\\\n",
       "\t antiguas que sabian          & 1\\\\\n",
       "\t ... & ...\\\\\n",
       "\t un efecto bastante         & 1\\\\\n",
       "\t un farmaco convencional    & 1\\\\\n",
       "\t un medicamento alternativo & 1\\\\\n",
       "\t un uso adecuado            & 1\\\\\n",
       "\t una medicina natural       & 1\\\\\n",
       "\t una tesis que              & 1\\\\\n",
       "\t usado medicinalmente no    & 1\\\\\n",
       "\t usado no tengo             & 1\\\\\n",
       "\t usaseria de probardo       & 1\\\\\n",
       "\t uso adecuado las           & 1\\\\\n",
       "\t uso de plantas             & 1\\\\\n",
       "\t uso el achiote             & 1\\\\\n",
       "\t uso especifi lo            & 1\\\\\n",
       "\t uso no conozco             & 1\\\\\n",
       "\t uso no uso                 & 1\\\\\n",
       "\t uso regularmente para      & 1\\\\\n",
       "\t util debe funcionar        & 1\\\\\n",
       "\t utilizado como medicina    & 1\\\\\n",
       "\t utilizado no lo            & 1\\\\\n",
       "\t utilizan y les             & 1\\\\\n",
       "\t ver un efecto              & 1\\\\\n",
       "\t viene de la                & 1\\\\\n",
       "\t y efectos adversos         & 1\\\\\n",
       "\t y en otros                 & 1\\\\\n",
       "\t y frecuencia pero          & 1\\\\\n",
       "\t y funcionan den            & 1\\\\\n",
       "\t y les ha                   & 1\\\\\n",
       "\t y lo prefiero              & 1\\\\\n",
       "\t y no se                    & 1\\\\\n",
       "\t y segurid si               & 1\\\\\n",
       "\\end{tabular}\n"
      ],
      "text/markdown": [
       "\n",
       "A tibble: 453 × 2\n",
       "\n",
       "| ngram &lt;chr&gt; | n &lt;int&gt; |\n",
       "|---|---|\n",
       "| no lo he                     | 4 |\n",
       "| he sido testigo              | 2 |\n",
       "| lo he probado                | 2 |\n",
       "| lo he utilizado              | 2 |\n",
       "| puede que sea                | 2 |\n",
       "| su uso no                    | 2 |\n",
       "| 5 tiene q                    | 1 |\n",
       "| a ayudado con                | 1 |\n",
       "| a base achiote               | 1 |\n",
       "| a cada tiene                 | 1 |\n",
       "| a la forma                   | 1 |\n",
       "| a traves de                  | 1 |\n",
       "| a un farmaco                 | 1 |\n",
       "| accion pues lo               | 1 |\n",
       "| achiote como on              | 1 |\n",
       "| achiote en algunas           | 1 |\n",
       "| achiote pero he              | 1 |\n",
       "| achiote y funcionan          | 1 |\n",
       "| adecuado las plantas         | 1 |\n",
       "| adversos desconozco todos    | 1 |\n",
       "| afecciones los tratamientos  | 1 |\n",
       "| algun efecto pero            | 1 |\n",
       "| algunas ocasiones son        | 1 |\n",
       "| algunos casos no             | 1 |\n",
       "| algunos dolores de           | 1 |\n",
       "| alterados conozco de         | 1 |\n",
       "| alternativas las plantas     | 1 |\n",
       "| alternativo de lenta         | 1 |\n",
       "| alternativos son preventivos | 1 |\n",
       "| antiguas que sabian          | 1 |\n",
       "| ... | ... |\n",
       "| un efecto bastante         | 1 |\n",
       "| un farmaco convencional    | 1 |\n",
       "| un medicamento alternativo | 1 |\n",
       "| un uso adecuado            | 1 |\n",
       "| una medicina natural       | 1 |\n",
       "| una tesis que              | 1 |\n",
       "| usado medicinalmente no    | 1 |\n",
       "| usado no tengo             | 1 |\n",
       "| usaseria de probardo       | 1 |\n",
       "| uso adecuado las           | 1 |\n",
       "| uso de plantas             | 1 |\n",
       "| uso el achiote             | 1 |\n",
       "| uso especifi lo            | 1 |\n",
       "| uso no conozco             | 1 |\n",
       "| uso no uso                 | 1 |\n",
       "| uso regularmente para      | 1 |\n",
       "| util debe funcionar        | 1 |\n",
       "| utilizado como medicina    | 1 |\n",
       "| utilizado no lo            | 1 |\n",
       "| utilizan y les             | 1 |\n",
       "| ver un efecto              | 1 |\n",
       "| viene de la                | 1 |\n",
       "| y efectos adversos         | 1 |\n",
       "| y en otros                 | 1 |\n",
       "| y frecuencia pero          | 1 |\n",
       "| y funcionan den            | 1 |\n",
       "| y les ha                   | 1 |\n",
       "| y lo prefiero              | 1 |\n",
       "| y no se                    | 1 |\n",
       "| y segurid si               | 1 |\n",
       "\n"
      ],
      "text/plain": [
       "    ngram                        n  \n",
       "1   no lo he                     4  \n",
       "2   he sido testigo              2  \n",
       "3   lo he probado                2  \n",
       "4   lo he utilizado              2  \n",
       "5   puede que sea                2  \n",
       "6   su uso no                    2  \n",
       "7   5 tiene q                    1  \n",
       "8   a ayudado con                1  \n",
       "9   a base achiote               1  \n",
       "10  a cada tiene                 1  \n",
       "11  a la forma                   1  \n",
       "12  a traves de                  1  \n",
       "13  a un farmaco                 1  \n",
       "14  accion pues lo               1  \n",
       "15  achiote como on              1  \n",
       "16  achiote en algunas           1  \n",
       "17  achiote pero he              1  \n",
       "18  achiote y funcionan          1  \n",
       "19  adecuado las plantas         1  \n",
       "20  adversos desconozco todos    1  \n",
       "21  afecciones los tratamientos  1  \n",
       "22  algun efecto pero            1  \n",
       "23  algunas ocasiones son        1  \n",
       "24  algunos casos no             1  \n",
       "25  algunos dolores de           1  \n",
       "26  alterados conozco de         1  \n",
       "27  alternativas las plantas     1  \n",
       "28  alternativo de lenta         1  \n",
       "29  alternativos son preventivos 1  \n",
       "30  antiguas que sabian          1  \n",
       "... ...                          ...\n",
       "424 un efecto bastante           1  \n",
       "425 un farmaco convencional      1  \n",
       "426 un medicamento alternativo   1  \n",
       "427 un uso adecuado              1  \n",
       "428 una medicina natural         1  \n",
       "429 una tesis que                1  \n",
       "430 usado medicinalmente no      1  \n",
       "431 usado no tengo               1  \n",
       "432 usaseria de probardo         1  \n",
       "433 uso adecuado las             1  \n",
       "434 uso de plantas               1  \n",
       "435 uso el achiote               1  \n",
       "436 uso especifi lo              1  \n",
       "437 uso no conozco               1  \n",
       "438 uso no uso                   1  \n",
       "439 uso regularmente para        1  \n",
       "440 util debe funcionar          1  \n",
       "441 utilizado como medicina      1  \n",
       "442 utilizado no lo              1  \n",
       "443 utilizan y les               1  \n",
       "444 ver un efecto                1  \n",
       "445 viene de la                  1  \n",
       "446 y efectos adversos           1  \n",
       "447 y en otros                   1  \n",
       "448 y frecuencia pero            1  \n",
       "449 y funcionan den              1  \n",
       "450 y les ha                     1  \n",
       "451 y lo prefiero                1  \n",
       "452 y no se                      1  \n",
       "453 y segurid si                 1  "
      ]
     },
     "metadata": {},
     "output_type": "display_data"
    }
   ],
   "source": [
    "text <- toupper(as.character(levels(achiote$Justificacion_3)))\n",
    "text <- chartr(\"ÁÉÍÓÚ\", \"AEIOU\", text)\n",
    "text_df <- tibble(text = text)\n",
    "\n",
    "custom_stop_words <- bind_rows(stop_words,\n",
    "                               tibble(word = c(tm::stopwords(\"spanish\")),\n",
    "                                          lexicon = \"custom\"))\n",
    "\n",
    "text_df %>% \n",
    "     unnest_tokens(ngram, text, token = \"ngrams\", n = 3) %>%\n",
    "     count(ngram, sort = TRUE)"
   ]
  },
  {
   "cell_type": "markdown",
   "metadata": {},
   "source": [
    "#### tiempos de finalización de la encuesta"
   ]
  },
  {
   "cell_type": "code",
   "execution_count": 39,
   "metadata": {},
   "outputs": [
    {
     "data": {
      "text/plain": [
       "Time difference of 1 mins"
      ]
     },
     "metadata": {},
     "output_type": "display_data"
    },
    {
     "data": {
      "text/plain": [
       "Time difference of 8 mins"
      ]
     },
     "metadata": {},
     "output_type": "display_data"
    },
    {
     "data": {
      "text/plain": [
       "Time difference of 66 mins"
      ]
     },
     "metadata": {},
     "output_type": "display_data"
    }
   ],
   "source": [
    "#encuesta más rápida\n",
    "min(achiote$tiempo_terminar)\n",
    "\n",
    "#promedio tiempo de finalización\n",
    "mean(achiote$tiempo_terminar)\n",
    "\n",
    "#Encuesta más tardada\n",
    "max(achiote$tiempo_terminar)"
   ]
  },
  {
   "cell_type": "markdown",
   "metadata": {},
   "source": [
    "### division conocedores/entusiastas y no conocedores"
   ]
  },
  {
   "cell_type": "code",
   "execution_count": 40,
   "metadata": {},
   "outputs": [
    {
     "name": "stdout",
     "output_type": "stream",
     "text": [
      "'data.frame':\t99 obs. of  33 variables:\n",
      " $ Id                : Factor w/ 100 levels \"1\",\"10\",\"100\",..: 1 13 68 90 2 4 5 8 10 11 ...\n",
      " $ Ip                : Factor w/ 93 levels \"143.208.57.62\",..: 67 45 89 25 60 39 46 44 57 12 ...\n",
      " $ Acceso            : Factor w/ 1 level \"Public Access\": 1 1 1 1 1 1 1 1 1 1 ...\n",
      " $ Fecha_inicio      : Date, format: \"2020-09-18\" \"2020-09-18\" ...\n",
      " $ Fecha_finalizacion: Date, format: \"2020-09-18\" \"2020-09-18\" ...\n",
      " $ Procedencia       : Factor w/ 2 levels \"Casco rural\",..: 2 2 2 1 2 2 2 1 2 2 ...\n",
      " $ Municipio         : Factor w/ 18 levels \"Amatitlan\",\"Asunción Mita\",..: 8 17 8 8 8 12 8 13 14 17 ...\n",
      " $ Edad              : Factor w/ 3 levels \"15-35 años\",\"36-55 años\",..: 1 1 1 1 1 1 2 1 1 1 ...\n",
      " $ Sexo              : Factor w/ 2 levels \"Femenino\",\"Masculino\": 2 2 2 2 1 2 1 2 1 1 ...\n",
      " $ Q1                : Factor w/ 61 levels \"\",\"\\\"Mata ratón\\\", se cocina y con esa agua se da un baño para bajar la fiebre\",..: 28 38 38 9 51 57 58 18 31 38 ...\n",
      " $ Q2                : Factor w/ 2 levels \"No\",\"Si\": 2 2 2 2 2 2 2 2 2 2 ...\n",
      " $ Q3                : Factor w/ 3 levels \"\",\"No\",\"Si\": 1 1 1 1 1 1 1 1 1 1 ...\n",
      " $ Q4                : Factor w/ 6 levels \"\",\"1\",\"2\",\"3\",..: 1 1 1 1 1 1 1 1 1 1 ...\n",
      " $ Justificacion_1   : Factor w/ 29 levels \"\",\"Conozco que tiene propiedades positivas pero no sé cuán efectivas sean en las personas\",..: 1 1 1 1 1 1 1 1 1 1 ...\n",
      " $ He leido          : Factor w/ 2 levels \"\",\"si\": 1 1 1 1 1 1 1 1 1 1 ...\n",
      " $ Q5                : Factor w/ 4 levels \"\",\"Bija\",\"No\",..: 3 3 3 3 3 3 3 3 3 3 ...\n",
      " $ Q6                : Factor w/ 12 levels \"     \",\"  Medicinal   \",..: 9 9 9 10 9 7 3 11 10 9 ...\n",
      " $ Q7                : Factor w/ 23 levels \"          \",\"         No conozco ninguna aplicación del achiote \",..: 19 8 8 8 8 7 3 10 13 13 ...\n",
      " $ Q8                : Factor w/ 5 levels \"\",\"Mensualmente\",..: 5 5 5 2 2 3 4 3 3 3 ...\n",
      " $ Q9                : Factor w/ 12 levels \"      \",\"     No obtengo achiote \",..: 9 9 10 9 5 9 11 7 9 2 ...\n",
      " $ Q10               : Factor w/ 3 levels \"\",\"No\",\"Si\": 3 2 2 3 3 2 3 3 3 3 ...\n",
      " $ Q11               : Factor w/ 8 levels \"\",\"Flores\",\"Fruto\",..: 6 7 3 7 7 6 7 6 6 6 ...\n",
      " $ Q12               : Factor w/ 7 levels \"\",\"Azafrán\",\"Cúrcuma\",..: 7 7 7 2 3 7 6 2 7 2 ...\n",
      " $ Q13               : Factor w/ 31 levels \"\",\"Achiote\",\"Achiote, remolacha, tomate\",..: 19 6 29 8 14 19 2 19 19 19 ...\n",
      " $ Q14               : Factor w/ 23 levels \"        \",\"       No conozco ninguna preparación \",..: 13 3 2 2 2 22 2 6 11 2 ...\n",
      " $ Q15               : Factor w/ 6 levels \"\",\"1\",\"2\",\"3\",..: 5 6 4 6 6 6 5 5 5 4 ...\n",
      " $ Justificacion_2   : Factor w/ 57 levels \"\",\"al saber sus propiedades puedo utilizarlo.\",..: 41 33 54 34 14 20 46 29 49 1 ...\n",
      " $ Q16               : Factor w/ 24 levels \"       \",\"       Otra::no lo se\",..: 18 4 15 8 14 14 12 12 17 4 ...\n",
      " $ Q17               : Factor w/ 6 levels \"\",\"1\",\"2\",\"3\",..: 6 2 4 4 6 4 5 4 5 4 ...\n",
      " $ Justificacion_3   : Factor w/ 57 levels \"\",\"5. Tiene q tener algun efecto.  Pero no creo q curativo\",..: 55 36 27 20 52 42 12 1 13 1 ...\n",
      " $ hora_inicio       : POSIXct, format: \"2020-11-08 11:01:00\" \"2020-11-08 11:22:00\" ...\n",
      " $ hora_final        : POSIXct, format: \"2020-11-08 11:05:00\" \"2020-11-08 11:25:00\" ...\n",
      " $ tiempo_terminar   : 'difftime' num  4 3 6 9 ...\n",
      "  ..- attr(*, \"units\")= chr \"mins\"\n",
      "'data.frame':\t2 obs. of  33 variables:\n",
      " $ Id                : Factor w/ 100 levels \"1\",\"10\",\"100\",..: 44 60\n",
      " $ Ip                : Factor w/ 93 levels \"143.208.57.62\",..: 53 71\n",
      " $ Acceso            : Factor w/ 1 level \"Public Access\": 1 1\n",
      " $ Fecha_inicio      : Date, format: \"2020-09-21\" \"2020-09-21\"\n",
      " $ Fecha_finalizacion: Date, format: \"2020-09-21\" \"2020-09-21\"\n",
      " $ Procedencia       : Factor w/ 2 levels \"Casco rural\",..: 1 2\n",
      " $ Municipio         : Factor w/ 18 levels \"Amatitlan\",\"Asunción Mita\",..: 16 8\n",
      " $ Edad              : Factor w/ 3 levels \"15-35 años\",\"36-55 años\",..: 1 3\n",
      " $ Sexo              : Factor w/ 2 levels \"Femenino\",\"Masculino\": 2 1\n",
      " $ Q1                : Factor w/ 61 levels \"\",\"\\\"Mata ratón\\\", se cocina y con esa agua se da un baño para bajar la fiebre\",..: 38 45\n",
      " $ Q2                : Factor w/ 2 levels \"No\",\"Si\": 1 1\n",
      " $ Q3                : Factor w/ 3 levels \"\",\"No\",\"Si\": 2 2\n",
      " $ Q4                : Factor w/ 6 levels \"\",\"1\",\"2\",\"3\",..: 4 2\n",
      " $ Justificacion_1   : Factor w/ 29 levels \"\",\"Conozco que tiene propiedades positivas pero no sé cuán efectivas sean en las personas\",..: 28 16\n",
      " $ He leido          : Factor w/ 2 levels \"\",\"si\": 1 1\n",
      " $ Q5                : Factor w/ 4 levels \"\",\"Bija\",\"No\",..: 1 1\n",
      " $ Q6                : Factor w/ 12 levels \"     \",\"  Medicinal   \",..: 1 1\n",
      " $ Q7                : Factor w/ 23 levels \"          \",\"         No conozco ninguna aplicación del achiote \",..: 1 1\n",
      " $ Q8                : Factor w/ 5 levels \"\",\"Mensualmente\",..: 1 1\n",
      " $ Q9                : Factor w/ 12 levels \"      \",\"     No obtengo achiote \",..: 1 1\n",
      " $ Q10               : Factor w/ 3 levels \"\",\"No\",\"Si\": 1 1\n",
      " $ Q11               : Factor w/ 8 levels \"\",\"Flores\",\"Fruto\",..: 1 1\n",
      " $ Q12               : Factor w/ 7 levels \"\",\"Azafrán\",\"Cúrcuma\",..: 1 1\n",
      " $ Q13               : Factor w/ 31 levels \"\",\"Achiote\",\"Achiote, remolacha, tomate\",..: 1 1\n",
      " $ Q14               : Factor w/ 23 levels \"        \",\"       No conozco ninguna preparación \",..: 1 1\n",
      " $ Q15               : Factor w/ 6 levels \"\",\"1\",\"2\",\"3\",..: 1 1\n",
      " $ Justificacion_2   : Factor w/ 57 levels \"\",\"al saber sus propiedades puedo utilizarlo.\",..: 1 1\n",
      " $ Q16               : Factor w/ 24 levels \"       \",\"       Otra::no lo se\",..: 1 1\n",
      " $ Q17               : Factor w/ 6 levels \"\",\"1\",\"2\",\"3\",..: 1 1\n",
      " $ Justificacion_3   : Factor w/ 57 levels \"\",\"5. Tiene q tener algun efecto.  Pero no creo q curativo\",..: 1 1\n",
      " $ hora_inicio       : POSIXct, format: \"2020-11-08 14:31:00\" \"2020-11-08 18:53:00\"\n",
      " $ hora_final        : POSIXct, format: \"2020-11-08 14:33:00\" \"2020-11-08 18:59:00\"\n",
      " $ tiempo_terminar   : 'difftime' num  2 6\n",
      "  ..- attr(*, \"units\")= chr \"mins\"\n"
     ]
    }
   ],
   "source": [
    "A <- split(achiote, achiote$Q2)\n",
    "A_no <- A$No\n",
    "B <- split(A_no, A_no$Q3, drop = TRUE)\n",
    "\n",
    "conocedores <- rbind(A$Si, B$Si)\n",
    "no_conocedores <- B$No\n",
    "str(conocedores)\n",
    "str(no_conocedores)"
   ]
  },
  {
   "cell_type": "markdown",
   "metadata": {},
   "source": [
    "### Division variables cuantitativas y cualitativas"
   ]
  },
  {
   "cell_type": "code",
   "execution_count": 100,
   "metadata": {},
   "outputs": [
    {
     "data": {
      "text/html": [
       "<table>\n",
       "<caption>A matrix: 9 × 9 of type dbl</caption>\n",
       "<thead>\n",
       "\t<tr><th></th><th scope=col>Procedencia</th><th scope=col>Edad</th><th scope=col>Sexo</th><th scope=col>Q5</th><th scope=col>Q8</th><th scope=col>Q10</th><th scope=col>Q11</th><th scope=col>Q15</th><th scope=col>Q17</th></tr>\n",
       "</thead>\n",
       "<tbody>\n",
       "\t<tr><th scope=row>Procedencia</th><td> 1.00000000</td><td>-0.11992286</td><td> 0.00741912</td><td>-0.2024275</td><td>-0.2390195</td><td>-0.2333308</td><td>-0.30260591</td><td>-0.26466635</td><td>-0.10388322</td></tr>\n",
       "\t<tr><th scope=row>Edad</th><td>-0.11992286</td><td> 1.00000000</td><td>-0.26421967</td><td> 0.2451422</td><td> 0.2696648</td><td> 0.3506802</td><td> 0.20933698</td><td> 0.16079996</td><td> 0.08300003</td></tr>\n",
       "\t<tr><th scope=row>Sexo</th><td> 0.00741912</td><td>-0.26421967</td><td> 1.00000000</td><td>-0.1046096</td><td>-0.1030656</td><td>-0.1239720</td><td>-0.07485006</td><td>-0.08629696</td><td>-0.07983499</td></tr>\n",
       "\t<tr><th scope=row>Q5</th><td>-0.20242751</td><td> 0.24514219</td><td>-0.10460961</td><td> 1.0000000</td><td> 0.7979895</td><td> 0.8975347</td><td> 0.83253543</td><td> 0.90505515</td><td> 0.86266867</td></tr>\n",
       "\t<tr><th scope=row>Q8</th><td>-0.23901948</td><td> 0.26966480</td><td>-0.10306561</td><td> 0.7979895</td><td> 1.0000000</td><td> 0.6716691</td><td> 0.71490843</td><td> 0.70444374</td><td> 0.63336901</td></tr>\n",
       "\t<tr><th scope=row>Q10</th><td>-0.23333079</td><td> 0.35068019</td><td>-0.12397201</td><td> 0.8975347</td><td> 0.6716691</td><td> 1.0000000</td><td> 0.80203409</td><td> 0.84894115</td><td> 0.81870209</td></tr>\n",
       "\t<tr><th scope=row>Q11</th><td>-0.30260591</td><td> 0.20933698</td><td>-0.07485006</td><td> 0.8325354</td><td> 0.7149084</td><td> 0.8020341</td><td> 1.00000000</td><td> 0.82755382</td><td> 0.69608766</td></tr>\n",
       "\t<tr><th scope=row>Q15</th><td>-0.26466635</td><td> 0.16079996</td><td>-0.08629696</td><td> 0.9050552</td><td> 0.7044437</td><td> 0.8489411</td><td> 0.82755382</td><td> 1.00000000</td><td> 0.82064902</td></tr>\n",
       "\t<tr><th scope=row>Q17</th><td>-0.10388322</td><td> 0.08300003</td><td>-0.07983499</td><td> 0.8626687</td><td> 0.6333690</td><td> 0.8187021</td><td> 0.69608766</td><td> 0.82064902</td><td> 1.00000000</td></tr>\n",
       "</tbody>\n",
       "</table>\n"
      ],
      "text/latex": [
       "A matrix: 9 × 9 of type dbl\n",
       "\\begin{tabular}{r|lllllllll}\n",
       "  & Procedencia & Edad & Sexo & Q5 & Q8 & Q10 & Q11 & Q15 & Q17\\\\\n",
       "\\hline\n",
       "\tProcedencia &  1.00000000 & -0.11992286 &  0.00741912 & -0.2024275 & -0.2390195 & -0.2333308 & -0.30260591 & -0.26466635 & -0.10388322\\\\\n",
       "\tEdad & -0.11992286 &  1.00000000 & -0.26421967 &  0.2451422 &  0.2696648 &  0.3506802 &  0.20933698 &  0.16079996 &  0.08300003\\\\\n",
       "\tSexo &  0.00741912 & -0.26421967 &  1.00000000 & -0.1046096 & -0.1030656 & -0.1239720 & -0.07485006 & -0.08629696 & -0.07983499\\\\\n",
       "\tQ5 & -0.20242751 &  0.24514219 & -0.10460961 &  1.0000000 &  0.7979895 &  0.8975347 &  0.83253543 &  0.90505515 &  0.86266867\\\\\n",
       "\tQ8 & -0.23901948 &  0.26966480 & -0.10306561 &  0.7979895 &  1.0000000 &  0.6716691 &  0.71490843 &  0.70444374 &  0.63336901\\\\\n",
       "\tQ10 & -0.23333079 &  0.35068019 & -0.12397201 &  0.8975347 &  0.6716691 &  1.0000000 &  0.80203409 &  0.84894115 &  0.81870209\\\\\n",
       "\tQ11 & -0.30260591 &  0.20933698 & -0.07485006 &  0.8325354 &  0.7149084 &  0.8020341 &  1.00000000 &  0.82755382 &  0.69608766\\\\\n",
       "\tQ15 & -0.26466635 &  0.16079996 & -0.08629696 &  0.9050552 &  0.7044437 &  0.8489411 &  0.82755382 &  1.00000000 &  0.82064902\\\\\n",
       "\tQ17 & -0.10388322 &  0.08300003 & -0.07983499 &  0.8626687 &  0.6333690 &  0.8187021 &  0.69608766 &  0.82064902 &  1.00000000\\\\\n",
       "\\end{tabular}\n"
      ],
      "text/markdown": [
       "\n",
       "A matrix: 9 × 9 of type dbl\n",
       "\n",
       "| <!--/--> | Procedencia | Edad | Sexo | Q5 | Q8 | Q10 | Q11 | Q15 | Q17 |\n",
       "|---|---|---|---|---|---|---|---|---|---|\n",
       "| Procedencia |  1.00000000 | -0.11992286 |  0.00741912 | -0.2024275 | -0.2390195 | -0.2333308 | -0.30260591 | -0.26466635 | -0.10388322 |\n",
       "| Edad | -0.11992286 |  1.00000000 | -0.26421967 |  0.2451422 |  0.2696648 |  0.3506802 |  0.20933698 |  0.16079996 |  0.08300003 |\n",
       "| Sexo |  0.00741912 | -0.26421967 |  1.00000000 | -0.1046096 | -0.1030656 | -0.1239720 | -0.07485006 | -0.08629696 | -0.07983499 |\n",
       "| Q5 | -0.20242751 |  0.24514219 | -0.10460961 |  1.0000000 |  0.7979895 |  0.8975347 |  0.83253543 |  0.90505515 |  0.86266867 |\n",
       "| Q8 | -0.23901948 |  0.26966480 | -0.10306561 |  0.7979895 |  1.0000000 |  0.6716691 |  0.71490843 |  0.70444374 |  0.63336901 |\n",
       "| Q10 | -0.23333079 |  0.35068019 | -0.12397201 |  0.8975347 |  0.6716691 |  1.0000000 |  0.80203409 |  0.84894115 |  0.81870209 |\n",
       "| Q11 | -0.30260591 |  0.20933698 | -0.07485006 |  0.8325354 |  0.7149084 |  0.8020341 |  1.00000000 |  0.82755382 |  0.69608766 |\n",
       "| Q15 | -0.26466635 |  0.16079996 | -0.08629696 |  0.9050552 |  0.7044437 |  0.8489411 |  0.82755382 |  1.00000000 |  0.82064902 |\n",
       "| Q17 | -0.10388322 |  0.08300003 | -0.07983499 |  0.8626687 |  0.6333690 |  0.8187021 |  0.69608766 |  0.82064902 |  1.00000000 |\n",
       "\n"
      ],
      "text/plain": [
       "            Procedencia Edad        Sexo        Q5         Q8        \n",
       "Procedencia  1.00000000 -0.11992286  0.00741912 -0.2024275 -0.2390195\n",
       "Edad        -0.11992286  1.00000000 -0.26421967  0.2451422  0.2696648\n",
       "Sexo         0.00741912 -0.26421967  1.00000000 -0.1046096 -0.1030656\n",
       "Q5          -0.20242751  0.24514219 -0.10460961  1.0000000  0.7979895\n",
       "Q8          -0.23901948  0.26966480 -0.10306561  0.7979895  1.0000000\n",
       "Q10         -0.23333079  0.35068019 -0.12397201  0.8975347  0.6716691\n",
       "Q11         -0.30260591  0.20933698 -0.07485006  0.8325354  0.7149084\n",
       "Q15         -0.26466635  0.16079996 -0.08629696  0.9050552  0.7044437\n",
       "Q17         -0.10388322  0.08300003 -0.07983499  0.8626687  0.6333690\n",
       "            Q10        Q11         Q15         Q17        \n",
       "Procedencia -0.2333308 -0.30260591 -0.26466635 -0.10388322\n",
       "Edad         0.3506802  0.20933698  0.16079996  0.08300003\n",
       "Sexo        -0.1239720 -0.07485006 -0.08629696 -0.07983499\n",
       "Q5           0.8975347  0.83253543  0.90505515  0.86266867\n",
       "Q8           0.6716691  0.71490843  0.70444374  0.63336901\n",
       "Q10          1.0000000  0.80203409  0.84894115  0.81870209\n",
       "Q11          0.8020341  1.00000000  0.82755382  0.69608766\n",
       "Q15          0.8489411  0.82755382  1.00000000  0.82064902\n",
       "Q17          0.8187021  0.69608766  0.82064902  1.00000000"
      ]
     },
     "metadata": {},
     "output_type": "display_data"
    },
    {
     "data": {
      "image/png": "[encoded data removed]",
      "text/plain": [
       "Plot with title \"\""
      ]
     },
     "metadata": {
      "image/png": {
       "height": 420,
       "width": 420
      }
     },
     "output_type": "display_data"
    }
   ],
   "source": [
    "conocedores_cuanti <- conocedores[c(\"Procedencia\", \"Edad\", \"Sexo\", \"Q5\", \"Q8\", \"Q10\", \"Q11\", \"Q15\", \"Q17\")]\n",
    "conocedores_cuali <- conocedores[c(\"Municipio\", \"Q6\", \"Q7\", \"Q9\", \"Q12\", \"Q13\", \"Q14\", \"Q16\")]\n",
    "\n",
    "conocedores_cuanti$Procedencia <- as.numeric(conocedores_cuanti$Procedencia)\n",
    "conocedores_cuanti$Edad <- as.numeric(conocedores_cuanti$Edad)\n",
    "conocedores_cuanti$Sexo <- as.numeric(conocedores_cuanti$Sexo)\n",
    "conocedores_cuanti$Q5 <- as.numeric(conocedores_cuanti$Q5)\n",
    "conocedores_cuanti$Q8 <- as.numeric(conocedores_cuanti$Q8)\n",
    "conocedores_cuanti$Q10 <- as.numeric(conocedores_cuanti$Q10)\n",
    "conocedores_cuanti$Q11 <- as.numeric(conocedores_cuanti$Q11)\n",
    "\n",
    "corr_cono<- cor(data.matrix(conocedores_cuanti), method = c(\"pearson\", \"kendall\", \"spearman\"))\n",
    "corr_cono\n",
    "corrplot(corr_cono, type = \"upper\", order = \"hclust\", \n",
    "         tl.col = \"black\", tl.srt = 45)\n",
    "\n",
    "cono_cuanti <- conocedores_cuanti"
   ]
  },
  {
   "cell_type": "markdown",
   "metadata": {},
   "source": [
    "### Clustering"
   ]
  },
  {
   "cell_type": "code",
   "execution_count": 105,
   "metadata": {},
   "outputs": [
    {
     "data": {
      "text/html": [
       "<table>\n",
       "<caption>A data.frame: 4 × 10</caption>\n",
       "<thead>\n",
       "\t<tr><th scope=col>Group.1</th><th scope=col>Procedencia</th><th scope=col>Edad</th><th scope=col>Sexo</th><th scope=col>Q5</th><th scope=col>Q8</th><th scope=col>Q10</th><th scope=col>Q11</th><th scope=col>Q15</th><th scope=col>Q17</th></tr>\n",
       "\t<tr><th scope=col>&lt;int&gt;</th><th scope=col>&lt;dbl&gt;</th><th scope=col>&lt;dbl&gt;</th><th scope=col>&lt;dbl&gt;</th><th scope=col>&lt;dbl&gt;</th><th scope=col>&lt;dbl&gt;</th><th scope=col>&lt;dbl&gt;</th><th scope=col>&lt;dbl&gt;</th><th scope=col>&lt;dbl&gt;</th><th scope=col>&lt;dbl&gt;</th></tr>\n",
       "</thead>\n",
       "<tbody>\n",
       "\t<tr><td>1</td><td>-0.2929821</td><td> 2.4430884</td><td>-0.6455120</td><td> 0.5989040</td><td> 0.7059752</td><td> 0.8567427</td><td> 0.4529966</td><td> 0.3359611</td><td> 0.1397140</td></tr>\n",
       "\t<tr><td>2</td><td> 0.3868280</td><td>-0.2909009</td><td>-0.8021436</td><td> 0.7187393</td><td> 0.4562004</td><td> 0.6099192</td><td> 0.6163902</td><td> 0.6772854</td><td> 0.7360819</td></tr>\n",
       "\t<tr><td>3</td><td>-0.5951200</td><td>-0.4051835</td><td> 0.9324062</td><td> 0.6797929</td><td> 0.5470276</td><td> 0.5265762</td><td> 0.6023232</td><td> 0.6955456</td><td> 0.6753552</td></tr>\n",
       "\t<tr><td>4</td><td> 0.2947704</td><td>-0.4051835</td><td> 0.1523302</td><td>-1.4233163</td><td>-1.1332760</td><td>-1.3069697</td><td>-1.2123193</td><td>-1.2948103</td><td>-1.2476589</td></tr>\n",
       "</tbody>\n",
       "</table>\n"
      ],
      "text/latex": [
       "A data.frame: 4 × 10\n",
       "\\begin{tabular}{llllllllll}\n",
       " Group.1 & Procedencia & Edad & Sexo & Q5 & Q8 & Q10 & Q11 & Q15 & Q17\\\\\n",
       " <int> & <dbl> & <dbl> & <dbl> & <dbl> & <dbl> & <dbl> & <dbl> & <dbl> & <dbl>\\\\\n",
       "\\hline\n",
       "\t 1 & -0.2929821 &  2.4430884 & -0.6455120 &  0.5989040 &  0.7059752 &  0.8567427 &  0.4529966 &  0.3359611 &  0.1397140\\\\\n",
       "\t 2 &  0.3868280 & -0.2909009 & -0.8021436 &  0.7187393 &  0.4562004 &  0.6099192 &  0.6163902 &  0.6772854 &  0.7360819\\\\\n",
       "\t 3 & -0.5951200 & -0.4051835 &  0.9324062 &  0.6797929 &  0.5470276 &  0.5265762 &  0.6023232 &  0.6955456 &  0.6753552\\\\\n",
       "\t 4 &  0.2947704 & -0.4051835 &  0.1523302 & -1.4233163 & -1.1332760 & -1.3069697 & -1.2123193 & -1.2948103 & -1.2476589\\\\\n",
       "\\end{tabular}\n"
      ],
      "text/markdown": [
       "\n",
       "A data.frame: 4 × 10\n",
       "\n",
       "| Group.1 &lt;int&gt; | Procedencia &lt;dbl&gt; | Edad &lt;dbl&gt; | Sexo &lt;dbl&gt; | Q5 &lt;dbl&gt; | Q8 &lt;dbl&gt; | Q10 &lt;dbl&gt; | Q11 &lt;dbl&gt; | Q15 &lt;dbl&gt; | Q17 &lt;dbl&gt; |\n",
       "|---|---|---|---|---|---|---|---|---|---|\n",
       "| 1 | -0.2929821 |  2.4430884 | -0.6455120 |  0.5989040 |  0.7059752 |  0.8567427 |  0.4529966 |  0.3359611 |  0.1397140 |\n",
       "| 2 |  0.3868280 | -0.2909009 | -0.8021436 |  0.7187393 |  0.4562004 |  0.6099192 |  0.6163902 |  0.6772854 |  0.7360819 |\n",
       "| 3 | -0.5951200 | -0.4051835 |  0.9324062 |  0.6797929 |  0.5470276 |  0.5265762 |  0.6023232 |  0.6955456 |  0.6753552 |\n",
       "| 4 |  0.2947704 | -0.4051835 |  0.1523302 | -1.4233163 | -1.1332760 | -1.3069697 | -1.2123193 | -1.2948103 | -1.2476589 |\n",
       "\n"
      ],
      "text/plain": [
       "  Group.1 Procedencia Edad       Sexo       Q5         Q8         Q10       \n",
       "1 1       -0.2929821   2.4430884 -0.6455120  0.5989040  0.7059752  0.8567427\n",
       "2 2        0.3868280  -0.2909009 -0.8021436  0.7187393  0.4562004  0.6099192\n",
       "3 3       -0.5951200  -0.4051835  0.9324062  0.6797929  0.5470276  0.5265762\n",
       "4 4        0.2947704  -0.4051835  0.1523302 -1.4233163 -1.1332760 -1.3069697\n",
       "  Q11        Q15        Q17       \n",
       "1  0.4529966  0.3359611  0.1397140\n",
       "2  0.6163902  0.6772854  0.7360819\n",
       "3  0.6023232  0.6955456  0.6753552\n",
       "4 -1.2123193 -1.2948103 -1.2476589"
      ]
     },
     "metadata": {},
     "output_type": "display_data"
    },
    {
     "data": {
      "image/png": "[encoded data removed]",
      "text/plain": [
       "plot without title"
      ]
     },
     "metadata": {
      "image/png": {
       "height": 420,
       "width": 420
      }
     },
     "output_type": "display_data"
    }
   ],
   "source": [
    "conocedores_cuanti <- data.matrix(conocedores_cuanti)\n",
    "conocedores_cuanti <- na.omit(conocedores_cuanti) # listwise deletion of missing\n",
    "conocedores_cuanti <- scale(conocedores_cuanti) # standardize variables\n",
    "\n",
    "#Cantidad de clusters\n",
    "wss <- (nrow(conocedores_cuanti)-1)*sum(apply(conocedores_cuanti,2,var))\n",
    "for (i in 2:15) wss[i] <- sum(kmeans(conocedores_cuanti,\n",
    "   centers=i)$withinss)\n",
    "plot(1:15, wss, type=\"b\", xlab=\"Number of Clusters\",\n",
    "  ylab=\"Within groups sum of squares\")\n",
    "\n",
    "## K-Means Cluster Analysis\n",
    "fit <- kmeans(conocedores_cuanti, 4) # 5 cluster solution\n",
    "# get cluster means\n",
    "aggregate(conocedores_cuanti,by=list(fit$cluster),FUN=mean)\n"
   ]
  },
  {
   "cell_type": "code",
   "execution_count": 104,
   "metadata": {},
   "outputs": [
    {
     "data": {
      "image/png": "[encoded data removed]",
      "text/plain": [
       "Plot with title \"CLUSPLOT( conocedores_cuanti )\""
      ]
     },
     "metadata": {
      "image/png": {
       "height": 420,
       "width": 420
      }
     },
     "output_type": "display_data"
    }
   ],
   "source": [
    "#Plot del cluster\n",
    "clusplot(conocedores_cuanti, fit$cluster, color=TRUE, shade=TRUE,\n",
    "   labels=2, lines=0)\n",
    "\n",
    "# append cluster assignment\n",
    "cono_cuanti <- data.frame(cono_cuanti, fit$cluster)\n"
   ]
  },
  {
   "cell_type": "code",
   "execution_count": 106,
   "metadata": {},
   "outputs": [
    {
     "data": {
      "text/plain": [
       "K-means clustering with 4 clusters of sizes 13, 27, 27, 32\n",
       "\n",
       "Cluster means:\n",
       "  Procedencia       Edad       Sexo         Q5         Q8        Q10        Q11\n",
       "1  -0.2929821  2.4430884 -0.6455120  0.5989040  0.7059752  0.8567427  0.4529966\n",
       "2   0.3868280 -0.2909009 -0.8021436  0.7187393  0.4562004  0.6099192  0.6163902\n",
       "3  -0.5951200 -0.4051835  0.9324062  0.6797929  0.5470276  0.5265762  0.6023232\n",
       "4   0.2947704 -0.4051835  0.1523302 -1.4233163 -1.1332760 -1.3069697 -1.2123193\n",
       "         Q15        Q17\n",
       "1  0.3359611  0.1397140\n",
       "2  0.6772854  0.7360819\n",
       "3  0.6955456  0.6753552\n",
       "4 -1.2948103 -1.2476589\n",
       "\n",
       "Clustering vector:\n",
       "  3   4   9  11  12  13  14  17  19  20  23  24  25  26  27  30  33  35  36  37 \n",
       "  3   3   3   3   2   3   2   3   2   2   3   2   3   3   1   2   2   3   3   2 \n",
       " 38  42  43  44  45  47  48  49  51  52  53  54  55  56  57  58  59  60  61  62 \n",
       "  3   2   1   3   3   3   3   1   2   2   1   3   3   1   1   2   2   1   1   1 \n",
       " 65  66  67  68  69 310 410 510  72  81  91 101 131 141 151 181 201 221 231 241 \n",
       "  2   1   2   2   3   3   1   2   2   2   1   1   2   3   2   2   2   2   3   3 \n",
       "251 261 271 281 291 311 341   5   6   7   8  10  15  16  18  21  22  28  29  31 \n",
       "  3   2   3   3   3   2   2   4   4   4   4   4   4   4   4   4   4   4   4   4 \n",
       " 32  34  39  40  41  46  63  70  71 610 111 121 161 171 191 211 301 321 331 \n",
       "  4   4   4   4   4   4   4   4   4   4   4   4   4   4   4   4   4   4   4 \n",
       "\n",
       "Within cluster sum of squares by cluster:\n",
       "[1]  53.13462  51.24691 115.85213  41.44647\n",
       " (between_SS / total_SS =  70.3 %)\n",
       "\n",
       "Available components:\n",
       "\n",
       "[1] \"cluster\"      \"centers\"      \"totss\"        \"withinss\"     \"tot.withinss\"\n",
       "[6] \"betweenss\"    \"size\"         \"iter\"         \"ifault\"      "
      ]
     },
     "metadata": {},
     "output_type": "display_data"
    }
   ],
   "source": [
    "fit"
   ]
  },
  {
   "cell_type": "code",
   "execution_count": 107,
   "metadata": {},
   "outputs": [
    {
     "name": "stdout",
     "output_type": "stream",
     "text": [
      "[1] \"1 - No produce ningun efecto\"\n",
      "[1] \"2 - El efecto no es notable\"\n",
      "[1] \"3 - Levemente efectivo\"\n",
      "[1] \"4 - Efecto notable\"\n",
      "[1] \"5 - Efecto significativo\"\n"
     ]
    },
    {
     "data": {
      "text/plain": [
       "temp\n",
       "1 2 3 4 5 \n",
       "2 1 6 1 2 "
      ]
     },
     "metadata": {},
     "output_type": "display_data"
    },
    {
     "data": {
      "image/png": "[encoded data removed]",
      "text/plain": [
       "Plot with title \"¿Qué tan efectivo cree son los tratamientos alternativos de achiote?\""
      ]
     },
     "metadata": {
      "image/png": {
       "height": 420,
       "width": 420
      }
     },
     "output_type": "display_data"
    }
   ],
   "source": [
    "B <- split(cono_cuanti, cono_cuanti$fit.cluster)\n",
    "group_1 <- B$\"1\"\n",
    "temp <- as.character(group_1$Q17)\n",
    "info <- table(temp)\n",
    "print(\"1 - No produce ningun efecto\")\n",
    "print(\"2 - El efecto no es notable\")\n",
    "print(\"3 - Levemente efectivo\")\n",
    "print(\"4 - Efecto notable\")\n",
    "print(\"5 - Efecto significativo\")\n",
    "xx <- barplot(info,main=\"¿Qué tan efectivo cree son los tratamientos alternativos de achiote?\", col=color.ramp)\n",
    "info"
   ]
  },
  {
   "cell_type": "code",
   "execution_count": 89,
   "metadata": {},
   "outputs": [
    {
     "data": {
      "text/html": [
       "<style>\n",
       ".dl-inline {width: auto; margin:0; padding: 0}\n",
       ".dl-inline>dt, .dl-inline>dd {float: none; width: auto; display: inline-block}\n",
       ".dl-inline>dt::after {content: \":\\0020\"; padding-right: .5ex}\n",
       ".dl-inline>dt:not(:first-of-type) {padding-left: .5ex}\n",
       "</style><dl class=dl-inline><dt>3</dt><dd>3</dd><dt>4</dt><dd>3</dd><dt>9</dt><dd>3</dd><dt>11</dt><dd>3</dd><dt>12</dt><dd>3</dd><dt>13</dt><dd>3</dd><dt>14</dt><dd>2</dd><dt>17</dt><dd>3</dd><dt>19</dt><dd>3</dd><dt>20</dt><dd>3</dd><dt>23</dt><dd>3</dd><dt>24</dt><dd>3</dd><dt>25</dt><dd>3</dd><dt>26</dt><dd>3</dd><dt>27</dt><dd>2</dd><dt>30</dt><dd>3</dd><dt>33</dt><dd>3</dd><dt>35</dt><dd>3</dd><dt>36</dt><dd>3</dd><dt>37</dt><dd>3</dd><dt>38</dt><dd>3</dd><dt>42</dt><dd>3</dd><dt>43</dt><dd>2</dd><dt>44</dt><dd>3</dd><dt>45</dt><dd>3</dd><dt>47</dt><dd>3</dd><dt>48</dt><dd>3</dd><dt>49</dt><dd>2</dd><dt>51</dt><dd>3</dd><dt>52</dt><dd>3</dd><dt>53</dt><dd>2</dd><dt>54</dt><dd>3</dd><dt>55</dt><dd>3</dd><dt>56</dt><dd>2</dd><dt>57</dt><dd>2</dd><dt>58</dt><dd>3</dd><dt>59</dt><dd>3</dd><dt>60</dt><dd>2</dd><dt>61</dt><dd>2</dd><dt>62</dt><dd>2</dd><dt>65</dt><dd>2</dd><dt>66</dt><dd>2</dd><dt>67</dt><dd>3</dd><dt>68</dt><dd>3</dd><dt>69</dt><dd>3</dd><dt>310</dt><dd>3</dd><dt>410</dt><dd>2</dd><dt>510</dt><dd>3</dd><dt>72</dt><dd>3</dd><dt>81</dt><dd>3</dd><dt>91</dt><dd>2</dd><dt>101</dt><dd>2</dd><dt>131</dt><dd>3</dd><dt>141</dt><dd>3</dd><dt>151</dt><dd>3</dd><dt>181</dt><dd>3</dd><dt>201</dt><dd>3</dd><dt>221</dt><dd>3</dd><dt>231</dt><dd>3</dd><dt>241</dt><dd>3</dd><dt>251</dt><dd>3</dd><dt>261</dt><dd>3</dd><dt>271</dt><dd>3</dd><dt>281</dt><dd>3</dd><dt>291</dt><dd>3</dd><dt>311</dt><dd>3</dd><dt>341</dt><dd>3</dd><dt>5</dt><dd>4</dd><dt>6</dt><dd>1</dd><dt>7</dt><dd>4</dd><dt>8</dt><dd>4</dd><dt>10</dt><dd>4</dd><dt>15</dt><dd>1</dd><dt>16</dt><dd>4</dd><dt>18</dt><dd>4</dd><dt>21</dt><dd>4</dd><dt>22</dt><dd>4</dd><dt>28</dt><dd>1</dd><dt>29</dt><dd>4</dd><dt>31</dt><dd>1</dd><dt>32</dt><dd>1</dd><dt>34</dt><dd>4</dd><dt>39</dt><dd>1</dd><dt>40</dt><dd>1</dd><dt>41</dt><dd>1</dd><dt>46</dt><dd>4</dd><dt>63</dt><dd>4</dd><dt>70</dt><dd>1</dd><dt>71</dt><dd>1</dd><dt>610</dt><dd>1</dd><dt>111</dt><dd>1</dd><dt>121</dt><dd>4</dd><dt>161</dt><dd>1</dd><dt>171</dt><dd>1</dd><dt>191</dt><dd>1</dd><dt>211</dt><dd>4</dd><dt>301</dt><dd>1</dd><dt>321</dt><dd>1</dd><dt>331</dt><dd>4</dd></dl>\n"
      ],
      "text/latex": [
       "\\begin{description*}\n",
       "\\item[3] 3\n",
       "\\item[4] 3\n",
       "\\item[9] 3\n",
       "\\item[11] 3\n",
       "\\item[12] 3\n",
       "\\item[13] 3\n",
       "\\item[14] 2\n",
       "\\item[17] 3\n",
       "\\item[19] 3\n",
       "\\item[20] 3\n",
       "\\item[23] 3\n",
       "\\item[24] 3\n",
       "\\item[25] 3\n",
       "\\item[26] 3\n",
       "\\item[27] 2\n",
       "\\item[30] 3\n",
       "\\item[33] 3\n",
       "\\item[35] 3\n",
       "\\item[36] 3\n",
       "\\item[37] 3\n",
       "\\item[38] 3\n",
       "\\item[42] 3\n",
       "\\item[43] 2\n",
       "\\item[44] 3\n",
       "\\item[45] 3\n",
       "\\item[47] 3\n",
       "\\item[48] 3\n",
       "\\item[49] 2\n",
       "\\item[51] 3\n",
       "\\item[52] 3\n",
       "\\item[53] 2\n",
       "\\item[54] 3\n",
       "\\item[55] 3\n",
       "\\item[56] 2\n",
       "\\item[57] 2\n",
       "\\item[58] 3\n",
       "\\item[59] 3\n",
       "\\item[60] 2\n",
       "\\item[61] 2\n",
       "\\item[62] 2\n",
       "\\item[65] 2\n",
       "\\item[66] 2\n",
       "\\item[67] 3\n",
       "\\item[68] 3\n",
       "\\item[69] 3\n",
       "\\item[310] 3\n",
       "\\item[410] 2\n",
       "\\item[510] 3\n",
       "\\item[72] 3\n",
       "\\item[81] 3\n",
       "\\item[91] 2\n",
       "\\item[101] 2\n",
       "\\item[131] 3\n",
       "\\item[141] 3\n",
       "\\item[151] 3\n",
       "\\item[181] 3\n",
       "\\item[201] 3\n",
       "\\item[221] 3\n",
       "\\item[231] 3\n",
       "\\item[241] 3\n",
       "\\item[251] 3\n",
       "\\item[261] 3\n",
       "\\item[271] 3\n",
       "\\item[281] 3\n",
       "\\item[291] 3\n",
       "\\item[311] 3\n",
       "\\item[341] 3\n",
       "\\item[5] 4\n",
       "\\item[6] 1\n",
       "\\item[7] 4\n",
       "\\item[8] 4\n",
       "\\item[10] 4\n",
       "\\item[15] 1\n",
       "\\item[16] 4\n",
       "\\item[18] 4\n",
       "\\item[21] 4\n",
       "\\item[22] 4\n",
       "\\item[28] 1\n",
       "\\item[29] 4\n",
       "\\item[31] 1\n",
       "\\item[32] 1\n",
       "\\item[34] 4\n",
       "\\item[39] 1\n",
       "\\item[40] 1\n",
       "\\item[41] 1\n",
       "\\item[46] 4\n",
       "\\item[63] 4\n",
       "\\item[70] 1\n",
       "\\item[71] 1\n",
       "\\item[610] 1\n",
       "\\item[111] 1\n",
       "\\item[121] 4\n",
       "\\item[161] 1\n",
       "\\item[171] 1\n",
       "\\item[191] 1\n",
       "\\item[211] 4\n",
       "\\item[301] 1\n",
       "\\item[321] 1\n",
       "\\item[331] 4\n",
       "\\end{description*}\n"
      ],
      "text/markdown": [
       "3\n",
       ":   34\n",
       ":   39\n",
       ":   311\n",
       ":   312\n",
       ":   313\n",
       ":   314\n",
       ":   217\n",
       ":   319\n",
       ":   320\n",
       ":   323\n",
       ":   324\n",
       ":   325\n",
       ":   326\n",
       ":   327\n",
       ":   230\n",
       ":   333\n",
       ":   335\n",
       ":   336\n",
       ":   337\n",
       ":   338\n",
       ":   342\n",
       ":   343\n",
       ":   244\n",
       ":   345\n",
       ":   347\n",
       ":   348\n",
       ":   349\n",
       ":   251\n",
       ":   352\n",
       ":   353\n",
       ":   254\n",
       ":   355\n",
       ":   356\n",
       ":   257\n",
       ":   258\n",
       ":   359\n",
       ":   360\n",
       ":   261\n",
       ":   262\n",
       ":   265\n",
       ":   266\n",
       ":   267\n",
       ":   368\n",
       ":   369\n",
       ":   3310\n",
       ":   3410\n",
       ":   2510\n",
       ":   372\n",
       ":   381\n",
       ":   391\n",
       ":   2101\n",
       ":   2131\n",
       ":   3141\n",
       ":   3151\n",
       ":   3181\n",
       ":   3201\n",
       ":   3221\n",
       ":   3231\n",
       ":   3241\n",
       ":   3251\n",
       ":   3261\n",
       ":   3271\n",
       ":   3281\n",
       ":   3291\n",
       ":   3311\n",
       ":   3341\n",
       ":   35\n",
       ":   46\n",
       ":   17\n",
       ":   48\n",
       ":   410\n",
       ":   415\n",
       ":   116\n",
       ":   418\n",
       ":   421\n",
       ":   422\n",
       ":   428\n",
       ":   129\n",
       ":   431\n",
       ":   132\n",
       ":   134\n",
       ":   439\n",
       ":   140\n",
       ":   141\n",
       ":   146\n",
       ":   463\n",
       ":   470\n",
       ":   171\n",
       ":   1610\n",
       ":   1111\n",
       ":   1121\n",
       ":   4161\n",
       ":   1171\n",
       ":   1191\n",
       ":   1211\n",
       ":   4301\n",
       ":   1321\n",
       ":   1331\n",
       ":   4\n",
       "\n"
      ],
      "text/plain": [
       "  3   4   9  11  12  13  14  17  19  20  23  24  25  26  27  30  33  35  36  37 \n",
       "  3   3   3   3   3   3   2   3   3   3   3   3   3   3   2   3   3   3   3   3 \n",
       " 38  42  43  44  45  47  48  49  51  52  53  54  55  56  57  58  59  60  61  62 \n",
       "  3   3   2   3   3   3   3   2   3   3   2   3   3   2   2   3   3   2   2   2 \n",
       " 65  66  67  68  69 310 410 510  72  81  91 101 131 141 151 181 201 221 231 241 \n",
       "  2   2   3   3   3   3   2   3   3   3   2   2   3   3   3   3   3   3   3   3 \n",
       "251 261 271 281 291 311 341   5   6   7   8  10  15  16  18  21  22  28  29  31 \n",
       "  3   3   3   3   3   3   3   4   1   4   4   4   1   4   4   4   4   1   4   1 \n",
       " 32  34  39  40  41  46  63  70  71 610 111 121 161 171 191 211 301 321 331 \n",
       "  1   4   1   1   1   4   4   1   1   1   1   4   1   1   1   4   1   1   4 "
      ]
     },
     "metadata": {},
     "output_type": "display_data"
    }
   ],
   "source": [
    "fit$cluster"
   ]
  },
  {
   "cell_type": "markdown",
   "metadata": {},
   "source": [
    "### Division rango edad"
   ]
  },
  {
   "cell_type": "code",
   "execution_count": 133,
   "metadata": {},
   "outputs": [],
   "source": [
    "Y <- split(achiote, achiote$Edad)\n",
    "quince35 <- Y$\"15-35\"\n",
    "tresseis55 <- Y$\"36-55\"\n",
    "cincoseis75 <- Y$\"56-75\""
   ]
  },
  {
   "cell_type": "code",
   "execution_count": 134,
   "metadata": {},
   "outputs": [
    {
     "name": "stdout",
     "output_type": "stream",
     "text": [
      "'data.frame':\t4 obs. of  33 variables:\n",
      " $ Id                : Factor w/ 100 levels \"1\",\"10\",\"100\",..: 5 19 43 61\n",
      " $ Ip                : Factor w/ 93 levels \"143.208.57.62\",..: 46 41 59 29\n",
      " $ Acceso            : Factor w/ 1 level \"Public Access\": 1 1 1 1\n",
      " $ Fecha_inicio      : Date, format: \"2020-09-18\" \"2020-09-18\" ...\n",
      " $ Fecha_finalizacion: Date, format: \"2020-09-18\" \"2020-09-18\" ...\n",
      " $ Procedencia       : Factor w/ 2 levels \"Casco rural\",..: 2 2 2 2\n",
      " $ Municipio         : Factor w/ 18 levels \"Amatitlan\",\"Asunción Mita\",..: 8 17 8 8\n",
      " $ Edad              : Factor w/ 3 levels \"15-35 años\",\"36-55 años\",..: 2 2 2 2\n",
      " $ Sexo              : Factor w/ 2 levels \"Femenino\",\"Masculino\": 1 1 1 1\n",
      " $ Q1                : Factor w/ 61 levels \"\",\"\\\"Mata ratón\\\", se cocina y con esa agua se da un baño para bajar la fiebre\",..: 58 38 38 27\n",
      " $ Q2                : Factor w/ 2 levels \"No\",\"Si\": 2 2 2 2\n",
      " $ Q3                : Factor w/ 3 levels \"\",\"No\",\"Si\": 1 1 1 1\n",
      " $ Q4                : Factor w/ 6 levels \"\",\"1\",\"2\",\"3\",..: 1 1 1 1\n",
      " $ Justificacion_1   : Factor w/ 29 levels \"\",\"Conozco que tiene propiedades positivas pero no sé cuán efectivas sean en las personas\",..: 1 1 1 1\n",
      " $ He leido          : Factor w/ 2 levels \"\",\"si\": 1 1 1 1\n",
      " $ Q5                : Factor w/ 4 levels \"\",\"Bija\",\"No\",..: 3 3 3 3\n",
      " $ Q6                : Factor w/ 12 levels \"     \",\"  Medicinal   \",..: 3 3 3 2\n",
      " $ Q7                : Factor w/ 23 levels \"          \",\"         No conozco ninguna aplicación del achiote \",..: 3 3 3 3\n",
      " $ Q8                : Factor w/ 5 levels \"\",\"Mensualmente\",..: 4 5 5 4\n",
      " $ Q9                : Factor w/ 12 levels \"      \",\"     No obtengo achiote \",..: 11 11 9 9\n",
      " $ Q10               : Factor w/ 3 levels \"\",\"No\",\"Si\": 3 3 2 2\n",
      " $ Q11               : Factor w/ 8 levels \"\",\"Flores\",\"Fruto\",..: 7 5 3 5\n",
      " $ Q12               : Factor w/ 7 levels \"\",\"Azafrán\",\"Cúrcuma\",..: 6 2 2 2\n",
      " $ Q13               : Factor w/ 31 levels \"\",\"Achiote\",\"Achiote, remolacha, tomate\",..: 2 5 1 19\n",
      " $ Q14               : Factor w/ 23 levels \"        \",\"       No conozco ninguna preparación \",..: 2 2 2 2\n",
      " $ Q15               : Factor w/ 6 levels \"\",\"1\",\"2\",\"3\",..: 5 4 3 5\n",
      " $ Justificacion_2   : Factor w/ 57 levels \"\",\"al saber sus propiedades puedo utilizarlo.\",..: 46 22 1 50\n",
      " $ Q16               : Factor w/ 24 levels \"       \",\"       Otra::no lo se\",..: 12 2 16 14\n",
      " $ Q17               : Factor w/ 6 levels \"\",\"1\",\"2\",\"3\",..: 5 2 4 4\n",
      " $ Justificacion_3   : Factor w/ 57 levels \"\",\"5. Tiene q tener algun efecto.  Pero no creo q curativo\",..: 12 35 1 29\n",
      " $ hora_inicio       : POSIXct, format: \"2020-11-08 11:40:00\" \"2020-11-08 12:30:00\" ...\n",
      " $ hora_final        : POSIXct, format: \"2020-11-08 11:53:00\" \"2020-11-08 12:34:00\" ...\n",
      " $ tiempo_terminar   : 'difftime' num  13 4 4 15\n",
      "  ..- attr(*, \"units\")= chr \"mins\"\n"
     ]
    }
   ],
   "source": [
    "str(tresseis55)"
   ]
  },
  {
   "cell_type": "markdown",
   "metadata": {},
   "source": [
    "### 15 - 35 años"
   ]
  },
  {
   "cell_type": "code",
   "execution_count": 135,
   "metadata": {},
   "outputs": [
    {
     "name": "stderr",
     "output_type": "stream",
     "text": [
      "Joining, by = \"word\"\n",
      "\n"
     ]
    },
    {
     "data": {
      "text/html": [
       "<table>\n",
       "<caption>A tibble: 26 × 2</caption>\n",
       "<thead>\n",
       "\t<tr><th scope=col>word</th><th scope=col>n</th></tr>\n",
       "\t<tr><th scope=col>&lt;chr&gt;</th><th scope=col>&lt;int&gt;</th></tr>\n",
       "</thead>\n",
       "<tbody>\n",
       "\t<tr><td>colorante   </td><td>59</td></tr>\n",
       "\t<tr><td>bebidas     </td><td>46</td></tr>\n",
       "\t<tr><td>comidas     </td><td>46</td></tr>\n",
       "\t<tr><td>textiles    </td><td>38</td></tr>\n",
       "\t<tr><td>tinte       </td><td>38</td></tr>\n",
       "\t<tr><td>pintalabios </td><td>12</td></tr>\n",
       "\t<tr><td>alivio      </td><td>10</td></tr>\n",
       "\t<tr><td>fiebre      </td><td> 6</td></tr>\n",
       "\t<tr><td>leche       </td><td> 5</td></tr>\n",
       "\t<tr><td>diarrea     </td><td> 4</td></tr>\n",
       "\t<tr><td>dientes     </td><td> 4</td></tr>\n",
       "\t<tr><td>dolor       </td><td> 4</td></tr>\n",
       "\t<tr><td>repelente   </td><td> 4</td></tr>\n",
       "\t<tr><td>protector   </td><td> 2</td></tr>\n",
       "\t<tr><td>alimentacion</td><td> 1</td></tr>\n",
       "\t<tr><td>diabetes    </td><td> 1</td></tr>\n",
       "\t<tr><td>gallina     </td><td> 1</td></tr>\n",
       "\t<tr><td>glucosa     </td><td> 1</td></tr>\n",
       "\t<tr><td>huevo       </td><td> 1</td></tr>\n",
       "\t<tr><td>insulina    </td><td> 1</td></tr>\n",
       "\t<tr><td>mediante    </td><td> 1</td></tr>\n",
       "\t<tr><td>ninguna     </td><td> 1</td></tr>\n",
       "\t<tr><td>sangre      </td><td> 1</td></tr>\n",
       "\t<tr><td>semillas    </td><td> 1</td></tr>\n",
       "\t<tr><td>tratar      </td><td> 1</td></tr>\n",
       "\t<tr><td>yemas       </td><td> 1</td></tr>\n",
       "</tbody>\n",
       "</table>\n"
      ],
      "text/latex": [
       "A tibble: 26 × 2\n",
       "\\begin{tabular}{ll}\n",
       " word & n\\\\\n",
       " <chr> & <int>\\\\\n",
       "\\hline\n",
       "\t colorante    & 59\\\\\n",
       "\t bebidas      & 46\\\\\n",
       "\t comidas      & 46\\\\\n",
       "\t textiles     & 38\\\\\n",
       "\t tinte        & 38\\\\\n",
       "\t pintalabios  & 12\\\\\n",
       "\t alivio       & 10\\\\\n",
       "\t fiebre       &  6\\\\\n",
       "\t leche        &  5\\\\\n",
       "\t diarrea      &  4\\\\\n",
       "\t dientes      &  4\\\\\n",
       "\t dolor        &  4\\\\\n",
       "\t repelente    &  4\\\\\n",
       "\t protector    &  2\\\\\n",
       "\t alimentacion &  1\\\\\n",
       "\t diabetes     &  1\\\\\n",
       "\t gallina      &  1\\\\\n",
       "\t glucosa      &  1\\\\\n",
       "\t huevo        &  1\\\\\n",
       "\t insulina     &  1\\\\\n",
       "\t mediante     &  1\\\\\n",
       "\t ninguna      &  1\\\\\n",
       "\t sangre       &  1\\\\\n",
       "\t semillas     &  1\\\\\n",
       "\t tratar       &  1\\\\\n",
       "\t yemas        &  1\\\\\n",
       "\\end{tabular}\n"
      ],
      "text/markdown": [
       "\n",
       "A tibble: 26 × 2\n",
       "\n",
       "| word &lt;chr&gt; | n &lt;int&gt; |\n",
       "|---|---|\n",
       "| colorante    | 59 |\n",
       "| bebidas      | 46 |\n",
       "| comidas      | 46 |\n",
       "| textiles     | 38 |\n",
       "| tinte        | 38 |\n",
       "| pintalabios  | 12 |\n",
       "| alivio       | 10 |\n",
       "| fiebre       |  6 |\n",
       "| leche        |  5 |\n",
       "| diarrea      |  4 |\n",
       "| dientes      |  4 |\n",
       "| dolor        |  4 |\n",
       "| repelente    |  4 |\n",
       "| protector    |  2 |\n",
       "| alimentacion |  1 |\n",
       "| diabetes     |  1 |\n",
       "| gallina      |  1 |\n",
       "| glucosa      |  1 |\n",
       "| huevo        |  1 |\n",
       "| insulina     |  1 |\n",
       "| mediante     |  1 |\n",
       "| ninguna      |  1 |\n",
       "| sangre       |  1 |\n",
       "| semillas     |  1 |\n",
       "| tratar       |  1 |\n",
       "| yemas        |  1 |\n",
       "\n"
      ],
      "text/plain": [
       "   word         n \n",
       "1  colorante    59\n",
       "2  bebidas      46\n",
       "3  comidas      46\n",
       "4  textiles     38\n",
       "5  tinte        38\n",
       "6  pintalabios  12\n",
       "7  alivio       10\n",
       "8  fiebre        6\n",
       "9  leche         5\n",
       "10 diarrea       4\n",
       "11 dientes       4\n",
       "12 dolor         4\n",
       "13 repelente     4\n",
       "14 protector     2\n",
       "15 alimentacion  1\n",
       "16 diabetes      1\n",
       "17 gallina       1\n",
       "18 glucosa       1\n",
       "19 huevo         1\n",
       "20 insulina      1\n",
       "21 mediante      1\n",
       "22 ninguna       1\n",
       "23 sangre        1\n",
       "24 semillas      1\n",
       "25 tratar        1\n",
       "26 yemas         1"
      ]
     },
     "metadata": {},
     "output_type": "display_data"
    },
    {
     "data": {
      "image/png": "[encoded data removed]",
      "text/plain": [
       "plot without title"
      ]
     },
     "metadata": {
      "image/png": {
       "height": 420,
       "width": 420
      }
     },
     "output_type": "display_data"
    }
   ],
   "source": [
    "text <- toupper(as.character(quince35$Q7))\n",
    "text <- chartr(\"ÁÉÍÓÚ\", \"AEIOU\", text)\n",
    "text_df <- tibble(text = text)\n",
    "\n",
    "custom_stop_words <- bind_rows(stop_words,\n",
    "                               tibble(word = c(tm::stopwords(\"spanish\"), \"quita\", \"aumenta\", \"materna\", \"flujo\", \"achiote\", \"aplicacion\", \"conozco\", \"consumo\", \"control\", \"solar\", \"mosquitos\"),\n",
    "                                          lexicon = \"custom\"))\n",
    "\n",
    "text_df <- text_df %>% \n",
    "    unnest_tokens(word, text) %>%\n",
    "    anti_join(custom_stop_words) %>%\n",
    "    count(word, sort = TRUE)\n",
    "\n",
    "text_df %>%\n",
    "  filter(n > 1) %>%\n",
    "  mutate(word = reorder(word, n)) %>%\n",
    "  ggplot(aes(word, n)) +\n",
    "  geom_col() +\n",
    "  geom_bar(stat=\"identity\", fill = \"#9299DE\") +\n",
    "  labs(x = \"Aplicaciones\", y = \"Ocurrencias\") +\n",
    "  coord_flip()\n",
    "\n",
    "text_df"
   ]
  },
  {
   "cell_type": "code",
   "execution_count": 120,
   "metadata": {},
   "outputs": [
    {
     "data": {
      "text/plain": [
       "\n",
       "   No Si \n",
       "33 17 35 "
      ]
     },
     "metadata": {},
     "output_type": "display_data"
    },
    {
     "data": {
      "image/png": "[encoded data removed]",
      "text/plain": [
       "Plot with title \"¿conseguir achiote en los centro de conveniencia en especias?\""
      ]
     },
     "metadata": {
      "image/png": {
       "height": 420,
       "width": 420
      }
     },
     "output_type": "display_data"
    }
   ],
   "source": [
    "info <- table(quince35$Q10)\n",
    "xx <- barplot(info,main=\"¿conseguir achiote en los centro de conveniencia en especias?\", col=color.ramp, cex.lab=2)\n",
    "info"
   ]
  },
  {
   "cell_type": "code",
   "execution_count": 121,
   "metadata": {},
   "outputs": [
    {
     "data": {
      "text/plain": [
       "\n",
       "                                               \n",
       "                                            33 \n",
       "                                        Flores \n",
       "                                             1 \n",
       "                                         Fruto \n",
       "                                            11 \n",
       "                                         Hojas \n",
       "                                             1 \n",
       "No se obtiene ningún polvo rojo de esta planta \n",
       "                                             1 \n",
       "                                          Raíz \n",
       "                                            11 \n",
       "                                      Semillas \n",
       "                                            25 \n",
       "                                         Tallo \n",
       "                                             2 "
      ]
     },
     "metadata": {},
     "output_type": "display_data"
    },
    {
     "data": {
      "image/png": "[encoded data removed]",
      "text/plain": [
       "Plot with title \"qué parte se utiliza para obtener el polvo rojo comúnmente comercializado\""
      ]
     },
     "metadata": {
      "image/png": {
       "height": 420,
       "width": 420
      }
     },
     "output_type": "display_data"
    }
   ],
   "source": [
    "info <- table(quince35$Q11)\n",
    "xx <- barplot(info,\n",
    "              main=\"qué parte se utiliza para obtener el polvo rojo comúnmente comercializado\",\n",
    "              col=color.ramp,\n",
    "              cex.lab=2)\n",
    "info"
   ]
  },
  {
   "cell_type": "markdown",
   "metadata": {},
   "source": [
    "### 36 -55"
   ]
  },
  {
   "cell_type": "code",
   "execution_count": 124,
   "metadata": {},
   "outputs": [
    {
     "name": "stdout",
     "output_type": "stream",
     "text": [
      " NULL\n"
     ]
    }
   ],
   "source": [
    "str(tresseis55)"
   ]
  },
  {
   "cell_type": "code",
   "execution_count": 136,
   "metadata": {
    "scrolled": true
   },
   "outputs": [
    {
     "name": "stderr",
     "output_type": "stream",
     "text": [
      "Joining, by = \"word\"\n",
      "\n"
     ]
    },
    {
     "data": {
      "text/html": [
       "<table>\n",
       "<caption>A tibble: 3 × 2</caption>\n",
       "<thead>\n",
       "\t<tr><th scope=col>word</th><th scope=col>n</th></tr>\n",
       "\t<tr><th scope=col>&lt;chr&gt;</th><th scope=col>&lt;int&gt;</th></tr>\n",
       "</thead>\n",
       "<tbody>\n",
       "\t<tr><td>bebidas  </td><td>4</td></tr>\n",
       "\t<tr><td>colorante</td><td>4</td></tr>\n",
       "\t<tr><td>comidas  </td><td>4</td></tr>\n",
       "</tbody>\n",
       "</table>\n"
      ],
      "text/latex": [
       "A tibble: 3 × 2\n",
       "\\begin{tabular}{ll}\n",
       " word & n\\\\\n",
       " <chr> & <int>\\\\\n",
       "\\hline\n",
       "\t bebidas   & 4\\\\\n",
       "\t colorante & 4\\\\\n",
       "\t comidas   & 4\\\\\n",
       "\\end{tabular}\n"
      ],
      "text/markdown": [
       "\n",
       "A tibble: 3 × 2\n",
       "\n",
       "| word &lt;chr&gt; | n &lt;int&gt; |\n",
       "|---|---|\n",
       "| bebidas   | 4 |\n",
       "| colorante | 4 |\n",
       "| comidas   | 4 |\n",
       "\n"
      ],
      "text/plain": [
       "  word      n\n",
       "1 bebidas   4\n",
       "2 colorante 4\n",
       "3 comidas   4"
      ]
     },
     "metadata": {},
     "output_type": "display_data"
    },
    {
     "data": {
      "image/png": "[encoded data removed]",
      "text/plain": [
       "plot without title"
      ]
     },
     "metadata": {
      "image/png": {
       "height": 420,
       "width": 420
      }
     },
     "output_type": "display_data"
    }
   ],
   "source": [
    "text <- toupper(as.character(tresseis55$Q7))\n",
    "text <- chartr(\"ÁÉÍÓÚ\", \"AEIOU\", text)\n",
    "text_df <- tibble(text = text)\n",
    "\n",
    "custom_stop_words <- bind_rows(stop_words,\n",
    "                               tibble(word = c(tm::stopwords(\"spanish\"), \"quita\", \"aumenta\", \"materna\", \"flujo\", \"achiote\", \"aplicacion\", \"conozco\", \"consumo\", \"control\", \"solar\", \"mosquitos\"),\n",
    "                                          lexicon = \"custom\"))\n",
    "\n",
    "text_df <- text_df %>% \n",
    "    unnest_tokens(word, text) %>%\n",
    "    anti_join(custom_stop_words) %>%\n",
    "    count(word, sort = TRUE)\n",
    "\n",
    "text_df %>%\n",
    "  filter(n > 1) %>%\n",
    "  mutate(word = reorder(word, n)) %>%\n",
    "  ggplot(aes(word, n)) +\n",
    "  geom_col() +\n",
    "  geom_bar(stat=\"identity\", fill = \"#9299DE\") +\n",
    "  labs(x = \"Aplicaciones\", y = \"Ocurrencias\") +\n",
    "  coord_flip()\n",
    "\n",
    "text_df"
   ]
  },
  {
   "cell_type": "code",
   "execution_count": 137,
   "metadata": {
    "scrolled": true
   },
   "outputs": [
    {
     "data": {
      "text/plain": [
       "\n",
       "   No Si \n",
       " 0  2  2 "
      ]
     },
     "metadata": {},
     "output_type": "display_data"
    },
    {
     "data": {
      "image/png": "[encoded data removed]",
      "text/plain": [
       "Plot with title \"¿conseguir achiote en los centro de conveniencia en especias?\""
      ]
     },
     "metadata": {
      "image/png": {
       "height": 420,
       "width": 420
      }
     },
     "output_type": "display_data"
    }
   ],
   "source": [
    "info <- table(tresseis55$Q10)\n",
    "xx <- barplot(info,main=\"¿conseguir achiote en los centro de conveniencia en especias?\", col=color.ramp, cex.lab=2)\n",
    "info"
   ]
  },
  {
   "cell_type": "code",
   "execution_count": 138,
   "metadata": {
    "scrolled": true
   },
   "outputs": [
    {
     "data": {
      "text/plain": [
       "\n",
       "                                               \n",
       "                                             0 \n",
       "                                        Flores \n",
       "                                             0 \n",
       "                                         Fruto \n",
       "                                             1 \n",
       "                                         Hojas \n",
       "                                             0 \n",
       "No se obtiene ningún polvo rojo de esta planta \n",
       "                                             2 \n",
       "                                          Raíz \n",
       "                                             0 \n",
       "                                      Semillas \n",
       "                                             1 \n",
       "                                         Tallo \n",
       "                                             0 "
      ]
     },
     "metadata": {},
     "output_type": "display_data"
    },
    {
     "data": {
      "image/png": "[encoded data removed]",
      "text/plain": [
       "Plot with title \"qué parte se utiliza para obtener el polvo rojo comúnmente comercializado\""
      ]
     },
     "metadata": {
      "image/png": {
       "height": 420,
       "width": 420
      }
     },
     "output_type": "display_data"
    }
   ],
   "source": [
    "info <- table(tresseis55$Q11)\n",
    "xx <- barplot(info,\n",
    "              main=\"qué parte se utiliza para obtener el polvo rojo comúnmente comercializado\",\n",
    "              col=color.ramp,\n",
    "              cex.lab=2)\n",
    "info"
   ]
  },
  {
   "cell_type": "markdown",
   "metadata": {},
   "source": [
    "### 56 - 75"
   ]
  },
  {
   "cell_type": "code",
   "execution_count": 139,
   "metadata": {
    "scrolled": false
   },
   "outputs": [
    {
     "name": "stderr",
     "output_type": "stream",
     "text": [
      "Joining, by = \"word\"\n",
      "\n"
     ]
    },
    {
     "data": {
      "text/html": [
       "<table>\n",
       "<caption>A tibble: 6 × 2</caption>\n",
       "<thead>\n",
       "\t<tr><th scope=col>word</th><th scope=col>n</th></tr>\n",
       "\t<tr><th scope=col>&lt;chr&gt;</th><th scope=col>&lt;int&gt;</th></tr>\n",
       "</thead>\n",
       "<tbody>\n",
       "\t<tr><td>colorante  </td><td>15</td></tr>\n",
       "\t<tr><td>bebidas    </td><td>11</td></tr>\n",
       "\t<tr><td>comidas    </td><td>11</td></tr>\n",
       "\t<tr><td>textiles   </td><td> 6</td></tr>\n",
       "\t<tr><td>tinte      </td><td> 6</td></tr>\n",
       "\t<tr><td>pintalabios</td><td> 4</td></tr>\n",
       "</tbody>\n",
       "</table>\n"
      ],
      "text/latex": [
       "A tibble: 6 × 2\n",
       "\\begin{tabular}{ll}\n",
       " word & n\\\\\n",
       " <chr> & <int>\\\\\n",
       "\\hline\n",
       "\t colorante   & 15\\\\\n",
       "\t bebidas     & 11\\\\\n",
       "\t comidas     & 11\\\\\n",
       "\t textiles    &  6\\\\\n",
       "\t tinte       &  6\\\\\n",
       "\t pintalabios &  4\\\\\n",
       "\\end{tabular}\n"
      ],
      "text/markdown": [
       "\n",
       "A tibble: 6 × 2\n",
       "\n",
       "| word &lt;chr&gt; | n &lt;int&gt; |\n",
       "|---|---|\n",
       "| colorante   | 15 |\n",
       "| bebidas     | 11 |\n",
       "| comidas     | 11 |\n",
       "| textiles    |  6 |\n",
       "| tinte       |  6 |\n",
       "| pintalabios |  4 |\n",
       "\n"
      ],
      "text/plain": [
       "  word        n \n",
       "1 colorante   15\n",
       "2 bebidas     11\n",
       "3 comidas     11\n",
       "4 textiles     6\n",
       "5 tinte        6\n",
       "6 pintalabios  4"
      ]
     },
     "metadata": {},
     "output_type": "display_data"
    },
    {
     "data": {
      "image/png": "[encoded data removed]",
      "text/plain": [
       "plot without title"
      ]
     },
     "metadata": {
      "image/png": {
       "height": 420,
       "width": 420
      }
     },
     "output_type": "display_data"
    }
   ],
   "source": [
    "text <- toupper(as.character(cincoseis75$Q7))\n",
    "text <- chartr(\"ÁÉÍÓÚ\", \"AEIOU\", text)\n",
    "text_df <- tibble(text = text)\n",
    "\n",
    "custom_stop_words <- bind_rows(stop_words,\n",
    "                               tibble(word = c(tm::stopwords(\"spanish\"), \"quita\", \"aumenta\", \"materna\", \"flujo\", \"achiote\", \"aplicacion\", \"conozco\", \"consumo\", \"control\", \"solar\", \"mosquitos\"),\n",
    "                                          lexicon = \"custom\"))\n",
    "\n",
    "text_df <- text_df %>% \n",
    "    unnest_tokens(word, text) %>%\n",
    "    anti_join(custom_stop_words) %>%\n",
    "    count(word, sort = TRUE)\n",
    "\n",
    "text_df %>%\n",
    "  filter(n > 1) %>%\n",
    "  mutate(word = reorder(word, n)) %>%\n",
    "  ggplot(aes(word, n)) +\n",
    "  geom_col() +\n",
    "  geom_bar(stat=\"identity\", fill = \"#9299DE\") +\n",
    "  labs(x = \"Aplicaciones\", y = \"Ocurrencias\") +\n",
    "  coord_flip()\n",
    "\n",
    "text_df"
   ]
  },
  {
   "cell_type": "code",
   "execution_count": 140,
   "metadata": {
    "scrolled": false
   },
   "outputs": [
    {
     "data": {
      "text/plain": [
       "\n",
       "   No Si \n",
       " 1  0 11 "
      ]
     },
     "metadata": {},
     "output_type": "display_data"
    },
    {
     "data": {
      "image/png": "[encoded data removed]",
      "text/plain": [
       "Plot with title \"¿conseguir achiote en los centro de conveniencia en especias?\""
      ]
     },
     "metadata": {
      "image/png": {
       "height": 420,
       "width": 420
      }
     },
     "output_type": "display_data"
    }
   ],
   "source": [
    "info <- table(cincoseis75$Q10)\n",
    "xx <- barplot(info,main=\"¿conseguir achiote en los centro de conveniencia en especias?\", col=color.ramp, cex.lab=2)\n",
    "info"
   ]
  },
  {
   "cell_type": "code",
   "execution_count": 141,
   "metadata": {
    "scrolled": false
   },
   "outputs": [
    {
     "data": {
      "text/plain": [
       "\n",
       "                                               \n",
       "                                             1 \n",
       "                                        Flores \n",
       "                                             0 \n",
       "                                         Fruto \n",
       "                                             3 \n",
       "                                         Hojas \n",
       "                                             1 \n",
       "No se obtiene ningún polvo rojo de esta planta \n",
       "                                             0 \n",
       "                                          Raíz \n",
       "                                             0 \n",
       "                                      Semillas \n",
       "                                             7 \n",
       "                                         Tallo \n",
       "                                             0 "
      ]
     },
     "metadata": {},
     "output_type": "display_data"
    },
    {
     "data": {
      "image/png": "[encoded data removed]",
      "text/plain": [
       "Plot with title \"qué parte se utiliza para obtener el polvo rojo comúnmente comercializado\""
      ]
     },
     "metadata": {
      "image/png": {
       "height": 420,
       "width": 420
      }
     },
     "output_type": "display_data"
    }
   ],
   "source": [
    "info <- table(cincoseis75$Q11)\n",
    "xx <- barplot(info,\n",
    "              main=\"qué parte se utiliza para obtener el polvo rojo comúnmente comercializado\",\n",
    "              col=color.ramp,\n",
    "              cex.lab=2)\n",
    "info"
   ]
  },
  {
   "cell_type": "markdown",
   "metadata": {},
   "source": [
    "### correlación de variables"
   ]
  },
  {
   "cell_type": "code",
   "execution_count": 42,
   "metadata": {},
   "outputs": [
    {
     "data": {
      "text/html": [
       "<style>\n",
       ".list-inline {list-style: none; margin:0; padding: 0}\n",
       ".list-inline>li {display: inline-block}\n",
       ".list-inline>li:not(:last-child)::after {content: \"\\00b7\"; padding: 0 .5ex}\n",
       "</style>\n",
       "<ol class=list-inline><li>'Id'</li><li>'Ip'</li><li>'Acceso'</li><li>'Fecha_inicio'</li><li>'Fecha_finalizacion'</li><li>'Procedencia'</li><li>'Municipio'</li><li>'Edad'</li><li>'Sexo'</li><li>'Q1'</li><li>'Q2'</li><li>'Q3'</li><li>'Q4'</li><li>'Justificacion_1'</li><li>'He leido'</li><li>'Q5'</li><li>'Q6'</li><li>'Q7'</li><li>'Q8'</li><li>'Q9'</li><li>'Q10'</li><li>'Q11'</li><li>'Q12'</li><li>'Q13'</li><li>'Q14'</li><li>'Q15'</li><li>'Justificacion_2'</li><li>'Q16'</li><li>'Q17'</li><li>'Justificacion_3'</li><li>'hora_inicio'</li><li>'hora_final'</li><li>'tiempo_terminar'</li></ol>\n"
      ],
      "text/latex": [
       "\\begin{enumerate*}\n",
       "\\item 'Id'\n",
       "\\item 'Ip'\n",
       "\\item 'Acceso'\n",
       "\\item 'Fecha\\_inicio'\n",
       "\\item 'Fecha\\_finalizacion'\n",
       "\\item 'Procedencia'\n",
       "\\item 'Municipio'\n",
       "\\item 'Edad'\n",
       "\\item 'Sexo'\n",
       "\\item 'Q1'\n",
       "\\item 'Q2'\n",
       "\\item 'Q3'\n",
       "\\item 'Q4'\n",
       "\\item 'Justificacion\\_1'\n",
       "\\item 'He leido'\n",
       "\\item 'Q5'\n",
       "\\item 'Q6'\n",
       "\\item 'Q7'\n",
       "\\item 'Q8'\n",
       "\\item 'Q9'\n",
       "\\item 'Q10'\n",
       "\\item 'Q11'\n",
       "\\item 'Q12'\n",
       "\\item 'Q13'\n",
       "\\item 'Q14'\n",
       "\\item 'Q15'\n",
       "\\item 'Justificacion\\_2'\n",
       "\\item 'Q16'\n",
       "\\item 'Q17'\n",
       "\\item 'Justificacion\\_3'\n",
       "\\item 'hora\\_inicio'\n",
       "\\item 'hora\\_final'\n",
       "\\item 'tiempo\\_terminar'\n",
       "\\end{enumerate*}\n"
      ],
      "text/markdown": [
       "1. 'Id'\n",
       "2. 'Ip'\n",
       "3. 'Acceso'\n",
       "4. 'Fecha_inicio'\n",
       "5. 'Fecha_finalizacion'\n",
       "6. 'Procedencia'\n",
       "7. 'Municipio'\n",
       "8. 'Edad'\n",
       "9. 'Sexo'\n",
       "10. 'Q1'\n",
       "11. 'Q2'\n",
       "12. 'Q3'\n",
       "13. 'Q4'\n",
       "14. 'Justificacion_1'\n",
       "15. 'He leido'\n",
       "16. 'Q5'\n",
       "17. 'Q6'\n",
       "18. 'Q7'\n",
       "19. 'Q8'\n",
       "20. 'Q9'\n",
       "21. 'Q10'\n",
       "22. 'Q11'\n",
       "23. 'Q12'\n",
       "24. 'Q13'\n",
       "25. 'Q14'\n",
       "26. 'Q15'\n",
       "27. 'Justificacion_2'\n",
       "28. 'Q16'\n",
       "29. 'Q17'\n",
       "30. 'Justificacion_3'\n",
       "31. 'hora_inicio'\n",
       "32. 'hora_final'\n",
       "33. 'tiempo_terminar'\n",
       "\n",
       "\n"
      ],
      "text/plain": [
       " [1] \"Id\"                 \"Ip\"                 \"Acceso\"            \n",
       " [4] \"Fecha_inicio\"       \"Fecha_finalizacion\" \"Procedencia\"       \n",
       " [7] \"Municipio\"          \"Edad\"               \"Sexo\"              \n",
       "[10] \"Q1\"                 \"Q2\"                 \"Q3\"                \n",
       "[13] \"Q4\"                 \"Justificacion_1\"    \"He leido\"          \n",
       "[16] \"Q5\"                 \"Q6\"                 \"Q7\"                \n",
       "[19] \"Q8\"                 \"Q9\"                 \"Q10\"               \n",
       "[22] \"Q11\"                \"Q12\"                \"Q13\"               \n",
       "[25] \"Q14\"                \"Q15\"                \"Justificacion_2\"   \n",
       "[28] \"Q16\"                \"Q17\"                \"Justificacion_3\"   \n",
       "[31] \"hora_inicio\"        \"hora_final\"         \"tiempo_terminar\"   "
      ]
     },
     "metadata": {},
     "output_type": "display_data"
    }
   ],
   "source": [
    "colnames(achiote)"
   ]
  },
  {
   "cell_type": "code",
   "execution_count": null,
   "metadata": {},
   "outputs": [],
   "source": []
  }
 ],
 "metadata": {
  "celltoolbar": "Raw Cell Format",
  "kernelspec": {
   "display_name": "R",
   "language": "R",
   "name": "ir"
  },
  "language_info": {
   "codemirror_mode": "r",
   "file_extension": ".r",
   "mimetype": "text/x-r-source",
   "name": "R",
   "pygments_lexer": "r",
   "version": "4.0.2"
  }
 },
 "nbformat": 4,
 "nbformat_minor": 4
}
