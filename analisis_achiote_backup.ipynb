{
 "cells": [
  {
   "cell_type": "markdown",
   "metadata": {},
   "source": [
    "# Analisis de resultados encuesta conocimiento y actitudes ante el uso del achiote"
   ]
  },
  {
   "cell_type": "markdown",
   "metadata": {},
   "source": [
    "#### Cargamos librerias a utilizar"
   ]
  },
  {
   "cell_type": "code",
   "execution_count": 47,
   "metadata": {},
   "outputs": [],
   "source": [
    "library(\"dplyr\")\n",
    "library(\"tidytext\")\n",
    "library(\"tm\")\n",
    "library(\"ggplot2\")\n",
    "library(\"stringr\")"
   ]
  },
  {
   "cell_type": "markdown",
   "metadata": {},
   "source": [
    "#### Leemos los archivo Csv"
   ]
  },
  {
   "cell_type": "code",
   "execution_count": 2,
   "metadata": {},
   "outputs": [],
   "source": [
    "achiote1 <- read.csv(\"first_chunk.csv\", header = FALSE)\n",
    "achiote2 <- read.csv(\"second_chunk.csv\", header = FALSE)"
   ]
  },
  {
   "cell_type": "markdown",
   "metadata": {},
   "source": [
    "### Hacemos limpieza para preparar los datos"
   ]
  },
  {
   "cell_type": "markdown",
   "metadata": {},
   "source": [
    "#### Borramos columnas innecesarias"
   ]
  },
  {
   "cell_type": "code",
   "execution_count": 3,
   "metadata": {},
   "outputs": [],
   "source": [
    "a1_clean <- achiote1[c(-1, -2),-c(1,68)]\n",
    "a2_clean <- achiote2[c(-1, -2),-c(1,68)]"
   ]
  },
  {
   "cell_type": "markdown",
   "metadata": {},
   "source": [
    "#### Debido a las preguntas con múltiples respuestas, debemos combinar las columnas pertinentes"
   ]
  },
  {
   "cell_type": "code",
   "execution_count": 4,
   "metadata": {},
   "outputs": [],
   "source": [
    "a1_clean$V18 <- paste(a1_clean$V18, a1_clean$V19, a1_clean$V20, a1_clean$V21, a1_clean$V22, a1_clean$V23, sep = \" \")\n",
    "a1_clean$V24 <- paste(a1_clean$V24, a1_clean$V25, a1_clean$V26, a1_clean$V27, a1_clean$V28, a1_clean$V29, a1_clean$V30, a1_clean$V31, a1_clean$V32, a1_clean$V33, a1_clean$V34, sep = \" \")\n",
    "a1_clean$V36 <- paste(a1_clean$V36, a1_clean$V37, a1_clean$V38, a1_clean$V39, a1_clean$V40, a1_clean$V41, a1_clean$V42, sep = \" \")\n",
    "a1_clean$V47 <- paste(a1_clean$V47, a1_clean$V48, a1_clean$V49, a1_clean$V50, a1_clean$V51, a1_clean$V52, a1_clean$V53, a1_clean$V54, a1_clean$V55, sep = \" \")\n",
    "a1_clean$V58 <- paste(a1_clean$V58, a1_clean$V59, a1_clean$V60, a1_clean$V61, a1_clean$V62, a1_clean$V63, a1_clean$V64, a1_clean$V65, sep = \" \")\n",
    "\n",
    "a2_clean$V18 <- paste(a2_clean$V18, a2_clean$V19, a2_clean$V20, a2_clean$V21, a2_clean$V22, a2_clean$V23, sep = \" \")\n",
    "a2_clean$V24 <- paste(a2_clean$V24, a2_clean$V25, a2_clean$V26, a2_clean$V27, a2_clean$V28, a2_clean$V29, a2_clean$V30, a2_clean$V31, a2_clean$V32, a2_clean$V33, a2_clean$V34, sep = \" \")\n",
    "a2_clean$V36 <- paste(a2_clean$V36, a2_clean$V37, a2_clean$V38, a2_clean$V39, a2_clean$V40, a2_clean$V41, a2_clean$V42, sep = \" \")\n",
    "a2_clean$V47 <- paste(a2_clean$V47, a2_clean$V48, a2_clean$V49, a2_clean$V50, a2_clean$V51, a2_clean$V52, a2_clean$V53, a2_clean$V54, a2_clean$V55, sep = \" \")\n",
    "a2_clean$V58 <- paste(a2_clean$V58, a2_clean$V59, a2_clean$V60, a2_clean$V61, a2_clean$V62, a2_clean$V63, a2_clean$V64, a2_clean$V65, sep = \" \")"
   ]
  },
  {
   "cell_type": "markdown",
   "metadata": {},
   "source": [
    "#### Eliminamos columnas repetidas"
   ]
  },
  {
   "cell_type": "code",
   "execution_count": 5,
   "metadata": {},
   "outputs": [],
   "source": [
    "a1_clean <- subset(a1_clean, select=-c(V19,V20,V21,V22,V23,V25,V26,V27,V28,V29,V30,V31,V32,V33,V34,V37,V38,V39,V40,V41,V42,V48,V49,V50,V51,V52,V53,V54,V55,V59,V60,V61,V62,V63,V64,V65))\n",
    "a2_clean <- subset(a2_clean, select=-c(V19,V20,V21,V22,V23,V25,V26,V27,V28,V29,V30,V31,V32,V33,V34,V37,V38,V39,V40,V41,V42,V48,V49,V50,V51,V52,V53,V54,V55,V59,V60,V61,V62,V63,V64,V65))\n"
   ]
  },
  {
   "cell_type": "markdown",
   "metadata": {},
   "source": [
    "#### Cambiamos titulos de los data sets"
   ]
  },
  {
   "cell_type": "code",
   "execution_count": 6,
   "metadata": {},
   "outputs": [],
   "source": [
    "colnames(a1_clean) <- c(\"Id\",\n",
    "                        \"Ip\",\n",
    "                        \"Acceso\",\n",
    "                        \"Fecha_inicio\",\n",
    "                        \"Fecha_finalizacion\",\n",
    "                        \"Procedencia\",\n",
    "                        \"Municipio\",\n",
    "                        \"Edad\",\n",
    "                        \"Sexo\",\n",
    "                        \"Q1\",\n",
    "                        \"Q2\",\n",
    "                        \"Q3\",\n",
    "                        \"Q4\",\n",
    "                        \"Justificacion_1\",\n",
    "                        \"He leido\",\n",
    "                        \"Q5\",\n",
    "                        \"Q6\",\n",
    "                        \"Q7\",\n",
    "                        \"Q8\",\n",
    "                        \"Q9\",\n",
    "                        \"Q10\",\n",
    "                        \"Q11\",\n",
    "                        \"Q12\",\n",
    "                        \"Q13\",\n",
    "                        \"Q14\",\n",
    "                        \"Q15\",\n",
    "                        \"Justificacion_2\",\n",
    "                        \"Q16\",\n",
    "                        \"Q17\",\n",
    "                        \"Justificacion_3\")\n",
    "colnames(a2_clean) <- c(\"Id\",\n",
    "                        \"Ip\",\n",
    "                        \"Acceso\",\n",
    "                        \"Fecha_inicio\",\n",
    "                        \"Fecha_finalizacion\",\n",
    "                        \"Procedencia\",\n",
    "                        \"Municipio\",\n",
    "                        \"Edad\",\n",
    "                        \"Sexo\",\n",
    "                        \"Q1\",\n",
    "                        \"Q2\",\n",
    "                        \"Q3\",\n",
    "                        \"Q4\",\n",
    "                        \"Justificacion_1\",\n",
    "                        \"He leido\",\n",
    "                        \"Q5\",\n",
    "                        \"Q6\",\n",
    "                        \"Q7\",\n",
    "                        \"Q8\",\n",
    "                        \"Q9\",\n",
    "                        \"Q10\",\n",
    "                        \"Q11\",\n",
    "                        \"Q12\",\n",
    "                        \"Q13\",\n",
    "                        \"Q14\",\n",
    "                        \"Q15\",\n",
    "                        \"Justificacion_2\",\n",
    "                        \"Q16\",\n",
    "                        \"Q17\",\n",
    "                        \"Justificacion_3\")"
   ]
  },
  {
   "cell_type": "markdown",
   "metadata": {},
   "source": [
    "#### Unimos nuestros datasets separados en uno solo"
   ]
  },
  {
   "cell_type": "code",
   "execution_count": 7,
   "metadata": {},
   "outputs": [],
   "source": [
    "achiote <- rbind(a1_clean, a2_clean)"
   ]
  },
  {
   "cell_type": "markdown",
   "metadata": {},
   "source": [
    "### Procedemos a eliminar caracteres bizarros de los textos de la encuesta"
   ]
  },
  {
   "cell_type": "markdown",
   "metadata": {},
   "source": [
    "#### Seteamos el encoding a UTF-8 para aceptar tildes y demás caracteres"
   ]
  },
  {
   "cell_type": "code",
   "execution_count": 8,
   "metadata": {},
   "outputs": [],
   "source": [
    "Encoding(achiote$Edad) <- \"UTF-8\"\n",
    "Encoding(achiote$Municipio) <- \"UTF-8\"\n",
    "Encoding(achiote$Q1) <- \"UTF-8\"\n",
    "Encoding(achiote$Q6) <- \"UTF-8\"\n",
    "Encoding(achiote$Q7) <- \"UTF-8\"\n",
    "Encoding(achiote$Q11) <- \"UTF-8\"\n",
    "Encoding(achiote$Q12) <- \"UTF-8\"\n",
    "Encoding(achiote$Q13) <- \"UTF-8\"\n",
    "Encoding(achiote$Q14) <- \"UTF-8\"\n",
    "Encoding(achiote$Q16) <- \"UTF-8\"\n",
    "Encoding(achiote$Justificacion_1) <- \"UTF-8\"\n",
    "Encoding(achiote$Justificacion_2) <- \"UTF-8\"\n",
    "Encoding(achiote$Justificacion_3) <- \"UTF-8\""
   ]
  },
  {
   "cell_type": "markdown",
   "metadata": {},
   "source": [
    "#### Eliminamos palabras que hacen ruido"
   ]
  },
  {
   "cell_type": "code",
   "execution_count": 9,
   "metadata": {},
   "outputs": [],
   "source": [
    "achiote$Q1 <- gsub(\"Si, ¿cuál? ¿cómo?:\", \"\", achiote$Q1, fixed=TRUE)\n",
    "achiote$Q5 <- gsub(\"Si, especifique:\", \"\", achiote$Q5, fixed=TRUE)\n",
    "achiote$Q7 <- gsub(\"Otro::\", \"\", achiote$Q7, fixed=TRUE)\n",
    "achiote$Q12 <- gsub(\"Conozco otra/otras, ¿cuál/cuáles?:\", \"\", achiote$Q12, fixed=TRUE)\n",
    "achiote$Q13 <- gsub(\"Si, ¿cuál? ¿cómo?:\", \"\", achiote$Q13, fixed=TRUE)"
   ]
  },
  {
   "cell_type": "markdown",
   "metadata": {},
   "source": [
    "### Revisamos el producto final de la limpieza"
   ]
  },
  {
   "cell_type": "code",
   "execution_count": 10,
   "metadata": {},
   "outputs": [
    {
     "data": {
      "text/html": [
       "<table>\n",
       "<caption>A data.frame: 6 × 30</caption>\n",
       "<thead>\n",
       "\t<tr><th></th><th scope=col>Id</th><th scope=col>Ip</th><th scope=col>Acceso</th><th scope=col>Fecha_inicio</th><th scope=col>Fecha_finalizacion</th><th scope=col>Procedencia</th><th scope=col>Municipio</th><th scope=col>Edad</th><th scope=col>Sexo</th><th scope=col>Q1</th><th scope=col>...</th><th scope=col>Q10</th><th scope=col>Q11</th><th scope=col>Q12</th><th scope=col>Q13</th><th scope=col>Q14</th><th scope=col>Q15</th><th scope=col>Justificacion_2</th><th scope=col>Q16</th><th scope=col>Q17</th><th scope=col>Justificacion_3</th></tr>\n",
       "\t<tr><th></th><th scope=col>&lt;chr&gt;</th><th scope=col>&lt;chr&gt;</th><th scope=col>&lt;chr&gt;</th><th scope=col>&lt;chr&gt;</th><th scope=col>&lt;chr&gt;</th><th scope=col>&lt;chr&gt;</th><th scope=col>&lt;chr&gt;</th><th scope=col>&lt;chr&gt;</th><th scope=col>&lt;chr&gt;</th><th scope=col>&lt;chr&gt;</th><th scope=col>...</th><th scope=col>&lt;chr&gt;</th><th scope=col>&lt;chr&gt;</th><th scope=col>&lt;chr&gt;</th><th scope=col>&lt;chr&gt;</th><th scope=col>&lt;chr&gt;</th><th scope=col>&lt;chr&gt;</th><th scope=col>&lt;chr&gt;</th><th scope=col>&lt;chr&gt;</th><th scope=col>&lt;chr&gt;</th><th scope=col>&lt;chr&gt;</th></tr>\n",
       "</thead>\n",
       "<tbody>\n",
       "\t<tr><th scope=row>3</th><td>1</td><td>190.148.209.77 </td><td>Public Access</td><td>9/18/2020 11:01</td><td>9/18/2020 11:05</td><td>Casco urbano</td><td>Guatemala          </td><td>15-35 años</td><td>Masculino</td><td>Manzanilla (infusión)</td><td>...</td><td>Si</td><td>Raíz    </td><td>Remolacha</td><td>No     </td><td>Infusión o té   Machacada En jugo    </td><td>4</td><td>Sé que tiene propiedades curativas importantes</td><td>Aplicación local  Aplicación en baños Aplicación nasal   En cápsulas </td><td>5</td><td>Tiene muchas propiedades</td></tr>\n",
       "\t<tr><th scope=row>4</th><td>2</td><td>190.106.204.56 </td><td>Public Access</td><td>9/18/2020 11:22</td><td>9/18/2020 11:25</td><td>Casco urbano</td><td>Villa Canales      </td><td>15-35 años</td><td>Masculino</td><td>No                   </td><td>...</td><td>No</td><td>Semillas</td><td>Remolacha</td><td>Azafrán</td><td>      Molida                         </td><td>5</td><td>No lo he utilizado                            </td><td>     En infusión                                                     </td><td>1</td><td>No lo he utilizado      </td></tr>\n",
       "\t<tr><th scope=row>5</th><td>3</td><td>190.148.44.40  </td><td>Public Access</td><td>9/18/2020 11:27</td><td>9/18/2020 11:28</td><td>Casco urbano</td><td>Guatemala          </td><td>15-35 años</td><td>Masculino</td><td>No                   </td><td>...</td><td>  </td><td>        </td><td>         </td><td>       </td><td>                                     </td><td> </td><td>                                              </td><td>                                                                     </td><td> </td><td>                        </td></tr>\n",
       "\t<tr><th scope=row>6</th><td>4</td><td>181.209.150.186</td><td>Public Access</td><td>9/18/2020 11:27</td><td>9/18/2020 11:28</td><td>Casco urbano</td><td>Guatemala          </td><td>15-35 años</td><td>Femenino </td><td>No                   </td><td>...</td><td>  </td><td>        </td><td>         </td><td>       </td><td>                                     </td><td> </td><td>                                              </td><td>                                                                     </td><td> </td><td>                        </td></tr>\n",
       "\t<tr><th scope=row>7</th><td>5</td><td>190.56.74.149  </td><td>Public Access</td><td>9/18/2020 11:33</td><td>9/18/2020 11:38</td><td>Casco urbano</td><td>Guatemala          </td><td>15-35 años</td><td>Masculino</td><td>No                   </td><td>...</td><td>  </td><td>        </td><td>         </td><td>       </td><td>                                     </td><td> </td><td>                                              </td><td>                                                                     </td><td> </td><td>                        </td></tr>\n",
       "\t<tr><th scope=row>8</th><td>6</td><td>190.106.221.104</td><td>Public Access</td><td>9/18/2020 11:16</td><td>9/18/2020 11:41</td><td>Casco urbano</td><td>Ciudad de Guatemala</td><td>15-35 años</td><td>Masculino</td><td>Té de manzano        </td><td>...</td><td>  </td><td>        </td><td>         </td><td>       </td><td>                                     </td><td> </td><td>                                              </td><td>                                                                     </td><td> </td><td>                        </td></tr>\n",
       "</tbody>\n",
       "</table>\n"
      ],
      "text/latex": [
       "A data.frame: 6 × 30\n",
       "\\begin{tabular}{r|lllllllllllllllllllll}\n",
       "  & Id & Ip & Acceso & Fecha\\_inicio & Fecha\\_finalizacion & Procedencia & Municipio & Edad & Sexo & Q1 & ... & Q10 & Q11 & Q12 & Q13 & Q14 & Q15 & Justificacion\\_2 & Q16 & Q17 & Justificacion\\_3\\\\\n",
       "  & <chr> & <chr> & <chr> & <chr> & <chr> & <chr> & <chr> & <chr> & <chr> & <chr> & ... & <chr> & <chr> & <chr> & <chr> & <chr> & <chr> & <chr> & <chr> & <chr> & <chr>\\\\\n",
       "\\hline\n",
       "\t3 & 1 & 190.148.209.77  & Public Access & 9/18/2020 11:01 & 9/18/2020 11:05 & Casco urbano & Guatemala           & 15-35 años & Masculino & Manzanilla (infusión) & ... & Si & Raíz     & Remolacha & No      & Infusión o té   Machacada En jugo     & 4 & Sé que tiene propiedades curativas importantes & Aplicación local  Aplicación en baños Aplicación nasal   En cápsulas  & 5 & Tiene muchas propiedades\\\\\n",
       "\t4 & 2 & 190.106.204.56  & Public Access & 9/18/2020 11:22 & 9/18/2020 11:25 & Casco urbano & Villa Canales       & 15-35 años & Masculino & No                    & ... & No & Semillas & Remolacha & Azafrán &       Molida                          & 5 & No lo he utilizado                             &      En infusión                                                      & 1 & No lo he utilizado      \\\\\n",
       "\t5 & 3 & 190.148.44.40   & Public Access & 9/18/2020 11:27 & 9/18/2020 11:28 & Casco urbano & Guatemala           & 15-35 años & Masculino & No                    & ... &    &          &           &         &                                       &   &                                                &                                                                       &   &                         \\\\\n",
       "\t6 & 4 & 181.209.150.186 & Public Access & 9/18/2020 11:27 & 9/18/2020 11:28 & Casco urbano & Guatemala           & 15-35 años & Femenino  & No                    & ... &    &          &           &         &                                       &   &                                                &                                                                       &   &                         \\\\\n",
       "\t7 & 5 & 190.56.74.149   & Public Access & 9/18/2020 11:33 & 9/18/2020 11:38 & Casco urbano & Guatemala           & 15-35 años & Masculino & No                    & ... &    &          &           &         &                                       &   &                                                &                                                                       &   &                         \\\\\n",
       "\t8 & 6 & 190.106.221.104 & Public Access & 9/18/2020 11:16 & 9/18/2020 11:41 & Casco urbano & Ciudad de Guatemala & 15-35 años & Masculino & Té de manzano         & ... &    &          &           &         &                                       &   &                                                &                                                                       &   &                         \\\\\n",
       "\\end{tabular}\n"
      ],
      "text/markdown": [
       "\n",
       "A data.frame: 6 × 30\n",
       "\n",
       "| <!--/--> | Id &lt;chr&gt; | Ip &lt;chr&gt; | Acceso &lt;chr&gt; | Fecha_inicio &lt;chr&gt; | Fecha_finalizacion &lt;chr&gt; | Procedencia &lt;chr&gt; | Municipio &lt;chr&gt; | Edad &lt;chr&gt; | Sexo &lt;chr&gt; | Q1 &lt;chr&gt; | ... ... | Q10 &lt;chr&gt; | Q11 &lt;chr&gt; | Q12 &lt;chr&gt; | Q13 &lt;chr&gt; | Q14 &lt;chr&gt; | Q15 &lt;chr&gt; | Justificacion_2 &lt;chr&gt; | Q16 &lt;chr&gt; | Q17 &lt;chr&gt; | Justificacion_3 &lt;chr&gt; |\n",
       "|---|---|---|---|---|---|---|---|---|---|---|---|---|---|---|---|---|---|---|---|---|---|\n",
       "| 3 | 1 | 190.148.209.77  | Public Access | 9/18/2020 11:01 | 9/18/2020 11:05 | Casco urbano | Guatemala           | 15-35 años | Masculino | Manzanilla (infusión) | ... | Si | Raíz     | Remolacha | No      | Infusión o té   Machacada En jugo     | 4 | Sé que tiene propiedades curativas importantes | Aplicación local  Aplicación en baños Aplicación nasal   En cápsulas  | 5 | Tiene muchas propiedades |\n",
       "| 4 | 2 | 190.106.204.56  | Public Access | 9/18/2020 11:22 | 9/18/2020 11:25 | Casco urbano | Villa Canales       | 15-35 años | Masculino | No                    | ... | No | Semillas | Remolacha | Azafrán |       Molida                          | 5 | No lo he utilizado                             |      En infusión                                                      | 1 | No lo he utilizado       |\n",
       "| 5 | 3 | 190.148.44.40   | Public Access | 9/18/2020 11:27 | 9/18/2020 11:28 | Casco urbano | Guatemala           | 15-35 años | Masculino | No                    | ... | <!----> | <!----> | <!----> | <!----> | <!----> | <!----> | <!----> | <!----> | <!----> | <!----> |\n",
       "| 6 | 4 | 181.209.150.186 | Public Access | 9/18/2020 11:27 | 9/18/2020 11:28 | Casco urbano | Guatemala           | 15-35 años | Femenino  | No                    | ... | <!----> | <!----> | <!----> | <!----> | <!----> | <!----> | <!----> | <!----> | <!----> | <!----> |\n",
       "| 7 | 5 | 190.56.74.149   | Public Access | 9/18/2020 11:33 | 9/18/2020 11:38 | Casco urbano | Guatemala           | 15-35 años | Masculino | No                    | ... | <!----> | <!----> | <!----> | <!----> | <!----> | <!----> | <!----> | <!----> | <!----> | <!----> |\n",
       "| 8 | 6 | 190.106.221.104 | Public Access | 9/18/2020 11:16 | 9/18/2020 11:41 | Casco urbano | Ciudad de Guatemala | 15-35 años | Masculino | Té de manzano         | ... | <!----> | <!----> | <!----> | <!----> | <!----> | <!----> | <!----> | <!----> | <!----> | <!----> |\n",
       "\n"
      ],
      "text/plain": [
       "  Id Ip              Acceso        Fecha_inicio    Fecha_finalizacion\n",
       "3 1  190.148.209.77  Public Access 9/18/2020 11:01 9/18/2020 11:05   \n",
       "4 2  190.106.204.56  Public Access 9/18/2020 11:22 9/18/2020 11:25   \n",
       "5 3  190.148.44.40   Public Access 9/18/2020 11:27 9/18/2020 11:28   \n",
       "6 4  181.209.150.186 Public Access 9/18/2020 11:27 9/18/2020 11:28   \n",
       "7 5  190.56.74.149   Public Access 9/18/2020 11:33 9/18/2020 11:38   \n",
       "8 6  190.106.221.104 Public Access 9/18/2020 11:16 9/18/2020 11:41   \n",
       "  Procedencia  Municipio           Edad       Sexo      Q1                   \n",
       "3 Casco urbano Guatemala           15-35 años Masculino Manzanilla (infusión)\n",
       "4 Casco urbano Villa Canales       15-35 años Masculino No                   \n",
       "5 Casco urbano Guatemala           15-35 años Masculino No                   \n",
       "6 Casco urbano Guatemala           15-35 años Femenino  No                   \n",
       "7 Casco urbano Guatemala           15-35 años Masculino No                   \n",
       "8 Casco urbano Ciudad de Guatemala 15-35 años Masculino Té de manzano        \n",
       "  ... Q10 Q11      Q12       Q13     Q14                                   Q15\n",
       "3 ... Si  Raíz     Remolacha No      Infusión o té   Machacada En jugo     4  \n",
       "4 ... No  Semillas Remolacha Azafrán       Molida                          5  \n",
       "5 ...                                                                         \n",
       "6 ...                                                                         \n",
       "7 ...                                                                         \n",
       "8 ...                                                                         \n",
       "  Justificacion_2                               \n",
       "3 Sé que tiene propiedades curativas importantes\n",
       "4 No lo he utilizado                            \n",
       "5                                               \n",
       "6                                               \n",
       "7                                               \n",
       "8                                               \n",
       "  Q16                                                                   Q17\n",
       "3 Aplicación local  Aplicación en baños Aplicación nasal   En cápsulas  5  \n",
       "4      En infusión                                                      1  \n",
       "5                                                                          \n",
       "6                                                                          \n",
       "7                                                                          \n",
       "8                                                                          \n",
       "  Justificacion_3         \n",
       "3 Tiene muchas propiedades\n",
       "4 No lo he utilizado      \n",
       "5                         \n",
       "6                         \n",
       "7                         \n",
       "8                         "
      ]
     },
     "metadata": {},
     "output_type": "display_data"
    },
    {
     "data": {
      "text/html": [
       "<table>\n",
       "<caption>A data.frame: 6 × 30</caption>\n",
       "<thead>\n",
       "\t<tr><th></th><th scope=col>Id</th><th scope=col>Ip</th><th scope=col>Acceso</th><th scope=col>Fecha_inicio</th><th scope=col>Fecha_finalizacion</th><th scope=col>Procedencia</th><th scope=col>Municipio</th><th scope=col>Edad</th><th scope=col>Sexo</th><th scope=col>Q1</th><th scope=col>...</th><th scope=col>Q10</th><th scope=col>Q11</th><th scope=col>Q12</th><th scope=col>Q13</th><th scope=col>Q14</th><th scope=col>Q15</th><th scope=col>Justificacion_2</th><th scope=col>Q16</th><th scope=col>Q17</th><th scope=col>Justificacion_3</th></tr>\n",
       "\t<tr><th></th><th scope=col>&lt;chr&gt;</th><th scope=col>&lt;chr&gt;</th><th scope=col>&lt;chr&gt;</th><th scope=col>&lt;chr&gt;</th><th scope=col>&lt;chr&gt;</th><th scope=col>&lt;chr&gt;</th><th scope=col>&lt;chr&gt;</th><th scope=col>&lt;chr&gt;</th><th scope=col>&lt;chr&gt;</th><th scope=col>&lt;chr&gt;</th><th scope=col>...</th><th scope=col>&lt;chr&gt;</th><th scope=col>&lt;chr&gt;</th><th scope=col>&lt;chr&gt;</th><th scope=col>&lt;chr&gt;</th><th scope=col>&lt;chr&gt;</th><th scope=col>&lt;chr&gt;</th><th scope=col>&lt;chr&gt;</th><th scope=col>&lt;chr&gt;</th><th scope=col>&lt;chr&gt;</th><th scope=col>&lt;chr&gt;</th></tr>\n",
       "</thead>\n",
       "<tbody>\n",
       "\t<tr><th scope=row>291</th><td>95 </td><td>181.174.106.148</td><td>Public Access</td><td>9/24/2020 11:39</td><td>9/24/2020 11:45</td><td>Casco urbano</td><td>Villa Nueva     </td><td>15-35 años</td><td>Masculino</td><td>No                                                                                                                                                                                                                       </td><td>...</td><td>No</td><td>Raíz    </td><td>Remolacha</td><td>No                                                                       </td><td>       No conozco ninguna preparación       </td><td>5</td><td>Sería una buena alternativa para la reducción del uso de fármacos</td><td>Aplicación local     En infusión En cápsulas             </td><td>4</td><td>Puede que en algunos casos no reemplace a un fármaco convencional</td></tr>\n",
       "\t<tr><th scope=row>301</th><td>96 </td><td>190.148.53.147 </td><td>Public Access</td><td>9/24/2020 11:45</td><td>9/24/2020 11:46</td><td>Casco urbano</td><td>Jutiapa         </td><td>15-35 años</td><td>Femenino </td><td>                                                                                                                                                                                                                         </td><td>...</td><td>  </td><td>        </td><td>         </td><td>                                                                         </td><td>                                            </td><td> </td><td>                                                                 </td><td>                                                         </td><td> </td><td>                                                                 </td></tr>\n",
       "\t<tr><th scope=row>311</th><td>97 </td><td>190.148.52.220 </td><td>Public Access</td><td>9/24/2020 11:50</td><td>9/24/2020 11:54</td><td>Casco urbano</td><td>Amatitlan       </td><td>15-35 años</td><td>Femenino </td><td>Jengibre, alo verá.                                                                                                                                                                                                      </td><td>...</td><td>Si</td><td>Semillas</td><td>Remolacha</td><td>Achiote                                                                  </td><td>       No conozco ninguna preparación       </td><td>5</td><td>Seria bueno conocer acerca de sus beneficios                     </td><td>     En infusión En cápsulas                             </td><td>5</td><td>Por ser una medicina natural considero que son bastante efectivos</td></tr>\n",
       "\t<tr><th scope=row>321</th><td>98 </td><td>181.209.195.80 </td><td>Public Access</td><td>9/24/2020 12:06</td><td>9/24/2020 12:08</td><td>Casco urbano</td><td>Mixco           </td><td>15-35 años</td><td>Femenino </td><td>No                                                                                                                                                                                                                       </td><td>...</td><td>  </td><td>        </td><td>         </td><td>                                                                         </td><td>                                            </td><td> </td><td>                                                                 </td><td>                                                         </td><td> </td><td>                                                                 </td></tr>\n",
       "\t<tr><th scope=row>331</th><td>99 </td><td>190.148.209.11 </td><td>Public Access</td><td>9/24/2020 12:09</td><td>9/24/2020 12:13</td><td>Casco urbano</td><td>Ciudad Guatemala</td><td>15-35 años</td><td>Masculino</td><td>Infusiones de tilo, manzanilla, eucalipto                                                                                                                                                                                </td><td>...</td><td>  </td><td>        </td><td>         </td><td>                                                                         </td><td>                                            </td><td> </td><td>                                                                 </td><td>                                                         </td><td> </td><td>                                                                 </td></tr>\n",
       "\t<tr><th scope=row>341</th><td>100</td><td>190.148.48.109 </td><td>Public Access</td><td>9/24/2020 12:14</td><td>9/24/2020 12:19</td><td>Casco urbano</td><td>Guatemala       </td><td>15-35 años</td><td>Femenino </td><td>Eucalipto = \"nebulizador\", hoja de limón (dolor de estómago y de garganta así como repelente de mosquitos), jengibre (dolor de garganta, irritación e inflamación), cúrcuma (blanqueamiento dental y desinflamante), etc.</td><td>...</td><td>Si</td><td>Semillas</td><td>Azafrán  </td><td>Remolacha para ensaladas y enchiladas. Azafrán para \"colorear\" la paella.</td><td>Infusión o té Hervida Frotada   Masticada   </td><td>5</td><td>Estoy procurando practicar la medicina tradicional y natural.    </td><td>Aplicación local Lavados  Aplicación nasal  En infusión  </td><td>4</td><td>No uso el achiote, pero he escuchado comentarios favorables.     </td></tr>\n",
       "</tbody>\n",
       "</table>\n"
      ],
      "text/latex": [
       "A data.frame: 6 × 30\n",
       "\\begin{tabular}{r|lllllllllllllllllllll}\n",
       "  & Id & Ip & Acceso & Fecha\\_inicio & Fecha\\_finalizacion & Procedencia & Municipio & Edad & Sexo & Q1 & ... & Q10 & Q11 & Q12 & Q13 & Q14 & Q15 & Justificacion\\_2 & Q16 & Q17 & Justificacion\\_3\\\\\n",
       "  & <chr> & <chr> & <chr> & <chr> & <chr> & <chr> & <chr> & <chr> & <chr> & <chr> & ... & <chr> & <chr> & <chr> & <chr> & <chr> & <chr> & <chr> & <chr> & <chr> & <chr>\\\\\n",
       "\\hline\n",
       "\t291 & 95  & 181.174.106.148 & Public Access & 9/24/2020 11:39 & 9/24/2020 11:45 & Casco urbano & Villa Nueva      & 15-35 años & Masculino & No                                                                                                                                                                                                                        & ... & No & Raíz     & Remolacha & No                                                                        &        No conozco ninguna preparación        & 5 & Sería una buena alternativa para la reducción del uso de fármacos & Aplicación local     En infusión En cápsulas              & 4 & Puede que en algunos casos no reemplace a un fármaco convencional\\\\\n",
       "\t301 & 96  & 190.148.53.147  & Public Access & 9/24/2020 11:45 & 9/24/2020 11:46 & Casco urbano & Jutiapa          & 15-35 años & Femenino  &                                                                                                                                                                                                                           & ... &    &          &           &                                                                           &                                              &   &                                                                   &                                                           &   &                                                                  \\\\\n",
       "\t311 & 97  & 190.148.52.220  & Public Access & 9/24/2020 11:50 & 9/24/2020 11:54 & Casco urbano & Amatitlan        & 15-35 años & Femenino  & Jengibre, alo verá.                                                                                                                                                                                                       & ... & Si & Semillas & Remolacha & Achiote                                                                   &        No conozco ninguna preparación        & 5 & Seria bueno conocer acerca de sus beneficios                      &      En infusión En cápsulas                              & 5 & Por ser una medicina natural considero que son bastante efectivos\\\\\n",
       "\t321 & 98  & 181.209.195.80  & Public Access & 9/24/2020 12:06 & 9/24/2020 12:08 & Casco urbano & Mixco            & 15-35 años & Femenino  & No                                                                                                                                                                                                                        & ... &    &          &           &                                                                           &                                              &   &                                                                   &                                                           &   &                                                                  \\\\\n",
       "\t331 & 99  & 190.148.209.11  & Public Access & 9/24/2020 12:09 & 9/24/2020 12:13 & Casco urbano & Ciudad Guatemala & 15-35 años & Masculino & Infusiones de tilo, manzanilla, eucalipto                                                                                                                                                                                 & ... &    &          &           &                                                                           &                                              &   &                                                                   &                                                           &   &                                                                  \\\\\n",
       "\t341 & 100 & 190.148.48.109  & Public Access & 9/24/2020 12:14 & 9/24/2020 12:19 & Casco urbano & Guatemala        & 15-35 años & Femenino  & Eucalipto = \"nebulizador\", hoja de limón (dolor de estómago y de garganta así como repelente de mosquitos), jengibre (dolor de garganta, irritación e inflamación), cúrcuma (blanqueamiento dental y desinflamante), etc. & ... & Si & Semillas & Azafrán   & Remolacha para ensaladas y enchiladas. Azafrán para \"colorear\" la paella. & Infusión o té Hervida Frotada   Masticada    & 5 & Estoy procurando practicar la medicina tradicional y natural.     & Aplicación local Lavados  Aplicación nasal  En infusión   & 4 & No uso el achiote, pero he escuchado comentarios favorables.     \\\\\n",
       "\\end{tabular}\n"
      ],
      "text/markdown": [
       "\n",
       "A data.frame: 6 × 30\n",
       "\n",
       "| <!--/--> | Id &lt;chr&gt; | Ip &lt;chr&gt; | Acceso &lt;chr&gt; | Fecha_inicio &lt;chr&gt; | Fecha_finalizacion &lt;chr&gt; | Procedencia &lt;chr&gt; | Municipio &lt;chr&gt; | Edad &lt;chr&gt; | Sexo &lt;chr&gt; | Q1 &lt;chr&gt; | ... ... | Q10 &lt;chr&gt; | Q11 &lt;chr&gt; | Q12 &lt;chr&gt; | Q13 &lt;chr&gt; | Q14 &lt;chr&gt; | Q15 &lt;chr&gt; | Justificacion_2 &lt;chr&gt; | Q16 &lt;chr&gt; | Q17 &lt;chr&gt; | Justificacion_3 &lt;chr&gt; |\n",
       "|---|---|---|---|---|---|---|---|---|---|---|---|---|---|---|---|---|---|---|---|---|---|\n",
       "| 291 | 95  | 181.174.106.148 | Public Access | 9/24/2020 11:39 | 9/24/2020 11:45 | Casco urbano | Villa Nueva      | 15-35 años | Masculino | No                                                                                                                                                                                                                        | ... | No | Raíz     | Remolacha | No                                                                        |        No conozco ninguna preparación        | 5 | Sería una buena alternativa para la reducción del uso de fármacos | Aplicación local     En infusión En cápsulas              | 4 | Puede que en algunos casos no reemplace a un fármaco convencional |\n",
       "| 301 | 96  | 190.148.53.147  | Public Access | 9/24/2020 11:45 | 9/24/2020 11:46 | Casco urbano | Jutiapa          | 15-35 años | Femenino  | <!----> | ... | <!----> | <!----> | <!----> | <!----> | <!----> | <!----> | <!----> | <!----> | <!----> | <!----> |\n",
       "| 311 | 97  | 190.148.52.220  | Public Access | 9/24/2020 11:50 | 9/24/2020 11:54 | Casco urbano | Amatitlan        | 15-35 años | Femenino  | Jengibre, alo verá.                                                                                                                                                                                                       | ... | Si | Semillas | Remolacha | Achiote                                                                   |        No conozco ninguna preparación        | 5 | Seria bueno conocer acerca de sus beneficios                      |      En infusión En cápsulas                              | 5 | Por ser una medicina natural considero que son bastante efectivos |\n",
       "| 321 | 98  | 181.209.195.80  | Public Access | 9/24/2020 12:06 | 9/24/2020 12:08 | Casco urbano | Mixco            | 15-35 años | Femenino  | No                                                                                                                                                                                                                        | ... | <!----> | <!----> | <!----> | <!----> | <!----> | <!----> | <!----> | <!----> | <!----> | <!----> |\n",
       "| 331 | 99  | 190.148.209.11  | Public Access | 9/24/2020 12:09 | 9/24/2020 12:13 | Casco urbano | Ciudad Guatemala | 15-35 años | Masculino | Infusiones de tilo, manzanilla, eucalipto                                                                                                                                                                                 | ... | <!----> | <!----> | <!----> | <!----> | <!----> | <!----> | <!----> | <!----> | <!----> | <!----> |\n",
       "| 341 | 100 | 190.148.48.109  | Public Access | 9/24/2020 12:14 | 9/24/2020 12:19 | Casco urbano | Guatemala        | 15-35 años | Femenino  | Eucalipto = \"nebulizador\", hoja de limón (dolor de estómago y de garganta así como repelente de mosquitos), jengibre (dolor de garganta, irritación e inflamación), cúrcuma (blanqueamiento dental y desinflamante), etc. | ... | Si | Semillas | Azafrán   | Remolacha para ensaladas y enchiladas. Azafrán para \"colorear\" la paella. | Infusión o té Hervida Frotada   Masticada    | 5 | Estoy procurando practicar la medicina tradicional y natural.     | Aplicación local Lavados  Aplicación nasal  En infusión   | 4 | No uso el achiote, pero he escuchado comentarios favorables.      |\n",
       "\n"
      ],
      "text/plain": [
       "    Id  Ip              Acceso        Fecha_inicio    Fecha_finalizacion\n",
       "291 95  181.174.106.148 Public Access 9/24/2020 11:39 9/24/2020 11:45   \n",
       "301 96  190.148.53.147  Public Access 9/24/2020 11:45 9/24/2020 11:46   \n",
       "311 97  190.148.52.220  Public Access 9/24/2020 11:50 9/24/2020 11:54   \n",
       "321 98  181.209.195.80  Public Access 9/24/2020 12:06 9/24/2020 12:08   \n",
       "331 99  190.148.209.11  Public Access 9/24/2020 12:09 9/24/2020 12:13   \n",
       "341 100 190.148.48.109  Public Access 9/24/2020 12:14 9/24/2020 12:19   \n",
       "    Procedencia  Municipio        Edad       Sexo     \n",
       "291 Casco urbano Villa Nueva      15-35 años Masculino\n",
       "301 Casco urbano Jutiapa          15-35 años Femenino \n",
       "311 Casco urbano Amatitlan        15-35 años Femenino \n",
       "321 Casco urbano Mixco            15-35 años Femenino \n",
       "331 Casco urbano Ciudad Guatemala 15-35 años Masculino\n",
       "341 Casco urbano Guatemala        15-35 años Femenino \n",
       "    Q1                                                                                                                                                                                                                       \n",
       "291 No                                                                                                                                                                                                                       \n",
       "301                                                                                                                                                                                                                          \n",
       "311 Jengibre, alo verá.                                                                                                                                                                                                      \n",
       "321 No                                                                                                                                                                                                                       \n",
       "331 Infusiones de tilo, manzanilla, eucalipto                                                                                                                                                                                \n",
       "341 Eucalipto = \"nebulizador\", hoja de limón (dolor de estómago y de garganta así como repelente de mosquitos), jengibre (dolor de garganta, irritación e inflamación), cúrcuma (blanqueamiento dental y desinflamante), etc.\n",
       "    ... Q10 Q11      Q12      \n",
       "291 ... No  Raíz     Remolacha\n",
       "301 ...                       \n",
       "311 ... Si  Semillas Remolacha\n",
       "321 ...                       \n",
       "331 ...                       \n",
       "341 ... Si  Semillas Azafrán  \n",
       "    Q13                                                                      \n",
       "291 No                                                                       \n",
       "301                                                                          \n",
       "311 Achiote                                                                  \n",
       "321                                                                          \n",
       "331                                                                          \n",
       "341 Remolacha para ensaladas y enchiladas. Azafrán para \"colorear\" la paella.\n",
       "    Q14                                          Q15\n",
       "291        No conozco ninguna preparación        5  \n",
       "301                                                 \n",
       "311        No conozco ninguna preparación        5  \n",
       "321                                                 \n",
       "331                                                 \n",
       "341 Infusión o té Hervida Frotada   Masticada    5  \n",
       "    Justificacion_2                                                  \n",
       "291 Sería una buena alternativa para la reducción del uso de fármacos\n",
       "301                                                                  \n",
       "311 Seria bueno conocer acerca de sus beneficios                     \n",
       "321                                                                  \n",
       "331                                                                  \n",
       "341 Estoy procurando practicar la medicina tradicional y natural.    \n",
       "    Q16                                                       Q17\n",
       "291 Aplicación local     En infusión En cápsulas              4  \n",
       "301                                                              \n",
       "311      En infusión En cápsulas                              5  \n",
       "321                                                              \n",
       "331                                                              \n",
       "341 Aplicación local Lavados  Aplicación nasal  En infusión   4  \n",
       "    Justificacion_3                                                  \n",
       "291 Puede que en algunos casos no reemplace a un fármaco convencional\n",
       "301                                                                  \n",
       "311 Por ser una medicina natural considero que son bastante efectivos\n",
       "321                                                                  \n",
       "331                                                                  \n",
       "341 No uso el achiote, pero he escuchado comentarios favorables.     "
      ]
     },
     "metadata": {},
     "output_type": "display_data"
    }
   ],
   "source": [
    "head(achiote)\n",
    "tail(achiote)"
   ]
  },
  {
   "cell_type": "markdown",
   "metadata": {},
   "source": [
    "#### Manejamos fechas y tiempos"
   ]
  },
  {
   "cell_type": "code",
   "execution_count": 11,
   "metadata": {},
   "outputs": [],
   "source": [
    "#fechas\n",
    "fecha_inicio <- as.Date(substr(achiote$Fecha_inicio, 0, 8), \"%m/%d/%y\")\n",
    "fecha_final <- as.Date(substr(achiote$Fecha_finalizacion, 0, 8), \"%m/%d/%y\")\n",
    "#horas minutos\n",
    "hora_inicio <- as.POSIXct(substr(achiote$Fecha_inicio, 11, 15), format = \"%H:%M\")\n",
    "hora_final <- as.POSIXct(substr(achiote$Fecha_finalizacion, 11, 15), format = \"%H:%M\")\n",
    "#creando columnas\n",
    "achiote$Fecha_inicio <- fecha_inicio\n",
    "achiote$Fecha_finalizacion <- fecha_final\n",
    "achiote$hora_inicio <- hora_inicio\n",
    "achiote$hora_final <- hora_final\n",
    "dif <- hora_final - hora_inicio\n",
    "achiote$tiempo_terminar <- dif\n"
   ]
  },
  {
   "cell_type": "markdown",
   "metadata": {},
   "source": [
    "#### Convertimos a factor los datos necesarios"
   ]
  },
  {
   "cell_type": "code",
   "execution_count": 12,
   "metadata": {},
   "outputs": [
    {
     "data": {
      "text/plain": [
       "       Id                   Ip               Acceso     Fecha_inicio       \n",
       " 7      : 2   181.209.150.166: 3   Public Access:101   Min.   :2020-09-18  \n",
       " 1      : 1   186.151.92.15  : 3                       1st Qu.:2020-09-18  \n",
       " 10     : 1   186.151.92.6   : 2                       Median :2020-09-21  \n",
       " 100    : 1   190.106.221.12 : 2                       Mean   :2020-09-20  \n",
       " 11     : 1   190.148.53.130 : 2                       3rd Qu.:2020-09-23  \n",
       " 12     : 1   190.56.74.230  : 2                       Max.   :2020-09-24  \n",
       " (Other):94   (Other)        :87                                           \n",
       " Fecha_finalizacion         Procedencia                 Municipio \n",
       " Min.   :2020-09-18   Casco rural :14   Guatemala            :47  \n",
       " 1st Qu.:2020-09-18   Casco urbano:87   Mixco                :11  \n",
       " Median :2020-09-21                     Ciudad de Guatemala  : 5  \n",
       " Mean   :2020-09-20                     Santa Catarina Pinula: 5  \n",
       " 3rd Qu.:2020-09-23                     Villa Nueva          : 3  \n",
       " Max.   :2020-09-24                     Chiquimula           : 2  \n",
       "                                        (Other)              :28  \n",
       "         Edad           Sexo   \n",
       " 15-35 años:85   Femenino :61  \n",
       " 36-55 años: 4   Masculino:40  \n",
       " 56-75 años:12                 \n",
       "                               \n",
       "                               \n",
       "                               \n",
       "                               \n",
       "                                                                         Q1    \n",
       " No                                                                       :35  \n",
       " Manzanilla                                                               : 5  \n",
       "                                                                          : 3  \n",
       " \"Mata ratón\", se cocina y con esa agua se da un baño para bajar la fiebre: 1  \n",
       " Albahaca, manzanilla, eucalipto, tomillo, tilo                           : 1  \n",
       " Apazote y hierbabuena para malestar estomacal                            : 1  \n",
       " (Other)                                                                  :55  \n",
       "  Q2      Q3     Q4    \n",
       " No:34     :67    :67  \n",
       " Si:67   No: 2   1: 3  \n",
       "         Si:32   2: 2  \n",
       "                 3:13  \n",
       "                 4:14  \n",
       "                 5: 2  \n",
       "                       \n",
       "                                                                               Justificacion_1\n",
       "                                                                                       :73    \n",
       " Conozco que tiene propiedades positivas pero no sé cuán efectivas sean en las personas: 1    \n",
       " Considero que lo natural ayuda mucho al organismo pero no es tan rápido.              : 1    \n",
       " Considero que todo lo natural si posee efectos notables a comparación de los químicos : 1    \n",
       " Cuestiono la eficiencia por la falta de estudios científicos                          : 1    \n",
       " Depende que enfermedad tiene que tratar                                               : 1    \n",
       " (Other)                                                                               :23    \n",
       " He leido     Q5                                Q6    \n",
       "   :69         :34                               :34  \n",
       " si:32    Bija : 1   Tinte Culinario             :21  \n",
       "          No   :65    Culinario                  :17  \n",
       "          Urucu: 1   Tinte Culinario Medicinal   : 8  \n",
       "                     Tinte Culinario  Cosmético  : 5  \n",
       "                      Culinario Medicinal        : 4  \n",
       "                     (Other)                     :12  \n",
       "                                                                                            Q7    \n",
       "                                                                                             :34  \n",
       "    Tinte para textiles  Colorante de comidas y bebidas                                      :19  \n",
       "      Colorante de comidas y bebidas                                                         :15  \n",
       "    Tinte para textiles Colorante en pintalabios Colorante de comidas y bebidas              :11  \n",
       "      Colorante de comidas y bebidas Alivio de la fiebre  Aumenta el flujo de leche materna  : 2  \n",
       "    Tinte para textiles                                                                      : 2  \n",
       " (Other)                                                                                     :18  \n",
       "                       Q8    \n",
       "                        :34  \n",
       " Mensualmente           :14  \n",
       " No lo utilizo          :19  \n",
       " Semanalmente           : 5  \n",
       " Una vez cada seis meses:29  \n",
       "                             \n",
       "                             \n",
       "                                               Q9     Q10    \n",
       "                                                :34     :34  \n",
       " Mercado                                        :25   No:19  \n",
       "      No obtengo achiote                        :10   Si:48  \n",
       " Mercado Supermercado                           :10          \n",
       " Mercado  Tienda de conveniencia                : 5          \n",
       " Mercado Supermercado Tienda de conveniencia    : 5          \n",
       " (Other)                                        :12          \n",
       "                                             Q11    \n",
       "                                               :34  \n",
       " Semillas                                      :33  \n",
       " Fruto                                         :15  \n",
       " Raíz                                          :11  \n",
       " No se obtiene ningún polvo rojo de esta planta: 3  \n",
       " Hojas                                         : 2  \n",
       " (Other)                                       : 3  \n",
       "                                                                                  Q12    \n",
       "                                                                                    :34  \n",
       " Azafrán                                                                            :14  \n",
       " Cúrcuma                                                                            : 2  \n",
       " Curcuma,                                                                           : 1  \n",
       " Cúrcuma, repollo morado, cascara de cebolla, remolacha, frijol, semilla de aguacate: 1  \n",
       " No conozco ninguna otra planta tintórea                                            : 6  \n",
       " Remolacha                                                                          :43  \n",
       "                            Q13                                         Q14    \n",
       "                              :35          No conozco ninguna preparación :37  \n",
       " No                           :30                                         :34  \n",
       " Remolacha                    : 5         Molida                          : 8  \n",
       " Achiote                      : 2      Machacada                          : 2  \n",
       " Cúrcuma                      : 2   Infusión o té                         : 2  \n",
       " Remolacha. Ensaladas, curtido: 2        Masticada                        : 1  \n",
       " (Other)                      :25   (Other)                               :17  \n",
       " Q15   \n",
       "  :34  \n",
       " 1: 1  \n",
       " 2: 6  \n",
       " 3:19  \n",
       " 4:15  \n",
       " 5:26  \n",
       "       \n",
       "                                                                                         Justificacion_2\n",
       "                                                                                                 :44    \n",
       " Tendría que saber cómo sustituto de qué medicina se puede usar y para qué se puede usar         : 2    \n",
       " al saber sus propiedades puedo utilizarlo.                                                      : 1    \n",
       " Bajo receta médica consumiría plantas medicinales como alternativa.                             : 1    \n",
       " como te                                                                                         : 1    \n",
       " Considero que el achiote posee muchos beneficios medicinales que nadie conoce ya que no es común: 1    \n",
       " (Other)                                                                                         :51    \n",
       "                                            Q16     Q17   \n",
       "                                              :34    :34  \n",
       "      En infusión En cápsulas                 :13   1: 6  \n",
       "      En infusión                             : 9   2: 4  \n",
       " Aplicación local     En infusión En cápsulas : 7   3:27  \n",
       " Aplicación local                             : 6   4:19  \n",
       " Aplicación local     En infusión             : 5   5:11  \n",
       " (Other)                                      :27         \n",
       "                                                                                       Justificacion_3\n",
       "                                                                                               :44    \n",
       " No conozco la efectividad pero imagino ha de ser buena                                        : 2    \n",
       " 5. Tiene q tener algun efecto.  Pero no creo q curativo                                       : 1    \n",
       " Bueno                                                                                         : 1    \n",
       " Confio mucho en lo natural y lo prefiero por bo estar alterados                               : 1    \n",
       " Conozco de una tesis que trata de tintes para cabello a base achiote y funcionan den maravilla: 1    \n",
       " (Other)                                                                                       :51    \n",
       "  hora_inicio                    hora_final                  tiempo_terminar  \n",
       " Min.   :2020-09-30 07:02:00   Min.   :2020-09-30 07:07:00   Length:101       \n",
       " 1st Qu.:2020-09-30 11:36:00   1st Qu.:2020-09-30 11:43:00   Class :difftime  \n",
       " Median :2020-09-30 12:19:00   Median :2020-09-30 12:20:00   Mode  :numeric   \n",
       " Mean   :2020-09-30 14:04:11   Mean   :2020-09-30 14:12:11                    \n",
       " 3rd Qu.:2020-09-30 16:56:00   3rd Qu.:2020-09-30 17:08:00                    \n",
       " Max.   :2020-09-30 23:26:00   Max.   :2020-09-30 23:37:00                    \n",
       "                                                                              "
      ]
     },
     "metadata": {},
     "output_type": "display_data"
    }
   ],
   "source": [
    "achiote[sapply(achiote, is.character)] <- lapply(achiote[sapply(achiote, is.character)], \n",
    "                                       as.factor)\n",
    "summary(achiote)"
   ]
  },
  {
   "cell_type": "code",
   "execution_count": 13,
   "metadata": {},
   "outputs": [
    {
     "name": "stdout",
     "output_type": "stream",
     "text": [
      "'data.frame':\t101 obs. of  33 variables:\n",
      " $ Id                : Factor w/ 100 levels \"1\",\"10\",\"100\",..: 1 13 24 35 46 57 68 79 90 2 ...\n",
      " $ Ip                : Factor w/ 93 levels \"143.208.57.62\",..: 67 45 68 11 88 47 89 55 25 60 ...\n",
      " $ Acceso            : Factor w/ 1 level \"Public Access\": 1 1 1 1 1 1 1 1 1 1 ...\n",
      " $ Fecha_inicio      : Date, format: \"2020-09-18\" \"2020-09-18\" ...\n",
      " $ Fecha_finalizacion: Date, format: \"2020-09-18\" \"2020-09-18\" ...\n",
      " $ Procedencia       : Factor w/ 2 levels \"Casco rural\",..: 2 2 2 2 2 2 2 2 1 2 ...\n",
      " $ Municipio         : Factor w/ 29 levels \"Amatitlan\",\"Asunción Mita\",..: 13 28 13 13 13 5 13 13 13 13 ...\n",
      " $ Edad              : Factor w/ 3 levels \"15-35 años\",\"36-55 años\",..: 1 1 1 1 1 1 1 1 1 1 ...\n",
      " $ Sexo              : Factor w/ 2 levels \"Femenino\",\"Masculino\": 2 2 2 1 2 2 2 2 2 1 ...\n",
      " $ Q1                : Factor w/ 61 levels \"\",\"\\\"Mata ratón\\\", se cocina y con esa agua se da un baño para bajar la fiebre\",..: 28 38 38 38 38 56 38 38 9 51 ...\n",
      " $ Q2                : Factor w/ 2 levels \"No\",\"Si\": 2 2 1 1 1 1 2 1 2 2 ...\n",
      " $ Q3                : Factor w/ 3 levels \"\",\"No\",\"Si\": 1 1 3 3 3 3 1 3 1 1 ...\n",
      " $ Q4                : Factor w/ 6 levels \"\",\"1\",\"2\",\"3\",..: 1 1 3 4 4 5 1 4 1 1 ...\n",
      " $ Justificacion_1   : Factor w/ 29 levels \"\",\"Conozco que tiene propiedades positivas pero no sé cuán efectivas sean en las personas\",..: 1 1 21 13 15 9 1 2 1 1 ...\n",
      " $ He leido          : Factor w/ 2 levels \"\",\"si\": 1 1 2 2 2 2 1 2 1 1 ...\n",
      " $ Q5                : Factor w/ 4 levels \"\",\"Bija\",\"No\",..: 3 3 1 1 1 1 3 1 3 3 ...\n",
      " $ Q6                : Factor w/ 12 levels \"     \",\"  Medicinal   \",..: 9 9 1 1 1 1 9 1 10 9 ...\n",
      " $ Q7                : Factor w/ 23 levels \"          \",\"         No conozco ninguna aplicación del achiote \",..: 19 8 1 1 1 1 8 1 8 8 ...\n",
      " $ Q8                : Factor w/ 5 levels \"\",\"Mensualmente\",..: 5 5 1 1 1 1 5 1 2 2 ...\n",
      " $ Q9                : Factor w/ 12 levels \"      \",\"     No obtengo achiote \",..: 9 9 1 1 1 1 10 1 9 5 ...\n",
      " $ Q10               : Factor w/ 3 levels \"\",\"No\",\"Si\": 3 2 1 1 1 1 2 1 3 3 ...\n",
      " $ Q11               : Factor w/ 8 levels \"\",\"Flores\",\"Fruto\",..: 6 7 1 1 1 1 3 1 7 7 ...\n",
      " $ Q12               : Factor w/ 7 levels \"\",\"Azafrán\",\"Cúrcuma\",..: 7 7 1 1 1 1 7 1 2 3 ...\n",
      " $ Q13               : Factor w/ 31 levels \"\",\"Achiote\",\"Achiote, remolacha, tomate\",..: 19 6 1 1 1 1 29 1 8 14 ...\n",
      " $ Q14               : Factor w/ 23 levels \"        \",\"       No conozco ninguna preparación \",..: 13 3 1 1 1 1 2 1 2 2 ...\n",
      " $ Q15               : Factor w/ 6 levels \"\",\"1\",\"2\",\"3\",..: 5 6 1 1 1 1 4 1 6 6 ...\n",
      " $ Justificacion_2   : Factor w/ 57 levels \"\",\"al saber sus propiedades puedo utilizarlo.\",..: 41 33 1 1 1 1 54 1 34 14 ...\n",
      " $ Q16               : Factor w/ 24 levels \"       \",\"       Otra::no lo se\",..: 18 4 1 1 1 1 15 1 8 14 ...\n",
      " $ Q17               : Factor w/ 6 levels \"\",\"1\",\"2\",\"3\",..: 6 2 1 1 1 1 4 1 4 6 ...\n",
      " $ Justificacion_3   : Factor w/ 57 levels \"\",\"5. Tiene q tener algun efecto.  Pero no creo q curativo\",..: 55 36 1 1 1 1 27 1 20 52 ...\n",
      " $ hora_inicio       : POSIXct, format: \"2020-09-30 11:01:00\" \"2020-09-30 11:22:00\" ...\n",
      " $ hora_final        : POSIXct, format: \"2020-09-30 11:05:00\" \"2020-09-30 11:25:00\" ...\n",
      " $ tiempo_terminar   : 'difftime' num  4 3 1 1 ...\n",
      "  ..- attr(*, \"units\")= chr \"mins\"\n"
     ]
    }
   ],
   "source": [
    "str(achiote)"
   ]
  },
  {
   "cell_type": "markdown",
   "metadata": {},
   "source": [
    "## Resultados"
   ]
  },
  {
   "cell_type": "markdown",
   "metadata": {},
   "source": [
    "#### colores para graficas"
   ]
  },
  {
   "cell_type": "code",
   "execution_count": 14,
   "metadata": {},
   "outputs": [],
   "source": [
    "color.function <- colorRampPalette(c(\"#FFFFFF\" , \"#45094f\" ))\n",
    "color.ramp <- color.function(n = 10)"
   ]
  },
  {
   "cell_type": "markdown",
   "metadata": {},
   "source": [
    "#### Procedencia"
   ]
  },
  {
   "cell_type": "code",
   "execution_count": 15,
   "metadata": {},
   "outputs": [
    {
     "data": {
      "text/plain": [
       "\n",
       " Casco rural Casco urbano \n",
       "          14           87 "
      ]
     },
     "metadata": {},
     "output_type": "display_data"
    },
    {
     "data": {
      "image/png": "[encoded data removed]",
      "text/plain": [
       "Plot with title \"Procedencia\""
      ]
     },
     "metadata": {
      "image/png": {
       "height": 420,
       "width": 420
      }
     },
     "output_type": "display_data"
    }
   ],
   "source": [
    "info <- table(achiote$Procedencia)\n",
    "xx <- barplot(info,main=\"Procedencia\", col=color.ramp)\n",
    "info"
   ]
  },
  {
   "cell_type": "markdown",
   "metadata": {},
   "source": [
    "#### Municipio"
   ]
  },
  {
   "cell_type": "code",
   "execution_count": 16,
   "metadata": {},
   "outputs": [
    {
     "data": {
      "text/plain": [
       "\n",
       "             Amatitlan          Asunción Mita             Chiquimula \n",
       "                     1                      2                      2 \n",
       "          Ciudad Vieja             Coatepeque                  Cobán \n",
       "                     1                      1                      1 \n",
       "             Fraijanes              Guatemala                 Izabal \n",
       "                     2                     57                      1 \n",
       "               Jutiapa            Mazatenango                  Mixco \n",
       "                     2                      1                     11 \n",
       "San Lucas Sacatepéquez      San Miguel Petapa       Santa Ana, Peten \n",
       "                     3                      1                      1 \n",
       " Santa Catarina Pinula          Villa canales            Villa Nueva \n",
       "                     7                      4                      3 "
      ]
     },
     "metadata": {},
     "output_type": "display_data"
    },
    {
     "data": {
      "image/png": "[encoded data removed]",
      "text/plain": [
       "Plot with title \"Municipio\""
      ]
     },
     "metadata": {
      "image/png": {
       "height": 420,
       "width": 420
      }
     },
     "output_type": "display_data"
    }
   ],
   "source": [
    "achiote$Municipio[achiote$Municipio == 'Ciudad'] <- 'Guatemala'\n",
    "achiote$Municipio[achiote$Municipio == 'Ciudad de Guatemala'] <- 'Guatemala'\n",
    "achiote$Municipio[achiote$Municipio == 'GUATEMALA'] <- 'Guatemala'\n",
    "achiote$Municipio[achiote$Municipio == 'guatemala'] <- 'Guatemala'\n",
    "achiote$Municipio[achiote$Municipio == 'Ciudad Guatemala'] <- 'Guatemala'\n",
    "achiote$Municipio[achiote$Municipio == 'En Asunción Mita Jutiapa'] <- 'Asunción Mita'\n",
    "achiote$Municipio[achiote$Municipio == 'Guatemala, Fraijanes'] <- 'Fraijanes'\n",
    "achiote$Municipio[achiote$Municipio == 'Sta Catarina Pinula'] <- 'Santa Catarina Pinula'\n",
    "achiote$Municipio[achiote$Municipio == 'Sta. Catarina Pinula'] <- 'Santa Catarina Pinula'\n",
    "achiote$Municipio[achiote$Municipio == 'Villa Canales'] <- 'Villa canales'\n",
    "achiote$Municipio[achiote$Municipio == 'Sacatepéquez'] <- 'San Lucas Sacatepéquez'\n",
    "achiote$Municipio <- droplevels(achiote$Municipio)\n",
    "info <- table(achiote$Municipio)\n",
    "xx <- barplot(info,main=\"Municipio\", col=color.ramp, cex.lab=2)\n",
    "info"
   ]
  },
  {
   "cell_type": "markdown",
   "metadata": {},
   "source": [
    "#### Edad"
   ]
  },
  {
   "cell_type": "code",
   "execution_count": 17,
   "metadata": {},
   "outputs": [
    {
     "data": {
      "text/plain": [
       "\n",
       "15-35 años 36-55 años 56-75 años \n",
       "        85          4         12 "
      ]
     },
     "metadata": {},
     "output_type": "display_data"
    },
    {
     "data": {
      "image/png": "[encoded data removed]",
      "text/plain": [
       "Plot with title \"Edad\""
      ]
     },
     "metadata": {
      "image/png": {
       "height": 420,
       "width": 420
      }
     },
     "output_type": "display_data"
    }
   ],
   "source": [
    "info <- table(achiote$Edad)\n",
    "xx <- barplot(info,main=\"Edad\", col=color.ramp, cex.lab=2)\n",
    "info"
   ]
  },
  {
   "cell_type": "markdown",
   "metadata": {},
   "source": [
    "#### Sexo"
   ]
  },
  {
   "cell_type": "code",
   "execution_count": 18,
   "metadata": {},
   "outputs": [
    {
     "data": {
      "text/plain": [
       "\n",
       " Femenino Masculino \n",
       "       61        40 "
      ]
     },
     "metadata": {},
     "output_type": "display_data"
    },
    {
     "data": {
      "image/png": "[encoded data removed]",
      "text/plain": [
       "Plot with title \"Sexo\""
      ]
     },
     "metadata": {
      "image/png": {
       "height": 420,
       "width": 420
      }
     },
     "output_type": "display_data"
    }
   ],
   "source": [
    "info <- table(achiote$Sexo)\n",
    "xx <- barplot(info,main=\"Sexo\", col=color.ramp, cex.lab=2)\n",
    "info"
   ]
  },
  {
   "cell_type": "markdown",
   "metadata": {},
   "source": [
    "#### ¿Ha utilizado usted alguna planta para tratar alguna enfermedad/afeccion?"
   ]
  },
  {
   "cell_type": "code",
   "execution_count": 19,
   "metadata": {},
   "outputs": [
    {
     "name": "stderr",
     "output_type": "stream",
     "text": [
      "Joining, by = \"word\"\n",
      "\n"
     ]
    },
    {
     "data": {
      "image/png": "[encoded data removed]",
      "text/plain": [
       "plot without title"
      ]
     },
     "metadata": {
      "image/png": {
       "height": 420,
       "width": 420
      }
     },
     "output_type": "display_data"
    }
   ],
   "source": [
    "text <- toupper(as.character(levels(achiote$Q1)))\n",
    "text <- chartr(\"ÁÉÍÓÚ\", \"AEIOU\", text)\n",
    "text_df <- tibble(line = 1:61, text = text)\n",
    "\n",
    "custom_stop_words <- bind_rows(stop_words,\n",
    "                               tibble(word = c(tm::stopwords(\"spanish\"), \"dolor\", \"estomago\", \"infusion\", \"colicos\"),\n",
    "                                          lexicon = \"custom\"))\n",
    "\n",
    "text_df <- text_df %>% \n",
    "    unnest_tokens(word, text) %>%\n",
    "    anti_join(custom_stop_words) %>%\n",
    "    count(word, sort = TRUE)\n",
    "\n",
    "\n",
    "text_df %>%\n",
    "  filter(n > 3) %>%\n",
    "  mutate(word = reorder(word, n)) %>%\n",
    "  ggplot(aes(word, n)) +\n",
    "  geom_col() +\n",
    "  geom_bar(stat=\"identity\", fill = \"#FF6666\") +\n",
    "  labs(x = \"Plantas utilizadas\", y = \"Repeticiones\") +\n",
    "  coord_flip()"
   ]
  },
  {
   "cell_type": "markdown",
   "metadata": {},
   "source": [
    "#### ¿Conoce usted el achiote?"
   ]
  },
  {
   "cell_type": "code",
   "execution_count": 20,
   "metadata": {},
   "outputs": [
    {
     "data": {
      "text/plain": [
       "\n",
       "No Si \n",
       "34 67 "
      ]
     },
     "metadata": {},
     "output_type": "display_data"
    },
    {
     "data": {
      "image/png": "[encoded data removed]",
      "text/plain": [
       "Plot with title \"¿Conoce usted el achiote?\""
      ]
     },
     "metadata": {
      "image/png": {
       "height": 420,
       "width": 420
      }
     },
     "output_type": "display_data"
    }
   ],
   "source": [
    "info <- table(achiote$Q2)\n",
    "xx <- barplot(info,main=\"¿Conoce usted el achiote?\", col=color.ramp, cex.lab=2)\n",
    "info"
   ]
  },
  {
   "cell_type": "markdown",
   "metadata": {},
   "source": [
    "#### ¿Estaría dispuesto a conocer más sobre los usos ancestrales del achiote?"
   ]
  },
  {
   "cell_type": "code",
   "execution_count": 21,
   "metadata": {},
   "outputs": [
    {
     "data": {
      "text/plain": [
       "\n",
       "No Si \n",
       " 2 32 "
      ]
     },
     "metadata": {},
     "output_type": "display_data"
    },
    {
     "data": {
      "image/png": "[encoded data removed]",
      "text/plain": [
       "Plot with title \"¿Estaría dispuesto a conocer más sobre los usos del achiote?\""
      ]
     },
     "metadata": {
      "image/png": {
       "height": 420,
       "width": 420
      }
     },
     "output_type": "display_data"
    }
   ],
   "source": [
    "temp <- as.character(achiote$Q3)\n",
    "si <- grep(\"Si\", temp, value = TRUE)\n",
    "no <- grep(\"No\", temp, value = TRUE) \n",
    "info <- table(c(si, no))\n",
    "xx <- barplot(info,main=\"¿Estaría dispuesto a conocer más sobre los usos del achiote?\", col=color.ramp, cex.lab=2)\n",
    "info"
   ]
  },
  {
   "cell_type": "markdown",
   "metadata": {},
   "source": [
    "#### ¿Qué tan efectivo cree usted que son los tratamientos alternativos de achiote?"
   ]
  },
  {
   "cell_type": "code",
   "execution_count": 22,
   "metadata": {},
   "outputs": [
    {
     "name": "stdout",
     "output_type": "stream",
     "text": [
      "[1] \"1 - No produce ningun efecto\"\n",
      "[1] \"2 - El efecto no es notable\"\n",
      "[1] \"3 - Levemente efectivo\"\n",
      "[1] \"4 - Efecto notable\"\n",
      "[1] \"5 - Efecto significativo\"\n"
     ]
    },
    {
     "data": {
      "text/plain": [
       "\n",
       " 1  2  3  4  5 \n",
       " 3  2 13 14  2 "
      ]
     },
     "metadata": {},
     "output_type": "display_data"
    },
    {
     "data": {
      "image/png": "[encoded data removed]",
      "text/plain": [
       "Plot with title \"¿Qué tan efectivo cree son los tratamientos alternativos de achiote?\""
      ]
     },
     "metadata": {
      "image/png": {
       "height": 420,
       "width": 420
      }
     },
     "output_type": "display_data"
    }
   ],
   "source": [
    "temp <- as.character(achiote$Q4)\n",
    "uno <- grep(1, temp, value = TRUE)\n",
    "dos <- grep(2, temp, value = TRUE) \n",
    "tres <- grep(3, temp, value = TRUE) \n",
    "cuatro <- grep(4, temp, value = TRUE) \n",
    "cinco <- grep(5, temp, value = TRUE) \n",
    "info <- table(c(uno, dos, tres, cuatro, cinco))\n",
    "print(\"1 - No produce ningun efecto\")\n",
    "print(\"2 - El efecto no es notable\")\n",
    "print(\"3 - Levemente efectivo\")\n",
    "print(\"4 - Efecto notable\")\n",
    "print(\"5 - Efecto significativo\")\n",
    "xx <- barplot(info,main=\"¿Qué tan efectivo cree son los tratamientos alternativos de achiote?\", col=color.ramp, cex.lab=2)\n",
    "info"
   ]
  },
  {
   "cell_type": "markdown",
   "metadata": {},
   "source": [
    "#### Justificación de nivel de creencia"
   ]
  },
  {
   "cell_type": "code",
   "execution_count": 34,
   "metadata": {},
   "outputs": [
    {
     "data": {
      "text/html": [
       "<table>\n",
       "<caption>A tibble: 264 × 2</caption>\n",
       "<thead>\n",
       "\t<tr><th scope=col>ngram</th><th scope=col>n</th></tr>\n",
       "\t<tr><th scope=col>&lt;chr&gt;</th><th scope=col>&lt;int&gt;</th></tr>\n",
       "</thead>\n",
       "<tbody>\n",
       "\t<tr><td>no conozco             </td><td>3</td></tr>\n",
       "\t<tr><td>no se                  </td><td>3</td></tr>\n",
       "\t<tr><td>achiote pero           </td><td>2</td></tr>\n",
       "\t<tr><td>con propiedades        </td><td>2</td></tr>\n",
       "\t<tr><td>confio en              </td><td>2</td></tr>\n",
       "\t<tr><td>conocimiento de        </td><td>2</td></tr>\n",
       "\t<tr><td>considero que          </td><td>2</td></tr>\n",
       "\t<tr><td>de los                 </td><td>2</td></tr>\n",
       "\t<tr><td>debe ser               </td><td>2</td></tr>\n",
       "\t<tr><td>efectos notables       </td><td>2</td></tr>\n",
       "\t<tr><td>la medicina            </td><td>2</td></tr>\n",
       "\t<tr><td>las plantas            </td><td>2</td></tr>\n",
       "\t<tr><td>lo natural             </td><td>2</td></tr>\n",
       "\t<tr><td>no tengo               </td><td>2</td></tr>\n",
       "\t<tr><td>pero no                </td><td>2</td></tr>\n",
       "\t<tr><td>puede ser              </td><td>2</td></tr>\n",
       "\t<tr><td>que lo                 </td><td>2</td></tr>\n",
       "\t<tr><td>si se                  </td><td>2</td></tr>\n",
       "\t<tr><td>su uso                 </td><td>2</td></tr>\n",
       "\t<tr><td>a comparacion          </td><td>1</td></tr>\n",
       "\t<tr><td>a corto                </td><td>1</td></tr>\n",
       "\t<tr><td>a estudios             </td><td>1</td></tr>\n",
       "\t<tr><td>abierto a              </td><td>1</td></tr>\n",
       "\t<tr><td>achiote es             </td><td>1</td></tr>\n",
       "\t<tr><td>actividad farmacologica</td><td>1</td></tr>\n",
       "\t<tr><td>actualidad debe        </td><td>1</td></tr>\n",
       "\t<tr><td>al organismo           </td><td>1</td></tr>\n",
       "\t<tr><td>algo natural           </td><td>1</td></tr>\n",
       "\t<tr><td>alguien que            </td><td>1</td></tr>\n",
       "\t<tr><td>aliviar a              </td><td>1</td></tr>\n",
       "\t<tr><td>...</td><td>...</td></tr>\n",
       "\t<tr><td>tiene efectos         </td><td>1</td></tr>\n",
       "\t<tr><td>tiene propiedades     </td><td>1</td></tr>\n",
       "\t<tr><td>tiene que             </td><td>1</td></tr>\n",
       "\t<tr><td>tienen actividad      </td><td>1</td></tr>\n",
       "\t<tr><td>todo lo               </td><td>1</td></tr>\n",
       "\t<tr><td>tradicional maya      </td><td>1</td></tr>\n",
       "\t<tr><td>tratado no            </td><td>1</td></tr>\n",
       "\t<tr><td>tratamiento no        </td><td>1</td></tr>\n",
       "\t<tr><td>tratamiento o         </td><td>1</td></tr>\n",
       "\t<tr><td>tratamientos naturales</td><td>1</td></tr>\n",
       "\t<tr><td>tratar enfermedades   </td><td>1</td></tr>\n",
       "\t<tr><td>tratar es             </td><td>1</td></tr>\n",
       "\t<tr><td>un efecto             </td><td>1</td></tr>\n",
       "\t<tr><td>una planta            </td><td>1</td></tr>\n",
       "\t<tr><td>unos nativos          </td><td>1</td></tr>\n",
       "\t<tr><td>usado achiote         </td><td>1</td></tr>\n",
       "\t<tr><td>uso se                </td><td>1</td></tr>\n",
       "\t<tr><td>uso t                 </td><td>1</td></tr>\n",
       "\t<tr><td>usos medicinales      </td><td>1</td></tr>\n",
       "\t<tr><td>util si               </td><td>1</td></tr>\n",
       "\t<tr><td>utiles porque         </td><td>1</td></tr>\n",
       "\t<tr><td>utilidades no         </td><td>1</td></tr>\n",
       "\t<tr><td>utiliza como          </td><td>1</td></tr>\n",
       "\t<tr><td>utilizaba y           </td><td>1</td></tr>\n",
       "\t<tr><td>utilizado no          </td><td>1</td></tr>\n",
       "\t<tr><td>utilzando tes         </td><td>1</td></tr>\n",
       "\t<tr><td>vi en                 </td><td>1</td></tr>\n",
       "\t<tr><td>y funcionaba          </td><td>1</td></tr>\n",
       "\t<tr><td>y malestares          </td><td>1</td></tr>\n",
       "\t<tr><td>ya que                </td><td>1</td></tr>\n",
       "</tbody>\n",
       "</table>\n"
      ],
      "text/latex": [
       "A tibble: 264 × 2\n",
       "\\begin{tabular}{ll}\n",
       " ngram & n\\\\\n",
       " <chr> & <int>\\\\\n",
       "\\hline\n",
       "\t no conozco              & 3\\\\\n",
       "\t no se                   & 3\\\\\n",
       "\t achiote pero            & 2\\\\\n",
       "\t con propiedades         & 2\\\\\n",
       "\t confio en               & 2\\\\\n",
       "\t conocimiento de         & 2\\\\\n",
       "\t considero que           & 2\\\\\n",
       "\t de los                  & 2\\\\\n",
       "\t debe ser                & 2\\\\\n",
       "\t efectos notables        & 2\\\\\n",
       "\t la medicina             & 2\\\\\n",
       "\t las plantas             & 2\\\\\n",
       "\t lo natural              & 2\\\\\n",
       "\t no tengo                & 2\\\\\n",
       "\t pero no                 & 2\\\\\n",
       "\t puede ser               & 2\\\\\n",
       "\t que lo                  & 2\\\\\n",
       "\t si se                   & 2\\\\\n",
       "\t su uso                  & 2\\\\\n",
       "\t a comparacion           & 1\\\\\n",
       "\t a corto                 & 1\\\\\n",
       "\t a estudios              & 1\\\\\n",
       "\t abierto a               & 1\\\\\n",
       "\t achiote es              & 1\\\\\n",
       "\t actividad farmacologica & 1\\\\\n",
       "\t actualidad debe         & 1\\\\\n",
       "\t al organismo            & 1\\\\\n",
       "\t algo natural            & 1\\\\\n",
       "\t alguien que             & 1\\\\\n",
       "\t aliviar a               & 1\\\\\n",
       "\t ... & ...\\\\\n",
       "\t tiene efectos          & 1\\\\\n",
       "\t tiene propiedades      & 1\\\\\n",
       "\t tiene que              & 1\\\\\n",
       "\t tienen actividad       & 1\\\\\n",
       "\t todo lo                & 1\\\\\n",
       "\t tradicional maya       & 1\\\\\n",
       "\t tratado no             & 1\\\\\n",
       "\t tratamiento no         & 1\\\\\n",
       "\t tratamiento o          & 1\\\\\n",
       "\t tratamientos naturales & 1\\\\\n",
       "\t tratar enfermedades    & 1\\\\\n",
       "\t tratar es              & 1\\\\\n",
       "\t un efecto              & 1\\\\\n",
       "\t una planta             & 1\\\\\n",
       "\t unos nativos           & 1\\\\\n",
       "\t usado achiote          & 1\\\\\n",
       "\t uso se                 & 1\\\\\n",
       "\t uso t                  & 1\\\\\n",
       "\t usos medicinales       & 1\\\\\n",
       "\t util si                & 1\\\\\n",
       "\t utiles porque          & 1\\\\\n",
       "\t utilidades no          & 1\\\\\n",
       "\t utiliza como           & 1\\\\\n",
       "\t utilizaba y            & 1\\\\\n",
       "\t utilizado no           & 1\\\\\n",
       "\t utilzando tes          & 1\\\\\n",
       "\t vi en                  & 1\\\\\n",
       "\t y funcionaba           & 1\\\\\n",
       "\t y malestares           & 1\\\\\n",
       "\t ya que                 & 1\\\\\n",
       "\\end{tabular}\n"
      ],
      "text/markdown": [
       "\n",
       "A tibble: 264 × 2\n",
       "\n",
       "| ngram &lt;chr&gt; | n &lt;int&gt; |\n",
       "|---|---|\n",
       "| no conozco              | 3 |\n",
       "| no se                   | 3 |\n",
       "| achiote pero            | 2 |\n",
       "| con propiedades         | 2 |\n",
       "| confio en               | 2 |\n",
       "| conocimiento de         | 2 |\n",
       "| considero que           | 2 |\n",
       "| de los                  | 2 |\n",
       "| debe ser                | 2 |\n",
       "| efectos notables        | 2 |\n",
       "| la medicina             | 2 |\n",
       "| las plantas             | 2 |\n",
       "| lo natural              | 2 |\n",
       "| no tengo                | 2 |\n",
       "| pero no                 | 2 |\n",
       "| puede ser               | 2 |\n",
       "| que lo                  | 2 |\n",
       "| si se                   | 2 |\n",
       "| su uso                  | 2 |\n",
       "| a comparacion           | 1 |\n",
       "| a corto                 | 1 |\n",
       "| a estudios              | 1 |\n",
       "| abierto a               | 1 |\n",
       "| achiote es              | 1 |\n",
       "| actividad farmacologica | 1 |\n",
       "| actualidad debe         | 1 |\n",
       "| al organismo            | 1 |\n",
       "| algo natural            | 1 |\n",
       "| alguien que             | 1 |\n",
       "| aliviar a               | 1 |\n",
       "| ... | ... |\n",
       "| tiene efectos          | 1 |\n",
       "| tiene propiedades      | 1 |\n",
       "| tiene que              | 1 |\n",
       "| tienen actividad       | 1 |\n",
       "| todo lo                | 1 |\n",
       "| tradicional maya       | 1 |\n",
       "| tratado no             | 1 |\n",
       "| tratamiento no         | 1 |\n",
       "| tratamiento o          | 1 |\n",
       "| tratamientos naturales | 1 |\n",
       "| tratar enfermedades    | 1 |\n",
       "| tratar es              | 1 |\n",
       "| un efecto              | 1 |\n",
       "| una planta             | 1 |\n",
       "| unos nativos           | 1 |\n",
       "| usado achiote          | 1 |\n",
       "| uso se                 | 1 |\n",
       "| uso t                  | 1 |\n",
       "| usos medicinales       | 1 |\n",
       "| util si                | 1 |\n",
       "| utiles porque          | 1 |\n",
       "| utilidades no          | 1 |\n",
       "| utiliza como           | 1 |\n",
       "| utilizaba y            | 1 |\n",
       "| utilizado no           | 1 |\n",
       "| utilzando tes          | 1 |\n",
       "| vi en                  | 1 |\n",
       "| y funcionaba           | 1 |\n",
       "| y malestares           | 1 |\n",
       "| ya que                 | 1 |\n",
       "\n"
      ],
      "text/plain": [
       "    ngram                   n  \n",
       "1   no conozco              3  \n",
       "2   no se                   3  \n",
       "3   achiote pero            2  \n",
       "4   con propiedades         2  \n",
       "5   confio en               2  \n",
       "6   conocimiento de         2  \n",
       "7   considero que           2  \n",
       "8   de los                  2  \n",
       "9   debe ser                2  \n",
       "10  efectos notables        2  \n",
       "11  la medicina             2  \n",
       "12  las plantas             2  \n",
       "13  lo natural              2  \n",
       "14  no tengo                2  \n",
       "15  pero no                 2  \n",
       "16  puede ser               2  \n",
       "17  que lo                  2  \n",
       "18  si se                   2  \n",
       "19  su uso                  2  \n",
       "20  a comparacion           1  \n",
       "21  a corto                 1  \n",
       "22  a estudios              1  \n",
       "23  abierto a               1  \n",
       "24  achiote es              1  \n",
       "25  actividad farmacologica 1  \n",
       "26  actualidad debe         1  \n",
       "27  al organismo            1  \n",
       "28  algo natural            1  \n",
       "29  alguien que             1  \n",
       "30  aliviar a               1  \n",
       "... ...                     ...\n",
       "235 tiene efectos           1  \n",
       "236 tiene propiedades       1  \n",
       "237 tiene que               1  \n",
       "238 tienen actividad        1  \n",
       "239 todo lo                 1  \n",
       "240 tradicional maya        1  \n",
       "241 tratado no              1  \n",
       "242 tratamiento no          1  \n",
       "243 tratamiento o           1  \n",
       "244 tratamientos naturales  1  \n",
       "245 tratar enfermedades     1  \n",
       "246 tratar es               1  \n",
       "247 un efecto               1  \n",
       "248 una planta              1  \n",
       "249 unos nativos            1  \n",
       "250 usado achiote           1  \n",
       "251 uso se                  1  \n",
       "252 uso t                   1  \n",
       "253 usos medicinales        1  \n",
       "254 util si                 1  \n",
       "255 utiles porque           1  \n",
       "256 utilidades no           1  \n",
       "257 utiliza como            1  \n",
       "258 utilizaba y             1  \n",
       "259 utilizado no            1  \n",
       "260 utilzando tes           1  \n",
       "261 vi en                   1  \n",
       "262 y funcionaba            1  \n",
       "263 y malestares            1  \n",
       "264 ya que                  1  "
      ]
     },
     "metadata": {},
     "output_type": "display_data"
    }
   ],
   "source": [
    "text <- toupper(as.character(levels(achiote$Justificacion_1)))\n",
    "text <- chartr(\"ÁÉÍÓÚ\", \"AEIOU\", text)\n",
    "text_df <- tibble(text = text)\n",
    "\n",
    "custom_stop_words <- bind_rows(stop_words,\n",
    "                               tibble(word = c(tm::stopwords(\"spanish\"), \"dolor\", \"estomago\", \"infusion\", \"colicos\"),\n",
    "                                          lexicon = \"custom\"))\n",
    "\n",
    "text_df %>% \n",
    "     unnest_tokens(ngram, text, token = \"ngrams\", n = 2) %>%\n",
    "     count(ngram, sort = TRUE)"
   ]
  },
  {
   "cell_type": "markdown",
   "metadata": {},
   "source": [
    "#### ¿Conoce usted otro nombre para el achiote?"
   ]
  },
  {
   "cell_type": "code",
   "execution_count": 83,
   "metadata": {},
   "outputs": [
    {
     "ename": "ERROR",
     "evalue": "Error in `[.default`(info, , -1): número incorreto de dimensiones\n",
     "output_type": "error",
     "traceback": [
      "Error in `[.default`(info, , -1): número incorreto de dimensiones\nTraceback:\n",
      "1. barplot(as.matrix(info[, -1]), main = \"¿Conoce usted otro nombre para el achiote?\", \n .     col = color.ramp, cex.lab = 2)",
      "2. as.matrix(info[, -1])",
      "3. info[, -1]",
      "4. `[.table`(info, , -1)",
      "5. NextMethod()"
     ]
    }
   ],
   "source": [
    "info <- table(achiote$Q5)\n",
    "xx <- barplot(as.matrix(info[,-1]),main=\"¿Conoce usted otro nombre para el achiote?\", col=color.ramp, cex.lab=2)\n",
    "info"
   ]
  },
  {
   "cell_type": "markdown",
   "metadata": {},
   "source": [
    "#### ¿Qué usos ha oido usted del achiote? ¿cuales usos le ha dado usted al achiote?"
   ]
  },
  {
   "cell_type": "code",
   "execution_count": 106,
   "metadata": {},
   "outputs": [
    {
     "data": {
      "text/html": [
       "<table>\n",
       "<caption>A tibble: 4 × 2</caption>\n",
       "<thead>\n",
       "\t<tr><th scope=col>word</th><th scope=col>n</th></tr>\n",
       "\t<tr><th scope=col>&lt;chr&gt;</th><th scope=col>&lt;int&gt;</th></tr>\n",
       "</thead>\n",
       "<tbody>\n",
       "\t<tr><td>culinario</td><td>60</td></tr>\n",
       "\t<tr><td>tinte    </td><td>41</td></tr>\n",
       "\t<tr><td>medicinal</td><td>21</td></tr>\n",
       "\t<tr><td>cosmetico</td><td>10</td></tr>\n",
       "</tbody>\n",
       "</table>\n"
      ],
      "text/latex": [
       "A tibble: 4 × 2\n",
       "\\begin{tabular}{ll}\n",
       " word & n\\\\\n",
       " <chr> & <int>\\\\\n",
       "\\hline\n",
       "\t culinario & 60\\\\\n",
       "\t tinte     & 41\\\\\n",
       "\t medicinal & 21\\\\\n",
       "\t cosmetico & 10\\\\\n",
       "\\end{tabular}\n"
      ],
      "text/markdown": [
       "\n",
       "A tibble: 4 × 2\n",
       "\n",
       "| word &lt;chr&gt; | n &lt;int&gt; |\n",
       "|---|---|\n",
       "| culinario | 60 |\n",
       "| tinte     | 41 |\n",
       "| medicinal | 21 |\n",
       "| cosmetico | 10 |\n",
       "\n"
      ],
      "text/plain": [
       "  word      n \n",
       "1 culinario 60\n",
       "2 tinte     41\n",
       "3 medicinal 21\n",
       "4 cosmetico 10"
      ]
     },
     "metadata": {},
     "output_type": "display_data"
    },
    {
     "data": {
      "image/png": "[encoded data removed]",
      "text/plain": [
       "plot without title"
      ]
     },
     "metadata": {
      "image/png": {
       "height": 420,
       "width": 420
      }
     },
     "output_type": "display_data"
    }
   ],
   "source": [
    "text <- toupper(as.character(achiote$Q6))\n",
    "text <- chartr(\"ÁÉÍÓÚ\", \"AEIOU\", text)\n",
    "text_df <- tibble(text = text)\n",
    "\n",
    "text_df <- text_df %>% \n",
    "    unnest_tokens(word, text) %>%\n",
    "    count(word, sort = TRUE)\n",
    "\n",
    "text_df %>%\n",
    "  filter(n > 1) %>%\n",
    "  mutate(word = reorder(word, n)) %>%\n",
    "  ggplot(aes(word, n)) +\n",
    "  geom_col() +\n",
    "  geom_bar(stat=\"identity\", fill = \"#AFC8F5\") +\n",
    "  labs(x = \"Usos\", y = \"Ocurrencias\") +\n",
    "  coord_flip()\n",
    "\n",
    "text_df"
   ]
  },
  {
   "cell_type": "markdown",
   "metadata": {},
   "source": [
    "#### Conoce como aplicaciones del achiote"
   ]
  },
  {
   "cell_type": "code",
   "execution_count": 81,
   "metadata": {},
   "outputs": [
    {
     "name": "stderr",
     "output_type": "stream",
     "text": [
      "Joining, by = \"word\"\n",
      "\n"
     ]
    },
    {
     "data": {
      "text/html": [
       "<table>\n",
       "<caption>A tibble: 26 × 2</caption>\n",
       "<thead>\n",
       "\t<tr><th scope=col>word</th><th scope=col>n</th></tr>\n",
       "\t<tr><th scope=col>&lt;chr&gt;</th><th scope=col>&lt;int&gt;</th></tr>\n",
       "</thead>\n",
       "<tbody>\n",
       "\t<tr><td>colorante   </td><td>78</td></tr>\n",
       "\t<tr><td>bebidas     </td><td>61</td></tr>\n",
       "\t<tr><td>comidas     </td><td>61</td></tr>\n",
       "\t<tr><td>textiles    </td><td>44</td></tr>\n",
       "\t<tr><td>tinte       </td><td>44</td></tr>\n",
       "\t<tr><td>pintalabios </td><td>16</td></tr>\n",
       "\t<tr><td>alivio      </td><td>10</td></tr>\n",
       "\t<tr><td>fiebre      </td><td> 6</td></tr>\n",
       "\t<tr><td>leche       </td><td> 5</td></tr>\n",
       "\t<tr><td>diarrea     </td><td> 4</td></tr>\n",
       "\t<tr><td>dientes     </td><td> 4</td></tr>\n",
       "\t<tr><td>dolor       </td><td> 4</td></tr>\n",
       "\t<tr><td>repelente   </td><td> 4</td></tr>\n",
       "\t<tr><td>protector   </td><td> 2</td></tr>\n",
       "\t<tr><td>alimentacion</td><td> 1</td></tr>\n",
       "\t<tr><td>diabetes    </td><td> 1</td></tr>\n",
       "\t<tr><td>gallina     </td><td> 1</td></tr>\n",
       "\t<tr><td>glucosa     </td><td> 1</td></tr>\n",
       "\t<tr><td>huevo       </td><td> 1</td></tr>\n",
       "\t<tr><td>insulina    </td><td> 1</td></tr>\n",
       "\t<tr><td>mediante    </td><td> 1</td></tr>\n",
       "\t<tr><td>ninguna     </td><td> 1</td></tr>\n",
       "\t<tr><td>sangre      </td><td> 1</td></tr>\n",
       "\t<tr><td>semillas    </td><td> 1</td></tr>\n",
       "\t<tr><td>tratar      </td><td> 1</td></tr>\n",
       "\t<tr><td>yemas       </td><td> 1</td></tr>\n",
       "</tbody>\n",
       "</table>\n"
      ],
      "text/latex": [
       "A tibble: 26 × 2\n",
       "\\begin{tabular}{ll}\n",
       " word & n\\\\\n",
       " <chr> & <int>\\\\\n",
       "\\hline\n",
       "\t colorante    & 78\\\\\n",
       "\t bebidas      & 61\\\\\n",
       "\t comidas      & 61\\\\\n",
       "\t textiles     & 44\\\\\n",
       "\t tinte        & 44\\\\\n",
       "\t pintalabios  & 16\\\\\n",
       "\t alivio       & 10\\\\\n",
       "\t fiebre       &  6\\\\\n",
       "\t leche        &  5\\\\\n",
       "\t diarrea      &  4\\\\\n",
       "\t dientes      &  4\\\\\n",
       "\t dolor        &  4\\\\\n",
       "\t repelente    &  4\\\\\n",
       "\t protector    &  2\\\\\n",
       "\t alimentacion &  1\\\\\n",
       "\t diabetes     &  1\\\\\n",
       "\t gallina      &  1\\\\\n",
       "\t glucosa      &  1\\\\\n",
       "\t huevo        &  1\\\\\n",
       "\t insulina     &  1\\\\\n",
       "\t mediante     &  1\\\\\n",
       "\t ninguna      &  1\\\\\n",
       "\t sangre       &  1\\\\\n",
       "\t semillas     &  1\\\\\n",
       "\t tratar       &  1\\\\\n",
       "\t yemas        &  1\\\\\n",
       "\\end{tabular}\n"
      ],
      "text/markdown": [
       "\n",
       "A tibble: 26 × 2\n",
       "\n",
       "| word &lt;chr&gt; | n &lt;int&gt; |\n",
       "|---|---|\n",
       "| colorante    | 78 |\n",
       "| bebidas      | 61 |\n",
       "| comidas      | 61 |\n",
       "| textiles     | 44 |\n",
       "| tinte        | 44 |\n",
       "| pintalabios  | 16 |\n",
       "| alivio       | 10 |\n",
       "| fiebre       |  6 |\n",
       "| leche        |  5 |\n",
       "| diarrea      |  4 |\n",
       "| dientes      |  4 |\n",
       "| dolor        |  4 |\n",
       "| repelente    |  4 |\n",
       "| protector    |  2 |\n",
       "| alimentacion |  1 |\n",
       "| diabetes     |  1 |\n",
       "| gallina      |  1 |\n",
       "| glucosa      |  1 |\n",
       "| huevo        |  1 |\n",
       "| insulina     |  1 |\n",
       "| mediante     |  1 |\n",
       "| ninguna      |  1 |\n",
       "| sangre       |  1 |\n",
       "| semillas     |  1 |\n",
       "| tratar       |  1 |\n",
       "| yemas        |  1 |\n",
       "\n"
      ],
      "text/plain": [
       "   word         n \n",
       "1  colorante    78\n",
       "2  bebidas      61\n",
       "3  comidas      61\n",
       "4  textiles     44\n",
       "5  tinte        44\n",
       "6  pintalabios  16\n",
       "7  alivio       10\n",
       "8  fiebre        6\n",
       "9  leche         5\n",
       "10 diarrea       4\n",
       "11 dientes       4\n",
       "12 dolor         4\n",
       "13 repelente     4\n",
       "14 protector     2\n",
       "15 alimentacion  1\n",
       "16 diabetes      1\n",
       "17 gallina       1\n",
       "18 glucosa       1\n",
       "19 huevo         1\n",
       "20 insulina      1\n",
       "21 mediante      1\n",
       "22 ninguna       1\n",
       "23 sangre        1\n",
       "24 semillas      1\n",
       "25 tratar        1\n",
       "26 yemas         1"
      ]
     },
     "metadata": {},
     "output_type": "display_data"
    },
    {
     "data": {
      "image/png": "[encoded data removed]",
      "text/plain": [
       "plot without title"
      ]
     },
     "metadata": {
      "image/png": {
       "height": 420,
       "width": 420
      }
     },
     "output_type": "display_data"
    }
   ],
   "source": [
    "text <- toupper(as.character(achiote$Q7))\n",
    "text <- chartr(\"ÁÉÍÓÚ\", \"AEIOU\", text)\n",
    "text_df <- tibble(text = text)\n",
    "\n",
    "custom_stop_words <- bind_rows(stop_words,\n",
    "                               tibble(word = c(tm::stopwords(\"spanish\"), \"quita\", \"aumenta\", \"materna\", \"flujo\", \"achiote\", \"aplicacion\", \"conozco\", \"consumo\", \"control\", \"solar\", \"mosquitos\"),\n",
    "                                          lexicon = \"custom\"))\n",
    "\n",
    "text_df <- text_df %>% \n",
    "    unnest_tokens(word, text) %>%\n",
    "    anti_join(custom_stop_words) %>%\n",
    "    count(word, sort = TRUE)\n",
    "\n",
    "text_df %>%\n",
    "  filter(n > 1) %>%\n",
    "  mutate(word = reorder(word, n)) %>%\n",
    "  ggplot(aes(word, n)) +\n",
    "  geom_col() +\n",
    "  geom_bar(stat=\"identity\", fill = \"#9299DE\") +\n",
    "  labs(x = \"Aplicaciones\", y = \"Ocurrencias\") +\n",
    "  coord_flip()\n",
    "\n",
    "text_df"
   ]
  },
  {
   "cell_type": "markdown",
   "metadata": {},
   "source": [
    "#### ¿Con qué frecuencia utiliza el achiote en cualquiera de sus presentaciones?"
   ]
  },
  {
   "cell_type": "code",
   "execution_count": 104,
   "metadata": {},
   "outputs": [
    {
     "data": {
      "text/plain": [
       "\n",
       "                                   Mensualmente           No lo utilizo \n",
       "                     34                      14                      19 \n",
       "           Semanalmente Una vez cada seis meses \n",
       "                      5                      29 "
      ]
     },
     "metadata": {},
     "output_type": "display_data"
    },
    {
     "data": {
      "image/png": "[encoded data removed]",
      "text/plain": [
       "Plot with title \"¿Con qué frecuencia utiliza el achiote en cualquiera de sus presentaciones?\""
      ]
     },
     "metadata": {
      "image/png": {
       "height": 420,
       "width": 420
      }
     },
     "output_type": "display_data"
    }
   ],
   "source": [
    "info <- table(achiote$Q8)\n",
    "xx <- barplot(info,main=\"¿Con qué frecuencia utiliza el achiote en cualquiera de sus presentaciones?\", col=color.ramp, cex.lab=2)\n",
    "info"
   ]
  },
  {
   "cell_type": "markdown",
   "metadata": {},
   "source": [
    "#### ¿Cómo obtiene usted el achiote?"
   ]
  },
  {
   "cell_type": "code",
   "execution_count": 111,
   "metadata": {},
   "outputs": [
    {
     "name": "stderr",
     "output_type": "stream",
     "text": [
      "Joining, by = \"word\"\n",
      "\n"
     ]
    },
    {
     "data": {
      "text/html": [
       "<table>\n",
       "<caption>A tibble: 11 × 2</caption>\n",
       "<thead>\n",
       "\t<tr><th scope=col>word</th><th scope=col>n</th></tr>\n",
       "\t<tr><th scope=col>&lt;chr&gt;</th><th scope=col>&lt;int&gt;</th></tr>\n",
       "</thead>\n",
       "<tbody>\n",
       "\t<tr><td>mercado     </td><td>45</td></tr>\n",
       "\t<tr><td>supermercado</td><td>20</td></tr>\n",
       "\t<tr><td>tienda      </td><td>16</td></tr>\n",
       "\t<tr><td>achiote     </td><td>11</td></tr>\n",
       "\t<tr><td>obtengo     </td><td>11</td></tr>\n",
       "\t<tr><td>compro      </td><td> 1</td></tr>\n",
       "\t<tr><td>distribuidor</td><td> 1</td></tr>\n",
       "\t<tr><td>personal    </td><td> 1</td></tr>\n",
       "\t<tr><td>producciã   </td><td> 1</td></tr>\n",
       "\t<tr><td>propia      </td><td> 1</td></tr>\n",
       "\t<tr><td>tamales     </td><td> 1</td></tr>\n",
       "</tbody>\n",
       "</table>\n"
      ],
      "text/latex": [
       "A tibble: 11 × 2\n",
       "\\begin{tabular}{ll}\n",
       " word & n\\\\\n",
       " <chr> & <int>\\\\\n",
       "\\hline\n",
       "\t mercado      & 45\\\\\n",
       "\t supermercado & 20\\\\\n",
       "\t tienda       & 16\\\\\n",
       "\t achiote      & 11\\\\\n",
       "\t obtengo      & 11\\\\\n",
       "\t compro       &  1\\\\\n",
       "\t distribuidor &  1\\\\\n",
       "\t personal     &  1\\\\\n",
       "\t producciã    &  1\\\\\n",
       "\t propia       &  1\\\\\n",
       "\t tamales      &  1\\\\\n",
       "\\end{tabular}\n"
      ],
      "text/markdown": [
       "\n",
       "A tibble: 11 × 2\n",
       "\n",
       "| word &lt;chr&gt; | n &lt;int&gt; |\n",
       "|---|---|\n",
       "| mercado      | 45 |\n",
       "| supermercado | 20 |\n",
       "| tienda       | 16 |\n",
       "| achiote      | 11 |\n",
       "| obtengo      | 11 |\n",
       "| compro       |  1 |\n",
       "| distribuidor |  1 |\n",
       "| personal     |  1 |\n",
       "| producciã    |  1 |\n",
       "| propia       |  1 |\n",
       "| tamales      |  1 |\n",
       "\n"
      ],
      "text/plain": [
       "   word         n \n",
       "1  mercado      45\n",
       "2  supermercado 20\n",
       "3  tienda       16\n",
       "4  achiote      11\n",
       "5  obtengo      11\n",
       "6  compro        1\n",
       "7  distribuidor  1\n",
       "8  personal      1\n",
       "9  producciã     1\n",
       "10 propia        1\n",
       "11 tamales       1"
      ]
     },
     "metadata": {},
     "output_type": "display_data"
    },
    {
     "data": {
      "image/png": "[encoded data removed]",
      "text/plain": [
       "plot without title"
      ]
     },
     "metadata": {
      "image/png": {
       "height": 420,
       "width": 420
      }
     },
     "output_type": "display_data"
    }
   ],
   "source": [
    "text <- toupper(as.character(achiote$Q9))\n",
    "text <- chartr(\"ÁÉÍÓÚ\", \"AEIOU\", text)\n",
    "text_df <- tibble(text = text)\n",
    "\n",
    "custom_stop_words <- bind_rows(stop_words,\n",
    "                               tibble(word = c(tm::stopwords(\"spanish\"), \"conveniencia\"),\n",
    "                                          lexicon = \"custom\"))\n",
    "\n",
    "text_df <- text_df %>% \n",
    "    unnest_tokens(word, text) %>%\n",
    "    anti_join(custom_stop_words) %>%\n",
    "    count(word, sort = TRUE)\n",
    "\n",
    "text_df %>%\n",
    "  filter(n > 11) %>%\n",
    "  mutate(word = reorder(word, n)) %>%\n",
    "  ggplot(aes(word, n)) +\n",
    "  geom_col() +\n",
    "  geom_bar(stat=\"identity\", fill = \"#9299DE\") +\n",
    "  labs(x = \"Lugar obtencion\", y = \"Ocurrencias\") +\n",
    "  coord_flip()\n",
    "\n",
    "text_df"
   ]
  },
  {
   "cell_type": "markdown",
   "metadata": {},
   "source": [
    "#### tiempos de finalización de la encuesta"
   ]
  },
  {
   "cell_type": "code",
   "execution_count": null,
   "metadata": {},
   "outputs": [],
   "source": [
    "#encuesta más rápida\n",
    "min(achiote$tiempo_terminar)\n",
    "\n",
    "#promedio tiempo de finalización\n",
    "mean(achiote$tiempo_terminar)\n",
    "\n",
    "#Encuesta más tardada\n",
    "max(achiote$tiempo_terminar)"
   ]
  }
 ],
 "metadata": {
  "celltoolbar": "Raw Cell Format",
  "kernelspec": {
   "display_name": "R",
   "language": "R",
   "name": "ir"
  },
  "language_info": {
   "codemirror_mode": "r",
   "file_extension": ".r",
   "mimetype": "text/x-r-source",
   "name": "R",
   "pygments_lexer": "r",
   "version": "4.0.2"
  }
 },
 "nbformat": 4,
 "nbformat_minor": 4
}
