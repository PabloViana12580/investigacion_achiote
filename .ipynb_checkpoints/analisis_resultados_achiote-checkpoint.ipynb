{
 "cells": [
  {
   "cell_type": "markdown",
   "metadata": {},
   "source": [
    "# Analisis de resultados encuesta conocimiento y actitudes ante el uso del achiote"
   ]
  },
  {
   "cell_type": "markdown",
   "metadata": {},
   "source": [
    "#### Leemos los archivo Csv"
   ]
  },
  {
   "cell_type": "code",
   "execution_count": 1,
   "metadata": {},
   "outputs": [],
   "source": [
    "achiote1 <- read.csv(\"first_chunk.csv\", header = FALSE)\n",
    "achiote2 <- read.csv(\"second_chunk.csv\", header = FALSE)"
   ]
  },
  {
   "cell_type": "markdown",
   "metadata": {},
   "source": [
    "### Hacemos limpieza para preparar los datos"
   ]
  },
  {
   "cell_type": "markdown",
   "metadata": {},
   "source": [
    "#### Borramos columnas innecesarias"
   ]
  },
  {
   "cell_type": "code",
   "execution_count": 2,
   "metadata": {},
   "outputs": [],
   "source": [
    "a1_clean <- achiote1[c(-1, -2),-c(1,68)]\n",
    "a2_clean <- achiote2[c(-1, -2),-c(1,68)]"
   ]
  },
  {
   "cell_type": "markdown",
   "metadata": {},
   "source": [
    "#### Debido a las preguntas con múltiples respuestas, debemos combinar las columnas pertinentes"
   ]
  },
  {
   "cell_type": "code",
   "execution_count": 3,
   "metadata": {},
   "outputs": [],
   "source": [
    "a1_clean$V18 <- paste(a1_clean$V18, a1_clean$V19, a1_clean$V20, a1_clean$V21, a1_clean$V22, a1_clean$V23, sep = \" \")\n",
    "a1_clean$V24 <- paste(a1_clean$V24, a1_clean$V25, a1_clean$V26, a1_clean$V27, a1_clean$V28, a1_clean$V29, a1_clean$V30, a1_clean$V31, a1_clean$V32, a1_clean$V33, a1_clean$V34, sep = \" \")\n",
    "a1_clean$V36 <- paste(a1_clean$V36, a1_clean$V37, a1_clean$V38, a1_clean$V39, a1_clean$V40, a1_clean$V41, a1_clean$V42, sep = \" \")\n",
    "a1_clean$V47 <- paste(a1_clean$V47, a1_clean$V48, a1_clean$V49, a1_clean$V50, a1_clean$V51, a1_clean$V52, a1_clean$V53, a1_clean$V54, a1_clean$V55, sep = \" \")\n",
    "a1_clean$V58 <- paste(a1_clean$V58, a1_clean$V59, a1_clean$V60, a1_clean$V61, a1_clean$V62, a1_clean$V63, a1_clean$V64, a1_clean$V65, sep = \" \")\n",
    "\n",
    "a2_clean$V18 <- paste(a2_clean$V18, a2_clean$V19, a2_clean$V20, a2_clean$V21, a2_clean$V22, a2_clean$V23, sep = \" \")\n",
    "a2_clean$V24 <- paste(a2_clean$V24, a2_clean$V25, a2_clean$V26, a2_clean$V27, a2_clean$V28, a2_clean$V29, a2_clean$V30, a2_clean$V31, a2_clean$V32, a2_clean$V33, a2_clean$V34, sep = \" \")\n",
    "a2_clean$V36 <- paste(a2_clean$V36, a2_clean$V37, a2_clean$V38, a2_clean$V39, a2_clean$V40, a2_clean$V41, a2_clean$V42, sep = \" \")\n",
    "a2_clean$V47 <- paste(a2_clean$V47, a2_clean$V48, a2_clean$V49, a2_clean$V50, a2_clean$V51, a2_clean$V52, a2_clean$V53, a2_clean$V54, a2_clean$V55, sep = \" \")\n",
    "a2_clean$V58 <- paste(a2_clean$V58, a2_clean$V59, a2_clean$V60, a2_clean$V61, a2_clean$V62, a2_clean$V63, a2_clean$V64, a2_clean$V65, sep = \" \")"
   ]
  },
  {
   "cell_type": "markdown",
   "metadata": {},
   "source": [
    "#### Eliminamos columnas repetidas"
   ]
  },
  {
   "cell_type": "code",
   "execution_count": 4,
   "metadata": {},
   "outputs": [],
   "source": [
    "a1_clean <- subset(a1_clean, select=-c(V19,V20,V21,V22,V23,V25,V26,V27,V28,V29,V30,V31,V32,V33,V34,V37,V38,V39,V40,V41,V42,V48,V49,V50,V51,V52,V53,V54,V55,V59,V60,V61,V62,V63,V64,V65))\n",
    "a2_clean <- subset(a2_clean, select=-c(V19,V20,V21,V22,V23,V25,V26,V27,V28,V29,V30,V31,V32,V33,V34,V37,V38,V39,V40,V41,V42,V48,V49,V50,V51,V52,V53,V54,V55,V59,V60,V61,V62,V63,V64,V65))\n"
   ]
  },
  {
   "cell_type": "markdown",
   "metadata": {},
   "source": [
    "#### Cambiamos titulos de los data sets"
   ]
  },
  {
   "cell_type": "code",
   "execution_count": 5,
   "metadata": {},
   "outputs": [],
   "source": [
    "colnames(a1_clean) <- c(\"Id\",\n",
    "                        \"Ip\",\n",
    "                        \"Acceso\",\n",
    "                        \"Fecha_inicio\",\n",
    "                        \"Fecha_finalizacion\",\n",
    "                        \"Procedencia\",\n",
    "                        \"Municipio\",\n",
    "                        \"Edad\",\n",
    "                        \"Sexo\",\n",
    "                        \"Q1\",\n",
    "                        \"Q2\",\n",
    "                        \"Q3\",\n",
    "                        \"Q4\",\n",
    "                        \"Justificacion_1\",\n",
    "                        \"He leido\",\n",
    "                        \"Q5\",\n",
    "                        \"Q6\",\n",
    "                        \"Q7\",\n",
    "                        \"Q8\",\n",
    "                        \"Q9\",\n",
    "                        \"Q10\",\n",
    "                        \"Q11\",\n",
    "                        \"Q12\",\n",
    "                        \"Q13\",\n",
    "                        \"Q14\",\n",
    "                        \"Q15\",\n",
    "                        \"Justificacion_2\",\n",
    "                        \"Q16\",\n",
    "                        \"Q17\",\n",
    "                        \"Justificacion_3\")\n",
    "colnames(a2_clean) <- c(\"Id\",\n",
    "                        \"Ip\",\n",
    "                        \"Acceso\",\n",
    "                        \"Fecha_inicio\",\n",
    "                        \"Fecha_finalizacion\",\n",
    "                        \"Procedencia\",\n",
    "                        \"Municipio\",\n",
    "                        \"Edad\",\n",
    "                        \"Sexo\",\n",
    "                        \"Q1\",\n",
    "                        \"Q2\",\n",
    "                        \"Q3\",\n",
    "                        \"Q4\",\n",
    "                        \"Justificacion_1\",\n",
    "                        \"He leido\",\n",
    "                        \"Q5\",\n",
    "                        \"Q6\",\n",
    "                        \"Q7\",\n",
    "                        \"Q8\",\n",
    "                        \"Q9\",\n",
    "                        \"Q10\",\n",
    "                        \"Q11\",\n",
    "                        \"Q12\",\n",
    "                        \"Q13\",\n",
    "                        \"Q14\",\n",
    "                        \"Q15\",\n",
    "                        \"Justificacion_2\",\n",
    "                        \"Q16\",\n",
    "                        \"Q17\",\n",
    "                        \"Justificacion_3\")"
   ]
  },
  {
   "cell_type": "markdown",
   "metadata": {},
   "source": [
    "#### Unimos nuestros datasets separados en uno solo"
   ]
  },
  {
   "cell_type": "code",
   "execution_count": 6,
   "metadata": {},
   "outputs": [],
   "source": [
    "achiote <- rbind(a1_clean, a2_clean)"
   ]
  },
  {
   "cell_type": "markdown",
   "metadata": {},
   "source": [
    "### Procedemos a eliminar caracteres bizarros de los textos de la encuesta"
   ]
  },
  {
   "cell_type": "markdown",
   "metadata": {},
   "source": [
    "#### Seteamos el encoding a UTF-8 para aceptar tildes y demás caracteres"
   ]
  },
  {
   "cell_type": "code",
   "execution_count": 7,
   "metadata": {},
   "outputs": [],
   "source": [
    "Encoding(achiote$Edad) <- \"UTF-8\"\n",
    "Encoding(achiote$Q1) <- \"UTF-8\"\n",
    "Encoding(achiote$Q6) <- \"UTF-8\"\n",
    "Encoding(achiote$Q7) <- \"UTF-8\"\n",
    "Encoding(achiote$Q11) <- \"UTF-8\"\n",
    "Encoding(achiote$Q12) <- \"UTF-8\"\n",
    "Encoding(achiote$Q13) <- \"UTF-8\"\n",
    "Encoding(achiote$Q14) <- \"UTF-8\"\n",
    "Encoding(achiote$Q16) <- \"UTF-8\"\n",
    "Encoding(achiote$Justificacion_1) <- \"UTF-8\"\n",
    "Encoding(achiote$Justificacion_2) <- \"UTF-8\"\n",
    "Encoding(achiote$Justificacion_3) <- \"UTF-8\""
   ]
  },
  {
   "cell_type": "markdown",
   "metadata": {},
   "source": [
    "#### Eliminamos palabras que hacen ruido"
   ]
  },
  {
   "cell_type": "code",
   "execution_count": 8,
   "metadata": {},
   "outputs": [],
   "source": [
    "achiote$Q1 <- gsub(\"Si, ¿cuál? ¿cómo?:\", \"\", achiote$Q1, fixed=TRUE)\n",
    "achiote$Q5 <- gsub(\"Si, especifique:\", \"\", achiote$Q5, fixed=TRUE)\n",
    "achiote$Q7 <- gsub(\"Otro::\", \"\", achiote$Q7, fixed=TRUE)\n",
    "achiote$Q12 <- gsub(\"Conozco otra/otras, ¿cuál/cuáles?:\", \"\", achiote$Q12, fixed=TRUE)\n",
    "achiote$Q13 <- gsub(\"Si, ¿cuál? ¿cómo?:\", \"\", achiote$Q13, fixed=TRUE)"
   ]
  },
  {
   "cell_type": "markdown",
   "metadata": {},
   "source": [
    "### Revisamos el producto final de la limpieza"
   ]
  },
  {
   "cell_type": "code",
   "execution_count": 9,
   "metadata": {},
   "outputs": [
    {
     "data": {
      "text/html": [
       "<table>\n",
       "<caption>A data.frame: 6 × 30</caption>\n",
       "<thead>\n",
       "\t<tr><th></th><th scope=col>Id</th><th scope=col>Ip</th><th scope=col>Acceso</th><th scope=col>Fecha_inicio</th><th scope=col>Fecha_finalizacion</th><th scope=col>Procedencia</th><th scope=col>Municipio</th><th scope=col>Edad</th><th scope=col>Sexo</th><th scope=col>Q1</th><th scope=col>...</th><th scope=col>Q10</th><th scope=col>Q11</th><th scope=col>Q12</th><th scope=col>Q13</th><th scope=col>Q14</th><th scope=col>Q15</th><th scope=col>Justificacion_2</th><th scope=col>Q16</th><th scope=col>Q17</th><th scope=col>Justificacion_3</th></tr>\n",
       "\t<tr><th></th><th scope=col>&lt;chr&gt;</th><th scope=col>&lt;chr&gt;</th><th scope=col>&lt;chr&gt;</th><th scope=col>&lt;chr&gt;</th><th scope=col>&lt;chr&gt;</th><th scope=col>&lt;chr&gt;</th><th scope=col>&lt;chr&gt;</th><th scope=col>&lt;chr&gt;</th><th scope=col>&lt;chr&gt;</th><th scope=col>&lt;chr&gt;</th><th scope=col>...</th><th scope=col>&lt;chr&gt;</th><th scope=col>&lt;chr&gt;</th><th scope=col>&lt;chr&gt;</th><th scope=col>&lt;chr&gt;</th><th scope=col>&lt;chr&gt;</th><th scope=col>&lt;chr&gt;</th><th scope=col>&lt;chr&gt;</th><th scope=col>&lt;chr&gt;</th><th scope=col>&lt;chr&gt;</th><th scope=col>&lt;chr&gt;</th></tr>\n",
       "</thead>\n",
       "<tbody>\n",
       "\t<tr><th scope=row>3</th><td>1</td><td>190.148.209.77 </td><td>Public Access</td><td>9/18/2020 11:01</td><td>9/18/2020 11:05</td><td>Casco urbano</td><td>Guatemala          </td><td>15-35 años</td><td>Masculino</td><td>Manzanilla (infusión)</td><td>...</td><td>Si</td><td>Raíz    </td><td>Remolacha</td><td>No     </td><td>Infusión o té   Machacada En jugo    </td><td>4</td><td>Sé que tiene propiedades curativas importantes</td><td>Aplicación local  Aplicación en baños Aplicación nasal   En cápsulas </td><td>5</td><td>Tiene muchas propiedades</td></tr>\n",
       "\t<tr><th scope=row>4</th><td>2</td><td>190.106.204.56 </td><td>Public Access</td><td>9/18/2020 11:22</td><td>9/18/2020 11:25</td><td>Casco urbano</td><td>Villa Canales      </td><td>15-35 años</td><td>Masculino</td><td>No                   </td><td>...</td><td>No</td><td>Semillas</td><td>Remolacha</td><td>Azafrán</td><td>      Molida                         </td><td>5</td><td>No lo he utilizado                            </td><td>     En infusión                                                     </td><td>1</td><td>No lo he utilizado      </td></tr>\n",
       "\t<tr><th scope=row>5</th><td>3</td><td>190.148.44.40  </td><td>Public Access</td><td>9/18/2020 11:27</td><td>9/18/2020 11:28</td><td>Casco urbano</td><td>Guatemala          </td><td>15-35 años</td><td>Masculino</td><td>No                   </td><td>...</td><td>  </td><td>        </td><td>         </td><td>       </td><td>                                     </td><td> </td><td>                                              </td><td>                                                                     </td><td> </td><td>                        </td></tr>\n",
       "\t<tr><th scope=row>6</th><td>4</td><td>181.209.150.186</td><td>Public Access</td><td>9/18/2020 11:27</td><td>9/18/2020 11:28</td><td>Casco urbano</td><td>Guatemala          </td><td>15-35 años</td><td>Femenino </td><td>No                   </td><td>...</td><td>  </td><td>        </td><td>         </td><td>       </td><td>                                     </td><td> </td><td>                                              </td><td>                                                                     </td><td> </td><td>                        </td></tr>\n",
       "\t<tr><th scope=row>7</th><td>5</td><td>190.56.74.149  </td><td>Public Access</td><td>9/18/2020 11:33</td><td>9/18/2020 11:38</td><td>Casco urbano</td><td>Guatemala          </td><td>15-35 años</td><td>Masculino</td><td>No                   </td><td>...</td><td>  </td><td>        </td><td>         </td><td>       </td><td>                                     </td><td> </td><td>                                              </td><td>                                                                     </td><td> </td><td>                        </td></tr>\n",
       "\t<tr><th scope=row>8</th><td>6</td><td>190.106.221.104</td><td>Public Access</td><td>9/18/2020 11:16</td><td>9/18/2020 11:41</td><td>Casco urbano</td><td>Ciudad de Guatemala</td><td>15-35 años</td><td>Masculino</td><td>Té de manzano        </td><td>...</td><td>  </td><td>        </td><td>         </td><td>       </td><td>                                     </td><td> </td><td>                                              </td><td>                                                                     </td><td> </td><td>                        </td></tr>\n",
       "</tbody>\n",
       "</table>\n"
      ],
      "text/latex": [
       "A data.frame: 6 × 30\n",
       "\\begin{tabular}{r|lllllllllllllllllllll}\n",
       "  & Id & Ip & Acceso & Fecha\\_inicio & Fecha\\_finalizacion & Procedencia & Municipio & Edad & Sexo & Q1 & ... & Q10 & Q11 & Q12 & Q13 & Q14 & Q15 & Justificacion\\_2 & Q16 & Q17 & Justificacion\\_3\\\\\n",
       "  & <chr> & <chr> & <chr> & <chr> & <chr> & <chr> & <chr> & <chr> & <chr> & <chr> & ... & <chr> & <chr> & <chr> & <chr> & <chr> & <chr> & <chr> & <chr> & <chr> & <chr>\\\\\n",
       "\\hline\n",
       "\t3 & 1 & 190.148.209.77  & Public Access & 9/18/2020 11:01 & 9/18/2020 11:05 & Casco urbano & Guatemala           & 15-35 años & Masculino & Manzanilla (infusión) & ... & Si & Raíz     & Remolacha & No      & Infusión o té   Machacada En jugo     & 4 & Sé que tiene propiedades curativas importantes & Aplicación local  Aplicación en baños Aplicación nasal   En cápsulas  & 5 & Tiene muchas propiedades\\\\\n",
       "\t4 & 2 & 190.106.204.56  & Public Access & 9/18/2020 11:22 & 9/18/2020 11:25 & Casco urbano & Villa Canales       & 15-35 años & Masculino & No                    & ... & No & Semillas & Remolacha & Azafrán &       Molida                          & 5 & No lo he utilizado                             &      En infusión                                                      & 1 & No lo he utilizado      \\\\\n",
       "\t5 & 3 & 190.148.44.40   & Public Access & 9/18/2020 11:27 & 9/18/2020 11:28 & Casco urbano & Guatemala           & 15-35 años & Masculino & No                    & ... &    &          &           &         &                                       &   &                                                &                                                                       &   &                         \\\\\n",
       "\t6 & 4 & 181.209.150.186 & Public Access & 9/18/2020 11:27 & 9/18/2020 11:28 & Casco urbano & Guatemala           & 15-35 años & Femenino  & No                    & ... &    &          &           &         &                                       &   &                                                &                                                                       &   &                         \\\\\n",
       "\t7 & 5 & 190.56.74.149   & Public Access & 9/18/2020 11:33 & 9/18/2020 11:38 & Casco urbano & Guatemala           & 15-35 años & Masculino & No                    & ... &    &          &           &         &                                       &   &                                                &                                                                       &   &                         \\\\\n",
       "\t8 & 6 & 190.106.221.104 & Public Access & 9/18/2020 11:16 & 9/18/2020 11:41 & Casco urbano & Ciudad de Guatemala & 15-35 años & Masculino & Té de manzano         & ... &    &          &           &         &                                       &   &                                                &                                                                       &   &                         \\\\\n",
       "\\end{tabular}\n"
      ],
      "text/markdown": [
       "\n",
       "A data.frame: 6 × 30\n",
       "\n",
       "| <!--/--> | Id &lt;chr&gt; | Ip &lt;chr&gt; | Acceso &lt;chr&gt; | Fecha_inicio &lt;chr&gt; | Fecha_finalizacion &lt;chr&gt; | Procedencia &lt;chr&gt; | Municipio &lt;chr&gt; | Edad &lt;chr&gt; | Sexo &lt;chr&gt; | Q1 &lt;chr&gt; | ... ... | Q10 &lt;chr&gt; | Q11 &lt;chr&gt; | Q12 &lt;chr&gt; | Q13 &lt;chr&gt; | Q14 &lt;chr&gt; | Q15 &lt;chr&gt; | Justificacion_2 &lt;chr&gt; | Q16 &lt;chr&gt; | Q17 &lt;chr&gt; | Justificacion_3 &lt;chr&gt; |\n",
       "|---|---|---|---|---|---|---|---|---|---|---|---|---|---|---|---|---|---|---|---|---|---|\n",
       "| 3 | 1 | 190.148.209.77  | Public Access | 9/18/2020 11:01 | 9/18/2020 11:05 | Casco urbano | Guatemala           | 15-35 años | Masculino | Manzanilla (infusión) | ... | Si | Raíz     | Remolacha | No      | Infusión o té   Machacada En jugo     | 4 | Sé que tiene propiedades curativas importantes | Aplicación local  Aplicación en baños Aplicación nasal   En cápsulas  | 5 | Tiene muchas propiedades |\n",
       "| 4 | 2 | 190.106.204.56  | Public Access | 9/18/2020 11:22 | 9/18/2020 11:25 | Casco urbano | Villa Canales       | 15-35 años | Masculino | No                    | ... | No | Semillas | Remolacha | Azafrán |       Molida                          | 5 | No lo he utilizado                             |      En infusión                                                      | 1 | No lo he utilizado       |\n",
       "| 5 | 3 | 190.148.44.40   | Public Access | 9/18/2020 11:27 | 9/18/2020 11:28 | Casco urbano | Guatemala           | 15-35 años | Masculino | No                    | ... | <!----> | <!----> | <!----> | <!----> | <!----> | <!----> | <!----> | <!----> | <!----> | <!----> |\n",
       "| 6 | 4 | 181.209.150.186 | Public Access | 9/18/2020 11:27 | 9/18/2020 11:28 | Casco urbano | Guatemala           | 15-35 años | Femenino  | No                    | ... | <!----> | <!----> | <!----> | <!----> | <!----> | <!----> | <!----> | <!----> | <!----> | <!----> |\n",
       "| 7 | 5 | 190.56.74.149   | Public Access | 9/18/2020 11:33 | 9/18/2020 11:38 | Casco urbano | Guatemala           | 15-35 años | Masculino | No                    | ... | <!----> | <!----> | <!----> | <!----> | <!----> | <!----> | <!----> | <!----> | <!----> | <!----> |\n",
       "| 8 | 6 | 190.106.221.104 | Public Access | 9/18/2020 11:16 | 9/18/2020 11:41 | Casco urbano | Ciudad de Guatemala | 15-35 años | Masculino | Té de manzano         | ... | <!----> | <!----> | <!----> | <!----> | <!----> | <!----> | <!----> | <!----> | <!----> | <!----> |\n",
       "\n"
      ],
      "text/plain": [
       "  Id Ip              Acceso        Fecha_inicio    Fecha_finalizacion\n",
       "3 1  190.148.209.77  Public Access 9/18/2020 11:01 9/18/2020 11:05   \n",
       "4 2  190.106.204.56  Public Access 9/18/2020 11:22 9/18/2020 11:25   \n",
       "5 3  190.148.44.40   Public Access 9/18/2020 11:27 9/18/2020 11:28   \n",
       "6 4  181.209.150.186 Public Access 9/18/2020 11:27 9/18/2020 11:28   \n",
       "7 5  190.56.74.149   Public Access 9/18/2020 11:33 9/18/2020 11:38   \n",
       "8 6  190.106.221.104 Public Access 9/18/2020 11:16 9/18/2020 11:41   \n",
       "  Procedencia  Municipio           Edad       Sexo      Q1                   \n",
       "3 Casco urbano Guatemala           15-35 años Masculino Manzanilla (infusión)\n",
       "4 Casco urbano Villa Canales       15-35 años Masculino No                   \n",
       "5 Casco urbano Guatemala           15-35 años Masculino No                   \n",
       "6 Casco urbano Guatemala           15-35 años Femenino  No                   \n",
       "7 Casco urbano Guatemala           15-35 años Masculino No                   \n",
       "8 Casco urbano Ciudad de Guatemala 15-35 años Masculino Té de manzano        \n",
       "  ... Q10 Q11      Q12       Q13     Q14                                   Q15\n",
       "3 ... Si  Raíz     Remolacha No      Infusión o té   Machacada En jugo     4  \n",
       "4 ... No  Semillas Remolacha Azafrán       Molida                          5  \n",
       "5 ...                                                                         \n",
       "6 ...                                                                         \n",
       "7 ...                                                                         \n",
       "8 ...                                                                         \n",
       "  Justificacion_2                               \n",
       "3 Sé que tiene propiedades curativas importantes\n",
       "4 No lo he utilizado                            \n",
       "5                                               \n",
       "6                                               \n",
       "7                                               \n",
       "8                                               \n",
       "  Q16                                                                   Q17\n",
       "3 Aplicación local  Aplicación en baños Aplicación nasal   En cápsulas  5  \n",
       "4      En infusión                                                      1  \n",
       "5                                                                          \n",
       "6                                                                          \n",
       "7                                                                          \n",
       "8                                                                          \n",
       "  Justificacion_3         \n",
       "3 Tiene muchas propiedades\n",
       "4 No lo he utilizado      \n",
       "5                         \n",
       "6                         \n",
       "7                         \n",
       "8                         "
      ]
     },
     "metadata": {},
     "output_type": "display_data"
    },
    {
     "data": {
      "text/html": [
       "<table>\n",
       "<caption>A data.frame: 6 × 30</caption>\n",
       "<thead>\n",
       "\t<tr><th></th><th scope=col>Id</th><th scope=col>Ip</th><th scope=col>Acceso</th><th scope=col>Fecha_inicio</th><th scope=col>Fecha_finalizacion</th><th scope=col>Procedencia</th><th scope=col>Municipio</th><th scope=col>Edad</th><th scope=col>Sexo</th><th scope=col>Q1</th><th scope=col>...</th><th scope=col>Q10</th><th scope=col>Q11</th><th scope=col>Q12</th><th scope=col>Q13</th><th scope=col>Q14</th><th scope=col>Q15</th><th scope=col>Justificacion_2</th><th scope=col>Q16</th><th scope=col>Q17</th><th scope=col>Justificacion_3</th></tr>\n",
       "\t<tr><th></th><th scope=col>&lt;chr&gt;</th><th scope=col>&lt;chr&gt;</th><th scope=col>&lt;chr&gt;</th><th scope=col>&lt;chr&gt;</th><th scope=col>&lt;chr&gt;</th><th scope=col>&lt;chr&gt;</th><th scope=col>&lt;chr&gt;</th><th scope=col>&lt;chr&gt;</th><th scope=col>&lt;chr&gt;</th><th scope=col>&lt;chr&gt;</th><th scope=col>...</th><th scope=col>&lt;chr&gt;</th><th scope=col>&lt;chr&gt;</th><th scope=col>&lt;chr&gt;</th><th scope=col>&lt;chr&gt;</th><th scope=col>&lt;chr&gt;</th><th scope=col>&lt;chr&gt;</th><th scope=col>&lt;chr&gt;</th><th scope=col>&lt;chr&gt;</th><th scope=col>&lt;chr&gt;</th><th scope=col>&lt;chr&gt;</th></tr>\n",
       "</thead>\n",
       "<tbody>\n",
       "\t<tr><th scope=row>291</th><td>95 </td><td>181.174.106.148</td><td>Public Access</td><td>9/24/2020 11:39</td><td>9/24/2020 11:45</td><td>Casco urbano</td><td>Villa Nueva     </td><td>15-35 años</td><td>Masculino</td><td>No                                                                                                                                                                                                                       </td><td>...</td><td>No</td><td>Raíz    </td><td>Remolacha</td><td>No                                                                       </td><td>       No conozco ninguna preparación       </td><td>5</td><td>Sería una buena alternativa para la reducción del uso de fármacos</td><td>Aplicación local     En infusión En cápsulas             </td><td>4</td><td>Puede que en algunos casos no reemplace a un fármaco convencional</td></tr>\n",
       "\t<tr><th scope=row>301</th><td>96 </td><td>190.148.53.147 </td><td>Public Access</td><td>9/24/2020 11:45</td><td>9/24/2020 11:46</td><td>Casco urbano</td><td>Jutiapa         </td><td>15-35 años</td><td>Femenino </td><td>                                                                                                                                                                                                                         </td><td>...</td><td>  </td><td>        </td><td>         </td><td>                                                                         </td><td>                                            </td><td> </td><td>                                                                 </td><td>                                                         </td><td> </td><td>                                                                 </td></tr>\n",
       "\t<tr><th scope=row>311</th><td>97 </td><td>190.148.52.220 </td><td>Public Access</td><td>9/24/2020 11:50</td><td>9/24/2020 11:54</td><td>Casco urbano</td><td>Amatitlan       </td><td>15-35 años</td><td>Femenino </td><td>Jengibre, alo verá.                                                                                                                                                                                                      </td><td>...</td><td>Si</td><td>Semillas</td><td>Remolacha</td><td>Achiote                                                                  </td><td>       No conozco ninguna preparación       </td><td>5</td><td>Seria bueno conocer acerca de sus beneficios                     </td><td>     En infusión En cápsulas                             </td><td>5</td><td>Por ser una medicina natural considero que son bastante efectivos</td></tr>\n",
       "\t<tr><th scope=row>321</th><td>98 </td><td>181.209.195.80 </td><td>Public Access</td><td>9/24/2020 12:06</td><td>9/24/2020 12:08</td><td>Casco urbano</td><td>Mixco           </td><td>15-35 años</td><td>Femenino </td><td>No                                                                                                                                                                                                                       </td><td>...</td><td>  </td><td>        </td><td>         </td><td>                                                                         </td><td>                                            </td><td> </td><td>                                                                 </td><td>                                                         </td><td> </td><td>                                                                 </td></tr>\n",
       "\t<tr><th scope=row>331</th><td>99 </td><td>190.148.209.11 </td><td>Public Access</td><td>9/24/2020 12:09</td><td>9/24/2020 12:13</td><td>Casco urbano</td><td>Ciudad Guatemala</td><td>15-35 años</td><td>Masculino</td><td>Infusiones de tilo, manzanilla, eucalipto                                                                                                                                                                                </td><td>...</td><td>  </td><td>        </td><td>         </td><td>                                                                         </td><td>                                            </td><td> </td><td>                                                                 </td><td>                                                         </td><td> </td><td>                                                                 </td></tr>\n",
       "\t<tr><th scope=row>341</th><td>100</td><td>190.148.48.109 </td><td>Public Access</td><td>9/24/2020 12:14</td><td>9/24/2020 12:19</td><td>Casco urbano</td><td>Guatemala       </td><td>15-35 años</td><td>Femenino </td><td>Eucalipto = \"nebulizador\", hoja de limón (dolor de estómago y de garganta así como repelente de mosquitos), jengibre (dolor de garganta, irritación e inflamación), cúrcuma (blanqueamiento dental y desinflamante), etc.</td><td>...</td><td>Si</td><td>Semillas</td><td>Azafrán  </td><td>Remolacha para ensaladas y enchiladas. Azafrán para \"colorear\" la paella.</td><td>Infusión o té Hervida Frotada   Masticada   </td><td>5</td><td>Estoy procurando practicar la medicina tradicional y natural.    </td><td>Aplicación local Lavados  Aplicación nasal  En infusión  </td><td>4</td><td>No uso el achiote, pero he escuchado comentarios favorables.     </td></tr>\n",
       "</tbody>\n",
       "</table>\n"
      ],
      "text/latex": [
       "A data.frame: 6 × 30\n",
       "\\begin{tabular}{r|lllllllllllllllllllll}\n",
       "  & Id & Ip & Acceso & Fecha\\_inicio & Fecha\\_finalizacion & Procedencia & Municipio & Edad & Sexo & Q1 & ... & Q10 & Q11 & Q12 & Q13 & Q14 & Q15 & Justificacion\\_2 & Q16 & Q17 & Justificacion\\_3\\\\\n",
       "  & <chr> & <chr> & <chr> & <chr> & <chr> & <chr> & <chr> & <chr> & <chr> & <chr> & ... & <chr> & <chr> & <chr> & <chr> & <chr> & <chr> & <chr> & <chr> & <chr> & <chr>\\\\\n",
       "\\hline\n",
       "\t291 & 95  & 181.174.106.148 & Public Access & 9/24/2020 11:39 & 9/24/2020 11:45 & Casco urbano & Villa Nueva      & 15-35 años & Masculino & No                                                                                                                                                                                                                        & ... & No & Raíz     & Remolacha & No                                                                        &        No conozco ninguna preparación        & 5 & Sería una buena alternativa para la reducción del uso de fármacos & Aplicación local     En infusión En cápsulas              & 4 & Puede que en algunos casos no reemplace a un fármaco convencional\\\\\n",
       "\t301 & 96  & 190.148.53.147  & Public Access & 9/24/2020 11:45 & 9/24/2020 11:46 & Casco urbano & Jutiapa          & 15-35 años & Femenino  &                                                                                                                                                                                                                           & ... &    &          &           &                                                                           &                                              &   &                                                                   &                                                           &   &                                                                  \\\\\n",
       "\t311 & 97  & 190.148.52.220  & Public Access & 9/24/2020 11:50 & 9/24/2020 11:54 & Casco urbano & Amatitlan        & 15-35 años & Femenino  & Jengibre, alo verá.                                                                                                                                                                                                       & ... & Si & Semillas & Remolacha & Achiote                                                                   &        No conozco ninguna preparación        & 5 & Seria bueno conocer acerca de sus beneficios                      &      En infusión En cápsulas                              & 5 & Por ser una medicina natural considero que son bastante efectivos\\\\\n",
       "\t321 & 98  & 181.209.195.80  & Public Access & 9/24/2020 12:06 & 9/24/2020 12:08 & Casco urbano & Mixco            & 15-35 años & Femenino  & No                                                                                                                                                                                                                        & ... &    &          &           &                                                                           &                                              &   &                                                                   &                                                           &   &                                                                  \\\\\n",
       "\t331 & 99  & 190.148.209.11  & Public Access & 9/24/2020 12:09 & 9/24/2020 12:13 & Casco urbano & Ciudad Guatemala & 15-35 años & Masculino & Infusiones de tilo, manzanilla, eucalipto                                                                                                                                                                                 & ... &    &          &           &                                                                           &                                              &   &                                                                   &                                                           &   &                                                                  \\\\\n",
       "\t341 & 100 & 190.148.48.109  & Public Access & 9/24/2020 12:14 & 9/24/2020 12:19 & Casco urbano & Guatemala        & 15-35 años & Femenino  & Eucalipto = \"nebulizador\", hoja de limón (dolor de estómago y de garganta así como repelente de mosquitos), jengibre (dolor de garganta, irritación e inflamación), cúrcuma (blanqueamiento dental y desinflamante), etc. & ... & Si & Semillas & Azafrán   & Remolacha para ensaladas y enchiladas. Azafrán para \"colorear\" la paella. & Infusión o té Hervida Frotada   Masticada    & 5 & Estoy procurando practicar la medicina tradicional y natural.     & Aplicación local Lavados  Aplicación nasal  En infusión   & 4 & No uso el achiote, pero he escuchado comentarios favorables.     \\\\\n",
       "\\end{tabular}\n"
      ],
      "text/markdown": [
       "\n",
       "A data.frame: 6 × 30\n",
       "\n",
       "| <!--/--> | Id &lt;chr&gt; | Ip &lt;chr&gt; | Acceso &lt;chr&gt; | Fecha_inicio &lt;chr&gt; | Fecha_finalizacion &lt;chr&gt; | Procedencia &lt;chr&gt; | Municipio &lt;chr&gt; | Edad &lt;chr&gt; | Sexo &lt;chr&gt; | Q1 &lt;chr&gt; | ... ... | Q10 &lt;chr&gt; | Q11 &lt;chr&gt; | Q12 &lt;chr&gt; | Q13 &lt;chr&gt; | Q14 &lt;chr&gt; | Q15 &lt;chr&gt; | Justificacion_2 &lt;chr&gt; | Q16 &lt;chr&gt; | Q17 &lt;chr&gt; | Justificacion_3 &lt;chr&gt; |\n",
       "|---|---|---|---|---|---|---|---|---|---|---|---|---|---|---|---|---|---|---|---|---|---|\n",
       "| 291 | 95  | 181.174.106.148 | Public Access | 9/24/2020 11:39 | 9/24/2020 11:45 | Casco urbano | Villa Nueva      | 15-35 años | Masculino | No                                                                                                                                                                                                                        | ... | No | Raíz     | Remolacha | No                                                                        |        No conozco ninguna preparación        | 5 | Sería una buena alternativa para la reducción del uso de fármacos | Aplicación local     En infusión En cápsulas              | 4 | Puede que en algunos casos no reemplace a un fármaco convencional |\n",
       "| 301 | 96  | 190.148.53.147  | Public Access | 9/24/2020 11:45 | 9/24/2020 11:46 | Casco urbano | Jutiapa          | 15-35 años | Femenino  | <!----> | ... | <!----> | <!----> | <!----> | <!----> | <!----> | <!----> | <!----> | <!----> | <!----> | <!----> |\n",
       "| 311 | 97  | 190.148.52.220  | Public Access | 9/24/2020 11:50 | 9/24/2020 11:54 | Casco urbano | Amatitlan        | 15-35 años | Femenino  | Jengibre, alo verá.                                                                                                                                                                                                       | ... | Si | Semillas | Remolacha | Achiote                                                                   |        No conozco ninguna preparación        | 5 | Seria bueno conocer acerca de sus beneficios                      |      En infusión En cápsulas                              | 5 | Por ser una medicina natural considero que son bastante efectivos |\n",
       "| 321 | 98  | 181.209.195.80  | Public Access | 9/24/2020 12:06 | 9/24/2020 12:08 | Casco urbano | Mixco            | 15-35 años | Femenino  | No                                                                                                                                                                                                                        | ... | <!----> | <!----> | <!----> | <!----> | <!----> | <!----> | <!----> | <!----> | <!----> | <!----> |\n",
       "| 331 | 99  | 190.148.209.11  | Public Access | 9/24/2020 12:09 | 9/24/2020 12:13 | Casco urbano | Ciudad Guatemala | 15-35 años | Masculino | Infusiones de tilo, manzanilla, eucalipto                                                                                                                                                                                 | ... | <!----> | <!----> | <!----> | <!----> | <!----> | <!----> | <!----> | <!----> | <!----> | <!----> |\n",
       "| 341 | 100 | 190.148.48.109  | Public Access | 9/24/2020 12:14 | 9/24/2020 12:19 | Casco urbano | Guatemala        | 15-35 años | Femenino  | Eucalipto = \"nebulizador\", hoja de limón (dolor de estómago y de garganta así como repelente de mosquitos), jengibre (dolor de garganta, irritación e inflamación), cúrcuma (blanqueamiento dental y desinflamante), etc. | ... | Si | Semillas | Azafrán   | Remolacha para ensaladas y enchiladas. Azafrán para \"colorear\" la paella. | Infusión o té Hervida Frotada   Masticada    | 5 | Estoy procurando practicar la medicina tradicional y natural.     | Aplicación local Lavados  Aplicación nasal  En infusión   | 4 | No uso el achiote, pero he escuchado comentarios favorables.      |\n",
       "\n"
      ],
      "text/plain": [
       "    Id  Ip              Acceso        Fecha_inicio    Fecha_finalizacion\n",
       "291 95  181.174.106.148 Public Access 9/24/2020 11:39 9/24/2020 11:45   \n",
       "301 96  190.148.53.147  Public Access 9/24/2020 11:45 9/24/2020 11:46   \n",
       "311 97  190.148.52.220  Public Access 9/24/2020 11:50 9/24/2020 11:54   \n",
       "321 98  181.209.195.80  Public Access 9/24/2020 12:06 9/24/2020 12:08   \n",
       "331 99  190.148.209.11  Public Access 9/24/2020 12:09 9/24/2020 12:13   \n",
       "341 100 190.148.48.109  Public Access 9/24/2020 12:14 9/24/2020 12:19   \n",
       "    Procedencia  Municipio        Edad       Sexo     \n",
       "291 Casco urbano Villa Nueva      15-35 años Masculino\n",
       "301 Casco urbano Jutiapa          15-35 años Femenino \n",
       "311 Casco urbano Amatitlan        15-35 años Femenino \n",
       "321 Casco urbano Mixco            15-35 años Femenino \n",
       "331 Casco urbano Ciudad Guatemala 15-35 años Masculino\n",
       "341 Casco urbano Guatemala        15-35 años Femenino \n",
       "    Q1                                                                                                                                                                                                                       \n",
       "291 No                                                                                                                                                                                                                       \n",
       "301                                                                                                                                                                                                                          \n",
       "311 Jengibre, alo verá.                                                                                                                                                                                                      \n",
       "321 No                                                                                                                                                                                                                       \n",
       "331 Infusiones de tilo, manzanilla, eucalipto                                                                                                                                                                                \n",
       "341 Eucalipto = \"nebulizador\", hoja de limón (dolor de estómago y de garganta así como repelente de mosquitos), jengibre (dolor de garganta, irritación e inflamación), cúrcuma (blanqueamiento dental y desinflamante), etc.\n",
       "    ... Q10 Q11      Q12      \n",
       "291 ... No  Raíz     Remolacha\n",
       "301 ...                       \n",
       "311 ... Si  Semillas Remolacha\n",
       "321 ...                       \n",
       "331 ...                       \n",
       "341 ... Si  Semillas Azafrán  \n",
       "    Q13                                                                      \n",
       "291 No                                                                       \n",
       "301                                                                          \n",
       "311 Achiote                                                                  \n",
       "321                                                                          \n",
       "331                                                                          \n",
       "341 Remolacha para ensaladas y enchiladas. Azafrán para \"colorear\" la paella.\n",
       "    Q14                                          Q15\n",
       "291        No conozco ninguna preparación        5  \n",
       "301                                                 \n",
       "311        No conozco ninguna preparación        5  \n",
       "321                                                 \n",
       "331                                                 \n",
       "341 Infusión o té Hervida Frotada   Masticada    5  \n",
       "    Justificacion_2                                                  \n",
       "291 Sería una buena alternativa para la reducción del uso de fármacos\n",
       "301                                                                  \n",
       "311 Seria bueno conocer acerca de sus beneficios                     \n",
       "321                                                                  \n",
       "331                                                                  \n",
       "341 Estoy procurando practicar la medicina tradicional y natural.    \n",
       "    Q16                                                       Q17\n",
       "291 Aplicación local     En infusión En cápsulas              4  \n",
       "301                                                              \n",
       "311      En infusión En cápsulas                              5  \n",
       "321                                                              \n",
       "331                                                              \n",
       "341 Aplicación local Lavados  Aplicación nasal  En infusión   4  \n",
       "    Justificacion_3                                                  \n",
       "291 Puede que en algunos casos no reemplace a un fármaco convencional\n",
       "301                                                                  \n",
       "311 Por ser una medicina natural considero que son bastante efectivos\n",
       "321                                                                  \n",
       "331                                                                  \n",
       "341 No uso el achiote, pero he escuchado comentarios favorables.     "
      ]
     },
     "metadata": {},
     "output_type": "display_data"
    }
   ],
   "source": [
    "head(achiote)\n",
    "tail(achiote)"
   ]
  },
  {
   "cell_type": "markdown",
   "metadata": {},
   "source": [
    "#### Manejamos fechas y tiempos"
   ]
  },
  {
   "cell_type": "code",
   "execution_count": 10,
   "metadata": {},
   "outputs": [],
   "source": [
    "#fechas\n",
    "fecha_inicio <- as.Date(substr(achiote$Fecha_inicio, 0, 8), \"%m/%d/%y\")\n",
    "fecha_final <- as.Date(substr(achiote$Fecha_finalizacion, 0, 8), \"%m/%d/%y\")\n",
    "#horas minutos\n",
    "hora_inicio <- as.POSIXct(substr(achiote$Fecha_inicio, 11, 15), format = \"%H:%M\")\n",
    "hora_final <- as.POSIXct(substr(achiote$Fecha_finalizacion, 11, 15), format = \"%H:%M\")\n",
    "#creando columnas\n",
    "achiote$Fecha_inicio <- fecha_inicio\n",
    "achiote$Fecha_finalizacion <- fecha_final\n",
    "achiote$hora_inicio <- hora_inicio\n",
    "achiote$hora_final <- hora_final\n",
    "dif <- hora_final - hora_inicio\n",
    "achiote$tiempo_terminar <- dif\n"
   ]
  },
  {
   "cell_type": "markdown",
   "metadata": {},
   "source": [
    "#### Convertimos a factor los datos necesarios"
   ]
  },
  {
   "cell_type": "code",
   "execution_count": 12,
   "metadata": {},
   "outputs": [],
   "source": [
    "achiote$Id <- as.numeric(achiote$Id)\n",
    "achiote$Municipio <- as.factor(achiote$Municipio)"
   ]
  },
  {
   "cell_type": "code",
   "execution_count": 13,
   "metadata": {},
   "outputs": [],
   "source": [
    "achiote$Fecha_inicio <- as.Date(achiote$Fecha_inicio)"
   ]
  },
  {
   "cell_type": "code",
   "execution_count": 14,
   "metadata": {},
   "outputs": [
    {
     "data": {
      "text/plain": [
       "       Id              Ip               Acceso           Fecha_inicio       \n",
       " Min.   :  1.00   Length:101         Length:101         Min.   :2020-09-18  \n",
       " 1st Qu.: 25.00   Class :character   Class :character   1st Qu.:2020-09-18  \n",
       " Median : 50.00   Mode  :character   Mode  :character   Median :2020-09-21  \n",
       " Mean   : 50.07                                         Mean   :2020-09-20  \n",
       " 3rd Qu.: 75.00                                         3rd Qu.:2020-09-23  \n",
       " Max.   :100.00                                         Max.   :2020-09-24  \n",
       "                                                                            \n",
       " Fecha_finalizacion   Procedencia                        Municipio \n",
       " Min.   :2020-09-18   Length:101         Guatemala            :47  \n",
       " 1st Qu.:2020-09-18   Class :character   Mixco                :11  \n",
       " Median :2020-09-21   Mode  :character   Ciudad de Guatemala  : 5  \n",
       " Mean   :2020-09-20                      Santa Catarina Pinula: 5  \n",
       " 3rd Qu.:2020-09-23                      Villa Nueva          : 3  \n",
       " Max.   :2020-09-24                      Chiquimula           : 2  \n",
       "                                         (Other)              :28  \n",
       "     Edad               Sexo                Q1                 Q2           \n",
       " Length:101         Length:101         Length:101         Length:101        \n",
       " Class :character   Class :character   Class :character   Class :character  \n",
       " Mode  :character   Mode  :character   Mode  :character   Mode  :character  \n",
       "                                                                            \n",
       "                                                                            \n",
       "                                                                            \n",
       "                                                                            \n",
       "      Q3                 Q4            Justificacion_1      He leido        \n",
       " Length:101         Length:101         Length:101         Length:101        \n",
       " Class :character   Class :character   Class :character   Class :character  \n",
       " Mode  :character   Mode  :character   Mode  :character   Mode  :character  \n",
       "                                                                            \n",
       "                                                                            \n",
       "                                                                            \n",
       "                                                                            \n",
       "      Q5                 Q6                 Q7                 Q8           \n",
       " Length:101         Length:101         Length:101         Length:101        \n",
       " Class :character   Class :character   Class :character   Class :character  \n",
       " Mode  :character   Mode  :character   Mode  :character   Mode  :character  \n",
       "                                                                            \n",
       "                                                                            \n",
       "                                                                            \n",
       "                                                                            \n",
       "      Q9                Q10                Q11                Q12           \n",
       " Length:101         Length:101         Length:101         Length:101        \n",
       " Class :character   Class :character   Class :character   Class :character  \n",
       " Mode  :character   Mode  :character   Mode  :character   Mode  :character  \n",
       "                                                                            \n",
       "                                                                            \n",
       "                                                                            \n",
       "                                                                            \n",
       "     Q13                Q14                Q15            Justificacion_2   \n",
       " Length:101         Length:101         Length:101         Length:101        \n",
       " Class :character   Class :character   Class :character   Class :character  \n",
       " Mode  :character   Mode  :character   Mode  :character   Mode  :character  \n",
       "                                                                            \n",
       "                                                                            \n",
       "                                                                            \n",
       "                                                                            \n",
       "     Q16                Q17            Justificacion_3   \n",
       " Length:101         Length:101         Length:101        \n",
       " Class :character   Class :character   Class :character  \n",
       " Mode  :character   Mode  :character   Mode  :character  \n",
       "                                                         \n",
       "                                                         \n",
       "                                                         \n",
       "                                                         \n",
       "  hora_inicio                    hora_final                  tiempo_terminar  \n",
       " Min.   :2020-09-26 07:02:00   Min.   :2020-09-26 07:07:00   Length:101       \n",
       " 1st Qu.:2020-09-26 11:36:00   1st Qu.:2020-09-26 11:43:00   Class :difftime  \n",
       " Median :2020-09-26 12:19:00   Median :2020-09-26 12:20:00   Mode  :numeric   \n",
       " Mean   :2020-09-26 14:04:11   Mean   :2020-09-26 14:12:11                    \n",
       " 3rd Qu.:2020-09-26 16:56:00   3rd Qu.:2020-09-26 17:08:00                    \n",
       " Max.   :2020-09-26 23:26:00   Max.   :2020-09-26 23:37:00                    \n",
       "                                                                              "
      ]
     },
     "metadata": {},
     "output_type": "display_data"
    }
   ],
   "source": [
    "summary(achiote)"
   ]
  },
  {
   "cell_type": "markdown",
   "metadata": {},
   "source": [
    "## Resultados"
   ]
  },
  {
   "cell_type": "markdown",
   "metadata": {},
   "source": [
    "#### tiempos de finalización de la encuesta"
   ]
  },
  {
   "cell_type": "code",
   "execution_count": 16,
   "metadata": {},
   "outputs": [
    {
     "data": {
      "text/plain": [
       "Time difference of 1 mins"
      ]
     },
     "metadata": {},
     "output_type": "display_data"
    },
    {
     "data": {
      "text/plain": [
       "Time difference of 8 mins"
      ]
     },
     "metadata": {},
     "output_type": "display_data"
    },
    {
     "data": {
      "text/plain": [
       "Time difference of 66 mins"
      ]
     },
     "metadata": {},
     "output_type": "display_data"
    }
   ],
   "source": [
    "#encuesta más rápida\n",
    "min(achiote$tiempo_terminar)\n",
    "\n",
    "#promedio tiempo de finalización\n",
    "mean(achiote$tiempo_terminar)\n",
    "\n",
    "#Encuesta más tardada\n",
    "max(achiote$tiempo_terminar)"
   ]
  },
  {
   "cell_type": "code",
   "execution_count": 17,
   "metadata": {},
   "outputs": [
    {
     "data": {
      "text/plain": [
       "Time differences in mins\n",
       "  [1]  4  3  1  1  5 25  6  2  9  7 11 13  1  2  3  4  3  4  1 12  6  3  5  5  4\n",
       " [26] 13  4 14 12  1 17  3  4  7  4  7  3  4  2  6  9  2  5  6 13 28  4  2 13 12\n",
       " [51] 15  5 13  9 20  4  6  9 12 10  1  6 15 15  5 23  8  6 13  6 66  5  2  6 11\n",
       " [76]  6  7  4  3 10 11 34  2  7  3  3  8  4  3  5  8 12  8 15  7  6  1  4  2  4\n",
       "[101]  5"
      ]
     },
     "metadata": {},
     "output_type": "display_data"
    }
   ],
   "source": []
  },
  {
   "cell_type": "code",
   "execution_count": null,
   "metadata": {},
   "outputs": [],
   "source": []
  }
 ],
 "metadata": {
  "kernelspec": {
   "display_name": "R",
   "language": "R",
   "name": "ir"
  },
  "language_info": {
   "codemirror_mode": "r",
   "file_extension": ".r",
   "mimetype": "text/x-r-source",
   "name": "R",
   "pygments_lexer": "r",
   "version": "4.0.2"
  }
 },
 "nbformat": 4,
 "nbformat_minor": 4
}
